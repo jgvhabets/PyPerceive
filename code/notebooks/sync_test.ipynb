{
 "cells": [
  {
   "attachments": {},
   "cell_type": "markdown",
   "metadata": {},
   "source": [
    "# PyPerceive to select and load Percept recordings "
   ]
  },
  {
   "attachments": {},
   "cell_type": "markdown",
   "metadata": {},
   "source": [
    "## 0a. Loading default packages and functions"
   ]
  },
  {
   "cell_type": "code",
   "execution_count": 1,
   "metadata": {},
   "outputs": [],
   "source": [
    "# Importing Python and external packages\n",
    "import os\n",
    "import sys\n",
    "import pandas as pd\n",
    "import numpy as np\n",
    "import importlib\n",
    "\n",
    "import matplotlib.pyplot as plt\n",
    "from scipy.signal import find_peaks"
   ]
  },
  {
   "attachments": {},
   "cell_type": "markdown",
   "metadata": {},
   "source": [
    "## 0b. Loading pyPerceive functions"
   ]
  },
  {
   "cell_type": "code",
   "execution_count": 2,
   "metadata": {},
   "outputs": [],
   "source": [
    "def add_and_set_code_folder_in_notebook():\n",
    "    \"\"\"\n",
    "    while working in the local pyPerceive repo,\n",
    "    find and set path to the PyPerceive code folder\n",
    "\n",
    "    use function in notebook first, to locate the local\n",
    "    repo and enable import of pyPerceive functions\n",
    "    \"\"\"\n",
    "    project_path = os.getcwd()\n",
    "\n",
    "    while project_path[-10:] != 'PyPerceive':\n",
    "        project_path = os.path.dirname(project_path)\n",
    "\n",
    "    code_path = os.path.join(project_path, 'code')\n",
    "    sys.path.append(code_path)\n",
    "\n",
    "    # change directory to code path\n",
    "    os.chdir(code_path)\n",
    "    \n",
    "    return print(f'working dir set to: {code_path}')\n"
   ]
  },
  {
   "cell_type": "code",
   "execution_count": 3,
   "metadata": {},
   "outputs": [
    {
     "name": "stdout",
     "output_type": "stream",
     "text": [
      "working dir set to: c:\\Users\\habetsj\\Research\\projects\\PyPerceive\\code\n"
     ]
    }
   ],
   "source": [
    "## MAIN FUNCTION FOR DATA IMPORT\n",
    "\n",
    "# change working directory to ensure correct loading of own functions\n",
    "add_and_set_code_folder_in_notebook()\n",
    "\n",
    "# import main class to work with\n",
    "from PerceiveImport.classes import main_class\n"
   ]
  },
  {
   "cell_type": "code",
   "execution_count": 4,
   "metadata": {},
   "outputs": [],
   "source": [
    "## IMPORT ALL SUB CLASSES AND FUNCTIONS FOR DEBUGGING\n",
    "from PerceiveImport.classes import (\n",
    "    main_class, modality_class, metadata_class,\n",
    "    session_class, condition_class, task_class,\n",
    "    contact_class, run_class, chronic_class\n",
    ")\n",
    "import PerceiveImport.methods.load_rawfile as load_rawfile\n",
    "import PerceiveImport.methods.find_folders as find_folders\n",
    "import PerceiveImport.methods.metadata_helpers as metaHelpers"
   ]
  },
  {
   "attachments": {},
   "cell_type": "markdown",
   "metadata": {},
   "source": [
    "#### Function created for stim-detection"
   ]
  },
  {
   "cell_type": "code",
   "execution_count": 5,
   "metadata": {},
   "outputs": [],
   "source": [
    "# import functions for find_LFP_sync_artefact()\n",
    "from scipy.signal import find_peaks\n",
    "from itertools import compress"
   ]
  },
  {
   "cell_type": "code",
   "execution_count": 43,
   "metadata": {},
   "outputs": [],
   "source": [
    "def find_LFP_sync_artefact(\n",
    "    lfp_data: np.ndarray, fs: int = 250,\n",
    "    use_kernel: str = '1',\n",
    "    consider_first_seconds=None,\n",
    "):\n",
    "    \"\"\"\n",
    "    Function that finds artefacts caused by\n",
    "    switching stimulation on and off.\n",
    "    For correct functioning, the LFP dat should\n",
    "    start in stim-off, and typically short pulses\n",
    "    are given (without ramping).\n",
    "    The function uses a kernel which mimics the stimulation-\n",
    "    artefact. This kernel is multiplied with time-series\n",
    "    snippets of the same length. If the time-serie is\n",
    "    similar to the kernel, the dot-product is high, and this\n",
    "    indicates a stim-artefact.\n",
    "\n",
    "    Input:\n",
    "        - lfp_data: single channel as np.ndarray (the function\n",
    "            automatically inverts the signal if first a positive\n",
    "            peak is found, this indicates an inverted signal)\n",
    "        - fs: sampling frequency\n",
    "        - use_kernel: decides whether kernel 1 or 2 is used,\n",
    "            kernel 1 is straight-forward and finds a steep decrease,\n",
    "            kernel 2 mimics the steep decrease and slow\n",
    "            recovery of the signal.\n",
    "        - consider_first_seconds: if given, only artefacts in the first\n",
    "            (and last) n-seconds are considered\n",
    "    \n",
    "    Returns:\n",
    "        - list of idx: a list with all stim-artefact starts. This\n",
    "            also contains stim-artefacts not happening at the\n",
    "            beginning or end of the recording. These have to be\n",
    "            selected by the user afterwards.\n",
    "    \"\"\"\n",
    "    signal_inverted = False  # defaults false\n",
    "\n",
    "    # checks correct input for use_kernel variable\n",
    "    assert use_kernel in ['1', '2'], 'use_kernel incorrect'\n",
    "\n",
    "    # kernel 1 only searches for the steep decrease\n",
    "    # kernel 2 is more custom and takes into account the steep decrease and slow recover\n",
    "    kernels = {'1': np.array([1, -1]),\n",
    "               '2': np.array([1, 0, -1] + list(np.linspace(-1, 0, 20)))}\n",
    "    ker = kernels[use_kernel]\n",
    "    \n",
    "    # get dot-products between kernel and time-serie snippets\n",
    "    res = []  # store results of dot-products\n",
    "    for i in np.arange(0, len(lfp_data) - len(ker)):\n",
    "        res.append(ker @ lfp_data[i:i+len(ker)])  # calculate dot-product of vectors\n",
    "        # the dot-product result is high when the timeseries snippet\n",
    "        # is very similar to the kernel\n",
    "    res = np.array(res)  # convert list to array\n",
    "\n",
    "    # # normalise dot product results\n",
    "    res = res / max(res)\n",
    "\n",
    "    # calculate a ratio between std dev and maximum during\n",
    "    # the first seconds to check whether an stim-artef was present \n",
    "    ratio_max_sd = np.max(res[:fs*30] / np.std(res[:fs*5]))\n",
    "    \n",
    "    # use peak of kernel dot products    \n",
    "    pos_idx = find_peaks(x=res, height=.3 * max(res),\n",
    "                        distance=fs)[0]\n",
    "    neg_idx = find_peaks(x=-res, height=-.3 * min(res),\n",
    "                        distance=fs)[0]\n",
    "        \n",
    "    # check whether signal is converted\n",
    "    if neg_idx[0] < pos_idx[0]:\n",
    "        # the first peak should be POSITIVE\n",
    "        # if NEG peak before POS then signal is inverted\n",
    "        print('signal is inverted')\n",
    "        signal_inverted = True\n",
    "\n",
    "    # return either POS or NEG peak-indices based on normal or inverted signal\n",
    "    if not signal_inverted:\n",
    "        stim_idx = pos_idx  # this is for 'normal' signal\n",
    "\n",
    "    elif signal_inverted:\n",
    "        stim_idx = neg_idx\n",
    "\n",
    "    # check warn if NO STIM artefacts are suspected\n",
    "    if len(stim_idx) > 20 and ratio_max_sd < 8:\n",
    "        print('WARNING: probably the LFP signal did NOT'\n",
    "              ' contain any artefacts. Many incorrect timings'\n",
    "              ' could be returned')\n",
    "\n",
    "    if consider_first_seconds:\n",
    "        border_start = fs*consider_first_seconds\n",
    "        border_end = len(lfp_data) - (fs * consider_first_seconds)\n",
    "        sel = np.logical_or(np.array(stim_idx) < border_start,\n",
    "                             np.array(stim_idx) > border_end)\n",
    "        stim_idx = list(compress(stim_idx, sel))\n",
    "    \n",
    "    return stim_idx  # if signal is inverted\n"
   ]
  },
  {
   "attachments": {},
   "cell_type": "markdown",
   "metadata": {},
   "source": [
    "## 1. Data Loading for Streaming and Survey"
   ]
  },
  {
   "cell_type": "code",
   "execution_count": 14,
   "metadata": {},
   "outputs": [
    {
     "name": "stdout",
     "output_type": "stream",
     "text": [
      "add run 1\n",
      "Creating RawArray with float64 data, n_channels=6, n_times=41375\n",
      "    Range : 0 ... 41374 =      0.000 ...   165.496 secs\n",
      "Ready.\n",
      "add run 1\n",
      "Creating RawArray with float64 data, n_channels=6, n_times=44625\n",
      "    Range : 0 ... 44624 =      0.000 ...   178.496 secs\n",
      "Ready.\n",
      "add run 1\n",
      "Creating RawArray with float64 data, n_channels=6, n_times=59500\n",
      "    Range : 0 ... 59499 =      0.000 ...   237.996 secs\n",
      "Ready.\n",
      "inserted session (fu3m, streaming) can not be found in the metadata table\n"
     ]
    }
   ],
   "source": [
    "# define an example instance and fill in the values of the dataclass PerceiveData \n",
    "# choose the values you are interested in analyzing further\n",
    "\n",
    "importlib.reload(task_class)\n",
    "\n",
    "norm = main_class.PerceiveData(\n",
    "    sub = \"020\", \n",
    "    incl_modalities=['streaming',],\n",
    "    incl_session = [\"fu23m\", 'fu3m'],\n",
    "    incl_condition =['m1s0', 'm0s0', 'm1s1'],\n",
    "    incl_task = [\"rest\"],\n",
    "    # incl_contact = [\"RingL\", \"SegmInterR\", \"SegmIntraR\"],\n",
    "    import_json=False,\n",
    "    warn_for_metaNaNs=True,\n",
    "    allow_NaNs_in_metadata=True\n",
    ")\n",
    "\n"
   ]
  },
  {
   "cell_type": "code",
   "execution_count": 7,
   "metadata": {},
   "outputs": [
    {
     "name": "stdout",
     "output_type": "stream",
     "text": [
      "add run 1\n",
      "Creating RawArray with float64 data, n_channels=6, n_times=62625\n",
      "    Range : 0 ... 62624 =      0.000 ...   250.496 secs\n",
      "Ready.\n",
      "add run 1\n",
      "Creating RawArray with float64 data, n_channels=6, n_times=46563\n",
      "    Range : 0 ... 46562 =      0.000 ...   186.248 secs\n",
      "Ready.\n",
      "add run 2\n",
      "Creating RawArray with float64 data, n_channels=6, n_times=65937\n",
      "    Range : 0 ... 65936 =      0.000 ...   263.744 secs\n",
      "Ready.\n",
      "add run 1\n",
      "Creating RawArray with float64 data, n_channels=6, n_times=5250\n",
      "    Range : 0 ... 5249 =      0.000 ...    20.996 secs\n",
      "Ready.\n",
      "add run 2\n",
      "Creating RawArray with float64 data, n_channels=6, n_times=6625\n",
      "    Range : 0 ... 6624 =      0.000 ...    26.496 secs\n",
      "Ready.\n",
      "add run 3\n",
      "Creating RawArray with float64 data, n_channels=6, n_times=55187\n",
      "    Range : 0 ... 55186 =      0.000 ...   220.744 secs\n",
      "Ready.\n"
     ]
    }
   ],
   "source": [
    "\n",
    "trouble = main_class.PerceiveData(\n",
    "    sub = \"059\", \n",
    "    incl_modalities=['streaming',],\n",
    "    incl_session = [\"fu3m\"],\n",
    "    incl_condition =['m1s0', 'm1s1', 'm0s0'],\n",
    "    incl_task = [\"rest\"],\n",
    "    # incl_contact = [\"RingL\", \"SegmInterR\", \"SegmIntraR\"],\n",
    "    import_json=False,\n",
    "    warn_for_metaNaNs=True,\n",
    "    allow_NaNs_in_metadata=True\n",
    ")"
   ]
  },
  {
   "attachments": {},
   "cell_type": "markdown",
   "metadata": {},
   "source": [
    "normal example"
   ]
  },
  {
   "cell_type": "code",
   "execution_count": 24,
   "metadata": {},
   "outputs": [
    {
     "name": "stdout",
     "output_type": "stream",
     "text": [
      "1601 2036\n"
     ]
    }
   ],
   "source": [
    "first_pos_peak = np.where(lfp_sig > max(lfp_sig) * .5)[0][0]\n",
    "first_neg_peak = np.where(lfp_sig < min(lfp_sig) * .5)[0][0]\n",
    "\n",
    "print(first_neg_peak, first_pos_peak)"
   ]
  },
  {
   "cell_type": "code",
   "execution_count": 45,
   "metadata": {},
   "outputs": [
    {
     "name": "stdout",
     "output_type": "stream",
     "text": [
      "[1599, 2186, 2802, 3384, 3867, 37989, 38428, 38774, 39908, 40578]\n"
     ]
    },
    {
     "data": {
      "image/png": "[encoded data removed]",
      "text/plain": [
       "<Figure size 640x480 with 1 Axes>"
      ]
     },
     "metadata": {},
     "output_type": "display_data"
    }
   ],
   "source": [
    "# define data\n",
    "normdata = norm.streaming.fu23m.m1s0.rest.run1.data\n",
    "ch_i = 0\n",
    "lfp_sig = normdata.get_data()[ch_i]\n",
    "# get stim-artefact indices\n",
    "art_idx = find_LFP_sync_artefact(\n",
    "    lfp_data=lfp_sig, fs=250,\n",
    "    use_kernel='2',\n",
    "    consider_first_seconds=20\n",
    ")\n",
    "print(art_idx)\n",
    "for xline in art_idx:\n",
    "    plt.axvline(x=xline, ymin=min(lfp_sig), ymax=max(lfp_sig),\n",
    "                color='blue', alpha=.3,)\n",
    "\n",
    "plt.plot(lfp_sig)\n",
    "\n",
    "plt.xlim(1000, 5000)\n",
    "\n",
    "plt.show()"
   ]
  },
  {
   "attachments": {},
   "cell_type": "markdown",
   "metadata": {},
   "source": [
    "difficult example"
   ]
  },
  {
   "cell_type": "code",
   "execution_count": null,
   "metadata": {},
   "outputs": [],
   "source": [
    "# check amplitudes of maximum peaks present in first minute\n",
    "# then define which max peak to use"
   ]
  },
  {
   "cell_type": "code",
   "execution_count": 46,
   "metadata": {},
   "outputs": [
    {
     "name": "stdout",
     "output_type": "stream",
     "text": [
      "use channel: LFP_L_02_STN_MT\n",
      "signal is inverted\n",
      "[4612, 6916, 8870]\n"
     ]
    },
    {
     "data": {
      "image/png": "[encoded data removed]",
      "text/plain": [
       "<Figure size 640x480 with 1 Axes>"
      ]
     },
     "metadata": {},
     "output_type": "display_data"
    }
   ],
   "source": [
    "# define data\n",
    "data = trouble.streaming.fu3m.m0s0.rest.run3.data\n",
    "\n",
    "ch_i = 0\n",
    "lfp_sig = data.get_data()[ch_i]\n",
    "print(f'use channel: {data.ch_names[ch_i]}')\n",
    "\n",
    "# get stim-artefact indices\n",
    "art_idx = find_LFP_sync_artefact(\n",
    "    lfp_data=lfp_sig, fs=250,\n",
    "    use_kernel='1',\n",
    "    consider_first_seconds=60\n",
    ")\n",
    "print(art_idx)\n",
    "for xline in art_idx:\n",
    "    plt.axvline(x=xline, ymin=min(lfp_sig), ymax=max(lfp_sig),\n",
    "                color='blue', alpha=.3,)\n",
    "\n",
    "plt.plot(lfp_sig)\n",
    "\n",
    "plt.xlim(2000, 12000)\n",
    "\n",
    "plt.show()\n",
    "\n",
    "# print(f'STIM PROFILE {data.ch_names[ch_i+4]}')\n",
    "# plt.plot(data.get_data()[ch_i + 4])\n",
    "# plt.xlim(1500, 5000)\n",
    "# plt.show()"
   ]
  },
  {
   "attachments": {},
   "cell_type": "markdown",
   "metadata": {},
   "source": [
    "inverted data example"
   ]
  },
  {
   "cell_type": "code",
   "execution_count": 47,
   "metadata": {},
   "outputs": [
    {
     "name": "stdout",
     "output_type": "stream",
     "text": [
      "\n",
      "\t### WARNING: NaNs in Metadata Table sub-019 ###\n",
      "NaNs in: sub019_ses-2021042207162599_run-BrainSense20210422074600.mat\n",
      "NaNs in: sub019_ses-2021042207162599_run-BrainSense20210422075600.mat\n",
      "NaNs in: sub019_ses-2021042207162599_run-IS20210422081000.mat\n",
      "NaNs in: sub019_ses-2021042207162599_run-IS20210422081300.mat\n",
      "NaNs in: sub019_ses-2021042207162599_run-IS20210422081500.mat\n",
      "NaNs in: sub019_ses-2021042207162599_run-IS20210422081900.mat\n",
      "NaNs in: sub019_ses-2021070506275097_run-BrainSense20210705070700.mat\n",
      "NaNs in: sub019_ses-2021070506275097_run-BrainSense20210705072100.mat\n",
      "NaNs in: sub019_ses-2021070507365797_run-BrainSense20210705074000.mat\n",
      "NaNs in: sub019_ses-2021070507365797_run-BrainSense20210705074300.mat\n",
      "NaNs in: sub019_ses-2021070507365797_run-BrainSense20210705075000.mat\n",
      "NaNs in: sub019_ses-2021070507365797_run-BrainSense20210705075800.mat\n",
      "NaNs in: sub019_ses-2021070507365797_run-BrainSense20210705081000.mat\n",
      "NaNs in: sub019_ses-2021070508345297_run-BrainSense20210705084300.mat\n",
      "NaNs in: sub019_ses-2021070508345297_run-BrainSense20210705085700.mat\n",
      "NaNs in: sub019_ses-2021070508345297_run-BrainSense20210705091300.mat\n",
      "NaNs in: sub019_ses-2021070508345297_run-BrainSense20210705092200.mat\n",
      "NaNs in: sub019_ses-2021070508345297_run-BrainSense20210705093000.mat\n",
      "NaNs in: sub019_ses-2021070508345297_run-BrainSense20210705094900.mat\n",
      "NaNs in: sub019_ses-2021070511320997_run-BrainSense20210705113900.mat\n",
      "NaNs in: sub019_ses-2021070511320997_run-BrainSense20210705115300.mat\n",
      "NaNs in: sub019_ses-2021070511320997_run-BrainSense20210705120700.mat\n",
      "NaNs in: sub019_ses-2021070511320997_run-BrainSense20210705122000.mat\n",
      "NaNs in: sub019_ses-2021070511320997_run-BrainSense20210705124100.mat\n",
      "NaNs in: sub019_ses-2021070512534497_run-BrainSense20210705010000.mat\n",
      "NaNs in: sub019_ses-2021070512534497_run-BrainSense20210705010900.mat\n",
      "NaNs in: sub019_ses-2021070501155697_run-BrainSense20210705011800.mat\n",
      "NaNs in: sub019_ses-2021070501155697_run-BrainSense20210705013300.mat\n",
      "NaNs in: sub019_ses-2021070501155697_run-BrainSense20210705014700.mat\n",
      "NaNs in: sub019_ses-2021070501155697_run-BrainSense20210705020500.mat\n",
      "NaNs in: sub-20210415PStn_ses-2022041106473689_run-BrainSense20220411071000.mat\n",
      "NaNs in: sub-20210415PStn_ses-2022041106473689_run-BrainSense20220411073400.mat\n",
      "NaNs in: sub-20210415PStn_ses-2022041106473689_run-BrainSense20220411073800.mat\n",
      "NaNs in: sub-20210415PStn_ses-2022041106473689_run-BrainSense20220411074100.mat\n",
      "NaNs in: sub-20210415PStn_ses-2022041106473689_run-BrainSense20220411074400.mat\n",
      "NaNs in: sub-20210415PStn_ses-2022041106473689_run-BrainSense20220411075400.mat\n",
      "NaNs in: sub-20210415PStn_ses-2022041106473689_run-BrainSense20220411080400.mat\n",
      "NaNs in: sub-20210415PStn_ses-2022041106473689_run-BrainSense20220411080700.mat\n",
      "NaNs in: sub-20210415PStn_ses-2022041106473689_run-BrainSense20220411081000.mat\n",
      "NaNs in: sub-20210415PStn_ses-2022121309185382_run-BrainSense20221213094200.mat\n",
      "NaNs in: sub-20210415PStn_ses-2022121309185382_run-BrainSense20221213094700.mat\n",
      "NaNs in: sub-20210415PStn_ses-2022121310200082_run-BrainSense20221213103300.mat\n",
      "NaNs in: sub-20210415PStn_ses-2022121310200082_run-BrainSense20221213103600.mat\n",
      "NaNs in: sub-20210415PStn_ses-2022121311222982_run-BrainSense20221213113800.mat\n",
      "NaNs in: sub-20210415PStn_ses-2022121311222982_run-BrainSense20221213114100.mat\n",
      "NaNs in: sub-20210415PStn_ses-2022121312002382_run-BrainSense20221213120900.mat\n",
      "NaNs in: sub-20210415PStn_ses-2022121312002382_run-BrainSense20221213121300.mat\n",
      "NaNs in: sub-20210415PStn_ses-2023040408103277_run-BrainSense20230404081800.mat\n",
      "NaNs in: sub-20210415PStn_ses-2023040408103277_run-BrainSense20230404082200.mat\n",
      "NaNs in: sub-20210415PStn_ses-2023040408103277_run-BrainSense20230404084300.mat\n",
      "NaNs in: sub-20210415PStn_ses-2023040408103277_run-BrainSense20230404084700.mat\n",
      "NaNs in: sub-20210415PStn_ses-2023040408103277_run-BrainSense20230404085100.mat\n",
      "NaNs in: sub-20210415PStn_ses-2023040408103277_run-BrainSense20230404085300.mat\n",
      "NaNs in: sub-20210415PStn_ses-2023040409354377_run-BrainSense20230404101100.mat\n",
      "NaNs in: sub-20210415PStn_ses-2023040409354377_run-BrainSense20230404101400.mat\n",
      "NaNs in: sub-20210415PStn_ses-2023040409354377_run-BrainSense20230404103300.mat\n",
      "NaNs in: sub-20210415PStn_ses-2023040409354377_run-BrainSense20230404104500.mat\n",
      "NaNs in: sub-20210415PStn_ses-2023040409354377_run-BrainSense20230404105100.mat\n",
      "add run 1\n",
      "Creating RawArray with float64 data, n_channels=6, n_times=52375\n",
      "    Range : 0 ... 52374 =      0.000 ...   209.496 secs\n",
      "Ready.\n"
     ]
    }
   ],
   "source": [
    "inv = main_class.PerceiveData(\n",
    "    sub = \"019\", \n",
    "    incl_modalities=['streaming',],\n",
    "    incl_session = [\"fu24m\"],\n",
    "    incl_condition =['m1s1'],\n",
    "    incl_task = [\"fingerTap\"],\n",
    "    # incl_contact = [\"RingL\", \"SegmInterR\", \"SegmIntraR\"],\n",
    "    import_json=False,\n",
    "    warn_for_metaNaNs=True,\n",
    ")\n"
   ]
  },
  {
   "cell_type": "code",
   "execution_count": 48,
   "metadata": {},
   "outputs": [
    {
     "name": "stdout",
     "output_type": "stream",
     "text": [
      "signal is inverted\n",
      "[1075, 2427, 3651, 47807, 49345, 50661]\n"
     ]
    },
    {
     "data": {
      "image/png": "[encoded data removed]",
      "text/plain": [
       "<Figure size 640x480 with 1 Axes>"
      ]
     },
     "metadata": {},
     "output_type": "display_data"
    }
   ],
   "source": [
    "# define lfp data\n",
    "invdata = inv.streaming.fu24m.m1s1.fingerTap.run1.data\n",
    "ch_i = 1\n",
    "lfp_sig = invdata.get_data()[ch_i]\n",
    "\n",
    "# get stim-artefact indices\n",
    "art_idx = find_LFP_sync_artefact(\n",
    "    lfp_data=lfp_sig, fs=250,\n",
    "    use_kernel='1',\n",
    "    consider_first_seconds=20\n",
    ")\n",
    "\n",
    "print(art_idx)\n",
    "for xline in art_idx:\n",
    "    plt.axvline(x=xline, ymin=min(lfp_sig), ymax=max(lfp_sig),\n",
    "                color='blue', alpha=.3,)\n",
    "\n",
    "plt.plot(lfp_sig)\n",
    "\n",
    "# plt.xlim(0, 20000)\n",
    "\n",
    "plt.show()"
   ]
  },
  {
   "cell_type": "code",
   "execution_count": 41,
   "metadata": {},
   "outputs": [
    {
     "name": "stdout",
     "output_type": "stream",
     "text": [
      "1724 6560\n"
     ]
    }
   ],
   "source": [
    "first_pos_peak = np.where(lfp_sig > max(lfp_sig) * .5)[0][0]\n",
    "first_neg_peak = np.where(lfp_sig < min(lfp_sig) * .5)[0][0]\n",
    "\n",
    "print(first_neg_peak, first_pos_peak)"
   ]
  }
 ],
 "metadata": {
  "kernelspec": {
   "display_name": "pyPerceive",
   "language": "python",
   "name": "python3"
  },
  "language_info": {
   "codemirror_mode": {
    "name": "ipython",
    "version": 3
   },
   "file_extension": ".py",
   "mimetype": "text/x-python",
   "name": "python",
   "nbconvert_exporter": "python",
   "pygments_lexer": "ipython3",
   "version": "3.10.8"
  },
  "orig_nbformat": 4,
  "vscode": {
   "interpreter": {
    "hash": "89cb9b15ea7fbcc6bc9b1c7e86ec8f92184be73d513127a97a923adf23b86793"
   }
  }
 },
 "nbformat": 4,
 "nbformat_minor": 2
}
