{
 "cells": [
  {
   "cell_type": "markdown",
   "metadata": {},
   "source": [
    "# Code Playground for Percept Data\n",
    "\n",
    "\n",
    "\n",
    "<b> Data is required to converted into the BIDS-standard. </b>\n",
    "\n",
    "\n"
   ]
  },
  {
   "cell_type": "markdown",
   "metadata": {},
   "source": [
    "## 0. Loading packages and functions, defining paths\n",
    "\n"
   ]
  },
  {
   "cell_type": "code",
   "execution_count": 147,
   "metadata": {},
   "outputs": [],
   "source": [
    "# Importing Python and external packages\n",
    "import os\n",
    "import sys\n",
    "import importlib\n",
    "import json\n",
    "from dataclasses import dataclass, field, fields\n",
    "from itertools import compress\n",
    "import csv\n",
    "import pandas as pd\n",
    "import numpy as np\n",
    "\n",
    "import sklearn as sk\n",
    "import scipy\n",
    "import matplotlib.pyplot as plt\n",
    "from scipy import signal\n",
    "\n",
    "#mne\n",
    "import mne_bids\n",
    "import mne"
   ]
  },
  {
   "cell_type": "code",
   "execution_count": null,
   "metadata": {},
   "outputs": [],
   "source": [
    "# additionally imported from Varvara\n",
    "# from importlib import reload          # is this necessary?\n",
    "\n",
    "# from scipy.signal import spectrogram, hanning     # is this necessary?\n",
    "\n",
    "# from mne.time_frequency import tfr_morlet         # is this necessary?"
   ]
  },
  {
   "cell_type": "code",
   "execution_count": null,
   "metadata": {},
   "outputs": [],
   "source": [
    "# check some package versions for documentation and reproducability\n",
    "print('Python sys', sys.version)\n",
    "print('pandas', pd.__version__)\n",
    "print('numpy', np.__version__)\n",
    "print('mne_bids', mne_bids.__version__)\n",
    "print('mne', mne.__version__)\n",
    "print('sci-py', scipy.__version__)\n",
    "print('sci-kit learn', sk.__version__)"
   ]
  },
  {
   "cell_type": "code",
   "execution_count": 239,
   "metadata": {},
   "outputs": [
    {
     "name": "stdout",
     "output_type": "stream",
     "text": [
      "/Users/jenniferbehnke/Coding/Perceive_output/ieeg_ses-2021080602000195_3MFU\n",
      "/Users/jenniferbehnke/Coding/Perceive_output\n"
     ]
    }
   ],
   "source": [
    "# define local storage directories\n",
    "matfile_path = '/Users/jenniferbehnke/Coding/Perceive_output/ieeg_ses-2021080602000195_3MFU/sub021_ses-2021080602000195_run-BrainSense20210806020700.mat'\n",
    "folder = '/Users/jenniferbehnke/Coding/Perceive_output/ieeg_ses-2021080602000195_3MFU/'\n",
    "\n",
    "\n",
    "# check working directory\n",
    "print(os.getcwd())\n",
    "\n",
    "# get folder above a certain folder\n",
    "print(os.path.dirname(os.getcwd()))\n",
    "\n",
    "# change working directory to project-code folder\n",
    "os.chdir('/Users/jenniferbehnke/Coding/Perceive_output/ieeg_ses-2021080602000195_3MFU/')\n"
   ]
  },
  {
   "cell_type": "markdown",
   "metadata": {},
   "source": [
    "## 1. Pre-Work - Getting into the Files"
   ]
  },
  {
   "cell_type": "markdown",
   "metadata": {},
   "source": [
    "### Explore data"
   ]
  },
  {
   "cell_type": "code",
   "execution_count": 274,
   "metadata": {},
   "outputs": [
    {
     "name": "stderr",
     "output_type": "stream",
     "text": [
      "/Applications/MNE-Python/.mne-python/lib/python3.10/site-packages/pymatreader/utils.py:230: UserWarning: Complex objects (like classes) are not supported. They are imported on a best effort base but your mileage will vary.\n",
      "  warn('Complex objects (like classes) are not supported. '\n"
     ]
    },
    {
     "name": "stdout",
     "output_type": "stream",
     "text": [
      "Creating RawArray with float64 data, n_channels=6, n_times=3688\n"
     ]
    },
    {
     "name": "stderr",
     "output_type": "stream",
     "text": [
      "/var/folders/d4/z737wy2x2y309dsbbzk9y8yr0000gn/T/ipykernel_905/2486671268.py:4: RuntimeWarning: The supplied FieldTrip structure does not have an elec or grad field. No channel locations will extracted and the kind of channel might be inaccurate.\n",
      "  raw = mne.io.read_raw_fieldtrip(\n",
      "/var/folders/d4/z737wy2x2y309dsbbzk9y8yr0000gn/T/ipykernel_905/2486671268.py:4: RuntimeWarning: Cannot guess the correct type of channel LFP_Stn_L_13. Making it a MISC channel.\n",
      "  raw = mne.io.read_raw_fieldtrip(\n",
      "/var/folders/d4/z737wy2x2y309dsbbzk9y8yr0000gn/T/ipykernel_905/2486671268.py:4: RuntimeWarning: Cannot guess the correct type of channel LFP_Stn_R_02. Making it a MISC channel.\n",
      "  raw = mne.io.read_raw_fieldtrip(\n",
      "/var/folders/d4/z737wy2x2y309dsbbzk9y8yr0000gn/T/ipykernel_905/2486671268.py:4: RuntimeWarning: Cannot guess the correct type of channel LFP_Stn_L_13_PEAK15Hz_THR20-30_AVG3000ms. Making it a MISC channel.\n",
      "  raw = mne.io.read_raw_fieldtrip(\n",
      "/var/folders/d4/z737wy2x2y309dsbbzk9y8yr0000gn/T/ipykernel_905/2486671268.py:4: RuntimeWarning: Cannot guess the correct type of channel LFP_Stn_R_02_PEAK15Hz_THR20-30_AVG3000ms. Making it a MISC channel.\n",
      "  raw = mne.io.read_raw_fieldtrip(\n"
     ]
    },
    {
     "name": "stdout",
     "output_type": "stream",
     "text": [
      "    Range : 0 ... 3687 =      0.000 ...    14.748 secs\n",
      "Ready.\n"
     ]
    },
    {
     "data": {
      "text/html": [
       "<table class=\"table table-hover table-striped table-sm table-responsive small\">\n",
       "    <tr>\n",
       "        <th>Measurement date</th>\n",
       "        \n",
       "        <td>Unknown</td>\n",
       "        \n",
       "    </tr>\n",
       "    <tr>\n",
       "        <th>Experimenter</th>\n",
       "        \n",
       "        <td>Unknown</td>\n",
       "        \n",
       "    </tr>\n",
       "        <th>Participant</th>\n",
       "        \n",
       "        <td>Unknown</td>\n",
       "        \n",
       "    </tr>\n",
       "    <tr>\n",
       "        <th>Digitized points</th>\n",
       "        \n",
       "        <td>0 points</td>\n",
       "        \n",
       "    </tr>\n",
       "    <tr>\n",
       "        <th>Good channels</th>\n",
       "        <td>4 misc, 2 Stimulus</td>\n",
       "    </tr>\n",
       "    <tr>\n",
       "        <th>Bad channels</th>\n",
       "        <td>None</td>\n",
       "    </tr>\n",
       "    <tr>\n",
       "        <th>EOG channels</th>\n",
       "        <td>Not available</td>\n",
       "    </tr>\n",
       "    <tr>\n",
       "        <th>ECG channels</th>\n",
       "        <td>Not available</td>\n",
       "    \n",
       "    <tr>\n",
       "        <th>Sampling frequency</th>\n",
       "        <td>250.00 Hz</td>\n",
       "    </tr>\n",
       "    \n",
       "    \n",
       "    <tr>\n",
       "        <th>Highpass</th>\n",
       "        <td>0.00 Hz</td>\n",
       "    </tr>\n",
       "    \n",
       "    \n",
       "    <tr>\n",
       "        <th>Lowpass</th>\n",
       "        <td>125.00 Hz</td>\n",
       "    </tr>\n",
       "    \n",
       "    \n",
       "</table>"
      ],
      "text/plain": [
       "<Info | 8 non-empty values\n",
       " bads: []\n",
       " ch_names: LFP_Stn_L_13, LFP_Stn_R_02, ...\n",
       " chs: 4 misc, 2 Stimulus\n",
       " custom_ref_applied: False\n",
       " dig: 0 items\n",
       " highpass: 0.0 Hz\n",
       " lowpass: 125.0 Hz\n",
       " meas_date: unspecified\n",
       " nchan: 6\n",
       " projs: []\n",
       " sfreq: 250.0 Hz\n",
       ">"
      ]
     },
     "execution_count": 274,
     "metadata": {},
     "output_type": "execute_result"
    }
   ],
   "source": [
    "# import file as MNE object\n",
    "# saved in variable data as RawArray\n",
    "\n",
    "raw = mne.io.read_raw_fieldtrip(\n",
    "    matfile_path,\n",
    "    info={},\n",
    "    data_name='data',\n",
    ")\n",
    "raw.info"
   ]
  },
  {
   "cell_type": "code",
   "execution_count": 228,
   "metadata": {},
   "outputs": [],
   "source": [
    "# load raw-mat file into python\n",
    "# saved in variable dat as a dict with variable names as keys and loaded matrices as values\n",
    "\n",
    "#dat = scipy.io.loadmat(filepath)"
   ]
  },
  {
   "cell_type": "markdown",
   "metadata": {},
   "source": [
    "### Define variables to access channel names, trials and time"
   ]
  },
  {
   "cell_type": "code",
   "execution_count": 279,
   "metadata": {},
   "outputs": [
    {
     "name": "stdout",
     "output_type": "stream",
     "text": [
      "The data object has:\n",
      "\t3688 time samples,\n",
      "\ta sample frequency of 250.0 Hz and\n",
      "\t6 channels labeled as ['LFP_Stn_L_13', 'LFP_Stn_R_02', 'LFP_Stn_L_13_PEAK15Hz_THR20-30_AVG3000ms', 'LFP_Stn_R_02_PEAK15Hz_THR20-30_AVG3000ms', 'STIM_L_125Hz_60us', 'STIM_R_125Hz_60us'].\n"
     ]
    }
   ],
   "source": [
    "ch_names = raw.ch_names\n",
    "n_chan = len(ch_names)\n",
    "n_time_samps = raw.n_times #nsamples\n",
    "time_secs = raw.times #timepoints set to zero\n",
    "ch_trials = raw._data\n",
    "sfreq = raw.info['sfreq']\n",
    "\n",
    "\n",
    "\n",
    "print(\n",
    "      f'The data object has:\\n\\t{n_time_samps} time samples,'\n",
    "      f'\\n\\ta sample frequency of {sfreq} Hz and\\n\\t{n_chan} '\n",
    "      f'channels labeled as {ch_names}.'\n",
    ")"
   ]
  },
  {
   "cell_type": "code",
   "execution_count": 281,
   "metadata": {},
   "outputs": [
    {
     "data": {
      "text/plain": [
       "(6, 3688)"
      ]
     },
     "execution_count": 281,
     "metadata": {},
     "output_type": "execute_result"
    }
   ],
   "source": [
    "ch_trials.shape"
   ]
  },
  {
   "cell_type": "code",
   "execution_count": 288,
   "metadata": {},
   "outputs": [],
   "source": [
    "# create dictionary with ch_names as keys : ch_trials as values\n",
    "# has to be adapted to number of channels\n",
    "# maybe loop through number of channels??\n",
    "\n",
    "mydict = {\n",
    "    'Time' : list(time_secs)\n",
    "}\n",
    "for i, name in enumerate(ch_names):\n",
    "    # enumerate gives you counter within the loop\n",
    "    mydict[name] = ch_trials[i]\n",
    "    #print(i, name)\n",
    "\n",
    "  \n"
   ]
  },
  {
   "cell_type": "code",
   "execution_count": 283,
   "metadata": {},
   "outputs": [
    {
     "data": {
      "text/html": [
       "<div>\n",
       "<style scoped>\n",
       "    .dataframe tbody tr th:only-of-type {\n",
       "        vertical-align: middle;\n",
       "    }\n",
       "\n",
       "    .dataframe tbody tr th {\n",
       "        vertical-align: top;\n",
       "    }\n",
       "\n",
       "    .dataframe thead th {\n",
       "        text-align: right;\n",
       "    }\n",
       "</style>\n",
       "<table border=\"1\" class=\"dataframe\">\n",
       "  <thead>\n",
       "    <tr style=\"text-align: right;\">\n",
       "      <th></th>\n",
       "      <th>LFP_Stn_L_13</th>\n",
       "      <th>LFP_Stn_R_02</th>\n",
       "      <th>LFP_Stn_L_13_PEAK15Hz_THR20-30_AVG3000ms</th>\n",
       "      <th>LFP_Stn_R_02_PEAK15Hz_THR20-30_AVG3000ms</th>\n",
       "      <th>STIM_L_125Hz_60us</th>\n",
       "      <th>STIM_R_125Hz_60us</th>\n",
       "    </tr>\n",
       "  </thead>\n",
       "  <tbody>\n",
       "    <tr>\n",
       "      <th>0</th>\n",
       "      <td>-4.440345</td>\n",
       "      <td>-5.806605</td>\n",
       "      <td>482.0</td>\n",
       "      <td>587.0</td>\n",
       "      <td>0.0</td>\n",
       "      <td>0.0</td>\n",
       "    </tr>\n",
       "    <tr>\n",
       "      <th>1</th>\n",
       "      <td>-3.643360</td>\n",
       "      <td>-6.262025</td>\n",
       "      <td>482.0</td>\n",
       "      <td>587.0</td>\n",
       "      <td>0.0</td>\n",
       "      <td>0.0</td>\n",
       "    </tr>\n",
       "    <tr>\n",
       "      <th>2</th>\n",
       "      <td>-4.440345</td>\n",
       "      <td>-3.301795</td>\n",
       "      <td>482.0</td>\n",
       "      <td>587.0</td>\n",
       "      <td>0.0</td>\n",
       "      <td>0.0</td>\n",
       "    </tr>\n",
       "    <tr>\n",
       "      <th>3</th>\n",
       "      <td>-3.757215</td>\n",
       "      <td>4.326490</td>\n",
       "      <td>482.0</td>\n",
       "      <td>587.0</td>\n",
       "      <td>0.0</td>\n",
       "      <td>0.0</td>\n",
       "    </tr>\n",
       "    <tr>\n",
       "      <th>4</th>\n",
       "      <td>-4.098780</td>\n",
       "      <td>5.465040</td>\n",
       "      <td>482.0</td>\n",
       "      <td>587.0</td>\n",
       "      <td>0.0</td>\n",
       "      <td>0.0</td>\n",
       "    </tr>\n",
       "    <tr>\n",
       "      <th>...</th>\n",
       "      <td>...</td>\n",
       "      <td>...</td>\n",
       "      <td>...</td>\n",
       "      <td>...</td>\n",
       "      <td>...</td>\n",
       "      <td>...</td>\n",
       "    </tr>\n",
       "    <tr>\n",
       "      <th>3683</th>\n",
       "      <td>9.905385</td>\n",
       "      <td>8.880690</td>\n",
       "      <td>NaN</td>\n",
       "      <td>NaN</td>\n",
       "      <td>NaN</td>\n",
       "      <td>NaN</td>\n",
       "    </tr>\n",
       "    <tr>\n",
       "      <th>3684</th>\n",
       "      <td>10.133095</td>\n",
       "      <td>10.360805</td>\n",
       "      <td>NaN</td>\n",
       "      <td>NaN</td>\n",
       "      <td>NaN</td>\n",
       "      <td>NaN</td>\n",
       "    </tr>\n",
       "    <tr>\n",
       "      <th>3685</th>\n",
       "      <td>10.930080</td>\n",
       "      <td>7.855995</td>\n",
       "      <td>NaN</td>\n",
       "      <td>NaN</td>\n",
       "      <td>NaN</td>\n",
       "      <td>NaN</td>\n",
       "    </tr>\n",
       "    <tr>\n",
       "      <th>3686</th>\n",
       "      <td>9.677675</td>\n",
       "      <td>8.311415</td>\n",
       "      <td>NaN</td>\n",
       "      <td>NaN</td>\n",
       "      <td>NaN</td>\n",
       "      <td>NaN</td>\n",
       "    </tr>\n",
       "    <tr>\n",
       "      <th>3687</th>\n",
       "      <td>10.360805</td>\n",
       "      <td>7.742140</td>\n",
       "      <td>NaN</td>\n",
       "      <td>NaN</td>\n",
       "      <td>NaN</td>\n",
       "      <td>NaN</td>\n",
       "    </tr>\n",
       "  </tbody>\n",
       "</table>\n",
       "<p>3688 rows × 6 columns</p>\n",
       "</div>"
      ],
      "text/plain": [
       "      LFP_Stn_L_13  LFP_Stn_R_02  LFP_Stn_L_13_PEAK15Hz_THR20-30_AVG3000ms  \\\n",
       "0        -4.440345     -5.806605                                     482.0   \n",
       "1        -3.643360     -6.262025                                     482.0   \n",
       "2        -4.440345     -3.301795                                     482.0   \n",
       "3        -3.757215      4.326490                                     482.0   \n",
       "4        -4.098780      5.465040                                     482.0   \n",
       "...            ...           ...                                       ...   \n",
       "3683      9.905385      8.880690                                       NaN   \n",
       "3684     10.133095     10.360805                                       NaN   \n",
       "3685     10.930080      7.855995                                       NaN   \n",
       "3686      9.677675      8.311415                                       NaN   \n",
       "3687     10.360805      7.742140                                       NaN   \n",
       "\n",
       "      LFP_Stn_R_02_PEAK15Hz_THR20-30_AVG3000ms  STIM_L_125Hz_60us  \\\n",
       "0                                        587.0                0.0   \n",
       "1                                        587.0                0.0   \n",
       "2                                        587.0                0.0   \n",
       "3                                        587.0                0.0   \n",
       "4                                        587.0                0.0   \n",
       "...                                        ...                ...   \n",
       "3683                                       NaN                NaN   \n",
       "3684                                       NaN                NaN   \n",
       "3685                                       NaN                NaN   \n",
       "3686                                       NaN                NaN   \n",
       "3687                                       NaN                NaN   \n",
       "\n",
       "      STIM_R_125Hz_60us  \n",
       "0                   0.0  \n",
       "1                   0.0  \n",
       "2                   0.0  \n",
       "3                   0.0  \n",
       "4                   0.0  \n",
       "...                 ...  \n",
       "3683                NaN  \n",
       "3684                NaN  \n",
       "3685                NaN  \n",
       "3686                NaN  \n",
       "3687                NaN  \n",
       "\n",
       "[3688 rows x 6 columns]"
      ]
     },
     "execution_count": 283,
     "metadata": {},
     "output_type": "execute_result"
    }
   ],
   "source": [
    "# write dictionary to a csv file and store it in the current folder\n",
    "# warum ist time gerundet?\n",
    "\n",
    "#df = pd.DataFrame.from_dict(mydict)\n",
    "df = pd.DataFrame(data=ch_trials.T, columns=ch_names)\n",
    "#df.to_csv(folder+'mydict.csv', index=False, header=True)\n",
    "df"
   ]
  },
  {
   "cell_type": "markdown",
   "metadata": {},
   "source": [
    "## 2. Plot data"
   ]
  },
  {
   "cell_type": "markdown",
   "metadata": {},
   "source": [
    "### Matplotlib Playground"
   ]
  },
  {
   "cell_type": "code",
   "execution_count": 192,
   "metadata": {},
   "outputs": [
    {
     "data": {
      "image/png": "[encoded data removed]",
      "text/plain": [
       "<Figure size 640x480 with 1 Axes>"
      ]
     },
     "metadata": {},
     "output_type": "display_data"
    }
   ],
   "source": [
    "# plotting first row of data.trial from Matlab\n",
    "\n",
    "plt.plot(ch_trials[1])\n",
    "plt.show()\n"
   ]
  },
  {
   "cell_type": "code",
   "execution_count": 191,
   "metadata": {},
   "outputs": [
    {
     "name": "stdout",
     "output_type": "stream",
     "text": [
      "[[-4.44034504 -3.64336003 -4.44034504 ... 10.9300801   9.67767509\n",
      "  10.3608051 ]]\n"
     ]
    },
    {
     "data": {
      "image/png": "[encoded data removed]",
      "text/plain": [
       "<Figure size 1500x500 with 1 Axes>"
      ]
     },
     "metadata": {},
     "output_type": "display_data"
    }
   ],
   "source": [
    "mydat = data.get_data(picks='LFP_Stn_L_13') # saving row 1 from data.trial\n",
    "print(mydat)\n",
    "\n",
    "fig, ax = plt.subplots(figsize=[15, 5])\n",
    "ax.plot(mydat)\n",
    "plt.show()"
   ]
  },
  {
   "cell_type": "markdown",
   "metadata": {},
   "source": [
    "### Make some nice plots of the data"
   ]
  },
  {
   "cell_type": "code",
   "execution_count": null,
   "metadata": {},
   "outputs": [],
   "source": [
    "#channels to plot:\n",
    "chs_to_plot = [ \n",
    "    'LFP_R_13_PEAK76',\n",
    "    'LFP_R_13_STN',\n",
    "    'STIM_R_125Hz_60'\n",
    "]\n"
   ]
  },
  {
   "cell_type": "code",
   "execution_count": null,
   "metadata": {},
   "outputs": [],
   "source": [
    "# time to plot\n",
    "plot_times = time_secs # time set to zero "
   ]
  },
  {
   "cell_type": "markdown",
   "metadata": {},
   "source": [
    "### Code from Varvara"
   ]
  },
  {
   "cell_type": "code",
   "execution_count": null,
   "metadata": {},
   "outputs": [],
   "source": [
    "#Make some nice plots of the data\n",
    "\n",
    "#channels to plot:\n",
    "chs_to_plot = [ \n",
    "    'LFP_R_13_PEAK76',\n",
    "    'LFP_R_13_STN',\n",
    "    'STIM_R_125Hz_60'\n",
    "]\n",
    "\n",
    "plot_times = data.times #time\n",
    "xticks = np.linspace(0, plot_times[-1], 5) #make 5 x-axis ticks, dividing the seconds by 5\n",
    "\n",
    "fig, axes = plt.subplots(\n",
    "    1, len(chs_to_plot), figsize=(18, 6)\n",
    ") #define n of subplots and size\n",
    "\n",
    "# axes = axes.flatten()\n",
    "ax_c = 0\n",
    "\n",
    "for i, name in enumerate(chNamesList):\n",
    "\n",
    "    \n",
    "    if name in chs_to_plot:\n",
    "\n",
    "        if name[-3:] == 'STN':\n",
    "            axes[ax_c].psd(raw_data[i, :])\n",
    "            axes[ax_c].set_title(\n",
    "                f'PSD {name}',\n",
    "                fontsize=16, color='r'\n",
    "            )\n",
    "\n",
    "        else:\n",
    "            \n",
    "            axes[ax_c].plot(plot_times, raw_data[i, :])\n",
    "            axes[ax_c].set_title(name, fontsize=16, color='r')\n",
    "            axes[ax_c].set_xticks(xticks)\n",
    "            axes[ax_c].set_xticklabels(np.around(xticks / 60, 1))\n",
    "                \n",
    "        ax_c += 1\n",
    "        \n",
    "        \n",
    "# chNamesArr == ch_to_plot"
   ]
  },
  {
   "cell_type": "code",
   "execution_count": null,
   "metadata": {},
   "outputs": [],
   "source": [
    "a = 55.5"
   ]
  },
  {
   "cell_type": "code",
   "execution_count": null,
   "metadata": {},
   "outputs": [],
   "source": [
    "(f'channel1 {name}, #{a}'\n",
    " ' because ut was too long')"
   ]
  },
  {
   "cell_type": "code",
   "execution_count": null,
   "metadata": {},
   "outputs": [],
   "source": [
    "chNamesList.index(chs_to_plot)"
   ]
  },
  {
   "cell_type": "code",
   "execution_count": null,
   "metadata": {},
   "outputs": [],
   "source": [
    "data.plot_psd(fmin = 5, fmax = 50, picks = 1, tmin = 0, tmax = 20, dB = False, estimate = 'amplitude')\n",
    "data.plot_psd(fmin = 5, fmax = 50, picks = 1, tmin = 60, tmax = 80,  dB = False, estimate = 'amplitude')"
   ]
  },
  {
   "cell_type": "code",
   "execution_count": null,
   "metadata": {},
   "outputs": [],
   "source": [
    "print(type(data._data))\n",
    "print(data._data.shape)\n",
    "scan_durn = data._data.shape[1] / data.info['sfreq']\n",
    "print('Duration of LFP recording = ', scan_durn, 's, or', scan_durn / 60, 'min.')\n",
    "print(data._data[1, :])\n",
    "\n",
    "chan = 1 # set channel we want\n",
    "start_time = int((1000 / 1000) * data.info['sfreq'])\n",
    "end_time   = int((10000 / 1000) * data.info['sfreq'])\n",
    "data._data[chan, start_time:end_time]"
   ]
  },
  {
   "cell_type": "code",
   "execution_count": null,
   "metadata": {},
   "outputs": [],
   "source": [
    "mydat = data.get_data(picks=['LFP_Stn_L_13'], start=1, stop=201)\n",
    "print(mydat.shape)"
   ]
  },
  {
   "cell_type": "code",
   "execution_count": null,
   "metadata": {},
   "outputs": [],
   "source": [
    "fig, ax = plt.subplots(figsize=[15, 5])\n",
    "ax.plot(data.get_data(picks='STIM_R_125Hz_60us',start=1, stop=20000).T)\n",
    "plt.show()"
   ]
  },
  {
   "cell_type": "code",
   "execution_count": null,
   "metadata": {},
   "outputs": [],
   "source": [
    "#%matplotlib inline\n",
    "data.plot(data.get_data(picks='LFP_Stn_L_13'))"
   ]
  },
  {
   "cell_type": "code",
   "execution_count": null,
   "metadata": {},
   "outputs": [],
   "source": [
    "#Pick only channel one and two\n",
    "data.info['bads'] = ['LFP_Stn_L_13','LFP_Stn_R_02', 'LFP_Stn_L_13_PEAK15Hz_THR20-30_AVG3000ms', 'LFP_Stn_R_02_PEAK15Hz_THR20-30_AVG3000ms', 'STIM_L_125Hz_60us', 'STIM_R_125Hz_60us'] \n",
    "picks = mne.pick_types(data.info, meg='mag', eeg=False, eog=False,\n",
    "                       stim=False, exclude='bads')"
   ]
  },
  {
   "cell_type": "code",
   "execution_count": null,
   "metadata": {},
   "outputs": [],
   "source": [
    "#events = mne.find_events(raw, stim_channel='LFP_R_13_STN')\n",
    "trial_onsets = np.array([\n",
    "       [ 1000 ,      0 ,    1],\n",
    "       [ 15000 ,      0 ,    2 ]]) #we need the samples\n",
    "event_dict = {'NoStim':1,'Threshold':2}\n",
    "fig = mne.viz.plot_events(trial_onsets, sfreq=data.info['sfreq'], first_samp=data.first_samp)\n",
    "epochs = mne.Epochs(data,events=trial_onsets,event_id = event_dict, tmin=0, tmax=10, baseline = None, preload = True)\n",
    "epochs.plot_image(picks = 0)"
   ]
  },
  {
   "cell_type": "code",
   "execution_count": null,
   "metadata": {},
   "outputs": [],
   "source": [
    "nostim_ep = epochs['NoStim']\n",
    "stim_ep = epochs['Threshold']\n",
    "stim_ep.plot_image(picks = 1)"
   ]
  },
  {
   "cell_type": "code",
   "execution_count": null,
   "metadata": {},
   "outputs": [],
   "source": [
    "M = 200\n",
    "NFFT = M\n",
    "win = hanning(M)\n",
    "overlap = 0.25\n",
    "overlap_samples = int(round(M*overlap)) # overlap in samples\n",
    "t, f, S = spectrogram(mydat,window=win,nperseg=M,noverlap=overlap_samples,nfft=NFFT)\n",
    "\n",
    "# Compute average spectrum\n",
    "avg_S = np.mean(S,axis=1)"
   ]
  },
  {
   "cell_type": "code",
   "execution_count": null,
   "metadata": {},
   "outputs": [],
   "source": [
    "vars(tfr_morlet)"
   ]
  },
  {
   "cell_type": "code",
   "execution_count": null,
   "metadata": {},
   "outputs": [],
   "source": [
    "freqs = np.arange(1, 125)\n",
    "D = tfr_morlet(epochs, freqs=freqs, n_cycles=6, return_itc=False, average=True, picks = 1)"
   ]
  },
  {
   "cell_type": "code",
   "execution_count": null,
   "metadata": {},
   "outputs": [],
   "source": [
    "spectrogram(\n",
    "    mydat,\n",
    "    fs=125.0, \n",
    "#             window=('hanning', 0.25), \n",
    "    nperseg=1, noverlap=0.25, nfft=None, detrend='constant', \n",
    "                         return_onesided=True, scaling='density', axis=- 1, mode='psd')"
   ]
  },
  {
   "cell_type": "code",
   "execution_count": null,
   "metadata": {},
   "outputs": [],
   "source": [
    "raw = data.filter(l_freq=90, h_freq=5, picks=[0,1])"
   ]
  },
  {
   "cell_type": "code",
   "execution_count": null,
   "metadata": {},
   "outputs": [],
   "source": [
    "#epochs.plot_psd(fmin=5, fmax=90)\n",
    "D.plot(fmin=5, fmax=40, picks = 1)"
   ]
  },
  {
   "cell_type": "code",
   "execution_count": null,
   "metadata": {},
   "outputs": [],
   "source": [
    "D.plot(mode='zlogratio', picks = 0, baseline=None,\n",
    "#        vmin = -3, vmax = 8,\n",
    "       cmap='viridis',\n",
    ")"
   ]
  },
  {
   "cell_type": "code",
   "execution_count": null,
   "metadata": {},
   "outputs": [],
   "source": [
    "# matplotlib\n",
    "D.plot(events = trial_onsets, start = 80, duration = 7, n_channels = 1)"
   ]
  }
 ],
 "metadata": {
  "kernelspec": {
   "display_name": "Python 3.10.6",
   "language": "python",
   "name": "python3"
  },
  "language_info": {
   "codemirror_mode": {
    "name": "ipython",
    "version": 3
   },
   "file_extension": ".py",
   "mimetype": "text/x-python",
   "name": "python",
   "nbconvert_exporter": "python",
   "pygments_lexer": "ipython3",
   "version": "3.10.6"
  },
  "orig_nbformat": 4,
  "vscode": {
   "interpreter": {
    "hash": "eb2deed888c183470f90a2f4f7a88f050bd656e7ee75cf8eefff8017d957171b"
   }
  }
 },
 "nbformat": 4,
 "nbformat_minor": 2
}
