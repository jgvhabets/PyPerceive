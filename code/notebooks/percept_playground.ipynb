{
 "cells": [
  {
   "cell_type": "markdown",
   "metadata": {},
   "source": [
    "# Code Playground for Percept Data\n",
    "\n",
    "\n",
    "\n",
    "<b> Data is required to converted into the BIDS-standard. </b>\n",
    "\n",
    "\n"
   ]
  },
  {
   "cell_type": "markdown",
   "metadata": {},
   "source": [
    "## 0. Loading packages and functions, defining paths\n",
    "\n"
   ]
  },
  {
   "cell_type": "code",
   "execution_count": 1,
   "metadata": {},
   "outputs": [],
   "source": [
    "# Importing Python and external packages\n",
    "import os\n",
    "import sys\n",
    "import importlib\n",
    "import json\n",
    "from dataclasses import dataclass, field, fields\n",
    "from itertools import compress\n",
    "import csv\n",
    "import pandas as pd\n",
    "import numpy as np\n",
    "\n",
    "import sklearn as sk\n",
    "import scipy\n",
    "import matplotlib.pyplot as plt\n",
    "from scipy import signal\n",
    "\n",
    "#mne\n",
    "import mne_bids\n",
    "import mne"
   ]
  },
  {
   "cell_type": "code",
   "execution_count": 2,
   "metadata": {},
   "outputs": [
    {
     "name": "stdout",
     "output_type": "stream",
     "text": [
      "Python sys 3.10.6 | packaged by conda-forge | (main, Aug 22 2022, 20:43:44) [Clang 13.0.1 ]\n",
      "pandas 1.5.0\n",
      "numpy 1.21.6\n",
      "mne_bids 0.11\n",
      "mne 1.2.0\n",
      "sci-py 1.9.1\n",
      "sci-kit learn 1.1.2\n"
     ]
    }
   ],
   "source": [
    "# check some package versions for documentation and reproducability\n",
    "print('Python sys', sys.version)\n",
    "print('pandas', pd.__version__)\n",
    "print('numpy', np.__version__)\n",
    "print('mne_bids', mne_bids.__version__)\n",
    "print('mne', mne.__version__)\n",
    "print('sci-py', scipy.__version__)\n",
    "print('sci-kit learn', sk.__version__)"
   ]
  },
  {
   "cell_type": "code",
   "execution_count": 3,
   "metadata": {},
   "outputs": [
    {
     "name": "stdout",
     "output_type": "stream",
     "text": [
      "/Users/jenniferbehnke/Coding/PyPerceive/code/notebooks\n",
      "/Users/jenniferbehnke/Coding/PyPerceive/code\n"
     ]
    }
   ],
   "source": [
    "filepath = '/Users/jenniferbehnke/Coding/Perceive_output/ieeg_ses-2021080602000195_3MFU/sub021_ses-2021080602000195_run-BrainSense20210806020700.mat'\n",
    "# define local storage directories\n",
    "\n",
    "# check working directory\n",
    "print(os.getcwd())\n",
    "\n",
    "# get folder above a certain folder\n",
    "print(os.path.dirname(os.getcwd()))\n",
    "\n",
    "# change working directory to project-code folder\n",
    "os.chdir('/Users/jenniferbehnke/Coding/Perceive_output/ieeg_ses-2021080602000195_3MFU/')\n"
   ]
  },
  {
   "cell_type": "markdown",
   "metadata": {},
   "source": [
    "## Pre-Work - Getting into the Files"
   ]
  },
  {
   "cell_type": "code",
   "execution_count": 6,
   "metadata": {},
   "outputs": [
    {
     "name": "stdout",
     "output_type": "stream",
     "text": [
      "Creating RawArray with float64 data, n_channels=6, n_times=3688\n",
      "    Range : 0 ... 3687 =      0.000 ...    14.748 secs\n",
      "Ready.\n"
     ]
    },
    {
     "name": "stderr",
     "output_type": "stream",
     "text": [
      "/var/folders/d4/z737wy2x2y309dsbbzk9y8yr0000gn/T/ipykernel_905/1624976735.py:4: RuntimeWarning: The supplied FieldTrip structure does not have an elec or grad field. No channel locations will extracted and the kind of channel might be inaccurate.\n",
      "  data = mne.io.read_raw_fieldtrip(\n",
      "/var/folders/d4/z737wy2x2y309dsbbzk9y8yr0000gn/T/ipykernel_905/1624976735.py:4: RuntimeWarning: Cannot guess the correct type of channel LFP_Stn_L_13. Making it a MISC channel.\n",
      "  data = mne.io.read_raw_fieldtrip(\n",
      "/var/folders/d4/z737wy2x2y309dsbbzk9y8yr0000gn/T/ipykernel_905/1624976735.py:4: RuntimeWarning: Cannot guess the correct type of channel LFP_Stn_R_02. Making it a MISC channel.\n",
      "  data = mne.io.read_raw_fieldtrip(\n",
      "/var/folders/d4/z737wy2x2y309dsbbzk9y8yr0000gn/T/ipykernel_905/1624976735.py:4: RuntimeWarning: Cannot guess the correct type of channel LFP_Stn_L_13_PEAK15Hz_THR20-30_AVG3000ms. Making it a MISC channel.\n",
      "  data = mne.io.read_raw_fieldtrip(\n",
      "/var/folders/d4/z737wy2x2y309dsbbzk9y8yr0000gn/T/ipykernel_905/1624976735.py:4: RuntimeWarning: Cannot guess the correct type of channel LFP_Stn_R_02_PEAK15Hz_THR20-30_AVG3000ms. Making it a MISC channel.\n",
      "  data = mne.io.read_raw_fieldtrip(\n"
     ]
    },
    {
     "data": {
      "text/html": [
       "<table class=\"table table-hover table-striped table-sm table-responsive small\">\n",
       "    <tr>\n",
       "        <th>Measurement date</th>\n",
       "        \n",
       "        <td>Unknown</td>\n",
       "        \n",
       "    </tr>\n",
       "    <tr>\n",
       "        <th>Experimenter</th>\n",
       "        \n",
       "        <td>Unknown</td>\n",
       "        \n",
       "    </tr>\n",
       "        <th>Participant</th>\n",
       "        \n",
       "        <td>Unknown</td>\n",
       "        \n",
       "    </tr>\n",
       "    <tr>\n",
       "        <th>Digitized points</th>\n",
       "        \n",
       "        <td>0 points</td>\n",
       "        \n",
       "    </tr>\n",
       "    <tr>\n",
       "        <th>Good channels</th>\n",
       "        <td>4 misc, 2 Stimulus</td>\n",
       "    </tr>\n",
       "    <tr>\n",
       "        <th>Bad channels</th>\n",
       "        <td>None</td>\n",
       "    </tr>\n",
       "    <tr>\n",
       "        <th>EOG channels</th>\n",
       "        <td>Not available</td>\n",
       "    </tr>\n",
       "    <tr>\n",
       "        <th>ECG channels</th>\n",
       "        <td>Not available</td>\n",
       "    \n",
       "    <tr>\n",
       "        <th>Sampling frequency</th>\n",
       "        <td>250.00 Hz</td>\n",
       "    </tr>\n",
       "    \n",
       "    \n",
       "    <tr>\n",
       "        <th>Highpass</th>\n",
       "        <td>0.00 Hz</td>\n",
       "    </tr>\n",
       "    \n",
       "    \n",
       "    <tr>\n",
       "        <th>Lowpass</th>\n",
       "        <td>125.00 Hz</td>\n",
       "    </tr>\n",
       "    \n",
       "    \n",
       "</table>"
      ],
      "text/plain": [
       "<Info | 8 non-empty values\n",
       " bads: []\n",
       " ch_names: LFP_Stn_L_13, LFP_Stn_R_02, ...\n",
       " chs: 4 misc, 2 Stimulus\n",
       " custom_ref_applied: False\n",
       " dig: 0 items\n",
       " highpass: 0.0 Hz\n",
       " lowpass: 125.0 Hz\n",
       " meas_date: unspecified\n",
       " nchan: 6\n",
       " projs: []\n",
       " sfreq: 250.0 Hz\n",
       ">"
      ]
     },
     "execution_count": 6,
     "metadata": {},
     "output_type": "execute_result"
    }
   ],
   "source": [
    "# import file as MNE object\n",
    "# saved in variable data as RawArray\n",
    "\n",
    "data = mne.io.read_raw_fieldtrip(\n",
    "    filepath,\n",
    "    info={},\n",
    "    data_name='data',\n",
    ")\n",
    "data.info"
   ]
  },
  {
   "cell_type": "code",
   "execution_count": 12,
   "metadata": {},
   "outputs": [],
   "source": [
    "# load raw-mat file into python\n",
    "# saved in variable dat as a dict with variable names as keys and loaded matrices as values\n",
    "\n",
    "dat = scipy.io.loadmat(filepath)"
   ]
  },
  {
   "cell_type": "code",
   "execution_count": 26,
   "metadata": {},
   "outputs": [
    {
     "name": "stdout",
     "output_type": "stream",
     "text": [
      "<RawArray | 6 x 3688 (14.7 s), ~184 kB, data loaded>\n",
      "<Info | 8 non-empty values\n",
      " bads: []\n",
      " ch_names: LFP_Stn_L_13, LFP_Stn_R_02, ...\n",
      " chs: 4 misc, 2 Stimulus\n",
      " custom_ref_applied: False\n",
      " dig: 0 items\n",
      " highpass: 0.0 Hz\n",
      " lowpass: 125.0 Hz\n",
      " meas_date: unspecified\n",
      " nchan: 6\n",
      " projs: []\n",
      " sfreq: 250.0 Hz\n",
      ">\n"
     ]
    }
   ],
   "source": [
    "print(data) #here you can see the number of samples and the time\n",
    "\n",
    "print(data.info) #ch_names, chs, nchan, sfreq."
   ]
  },
  {
   "cell_type": "code",
   "execution_count": 19,
   "metadata": {},
   "outputs": [
    {
     "data": {
      "text/plain": [
       "dict_keys(['acq_pars', 'acq_stim', 'ctf_head_t', 'description', 'dev_ctf_t', 'dig', 'experimenter', 'utc_offset', 'device_info', 'file_id', 'highpass', 'hpi_subsystem', 'kit_system_id', 'helium_info', 'line_freq', 'lowpass', 'meas_date', 'meas_id', 'proj_id', 'proj_name', 'subject_info', 'xplotter_layout', 'gantry_angle', 'bads', 'chs', 'comps', 'events', 'hpi_meas', 'hpi_results', 'projs', 'proc_history', 'custom_ref_applied', 'sfreq', 'dev_head_t', 'ch_names', 'nchan'])"
      ]
     },
     "execution_count": 19,
     "metadata": {},
     "output_type": "execute_result"
    }
   ],
   "source": [
    "data.info.keys()"
   ]
  },
  {
   "cell_type": "code",
   "execution_count": 44,
   "metadata": {},
   "outputs": [
    {
     "name": "stdout",
     "output_type": "stream",
     "text": [
      "dict_keys(['_data', 'preload', '_last_samps', '_first_samps', 'info', 'buffer_size_sec', '_cals', '_raw_extras', '_read_picks', '_read_comp_grade', '_comp', '_filenames', 'orig_format', '_orig_units', '_projectors', '_projector', '_dtype_', '_annotations', '_cropped_samp', '_init_kwargs'])\n"
     ]
    }
   ],
   "source": [
    "# create a dictionary of data\n",
    "\n",
    "data_as_dict = vars(data)\n",
    "print(data_as_dict.keys())"
   ]
  },
  {
   "cell_type": "code",
   "execution_count": 51,
   "metadata": {},
   "outputs": [
    {
     "name": "stdout",
     "output_type": "stream",
     "text": [
      "(6, 3688)\n"
     ]
    }
   ],
   "source": [
    "#print(data._data[2,:])\n",
    "\n",
    "data_data = data.get_data()\n",
    "print(data_data.shape)"
   ]
  },
  {
   "cell_type": "code",
   "execution_count": 45,
   "metadata": {},
   "outputs": [
    {
     "name": "stdout",
     "output_type": "stream",
     "text": [
      "['LFP_Stn_L_13', 'LFP_Stn_R_02', 'LFP_Stn_L_13_PEAK15Hz_THR20-30_AVG3000ms', 'LFP_Stn_R_02_PEAK15Hz_THR20-30_AVG3000ms', 'STIM_L_125Hz_60us', 'STIM_R_125Hz_60us']\n",
      "6\n"
     ]
    }
   ],
   "source": [
    "# define variables for data.label from Matlab\n",
    "ch_names = data.ch_names\n",
    "n_chan = len(ch_names) \n",
    "\n",
    "print(ch_names) # equivalent to data.label from Matlab\n",
    "print(len(ch_names))"
   ]
  },
  {
   "cell_type": "code",
   "execution_count": 46,
   "metadata": {},
   "outputs": [
    {
     "name": "stdout",
     "output_type": "stream",
     "text": [
      "3688\n",
      "[0.0000e+00 4.0000e-03 8.0000e-03 ... 1.4740e+01 1.4744e+01 1.4748e+01]\n"
     ]
    }
   ],
   "source": [
    "# define variabels for data.time from Matlab\n",
    "n_time_samps = data.n_times #nsamples\n",
    "time_secs = data.times #timepoints set to zero\n",
    "\n",
    "print(n_time_samps) \n",
    "print(time_secs) "
   ]
  },
  {
   "cell_type": "code",
   "execution_count": 50,
   "metadata": {},
   "outputs": [
    {
     "name": "stdout",
     "output_type": "stream",
     "text": [
      "[[ -4.44034504  -3.64336003  -4.44034504 ...  10.9300801    9.67767509\n",
      "   10.3608051 ]\n",
      " [ -5.80660505  -6.26202506  -3.30179503 ...   7.85599507   8.31141508\n",
      "    7.74214007]\n",
      " [482.         482.         482.         ...          nan          nan\n",
      "           nan]\n",
      " [587.         587.         587.         ...          nan          nan\n",
      "           nan]\n",
      " [  0.           0.           0.         ...          nan          nan\n",
      "           nan]\n",
      " [  0.           0.           0.         ...          nan          nan\n",
      "           nan]]\n"
     ]
    }
   ],
   "source": [
    "# define variable for data.trial from Matlab\n",
    "ch_trials = data._data\n",
    "\n",
    "print(ch_trials)"
   ]
  },
  {
   "cell_type": "markdown",
   "metadata": {},
   "source": [
    "## Plot data"
   ]
  },
  {
   "cell_type": "code",
   "execution_count": null,
   "metadata": {},
   "outputs": [],
   "source": [
    "\n",
    "\n",
    "# plt.plot(data._data[0, :])\n",
    "# plt.plot(data._data[1, :])"
   ]
  },
  {
   "cell_type": "code",
   "execution_count": null,
   "metadata": {},
   "outputs": [],
   "source": [
    "#mydat = raw.get_data(picks='LFP_R_13_STN')\n",
    "#print(mydat)\n",
    "#fig, ax = plt.subplots(figsize=[15, 5])\n",
    "#ax.plot(mydat)\n",
    "#plt.show()"
   ]
  },
  {
   "cell_type": "markdown",
   "metadata": {},
   "source": [
    "## Code from Varvara"
   ]
  },
  {
   "cell_type": "code",
   "execution_count": null,
   "metadata": {},
   "outputs": [],
   "source": [
    "print(raw) #here you can see the number of samples and the time\n",
    "print(raw.info) #ch_names, sfreq, nchan.\n",
    "n_time_samps = raw.n_times #nsamples\n",
    "time_secs = raw.times #timepoints\n",
    "raw.info.keys()\n",
    "ch_names = raw.ch_names\n",
    "n_chan = len(ch_names) "
   ]
  },
  {
   "cell_type": "code",
   "execution_count": null,
   "metadata": {},
   "outputs": [],
   "source": [
    "print(ch_names)\n",
    "#print(raw._data[2,:])\n",
    "raw_data = raw.get_data()\n",
    "print(raw_data.shape)\n",
    "mydat = raw.get_data(picks='LFP_R_13_STN')\n",
    "print(mydat)\n",
    "#fig, ax = plt.subplots(figsize=[15, 5])\n",
    "#ax.plot(mydat)\n",
    "#plt.show()"
   ]
  },
  {
   "cell_type": "code",
   "execution_count": null,
   "metadata": {},
   "outputs": [],
   "source": [
    "raw.__dict__"
   ]
  },
  {
   "cell_type": "code",
   "execution_count": null,
   "metadata": {},
   "outputs": [],
   "source": [
    "raw.info['ch_names']"
   ]
  },
  {
   "cell_type": "code",
   "execution_count": null,
   "metadata": {},
   "outputs": [],
   "source": [
    "chNamesList = raw.info['ch_names']\n",
    "chNamesArr = np.array(chNamesList)\n",
    "# plt.plot(raw_data[0, :])"
   ]
  },
  {
   "cell_type": "code",
   "execution_count": null,
   "metadata": {},
   "outputs": [],
   "source": [
    "#Make some nice plots of the data\n",
    "\n",
    "#channels to plot:\n",
    "chs_to_plot = [ \n",
    "    'LFP_R_13_PEAK76',\n",
    "    'LFP_R_13_STN',\n",
    "    'STIM_R_125Hz_60'\n",
    "]\n",
    "\n",
    "plot_times = raw.times #time\n",
    "xticks = np.linspace(0, plot_times[-1], 5) #make 5 x-axis ticks, dividing the seconds by 5\n",
    "\n",
    "fig, axes = plt.subplots(\n",
    "    1, len(chs_to_plot), figsize=(18, 6)\n",
    ") #define n of subplots and size\n",
    "\n",
    "# axes = axes.flatten()\n",
    "ax_c = 0\n",
    "\n",
    "for i, name in enumerate(chNamesList):\n",
    "\n",
    "    \n",
    "    if name in chs_to_plot:\n",
    "\n",
    "        if name[-3:] == 'STN':\n",
    "            axes[ax_c].psd(raw_data[i, :])\n",
    "            axes[ax_c].set_title(\n",
    "                f'PSD {name}',\n",
    "                fontsize=16, color='r'\n",
    "            )\n",
    "\n",
    "        else:\n",
    "            \n",
    "            axes[ax_c].plot(plot_times, raw_data[i, :])\n",
    "            axes[ax_c].set_title(name, fontsize=16, color='r')\n",
    "            axes[ax_c].set_xticks(xticks)\n",
    "            axes[ax_c].set_xticklabels(np.around(xticks / 60, 1))\n",
    "                \n",
    "        ax_c += 1\n",
    "        \n",
    "        \n",
    "# chNamesArr == ch_to_plot"
   ]
  },
  {
   "cell_type": "code",
   "execution_count": null,
   "metadata": {},
   "outputs": [],
   "source": [
    "a = 55.5"
   ]
  },
  {
   "cell_type": "code",
   "execution_count": null,
   "metadata": {},
   "outputs": [],
   "source": [
    "(f'channel1 {name}, #{a}'\n",
    " ' because ut was too long')"
   ]
  },
  {
   "cell_type": "code",
   "execution_count": null,
   "metadata": {},
   "outputs": [],
   "source": [
    "chNamesList.index(ch_to_plot)"
   ]
  },
  {
   "cell_type": "code",
   "execution_count": null,
   "metadata": {},
   "outputs": [],
   "source": [
    "raw.plot_psd(fmin = 5, fmax = 50, picks = 1, tmin = 0, tmax = 20, dB = False, estimate = 'amplitude')\n",
    "raw.plot_psd(fmin = 5, fmax = 50, picks = 1, tmin = 60, tmax = 80,  dB = False, estimate = 'amplitude')"
   ]
  },
  {
   "cell_type": "code",
   "execution_count": null,
   "metadata": {},
   "outputs": [],
   "source": [
    "print(type(raw._data))\n",
    "print(raw._data.shape)\n",
    "scan_durn = raw._data.shape[1] / raw.info['sfreq']\n",
    "print('Duration of LFP recording = ', scan_durn, 's, or', scan_durn / 60, 'min.')\n",
    "print(raw._data[1, :])\n",
    "\n",
    "chan = 1 # set channel we want\n",
    "start_time = int((1000 / 1000) * raw.info['sfreq'])\n",
    "end_time   = int((10000 / 1000) * raw.info['sfreq'])\n",
    "raw._data[chan, start_time:end_time]"
   ]
  },
  {
   "cell_type": "code",
   "execution_count": null,
   "metadata": {},
   "outputs": [],
   "source": [
    "mydat = raw.get_data(picks=['LFP_R_13_STN'], start=1, stop=201)\n",
    "print(mydat.shape)"
   ]
  },
  {
   "cell_type": "code",
   "execution_count": null,
   "metadata": {},
   "outputs": [],
   "source": [
    "fig, ax = plt.subplots(figsize=[15, 5])\n",
    "ax.plot(raw.get_data(picks='STIM_R_125Hz_60',start=1, stop=20000).T)\n",
    "plt.show()"
   ]
  },
  {
   "cell_type": "code",
   "execution_count": null,
   "metadata": {},
   "outputs": [],
   "source": [
    "#%matplotlib inline\n",
    "raw.plot(raw.get_data(picks='LFP_R_13_STN'))"
   ]
  },
  {
   "cell_type": "code",
   "execution_count": null,
   "metadata": {},
   "outputs": [],
   "source": [
    "#Pick only channel one and two\n",
    "raw.info['bads'] = ['LFP_R_13_STN','LFP_L_13_STN_PE', 'LFP_R_13_PEAK76', 'STIM_L_125Hz_60', 'STIM_R_125Hz_60'] \n",
    "picks = mne.pick_types(raw.info, meg='mag', eeg=False, eog=False,\n",
    "                       stim=False, exclude='bads')"
   ]
  },
  {
   "cell_type": "code",
   "execution_count": null,
   "metadata": {},
   "outputs": [],
   "source": [
    "#events = mne.find_events(raw, stim_channel='LFP_R_13_STN')\n",
    "trial_onsets = np.array([\n",
    "       [ 1000 ,      0 ,    1],\n",
    "       [ 15000 ,      0 ,    2 ]]) #we need the samples\n",
    "event_dict = {'NoStim':1,'Threshold':2}\n",
    "fig = mne.viz.plot_events(trial_onsets, sfreq=raw.info['sfreq'], first_samp=raw.first_samp)\n",
    "epochs = mne.Epochs(raw,events=trial_onsets,event_id = event_dict, tmin=0, tmax=10, baseline = None, preload = True)\n",
    "epochs.plot_image(picks = 0)"
   ]
  },
  {
   "cell_type": "code",
   "execution_count": null,
   "metadata": {},
   "outputs": [],
   "source": [
    "nostim_ep = epochs['NoStim']\n",
    "stim_ep = epochs['Threshold']\n",
    "stim_ep.plot_image(picks = 1)"
   ]
  },
  {
   "cell_type": "code",
   "execution_count": null,
   "metadata": {},
   "outputs": [],
   "source": [
    "M = 200\n",
    "NFFT = M\n",
    "win = hanning(M)\n",
    "overlap = 0.25\n",
    "overlap_samples = int(round(M*overlap)) # overlap in samples\n",
    "t, f, S = spectrogram(mydat,window=win,nperseg=M,noverlap=overlap_samples,nfft=NFFT)\n",
    "\n",
    "# Compute average spectrum\n",
    "avg_S = np.mean(S,axis=1)"
   ]
  },
  {
   "cell_type": "code",
   "execution_count": null,
   "metadata": {},
   "outputs": [],
   "source": [
    "vars(tfr_morlet)"
   ]
  },
  {
   "cell_type": "code",
   "execution_count": null,
   "metadata": {},
   "outputs": [],
   "source": [
    "freqs = np.arange(1, 125)\n",
    "D = tfr_morlet(epochs, freqs=freqs, n_cycles=6, return_itc=False, average=True, picks = 1)"
   ]
  },
  {
   "cell_type": "code",
   "execution_count": null,
   "metadata": {},
   "outputs": [],
   "source": [
    "spectrogram(\n",
    "    mydat,\n",
    "    fs=125.0, \n",
    "#             window=('hanning', 0.25), \n",
    "    nperseg=1, noverlap=0.25, nfft=None, detrend='constant', \n",
    "                         return_onesided=True, scaling='density', axis=- 1, mode='psd')"
   ]
  },
  {
   "cell_type": "code",
   "execution_count": null,
   "metadata": {},
   "outputs": [],
   "source": [
    "raw = raw.filter(l_freq=90, h_freq=5, picks=[0,1])"
   ]
  },
  {
   "cell_type": "code",
   "execution_count": null,
   "metadata": {},
   "outputs": [],
   "source": [
    "#epochs.plot_psd(fmin=5, fmax=90)\n",
    "D.plot(fmin=5, fmax=40, picks = 1)"
   ]
  },
  {
   "cell_type": "code",
   "execution_count": null,
   "metadata": {},
   "outputs": [],
   "source": [
    "D.plot(mode='zlogratio', picks = 0, baseline=None,\n",
    "#        vmin = -3, vmax = 8,\n",
    "       cmap='viridis',\n",
    ")"
   ]
  },
  {
   "cell_type": "code",
   "execution_count": null,
   "metadata": {},
   "outputs": [],
   "source": [
    "# matplotlib\n",
    "D.plot(events = trial_onsets, start = 80, duration = 7, n_channels = 1)"
   ]
  }
 ],
 "metadata": {
  "kernelspec": {
   "display_name": "Python 3.10.6",
   "language": "python",
   "name": "python3"
  },
  "language_info": {
   "codemirror_mode": {
    "name": "ipython",
    "version": 3
   },
   "file_extension": ".py",
   "mimetype": "text/x-python",
   "name": "python",
   "nbconvert_exporter": "python",
   "pygments_lexer": "ipython3",
   "version": "3.10.6"
  },
  "orig_nbformat": 4,
  "vscode": {
   "interpreter": {
    "hash": "eb2deed888c183470f90a2f4f7a88f050bd656e7ee75cf8eefff8017d957171b"
   }
  }
 },
 "nbformat": 4,
 "nbformat_minor": 2
}
