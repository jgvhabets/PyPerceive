{
 "cells": [
  {
   "cell_type": "markdown",
   "metadata": {},
   "source": [
    "# Code Playground for Percept Data\n",
    "\n",
    "\n",
    "\n",
    "<b> Data is required to converted into the BIDS-standard. </b>\n",
    "\n",
    "\n"
   ]
  },
  {
   "cell_type": "markdown",
   "metadata": {},
   "source": [
    "## 0. Loading packages and functions, defining paths\n",
    "\n"
   ]
  },
  {
   "cell_type": "code",
   "execution_count": 2,
   "metadata": {},
   "outputs": [],
   "source": [
    "# Importing Python and external packages\n",
    "import os\n",
    "import sys\n",
    "import importlib\n",
    "import json\n",
    "from dataclasses import dataclass, field, fields\n",
    "from itertools import compress\n",
    "import csv\n",
    "import pandas as pd\n",
    "import numpy as np\n",
    "\n",
    "import scipy\n",
    "import matplotlib.pyplot as plt\n",
    "from scipy import signal\n",
    "\n",
    "import openpyxl\n",
    "from openpyxl import Workbook, load_workbook\n",
    "import xlrd\n",
    "\n",
    "#mne\n",
    "import mne_bids\n",
    "import mne"
   ]
  },
  {
   "cell_type": "code",
   "execution_count": 92,
   "metadata": {},
   "outputs": [],
   "source": [
    "# additionally imported from Varvara\n",
    "# from importlib import reload          # is this necessary?\n",
    "\n",
    "# from scipy.signal import spectrogram, hanning     # is this necessary?\n",
    "\n",
    "# from mne.time_frequency import tfr_morlet         # is this necessary?"
   ]
  },
  {
   "cell_type": "code",
   "execution_count": 3,
   "metadata": {},
   "outputs": [
    {
     "name": "stdout",
     "output_type": "stream",
     "text": [
      "Python sys 3.10.6 | packaged by conda-forge | (main, Oct 24 2022, 16:02:16) [MSC v.1916 64 bit (AMD64)]\n",
      "pandas 1.4.4\n",
      "numpy 1.23.3\n",
      "mne_bids 0.11.1\n",
      "mne 1.2.1\n",
      "sci-py 1.9.3\n"
     ]
    }
   ],
   "source": [
    "# check some package versions for documentation and reproducability\n",
    "print('Python sys', sys.version)\n",
    "print('pandas', pd.__version__)\n",
    "print('numpy', np.__version__)\n",
    "print('mne_bids', mne_bids.__version__)\n",
    "print('mne', mne.__version__)\n",
    "print('sci-py', scipy.__version__)"
   ]
  },
  {
   "cell_type": "code",
   "execution_count": 4,
   "metadata": {},
   "outputs": [
    {
     "data": {
      "text/plain": [
       "('c:\\\\Users\\\\jebe12\\\\Research\\\\PyPerceive_Project',\n",
       " 'c:\\\\Users\\\\jebe12\\\\Research\\\\PyPerceive_Project\\\\Data',\n",
       " 'c:\\\\Users\\\\jebe12\\\\Research\\\\PyPerceive_Project\\\\Code\\\\PyPerceive\\\\code')"
      ]
     },
     "execution_count": 4,
     "metadata": {},
     "output_type": "execute_result"
    }
   ],
   "source": [
    "# create a path to the PyPerceive_Project folder -> project_path\n",
    "# and a path to the \"Data\" folder and \"Code\" folder within the project\n",
    "project_path = os.getcwd()\n",
    "while project_path[-18:] != 'PyPerceive_Project':\n",
    "    project_path = os.path.dirname(project_path)\n",
    "    \n",
    "data_path = os.path.join(project_path, 'Data')\n",
    "code_path = os.path.join(project_path, 'Code', 'PyPerceive', 'code')\n",
    "\n",
    "project_path, data_path, code_path"
   ]
  },
  {
   "cell_type": "code",
   "execution_count": 41,
   "metadata": {},
   "outputs": [
    {
     "data": {
      "text/plain": [
       "'c:\\\\Users\\\\jebe12\\\\Research\\\\PyPerceive_Project\\\\Code\\\\PyPerceive\\\\code'"
      ]
     },
     "execution_count": 41,
     "metadata": {},
     "output_type": "execute_result"
    }
   ],
   "source": [
    "# change directory to code path???\n",
    "os.chdir(code_path)\n",
    "os.getcwd()"
   ]
  },
  {
   "cell_type": "code",
   "execution_count": 43,
   "metadata": {},
   "outputs": [
    {
     "data": {
      "text/plain": [
       "'c:\\\\Users\\\\jebe12\\\\Research\\\\PyPerceive_Project\\\\Code\\\\PyPerceive\\\\code'"
      ]
     },
     "execution_count": 43,
     "metadata": {},
     "output_type": "execute_result"
    }
   ],
   "source": [
    "# create a path to the current working directory in your PyPerceive Repository -> \"code\"\n",
    "\n",
    "import PerceiveImport.methods.find_folders as find_folder # import the created find_folders.py file\n",
    "importlib.reload(find_folder)\n",
    "\n",
    "project_path,_= find_folder.find_project_folder()\n",
    "\n",
    "os.chdir(os.path.join(project_path, 'Code\\\\PyPerceive\\\\code'))\n",
    "os.getcwd()\n",
    "# import sys\n",
    "# sys.path.append('/Users/jenniferbehnke/Coding/PyPerceive/code')\n",
    "\n"
   ]
  },
  {
   "cell_type": "markdown",
   "metadata": {},
   "source": [
    "## 1. Pre-Work - Getting into the Files"
   ]
  },
  {
   "cell_type": "markdown",
   "metadata": {},
   "source": [
    "### Dataclass Playground"
   ]
  },
  {
   "cell_type": "code",
   "execution_count": 77,
   "metadata": {},
   "outputs": [
    {
     "data": {
      "text/plain": [
       "<module 'PerceiveImport.classes.PerceiveMainClass' from 'c:\\\\Users\\\\jebe12\\\\Research\\\\PyPerceive_Project\\\\Code\\\\PyPerceive\\\\code\\\\PerceiveImport\\\\classes\\\\PerceiveMainClass.py'>"
      ]
     },
     "execution_count": 77,
     "metadata": {},
     "output_type": "execute_result"
    }
   ],
   "source": [
    "# import the .py file with our dataclass\n",
    "\n",
    "import PerceiveImport.classes.PerceiveMainClass as MainClass\n",
    "\n",
    "# to stay uptodate with newly saved files \n",
    "# (Import) here is the \"as Import\" imported PerceiveImport.py file \n",
    "\n",
    "importlib.reload(MainClass) \n",
    "\n"
   ]
  },
  {
   "cell_type": "code",
   "execution_count": 79,
   "metadata": {},
   "outputs": [
    {
     "ename": "AssertionError",
     "evalue": "inserted modality (urvey) shouldbe in ['Streaming', 'Survey', 'Timeline']",
     "output_type": "error",
     "traceback": [
      "\u001b[1;31m---------------------------------------------------------------------------\u001b[0m",
      "\u001b[1;31mAssertionError\u001b[0m                            Traceback (most recent call last)",
      "\u001b[1;32mc:\\Users\\jebe12\\Research\\PyPerceive_Project\\Code\\PyPerceive\\code\\notebooks\\percept_playground.ipynb Cell 12\u001b[0m in \u001b[0;36m<cell line: 4>\u001b[1;34m()\u001b[0m\n\u001b[0;32m      <a href='vscode-notebook-cell:/c%3A/Users/jebe12/Research/PyPerceive_Project/Code/PyPerceive/code/notebooks/percept_playground.ipynb#X14sZmlsZQ%3D%3D?line=0'>1</a>\u001b[0m \u001b[39m# define an example instance and fill in the values of the dataclass PerceiveData \u001b[39;00m\n\u001b[0;32m      <a href='vscode-notebook-cell:/c%3A/Users/jebe12/Research/PyPerceive_Project/Code/PyPerceive/code/notebooks/percept_playground.ipynb#X14sZmlsZQ%3D%3D?line=1'>2</a>\u001b[0m \u001b[39m# choose the values you are interested in analyzing further\u001b[39;00m\n\u001b[1;32m----> <a href='vscode-notebook-cell:/c%3A/Users/jebe12/Research/PyPerceive_Project/Code/PyPerceive/code/notebooks/percept_playground.ipynb#X14sZmlsZQ%3D%3D?line=3'>4</a>\u001b[0m sub021 \u001b[39m=\u001b[39m MainClass\u001b[39m.\u001b[39;49mPerceiveData(sub \u001b[39m=\u001b[39;49m \u001b[39m\"\u001b[39;49m\u001b[39msub-021\u001b[39;49m\u001b[39m\"\u001b[39;49m, include_modalities\u001b[39m=\u001b[39;49m[\u001b[39m\"\u001b[39;49m\u001b[39murvey\u001b[39;49m\u001b[39m\"\u001b[39;49m])\n\u001b[0;32m      <a href='vscode-notebook-cell:/c%3A/Users/jebe12/Research/PyPerceive_Project/Code/PyPerceive/code/notebooks/percept_playground.ipynb#X14sZmlsZQ%3D%3D?line=5'>6</a>\u001b[0m \u001b[39mprint\u001b[39m(sub021)\n",
      "File \u001b[1;32m<string>:6\u001b[0m, in \u001b[0;36m__init__\u001b[1;34m(self, sub, include_modalities, include_timing)\u001b[0m\n",
      "File \u001b[1;32mc:\\Users\\jebe12\\Research\\PyPerceive_Project\\Code\\PyPerceive\\code\\PerceiveImport\\classes\\PerceiveMainClass.py:57\u001b[0m, in \u001b[0;36mPerceiveData.__post_init__\u001b[1;34m(self)\u001b[0m\n\u001b[0;32m     52\u001b[0m \u001b[39mself\u001b[39m\u001b[39m.\u001b[39mPerceiveMetadata \u001b[39m=\u001b[39m pd\u001b[39m.\u001b[39mread_excel(os\u001b[39m.\u001b[39mpath\u001b[39m.\u001b[39mjoin(\u001b[39mself\u001b[39m\u001b[39m.\u001b[39msubject_path, \u001b[39mf\u001b[39m\u001b[39m'\u001b[39m\u001b[39mPerceive_Metadata_\u001b[39m\u001b[39m{\u001b[39;00m\u001b[39mself\u001b[39m\u001b[39m.\u001b[39msub\u001b[39m}\u001b[39;00m\u001b[39m.xlsx\u001b[39m\u001b[39m'\u001b[39m))\n\u001b[0;32m     54\u001b[0m \u001b[39mfor\u001b[39;00m modality \u001b[39min\u001b[39;00m \u001b[39mself\u001b[39m\u001b[39m.\u001b[39minclude_modalities:\n\u001b[0;32m     55\u001b[0m     \u001b[39msetattr\u001b[39m(\n\u001b[0;32m     56\u001b[0m         \u001b[39mself\u001b[39m, \n\u001b[1;32m---> 57\u001b[0m         modality,\n\u001b[0;32m     58\u001b[0m         rec_Mod\u001b[39m.\u001b[39mrecModality(\n\u001b[0;32m     59\u001b[0m         sub \u001b[39m=\u001b[39m \u001b[39mself\u001b[39m\u001b[39m.\u001b[39msub,\n\u001b[0;32m     60\u001b[0m         rec_modality \u001b[39m=\u001b[39m modality\n\u001b[0;32m     61\u001b[0m         )\n\u001b[0;32m     62\u001b[0m     )\n",
      "\u001b[1;31mAssertionError\u001b[0m: inserted modality (urvey) shouldbe in ['Streaming', 'Survey', 'Timeline']"
     ]
    }
   ],
   "source": [
    "# define an example instance and fill in the values of the dataclass PerceiveData \n",
    "# choose the values you are interested in analyzing further\n",
    "\n",
    "sub021 = MainClass.PerceiveData(sub = \"sub-021\", include_modalities=[\"urvey\"])\n",
    "                \n",
    "print(sub021)\n"
   ]
  },
  {
   "cell_type": "code",
   "execution_count": 76,
   "metadata": {},
   "outputs": [
    {
     "data": {
      "text/plain": [
       "recModality(sub='sub-021', rec_modality='Survey')"
      ]
     },
     "execution_count": 76,
     "metadata": {},
     "output_type": "execute_result"
    }
   ],
   "source": [
    "sub021.Survey.matfile_list"
   ]
  },
  {
   "cell_type": "code",
   "execution_count": 163,
   "metadata": {},
   "outputs": [
    {
     "data": {
      "text/plain": [
       "<module 'PerceiveImport.classes.RecModality_class' from 'c:\\\\Users\\\\jebe12\\\\Research\\\\PyPerceive_Project\\\\Code\\\\PyPerceive\\\\code\\\\PerceiveImport\\\\classes\\\\RecModality_class.py'>"
      ]
     },
     "execution_count": 163,
     "metadata": {},
     "output_type": "execute_result"
    }
   ],
   "source": [
    "import PerceiveImport.classes.RecModality_class as recMod\n",
    "importlib.reload(recMod)\n"
   ]
  },
  {
   "cell_type": "code",
   "execution_count": 17,
   "metadata": {},
   "outputs": [],
   "source": [
    "subjects = [\n",
    "    sub021,\n",
    "    sub021,\n",
    "]"
   ]
  },
  {
   "cell_type": "code",
   "execution_count": 77,
   "metadata": {},
   "outputs": [
    {
     "ename": "SyntaxError",
     "evalue": "incomplete input (1682459076.py, line 3)",
     "output_type": "error",
     "traceback": [
      "\u001b[1;36m  Input \u001b[1;32mIn [77]\u001b[1;36m\u001b[0m\n\u001b[1;33m    #print(sub.Streaming.files)\u001b[0m\n\u001b[1;37m                               ^\u001b[0m\n\u001b[1;31mSyntaxError\u001b[0m\u001b[1;31m:\u001b[0m incomplete input\n"
     ]
    }
   ],
   "source": [
    "for sub in subjects:\n",
    "\n",
    "    print(sub.Streaming.files)"
   ]
  },
  {
   "cell_type": "code",
   "execution_count": 12,
   "metadata": {},
   "outputs": [],
   "source": [
    "# dir() should return a list of all the members in the object PerceiveData\n",
    "# dir(MainClass.PerceiveData)"
   ]
  },
  {
   "cell_type": "code",
   "execution_count": null,
   "metadata": {},
   "outputs": [],
   "source": [
    "# find matfilenames in directory\n",
    "# create list of paths to matfilenames"
   ]
  },
  {
   "cell_type": "markdown",
   "metadata": {},
   "source": [
    "### PerceiveMetadata Class: load the PerceiveMetadata.xlsx file and select the files of your choice"
   ]
  },
  {
   "cell_type": "code",
   "execution_count": 9,
   "metadata": {},
   "outputs": [
    {
     "data": {
      "text/plain": [
       "'c:\\\\Users\\\\jebe12\\\\Research\\\\PyPerceive_Project\\\\Data'"
      ]
     },
     "execution_count": 9,
     "metadata": {},
     "output_type": "execute_result"
    }
   ],
   "source": [
    "# pip install openpyxl\n",
    "# pip install xlrd\n",
    "# in environment pyPerceive_dev\n",
    "\n",
    "# import openpyxl\n",
    "# from openpyxl import Workbook, load_workbook\n",
    "# import xlrd\n",
    "\n",
    "# make sure you´re in the right directory to find the existing xlsx file\n",
    "\n",
    "os.chdir('c:\\\\Users\\\\jebe12\\\\Research\\\\PyPerceive_Project\\Data')\n",
    "os.getcwd()\n"
   ]
  },
  {
   "cell_type": "code",
   "execution_count": 110,
   "metadata": {},
   "outputs": [
    {
     "data": {
      "text/plain": [
       "<module 'PerceiveImport.classes.PerceiveMetadataClass' from 'c:\\\\Users\\\\jebe12\\\\Research\\\\PyPerceive_Project\\\\Code\\\\PyPerceive\\\\code\\\\PerceiveImport\\\\classes\\\\PerceiveMetadataClass.py'>"
      ]
     },
     "execution_count": 110,
     "metadata": {},
     "output_type": "execute_result"
    }
   ],
   "source": [
    "project_path,_= find_folder.find_project_folder()\n",
    "\n",
    "os.chdir(os.path.join(project_path, 'Code\\\\PyPerceive\\\\code'))\n",
    "os.getcwd()\n",
    "\n",
    "import PerceiveImport.classes.PerceiveMetadataClass as metadata\n",
    "importlib.reload(metadata)"
   ]
  },
  {
   "cell_type": "code",
   "execution_count": 111,
   "metadata": {},
   "outputs": [
    {
     "ename": "KeyError",
     "evalue": "'timing'",
     "output_type": "error",
     "traceback": [
      "\u001b[1;31m---------------------------------------------------------------------------\u001b[0m",
      "\u001b[1;31mKeyError\u001b[0m                                  Traceback (most recent call last)",
      "File \u001b[1;32mc:\\Users\\jebe12\\anaconda3\\envs\\pyPerceive_dev\\lib\\site-packages\\pandas\\core\\indexes\\base.py:3629\u001b[0m, in \u001b[0;36mIndex.get_loc\u001b[1;34m(self, key, method, tolerance)\u001b[0m\n\u001b[0;32m   3628\u001b[0m \u001b[39mtry\u001b[39;00m:\n\u001b[1;32m-> 3629\u001b[0m     \u001b[39mreturn\u001b[39;00m \u001b[39mself\u001b[39;49m\u001b[39m.\u001b[39;49m_engine\u001b[39m.\u001b[39;49mget_loc(casted_key)\n\u001b[0;32m   3630\u001b[0m \u001b[39mexcept\u001b[39;00m \u001b[39mKeyError\u001b[39;00m \u001b[39mas\u001b[39;00m err:\n",
      "File \u001b[1;32mc:\\Users\\jebe12\\anaconda3\\envs\\pyPerceive_dev\\lib\\site-packages\\pandas\\_libs\\index.pyx:136\u001b[0m, in \u001b[0;36mpandas._libs.index.IndexEngine.get_loc\u001b[1;34m()\u001b[0m\n",
      "File \u001b[1;32mc:\\Users\\jebe12\\anaconda3\\envs\\pyPerceive_dev\\lib\\site-packages\\pandas\\_libs\\index.pyx:163\u001b[0m, in \u001b[0;36mpandas._libs.index.IndexEngine.get_loc\u001b[1;34m()\u001b[0m\n",
      "File \u001b[1;32mpandas\\_libs\\hashtable_class_helper.pxi:5198\u001b[0m, in \u001b[0;36mpandas._libs.hashtable.PyObjectHashTable.get_item\u001b[1;34m()\u001b[0m\n",
      "File \u001b[1;32mpandas\\_libs\\hashtable_class_helper.pxi:5206\u001b[0m, in \u001b[0;36mpandas._libs.hashtable.PyObjectHashTable.get_item\u001b[1;34m()\u001b[0m\n",
      "\u001b[1;31mKeyError\u001b[0m: 'timing'",
      "\nThe above exception was the direct cause of the following exception:\n",
      "\u001b[1;31mKeyError\u001b[0m                                  Traceback (most recent call last)",
      "\u001b[1;32mc:\\Users\\jebe12\\Research\\PyPerceive_Project\\Code\\PyPerceive\\code\\notebooks\\percept_playground.ipynb Cell 22\u001b[0m in \u001b[0;36m<cell line: 1>\u001b[1;34m()\u001b[0m\n\u001b[1;32m----> <a href='vscode-notebook-cell:/c%3A/Users/jebe12/Research/PyPerceive_Project/Code/PyPerceive/code/notebooks/percept_playground.ipynb#X30sZmlsZQ%3D%3D?line=0'>1</a>\u001b[0m mysubject \u001b[39m=\u001b[39m metadata\u001b[39m.\u001b[39;49mPerceiveMetadata(\u001b[39m\"\u001b[39;49m\u001b[39msub-021\u001b[39;49m\u001b[39m\"\u001b[39;49m, \u001b[39m\"\u001b[39;49m\u001b[39mSurvey\u001b[39;49m\u001b[39m\"\u001b[39;49m, \u001b[39m\"\u001b[39;49m\u001b[39m3MFU\u001b[39;49m\u001b[39m\"\u001b[39;49m, \u001b[39m\"\u001b[39;49m\u001b[39mM0\u001b[39;49m\u001b[39m\"\u001b[39;49m, \u001b[39m\"\u001b[39;49m\u001b[39mRest\u001b[39;49m\u001b[39m\"\u001b[39;49m)\n\u001b[0;32m      <a href='vscode-notebook-cell:/c%3A/Users/jebe12/Research/PyPerceive_Project/Code/PyPerceive/code/notebooks/percept_playground.ipynb#X30sZmlsZQ%3D%3D?line=1'>2</a>\u001b[0m mysubject\n",
      "File \u001b[1;32m<string>:8\u001b[0m, in \u001b[0;36m__init__\u001b[1;34m(self, sub, rec_modality, timing, condition, task)\u001b[0m\n",
      "File \u001b[1;32mc:\\Users\\jebe12\\Research\\PyPerceive_Project\\Code\\PyPerceive\\code\\PerceiveImport\\classes\\PerceiveMetadataClass.py:50\u001b[0m, in \u001b[0;36mPerceiveMetadata.__post_init__\u001b[1;34m(self)\u001b[0m\n\u001b[0;32m     48\u001b[0m cond_sub \u001b[39m=\u001b[39m PerceiveMetadata_df[\u001b[39m\"\u001b[39m\u001b[39msub\u001b[39m\u001b[39m\"\u001b[39m] \u001b[39m==\u001b[39m \u001b[39mstr\u001b[39m(\u001b[39mself\u001b[39m\u001b[39m.\u001b[39msub)\n\u001b[0;32m     49\u001b[0m cond_rec_modality \u001b[39m=\u001b[39m PerceiveMetadata_df[\u001b[39m\"\u001b[39m\u001b[39mrec_modality\u001b[39m\u001b[39m\"\u001b[39m] \u001b[39m==\u001b[39m \u001b[39mstr\u001b[39m(\u001b[39mself\u001b[39m\u001b[39m.\u001b[39mrec_modality)\n\u001b[1;32m---> 50\u001b[0m cond_timing \u001b[39m=\u001b[39m PerceiveMetadata_df[\u001b[39m\"\u001b[39;49m\u001b[39mtiming\u001b[39;49m\u001b[39m\"\u001b[39;49m] \u001b[39m==\u001b[39m \u001b[39mstr\u001b[39m(\u001b[39mself\u001b[39m\u001b[39m.\u001b[39mtiming)\n\u001b[0;32m     51\u001b[0m cond_condition \u001b[39m=\u001b[39m PerceiveMetadata_df[\u001b[39m\"\u001b[39m\u001b[39mcondition\u001b[39m\u001b[39m\"\u001b[39m] \u001b[39m==\u001b[39m \u001b[39mstr\u001b[39m(\u001b[39mself\u001b[39m\u001b[39m.\u001b[39mcondition)\n\u001b[0;32m     52\u001b[0m cond_task \u001b[39m=\u001b[39m PerceiveMetadata_df[\u001b[39m\"\u001b[39m\u001b[39mtask\u001b[39m\u001b[39m\"\u001b[39m] \u001b[39m==\u001b[39m \u001b[39mstr\u001b[39m(\u001b[39mself\u001b[39m\u001b[39m.\u001b[39mtask)\n",
      "File \u001b[1;32mc:\\Users\\jebe12\\anaconda3\\envs\\pyPerceive_dev\\lib\\site-packages\\pandas\\core\\frame.py:3505\u001b[0m, in \u001b[0;36mDataFrame.__getitem__\u001b[1;34m(self, key)\u001b[0m\n\u001b[0;32m   3503\u001b[0m \u001b[39mif\u001b[39;00m \u001b[39mself\u001b[39m\u001b[39m.\u001b[39mcolumns\u001b[39m.\u001b[39mnlevels \u001b[39m>\u001b[39m \u001b[39m1\u001b[39m:\n\u001b[0;32m   3504\u001b[0m     \u001b[39mreturn\u001b[39;00m \u001b[39mself\u001b[39m\u001b[39m.\u001b[39m_getitem_multilevel(key)\n\u001b[1;32m-> 3505\u001b[0m indexer \u001b[39m=\u001b[39m \u001b[39mself\u001b[39;49m\u001b[39m.\u001b[39;49mcolumns\u001b[39m.\u001b[39;49mget_loc(key)\n\u001b[0;32m   3506\u001b[0m \u001b[39mif\u001b[39;00m is_integer(indexer):\n\u001b[0;32m   3507\u001b[0m     indexer \u001b[39m=\u001b[39m [indexer]\n",
      "File \u001b[1;32mc:\\Users\\jebe12\\anaconda3\\envs\\pyPerceive_dev\\lib\\site-packages\\pandas\\core\\indexes\\base.py:3631\u001b[0m, in \u001b[0;36mIndex.get_loc\u001b[1;34m(self, key, method, tolerance)\u001b[0m\n\u001b[0;32m   3629\u001b[0m     \u001b[39mreturn\u001b[39;00m \u001b[39mself\u001b[39m\u001b[39m.\u001b[39m_engine\u001b[39m.\u001b[39mget_loc(casted_key)\n\u001b[0;32m   3630\u001b[0m \u001b[39mexcept\u001b[39;00m \u001b[39mKeyError\u001b[39;00m \u001b[39mas\u001b[39;00m err:\n\u001b[1;32m-> 3631\u001b[0m     \u001b[39mraise\u001b[39;00m \u001b[39mKeyError\u001b[39;00m(key) \u001b[39mfrom\u001b[39;00m \u001b[39merr\u001b[39;00m\n\u001b[0;32m   3632\u001b[0m \u001b[39mexcept\u001b[39;00m \u001b[39mTypeError\u001b[39;00m:\n\u001b[0;32m   3633\u001b[0m     \u001b[39m# If we have a listlike key, _check_indexing_error will raise\u001b[39;00m\n\u001b[0;32m   3634\u001b[0m     \u001b[39m#  InvalidIndexError. Otherwise we fall through and re-raise\u001b[39;00m\n\u001b[0;32m   3635\u001b[0m     \u001b[39m#  the TypeError.\u001b[39;00m\n\u001b[0;32m   3636\u001b[0m     \u001b[39mself\u001b[39m\u001b[39m.\u001b[39m_check_indexing_error(key)\n",
      "\u001b[1;31mKeyError\u001b[0m: 'timing'"
     ]
    }
   ],
   "source": [
    "mysubject = metadata.PerceiveMetadata(\"sub-021\", \"Survey\", \"3MFU\", \"M0\", \"Rest\")\n",
    "mysubject"
   ]
  },
  {
   "cell_type": "code",
   "execution_count": 128,
   "metadata": {},
   "outputs": [
    {
     "data": {
      "text/html": [
       "<div>\n",
       "<style scoped>\n",
       "    .dataframe tbody tr th:only-of-type {\n",
       "        vertical-align: middle;\n",
       "    }\n",
       "\n",
       "    .dataframe tbody tr th {\n",
       "        vertical-align: top;\n",
       "    }\n",
       "\n",
       "    .dataframe thead th {\n",
       "        text-align: right;\n",
       "    }\n",
       "</style>\n",
       "<table border=\"1\" class=\"dataframe\">\n",
       "  <thead>\n",
       "    <tr style=\"text-align: right;\">\n",
       "      <th></th>\n",
       "      <th>Perceive_filename</th>\n",
       "      <th>sub</th>\n",
       "      <th>rec_modality</th>\n",
       "      <th>timing</th>\n",
       "      <th>condition</th>\n",
       "      <th>task</th>\n",
       "    </tr>\n",
       "  </thead>\n",
       "  <tbody>\n",
       "    <tr>\n",
       "      <th>0</th>\n",
       "      <td>sub-20210511PStn_ses-2022052507405881_run-Brai...</td>\n",
       "      <td>sub-021</td>\n",
       "      <td>Streaming</td>\n",
       "      <td>12MFU</td>\n",
       "      <td>NaN</td>\n",
       "      <td>NaN</td>\n",
       "    </tr>\n",
       "    <tr>\n",
       "      <th>1</th>\n",
       "      <td>sub-20210511PStn_ses-2022052507405881_run-Brai...</td>\n",
       "      <td>sub-021</td>\n",
       "      <td>Streaming</td>\n",
       "      <td>12MFU</td>\n",
       "      <td>NaN</td>\n",
       "      <td>NaN</td>\n",
       "    </tr>\n",
       "    <tr>\n",
       "      <th>2</th>\n",
       "      <td>sub-20210511PStn_ses-2022052507405881_run-Brai...</td>\n",
       "      <td>sub-021</td>\n",
       "      <td>Streaming</td>\n",
       "      <td>12MFU</td>\n",
       "      <td>NaN</td>\n",
       "      <td>NaN</td>\n",
       "    </tr>\n",
       "    <tr>\n",
       "      <th>3</th>\n",
       "      <td>sub-20210511PStn_ses-2022052507405881_run-Brai...</td>\n",
       "      <td>sub-021</td>\n",
       "      <td>Streaming</td>\n",
       "      <td>12MFU</td>\n",
       "      <td>NaN</td>\n",
       "      <td>NaN</td>\n",
       "    </tr>\n",
       "    <tr>\n",
       "      <th>4</th>\n",
       "      <td>sub-20210511PStn_ses-2022052507405881_run-Brai...</td>\n",
       "      <td>sub-021</td>\n",
       "      <td>Streaming</td>\n",
       "      <td>12MFU</td>\n",
       "      <td>NaN</td>\n",
       "      <td>NaN</td>\n",
       "    </tr>\n",
       "    <tr>\n",
       "      <th>5</th>\n",
       "      <td>sub-20210511PStn_ses-2022052507405881_run-Brai...</td>\n",
       "      <td>sub-021</td>\n",
       "      <td>Streaming</td>\n",
       "      <td>12MFU</td>\n",
       "      <td>NaN</td>\n",
       "      <td>NaN</td>\n",
       "    </tr>\n",
       "    <tr>\n",
       "      <th>6</th>\n",
       "      <td>sub-20210511PStn_ses-2022052507405881_run-Brai...</td>\n",
       "      <td>sub-021</td>\n",
       "      <td>Streaming</td>\n",
       "      <td>12MFU</td>\n",
       "      <td>NaN</td>\n",
       "      <td>NaN</td>\n",
       "    </tr>\n",
       "    <tr>\n",
       "      <th>7</th>\n",
       "      <td>sub-20210511PStn_ses-2022052507405881_run-Brai...</td>\n",
       "      <td>sub-021</td>\n",
       "      <td>Streaming</td>\n",
       "      <td>12MFU</td>\n",
       "      <td>NaN</td>\n",
       "      <td>NaN</td>\n",
       "    </tr>\n",
       "    <tr>\n",
       "      <th>8</th>\n",
       "      <td>sub-20210511PStn_ses-2022052507405881_run-Brai...</td>\n",
       "      <td>sub-021</td>\n",
       "      <td>Streaming</td>\n",
       "      <td>12MFU</td>\n",
       "      <td>NaN</td>\n",
       "      <td>NaN</td>\n",
       "    </tr>\n",
       "    <tr>\n",
       "      <th>9</th>\n",
       "      <td>sub-20210511PStn_ses-2022052507405881_run-Brai...</td>\n",
       "      <td>sub-021</td>\n",
       "      <td>Streaming</td>\n",
       "      <td>12MFU</td>\n",
       "      <td>NaN</td>\n",
       "      <td>NaN</td>\n",
       "    </tr>\n",
       "    <tr>\n",
       "      <th>10</th>\n",
       "      <td>sub-20210511PStn_ses-2022052507405881_run-Brai...</td>\n",
       "      <td>sub-021</td>\n",
       "      <td>Streaming</td>\n",
       "      <td>12MFU</td>\n",
       "      <td>NaN</td>\n",
       "      <td>NaN</td>\n",
       "    </tr>\n",
       "    <tr>\n",
       "      <th>11</th>\n",
       "      <td>sub-20210511PStn_ses-2022052507405881_run-Brai...</td>\n",
       "      <td>sub-021</td>\n",
       "      <td>Streaming</td>\n",
       "      <td>12MFU</td>\n",
       "      <td>NaN</td>\n",
       "      <td>NaN</td>\n",
       "    </tr>\n",
       "    <tr>\n",
       "      <th>12</th>\n",
       "      <td>sub-20210511PStn_ses-2022052507405881_run-Brai...</td>\n",
       "      <td>sub-021</td>\n",
       "      <td>Streaming</td>\n",
       "      <td>12MFU</td>\n",
       "      <td>NaN</td>\n",
       "      <td>NaN</td>\n",
       "    </tr>\n",
       "    <tr>\n",
       "      <th>13</th>\n",
       "      <td>sub-20210511PStn_ses-2022052507405881_run-Brai...</td>\n",
       "      <td>sub-021</td>\n",
       "      <td>Streaming</td>\n",
       "      <td>12MFU</td>\n",
       "      <td>NaN</td>\n",
       "      <td>NaN</td>\n",
       "    </tr>\n",
       "    <tr>\n",
       "      <th>14</th>\n",
       "      <td>sub-20210511PStn_ses-2022052507405881_run-Brai...</td>\n",
       "      <td>sub-021</td>\n",
       "      <td>Streaming</td>\n",
       "      <td>12MFU</td>\n",
       "      <td>NaN</td>\n",
       "      <td>NaN</td>\n",
       "    </tr>\n",
       "    <tr>\n",
       "      <th>15</th>\n",
       "      <td>sub-20210511PStn_ses-2022052507405881_run-Brai...</td>\n",
       "      <td>sub-021</td>\n",
       "      <td>Streaming</td>\n",
       "      <td>12MFU</td>\n",
       "      <td>NaN</td>\n",
       "      <td>NaN</td>\n",
       "    </tr>\n",
       "    <tr>\n",
       "      <th>16</th>\n",
       "      <td>sub-20210511PStn_ses-2022052507405881_run-Brai...</td>\n",
       "      <td>sub-021</td>\n",
       "      <td>Streaming</td>\n",
       "      <td>12MFU</td>\n",
       "      <td>NaN</td>\n",
       "      <td>NaN</td>\n",
       "    </tr>\n",
       "    <tr>\n",
       "      <th>17</th>\n",
       "      <td>sub-20210511PStn_ses-2022052507405881_run-Brai...</td>\n",
       "      <td>sub-021</td>\n",
       "      <td>Streaming</td>\n",
       "      <td>12MFU</td>\n",
       "      <td>NaN</td>\n",
       "      <td>NaN</td>\n",
       "    </tr>\n",
       "    <tr>\n",
       "      <th>18</th>\n",
       "      <td>sub-20210511PStn_ses-2022052507405881_run-Brai...</td>\n",
       "      <td>sub-021</td>\n",
       "      <td>Streaming</td>\n",
       "      <td>12MFU</td>\n",
       "      <td>NaN</td>\n",
       "      <td>NaN</td>\n",
       "    </tr>\n",
       "    <tr>\n",
       "      <th>19</th>\n",
       "      <td>sub021_ses-2021080602000195_run-BrainSense2021...</td>\n",
       "      <td>sub-021</td>\n",
       "      <td>Streaming</td>\n",
       "      <td>3MFU</td>\n",
       "      <td>M0StimUp</td>\n",
       "      <td>DirectionalStimulation</td>\n",
       "    </tr>\n",
       "    <tr>\n",
       "      <th>20</th>\n",
       "      <td>sub021_ses-2021080602000195_run-BrainSense2021...</td>\n",
       "      <td>sub-021</td>\n",
       "      <td>Streaming</td>\n",
       "      <td>3MFU</td>\n",
       "      <td>M0StimUp</td>\n",
       "      <td>DirectionalStimulation</td>\n",
       "    </tr>\n",
       "    <tr>\n",
       "      <th>21</th>\n",
       "      <td>sub021_ses-2021080602000195_run-BrainSense2021...</td>\n",
       "      <td>sub-021</td>\n",
       "      <td>Streaming</td>\n",
       "      <td>3MFU</td>\n",
       "      <td>M0StimUp</td>\n",
       "      <td>DirectionalStimulation</td>\n",
       "    </tr>\n",
       "    <tr>\n",
       "      <th>22</th>\n",
       "      <td>sub021_ses-2021080602361095_run-BrainSense2021...</td>\n",
       "      <td>sub-021</td>\n",
       "      <td>Streaming</td>\n",
       "      <td>3MFU</td>\n",
       "      <td>M0</td>\n",
       "      <td>DirectionalStimulation</td>\n",
       "    </tr>\n",
       "    <tr>\n",
       "      <th>23</th>\n",
       "      <td>sub021_ses-2021080602361095_run-BrainSense2021...</td>\n",
       "      <td>sub-021</td>\n",
       "      <td>Streaming</td>\n",
       "      <td>3MFU</td>\n",
       "      <td>M0</td>\n",
       "      <td>DirectionalStimulation</td>\n",
       "    </tr>\n",
       "    <tr>\n",
       "      <th>24</th>\n",
       "      <td>sub021_ses-2021080602361095_run-BrainSense2021...</td>\n",
       "      <td>sub-021</td>\n",
       "      <td>Streaming</td>\n",
       "      <td>3MFU</td>\n",
       "      <td>M0</td>\n",
       "      <td>RingStimulation</td>\n",
       "    </tr>\n",
       "    <tr>\n",
       "      <th>25</th>\n",
       "      <td>sub021_ses-2021080602361095_run-BrainSense2021...</td>\n",
       "      <td>sub-021</td>\n",
       "      <td>Streaming</td>\n",
       "      <td>3MFU</td>\n",
       "      <td>M0</td>\n",
       "      <td>FatigueTest</td>\n",
       "    </tr>\n",
       "    <tr>\n",
       "      <th>26</th>\n",
       "      <td>sub021_ses-2021080607015296_run-BrainSense2021...</td>\n",
       "      <td>sub-021</td>\n",
       "      <td>Streaming</td>\n",
       "      <td>3MFU</td>\n",
       "      <td>M0</td>\n",
       "      <td>DirectionalStimulation</td>\n",
       "    </tr>\n",
       "    <tr>\n",
       "      <th>27</th>\n",
       "      <td>sub021_ses-2021080607015296_run-BrainSense2021...</td>\n",
       "      <td>sub-021</td>\n",
       "      <td>Streaming</td>\n",
       "      <td>3MFU</td>\n",
       "      <td>M0</td>\n",
       "      <td>DirectionalStimulation</td>\n",
       "    </tr>\n",
       "    <tr>\n",
       "      <th>28</th>\n",
       "      <td>sub021_ses-2021080607015296_run-BrainSense2021...</td>\n",
       "      <td>sub-021</td>\n",
       "      <td>Streaming</td>\n",
       "      <td>3MFU</td>\n",
       "      <td>M0</td>\n",
       "      <td>DirectionalStimulation</td>\n",
       "    </tr>\n",
       "    <tr>\n",
       "      <th>29</th>\n",
       "      <td>sub021_ses-2021080607015296_run-BrainSense2021...</td>\n",
       "      <td>sub-021</td>\n",
       "      <td>Streaming</td>\n",
       "      <td>3MFU</td>\n",
       "      <td>M0</td>\n",
       "      <td>RingStimulation</td>\n",
       "    </tr>\n",
       "    <tr>\n",
       "      <th>30</th>\n",
       "      <td>sub021_ses-2021080607015296_run-BrainSense2021...</td>\n",
       "      <td>sub-021</td>\n",
       "      <td>Streaming</td>\n",
       "      <td>3MFU</td>\n",
       "      <td>M0</td>\n",
       "      <td>FatigueTest</td>\n",
       "    </tr>\n",
       "    <tr>\n",
       "      <th>31</th>\n",
       "      <td>sub021_ses-2021080608385396_run-BrainSense2021...</td>\n",
       "      <td>sub-021</td>\n",
       "      <td>Streaming</td>\n",
       "      <td>3MFU</td>\n",
       "      <td>M0</td>\n",
       "      <td>DirectionalStimulation</td>\n",
       "    </tr>\n",
       "    <tr>\n",
       "      <th>32</th>\n",
       "      <td>sub021_ses-2021080608385396_run-BrainSense2021...</td>\n",
       "      <td>sub-021</td>\n",
       "      <td>Streaming</td>\n",
       "      <td>3MFU</td>\n",
       "      <td>M0</td>\n",
       "      <td>DirectionalStimulation</td>\n",
       "    </tr>\n",
       "    <tr>\n",
       "      <th>33</th>\n",
       "      <td>sub021_ses-2021080608385396_run-BrainSense2021...</td>\n",
       "      <td>sub-021</td>\n",
       "      <td>Streaming</td>\n",
       "      <td>3MFU</td>\n",
       "      <td>M0</td>\n",
       "      <td>DirectionalStimulation</td>\n",
       "    </tr>\n",
       "    <tr>\n",
       "      <th>34</th>\n",
       "      <td>sub021_ses-2021080608385396_run-BrainSense2021...</td>\n",
       "      <td>sub-021</td>\n",
       "      <td>Streaming</td>\n",
       "      <td>3MFU</td>\n",
       "      <td>M0</td>\n",
       "      <td>RingStimulation</td>\n",
       "    </tr>\n",
       "    <tr>\n",
       "      <th>35</th>\n",
       "      <td>sub021_ses-2021080608385396_run-BrainSense2021...</td>\n",
       "      <td>sub-021</td>\n",
       "      <td>Streaming</td>\n",
       "      <td>3MFU</td>\n",
       "      <td>M0</td>\n",
       "      <td>FatigueTest</td>\n",
       "    </tr>\n",
       "    <tr>\n",
       "      <th>36</th>\n",
       "      <td>sub021_ses-2021080612274895_run-BrainSense2021...</td>\n",
       "      <td>sub-021</td>\n",
       "      <td>Streaming</td>\n",
       "      <td>3MFU</td>\n",
       "      <td>M0</td>\n",
       "      <td>DirectionalStimulation</td>\n",
       "    </tr>\n",
       "    <tr>\n",
       "      <th>37</th>\n",
       "      <td>sub021_ses-2021080612274895_run-BrainSense2021...</td>\n",
       "      <td>sub-021</td>\n",
       "      <td>Streaming</td>\n",
       "      <td>3MFU</td>\n",
       "      <td>M0</td>\n",
       "      <td>DirectionalStimulation</td>\n",
       "    </tr>\n",
       "    <tr>\n",
       "      <th>38</th>\n",
       "      <td>sub021_ses-2021080612274895_run-BrainSense2021...</td>\n",
       "      <td>sub-021</td>\n",
       "      <td>Streaming</td>\n",
       "      <td>3MFU</td>\n",
       "      <td>M0</td>\n",
       "      <td>DirectionalStimulation</td>\n",
       "    </tr>\n",
       "    <tr>\n",
       "      <th>39</th>\n",
       "      <td>sub021_ses-2021080612274895_run-BrainSense2021...</td>\n",
       "      <td>sub-021</td>\n",
       "      <td>Streaming</td>\n",
       "      <td>3MFU</td>\n",
       "      <td>M0</td>\n",
       "      <td>DirectionalStimulation</td>\n",
       "    </tr>\n",
       "    <tr>\n",
       "      <th>40</th>\n",
       "      <td>sub021_ses-2021080612274895_run-BrainSense2021...</td>\n",
       "      <td>sub-021</td>\n",
       "      <td>Streaming</td>\n",
       "      <td>3MFU</td>\n",
       "      <td>M0</td>\n",
       "      <td>RingStimulation</td>\n",
       "    </tr>\n",
       "    <tr>\n",
       "      <th>41</th>\n",
       "      <td>sub021_ses-2021080612274895_run-BrainSense2021...</td>\n",
       "      <td>sub-021</td>\n",
       "      <td>Streaming</td>\n",
       "      <td>3MFU</td>\n",
       "      <td>M0</td>\n",
       "      <td>FatigueTest</td>\n",
       "    </tr>\n",
       "    <tr>\n",
       "      <th>42</th>\n",
       "      <td>sub021_ses-2021080607015296_run-LMTD2021080607...</td>\n",
       "      <td>sub-021</td>\n",
       "      <td>Survey</td>\n",
       "      <td>3MFU</td>\n",
       "      <td>M0</td>\n",
       "      <td>Rest</td>\n",
       "    </tr>\n",
       "    <tr>\n",
       "      <th>43</th>\n",
       "      <td>sub021_ses-2021080607015296_run-LMTD2021080607...</td>\n",
       "      <td>sub-021</td>\n",
       "      <td>Survey</td>\n",
       "      <td>3MFU</td>\n",
       "      <td>M0</td>\n",
       "      <td>Rest</td>\n",
       "    </tr>\n",
       "    <tr>\n",
       "      <th>44</th>\n",
       "      <td>sub021_ses-2021080607015296_run-LMTD2021080607...</td>\n",
       "      <td>sub-021</td>\n",
       "      <td>Survey</td>\n",
       "      <td>3MFU</td>\n",
       "      <td>M0</td>\n",
       "      <td>Rest</td>\n",
       "    </tr>\n",
       "    <tr>\n",
       "      <th>45</th>\n",
       "      <td>sub021_ses-2021080607015296_run-LMTD2021080607...</td>\n",
       "      <td>sub-021</td>\n",
       "      <td>Survey</td>\n",
       "      <td>3MFU</td>\n",
       "      <td>M0</td>\n",
       "      <td>Rest</td>\n",
       "    </tr>\n",
       "    <tr>\n",
       "      <th>46</th>\n",
       "      <td>sub021_ses-2021080607015296_run-LMTD2021080607...</td>\n",
       "      <td>sub-021</td>\n",
       "      <td>Survey</td>\n",
       "      <td>3MFU</td>\n",
       "      <td>M0</td>\n",
       "      <td>Rest</td>\n",
       "    </tr>\n",
       "    <tr>\n",
       "      <th>47</th>\n",
       "      <td>sub021_ses-2021080607015296_run-LMTD2021080607...</td>\n",
       "      <td>sub-021</td>\n",
       "      <td>Survey</td>\n",
       "      <td>3MFU</td>\n",
       "      <td>M0</td>\n",
       "      <td>Rest</td>\n",
       "    </tr>\n",
       "    <tr>\n",
       "      <th>48</th>\n",
       "      <td>sub021_ses-2021051210410399_run-LMTD2021051210...</td>\n",
       "      <td>sub-021</td>\n",
       "      <td>Survey</td>\n",
       "      <td>Postop</td>\n",
       "      <td>M1</td>\n",
       "      <td>RestBSSuRingL</td>\n",
       "    </tr>\n",
       "    <tr>\n",
       "      <th>49</th>\n",
       "      <td>sub021_ses-2021051210410399_run-LMTD2021051210...</td>\n",
       "      <td>sub-021</td>\n",
       "      <td>Survey</td>\n",
       "      <td>Postop</td>\n",
       "      <td>M1</td>\n",
       "      <td>RestBSSuSegmIntraL</td>\n",
       "    </tr>\n",
       "    <tr>\n",
       "      <th>50</th>\n",
       "      <td>sub021_ses-2021051210410399_run-LMTD2021051210...</td>\n",
       "      <td>sub-021</td>\n",
       "      <td>Survey</td>\n",
       "      <td>Postop</td>\n",
       "      <td>M1</td>\n",
       "      <td>RestBSSuSegmInterL</td>\n",
       "    </tr>\n",
       "    <tr>\n",
       "      <th>51</th>\n",
       "      <td>sub021_ses-2021051210410399_run-LMTD2021051210...</td>\n",
       "      <td>sub-021</td>\n",
       "      <td>Survey</td>\n",
       "      <td>Postop</td>\n",
       "      <td>M1</td>\n",
       "      <td>RestBSSuRingR</td>\n",
       "    </tr>\n",
       "    <tr>\n",
       "      <th>52</th>\n",
       "      <td>sub021_ses-2021051210410399_run-LMTD2021051210...</td>\n",
       "      <td>sub-021</td>\n",
       "      <td>Survey</td>\n",
       "      <td>Postop</td>\n",
       "      <td>M1</td>\n",
       "      <td>RestBSSuSegmIntraR</td>\n",
       "    </tr>\n",
       "    <tr>\n",
       "      <th>53</th>\n",
       "      <td>sub021_ses-2021051210410399_run-LMTD2021051210...</td>\n",
       "      <td>sub-021</td>\n",
       "      <td>Survey</td>\n",
       "      <td>Postop</td>\n",
       "      <td>M1</td>\n",
       "      <td>RestBSSuSegmInterR</td>\n",
       "    </tr>\n",
       "    <tr>\n",
       "      <th>54</th>\n",
       "      <td>sub021_ses-2021080607015296_run-CHRONIC2021080...</td>\n",
       "      <td>sub-021</td>\n",
       "      <td>Timeline</td>\n",
       "      <td>3MFU</td>\n",
       "      <td>NaN</td>\n",
       "      <td>NaN</td>\n",
       "    </tr>\n",
       "    <tr>\n",
       "      <th>55</th>\n",
       "      <td>sub021_ses-2021080608385396_run-CHRONIC2021080...</td>\n",
       "      <td>sub-021</td>\n",
       "      <td>Timeline</td>\n",
       "      <td>3MFU</td>\n",
       "      <td>NaN</td>\n",
       "      <td>NaN</td>\n",
       "    </tr>\n",
       "    <tr>\n",
       "      <th>56</th>\n",
       "      <td>sub021_ses-2021080612274895_run-CHRONIC2021080...</td>\n",
       "      <td>sub-021</td>\n",
       "      <td>Timeline</td>\n",
       "      <td>3MFU</td>\n",
       "      <td>NaN</td>\n",
       "      <td>NaN</td>\n",
       "    </tr>\n",
       "  </tbody>\n",
       "</table>\n",
       "</div>"
      ],
      "text/plain": [
       "                                   Perceive_filename       sub rec_modality  \\\n",
       "0   sub-20210511PStn_ses-2022052507405881_run-Brai...  sub-021    Streaming   \n",
       "1   sub-20210511PStn_ses-2022052507405881_run-Brai...  sub-021    Streaming   \n",
       "2   sub-20210511PStn_ses-2022052507405881_run-Brai...  sub-021    Streaming   \n",
       "3   sub-20210511PStn_ses-2022052507405881_run-Brai...  sub-021    Streaming   \n",
       "4   sub-20210511PStn_ses-2022052507405881_run-Brai...  sub-021    Streaming   \n",
       "5   sub-20210511PStn_ses-2022052507405881_run-Brai...  sub-021    Streaming   \n",
       "6   sub-20210511PStn_ses-2022052507405881_run-Brai...  sub-021    Streaming   \n",
       "7   sub-20210511PStn_ses-2022052507405881_run-Brai...  sub-021    Streaming   \n",
       "8   sub-20210511PStn_ses-2022052507405881_run-Brai...  sub-021    Streaming   \n",
       "9   sub-20210511PStn_ses-2022052507405881_run-Brai...  sub-021    Streaming   \n",
       "10  sub-20210511PStn_ses-2022052507405881_run-Brai...  sub-021    Streaming   \n",
       "11  sub-20210511PStn_ses-2022052507405881_run-Brai...  sub-021    Streaming   \n",
       "12  sub-20210511PStn_ses-2022052507405881_run-Brai...  sub-021    Streaming   \n",
       "13  sub-20210511PStn_ses-2022052507405881_run-Brai...  sub-021    Streaming   \n",
       "14  sub-20210511PStn_ses-2022052507405881_run-Brai...  sub-021    Streaming   \n",
       "15  sub-20210511PStn_ses-2022052507405881_run-Brai...  sub-021    Streaming   \n",
       "16  sub-20210511PStn_ses-2022052507405881_run-Brai...  sub-021    Streaming   \n",
       "17  sub-20210511PStn_ses-2022052507405881_run-Brai...  sub-021    Streaming   \n",
       "18  sub-20210511PStn_ses-2022052507405881_run-Brai...  sub-021    Streaming   \n",
       "19  sub021_ses-2021080602000195_run-BrainSense2021...  sub-021    Streaming   \n",
       "20  sub021_ses-2021080602000195_run-BrainSense2021...  sub-021    Streaming   \n",
       "21  sub021_ses-2021080602000195_run-BrainSense2021...  sub-021    Streaming   \n",
       "22  sub021_ses-2021080602361095_run-BrainSense2021...  sub-021    Streaming   \n",
       "23  sub021_ses-2021080602361095_run-BrainSense2021...  sub-021    Streaming   \n",
       "24  sub021_ses-2021080602361095_run-BrainSense2021...  sub-021    Streaming   \n",
       "25  sub021_ses-2021080602361095_run-BrainSense2021...  sub-021    Streaming   \n",
       "26  sub021_ses-2021080607015296_run-BrainSense2021...  sub-021    Streaming   \n",
       "27  sub021_ses-2021080607015296_run-BrainSense2021...  sub-021    Streaming   \n",
       "28  sub021_ses-2021080607015296_run-BrainSense2021...  sub-021    Streaming   \n",
       "29  sub021_ses-2021080607015296_run-BrainSense2021...  sub-021    Streaming   \n",
       "30  sub021_ses-2021080607015296_run-BrainSense2021...  sub-021    Streaming   \n",
       "31  sub021_ses-2021080608385396_run-BrainSense2021...  sub-021    Streaming   \n",
       "32  sub021_ses-2021080608385396_run-BrainSense2021...  sub-021    Streaming   \n",
       "33  sub021_ses-2021080608385396_run-BrainSense2021...  sub-021    Streaming   \n",
       "34  sub021_ses-2021080608385396_run-BrainSense2021...  sub-021    Streaming   \n",
       "35  sub021_ses-2021080608385396_run-BrainSense2021...  sub-021    Streaming   \n",
       "36  sub021_ses-2021080612274895_run-BrainSense2021...  sub-021    Streaming   \n",
       "37  sub021_ses-2021080612274895_run-BrainSense2021...  sub-021    Streaming   \n",
       "38  sub021_ses-2021080612274895_run-BrainSense2021...  sub-021    Streaming   \n",
       "39  sub021_ses-2021080612274895_run-BrainSense2021...  sub-021    Streaming   \n",
       "40  sub021_ses-2021080612274895_run-BrainSense2021...  sub-021    Streaming   \n",
       "41  sub021_ses-2021080612274895_run-BrainSense2021...  sub-021    Streaming   \n",
       "42  sub021_ses-2021080607015296_run-LMTD2021080607...  sub-021       Survey   \n",
       "43  sub021_ses-2021080607015296_run-LMTD2021080607...  sub-021       Survey   \n",
       "44  sub021_ses-2021080607015296_run-LMTD2021080607...  sub-021       Survey   \n",
       "45  sub021_ses-2021080607015296_run-LMTD2021080607...  sub-021       Survey   \n",
       "46  sub021_ses-2021080607015296_run-LMTD2021080607...  sub-021       Survey   \n",
       "47  sub021_ses-2021080607015296_run-LMTD2021080607...  sub-021       Survey   \n",
       "48  sub021_ses-2021051210410399_run-LMTD2021051210...  sub-021       Survey   \n",
       "49  sub021_ses-2021051210410399_run-LMTD2021051210...  sub-021       Survey   \n",
       "50  sub021_ses-2021051210410399_run-LMTD2021051210...  sub-021       Survey   \n",
       "51  sub021_ses-2021051210410399_run-LMTD2021051210...  sub-021       Survey   \n",
       "52  sub021_ses-2021051210410399_run-LMTD2021051210...  sub-021       Survey   \n",
       "53  sub021_ses-2021051210410399_run-LMTD2021051210...  sub-021       Survey   \n",
       "54  sub021_ses-2021080607015296_run-CHRONIC2021080...  sub-021     Timeline   \n",
       "55  sub021_ses-2021080608385396_run-CHRONIC2021080...  sub-021     Timeline   \n",
       "56  sub021_ses-2021080612274895_run-CHRONIC2021080...  sub-021     Timeline   \n",
       "\n",
       "   timing  condition                      task  \n",
       "0    12MFU        NaN                      NaN  \n",
       "1    12MFU        NaN                      NaN  \n",
       "2    12MFU        NaN                      NaN  \n",
       "3    12MFU        NaN                      NaN  \n",
       "4    12MFU        NaN                      NaN  \n",
       "5    12MFU        NaN                      NaN  \n",
       "6    12MFU        NaN                      NaN  \n",
       "7    12MFU        NaN                      NaN  \n",
       "8    12MFU        NaN                      NaN  \n",
       "9    12MFU        NaN                      NaN  \n",
       "10   12MFU        NaN                      NaN  \n",
       "11   12MFU        NaN                      NaN  \n",
       "12   12MFU        NaN                      NaN  \n",
       "13   12MFU        NaN                      NaN  \n",
       "14   12MFU        NaN                      NaN  \n",
       "15   12MFU        NaN                      NaN  \n",
       "16   12MFU        NaN                      NaN  \n",
       "17   12MFU        NaN                      NaN  \n",
       "18   12MFU        NaN                      NaN  \n",
       "19    3MFU   M0StimUp  DirectionalStimulation   \n",
       "20    3MFU   M0StimUp  DirectionalStimulation   \n",
       "21    3MFU   M0StimUp  DirectionalStimulation   \n",
       "22    3MFU        M0   DirectionalStimulation   \n",
       "23    3MFU        M0   DirectionalStimulation   \n",
       "24    3MFU        M0           RingStimulation  \n",
       "25    3MFU        M0               FatigueTest  \n",
       "26    3MFU         M0  DirectionalStimulation   \n",
       "27    3MFU         M0  DirectionalStimulation   \n",
       "28    3MFU         M0  DirectionalStimulation   \n",
       "29    3MFU         M0          RingStimulation  \n",
       "30    3MFU         M0              FatigueTest  \n",
       "31    3MFU         M0  DirectionalStimulation   \n",
       "32    3MFU         M0  DirectionalStimulation   \n",
       "33    3MFU         M0  DirectionalStimulation   \n",
       "34    3MFU         M0          RingStimulation  \n",
       "35    3MFU         M0              FatigueTest  \n",
       "36    3MFU         M0  DirectionalStimulation   \n",
       "37    3MFU         M0  DirectionalStimulation   \n",
       "38    3MFU         M0  DirectionalStimulation   \n",
       "39    3MFU         M0  DirectionalStimulation   \n",
       "40    3MFU         M0          RingStimulation  \n",
       "41    3MFU         M0              FatigueTest  \n",
       "42    3MFU         M0                     Rest  \n",
       "43    3MFU         M0                     Rest  \n",
       "44    3MFU         M0                     Rest  \n",
       "45    3MFU         M0                     Rest  \n",
       "46    3MFU         M0                     Rest  \n",
       "47    3MFU         M0                     Rest  \n",
       "48  Postop         M1            RestBSSuRingL  \n",
       "49  Postop         M1       RestBSSuSegmIntraL  \n",
       "50  Postop         M1       RestBSSuSegmInterL  \n",
       "51  Postop         M1            RestBSSuRingR  \n",
       "52  Postop         M1       RestBSSuSegmIntraR  \n",
       "53  Postop         M1       RestBSSuSegmInterR  \n",
       "54    3MFU        NaN                      NaN  \n",
       "55    3MFU        NaN                      NaN  \n",
       "56    3MFU        NaN                      NaN  "
      ]
     },
     "execution_count": 128,
     "metadata": {},
     "output_type": "execute_result"
    }
   ],
   "source": [
    "# load PerceiveMetadata Excel sheet as DataFrame\n",
    "os.chdir('c:\\\\Users\\\\jebe12\\\\Research\\\\PyPerceive_Project\\\\Data\\\\sub-021')\n",
    "os.getcwd()\n",
    "\n",
    "PerceiveMetadata = pd.read_excel('Perceive_Metadata_sub-021.xlsx')\n",
    "PerceiveMetadata"
   ]
  },
  {
   "cell_type": "code",
   "execution_count": 129,
   "metadata": {},
   "outputs": [
    {
     "name": "stdout",
     "output_type": "stream",
     "text": [
      "342 (57, 6) 2\n"
     ]
    }
   ],
   "source": [
    "print(PerceiveMetadata.size, PerceiveMetadata.shape, PerceiveMetadata.ndim)"
   ]
  },
  {
   "cell_type": "code",
   "execution_count": 130,
   "metadata": {},
   "outputs": [
    {
     "name": "stdout",
     "output_type": "stream",
     "text": [
      "RangeIndex(start=0, stop=57, step=1) Index(['Perceive_filename ', 'sub', 'rec_modality', 'timing ', 'condition ',\n",
      "       'task'],\n",
      "      dtype='object')\n"
     ]
    }
   ],
   "source": [
    "print(PerceiveMetadata.index, PerceiveMetadata.columns) "
   ]
  },
  {
   "cell_type": "code",
   "execution_count": 131,
   "metadata": {},
   "outputs": [
    {
     "data": {
      "text/html": [
       "<div>\n",
       "<style scoped>\n",
       "    .dataframe tbody tr th:only-of-type {\n",
       "        vertical-align: middle;\n",
       "    }\n",
       "\n",
       "    .dataframe tbody tr th {\n",
       "        vertical-align: top;\n",
       "    }\n",
       "\n",
       "    .dataframe thead th {\n",
       "        text-align: right;\n",
       "    }\n",
       "</style>\n",
       "<table border=\"1\" class=\"dataframe\">\n",
       "  <thead>\n",
       "    <tr style=\"text-align: right;\">\n",
       "      <th></th>\n",
       "      <th>Perceive_filename</th>\n",
       "      <th>sub</th>\n",
       "      <th>rec_modality</th>\n",
       "      <th>timing</th>\n",
       "      <th>condition</th>\n",
       "      <th>task</th>\n",
       "    </tr>\n",
       "  </thead>\n",
       "  <tbody>\n",
       "    <tr>\n",
       "      <th>1</th>\n",
       "      <td>sub-20210511PStn_ses-2022052507405881_run-Brai...</td>\n",
       "      <td>sub-021</td>\n",
       "      <td>Streaming</td>\n",
       "      <td>12MFU</td>\n",
       "      <td>NaN</td>\n",
       "      <td>NaN</td>\n",
       "    </tr>\n",
       "    <tr>\n",
       "      <th>2</th>\n",
       "      <td>sub-20210511PStn_ses-2022052507405881_run-Brai...</td>\n",
       "      <td>sub-021</td>\n",
       "      <td>Streaming</td>\n",
       "      <td>12MFU</td>\n",
       "      <td>NaN</td>\n",
       "      <td>NaN</td>\n",
       "    </tr>\n",
       "    <tr>\n",
       "      <th>3</th>\n",
       "      <td>sub-20210511PStn_ses-2022052507405881_run-Brai...</td>\n",
       "      <td>sub-021</td>\n",
       "      <td>Streaming</td>\n",
       "      <td>12MFU</td>\n",
       "      <td>NaN</td>\n",
       "      <td>NaN</td>\n",
       "    </tr>\n",
       "    <tr>\n",
       "      <th>4</th>\n",
       "      <td>sub-20210511PStn_ses-2022052507405881_run-Brai...</td>\n",
       "      <td>sub-021</td>\n",
       "      <td>Streaming</td>\n",
       "      <td>12MFU</td>\n",
       "      <td>NaN</td>\n",
       "      <td>NaN</td>\n",
       "    </tr>\n",
       "  </tbody>\n",
       "</table>\n",
       "</div>"
      ],
      "text/plain": [
       "                                  Perceive_filename       sub rec_modality  \\\n",
       "1  sub-20210511PStn_ses-2022052507405881_run-Brai...  sub-021    Streaming   \n",
       "2  sub-20210511PStn_ses-2022052507405881_run-Brai...  sub-021    Streaming   \n",
       "3  sub-20210511PStn_ses-2022052507405881_run-Brai...  sub-021    Streaming   \n",
       "4  sub-20210511PStn_ses-2022052507405881_run-Brai...  sub-021    Streaming   \n",
       "\n",
       "  timing  condition  task  \n",
       "1   12MFU        NaN  NaN  \n",
       "2   12MFU        NaN  NaN  \n",
       "3   12MFU        NaN  NaN  \n",
       "4   12MFU        NaN  NaN  "
      ]
     },
     "execution_count": 131,
     "metadata": {},
     "output_type": "execute_result"
    }
   ],
   "source": [
    "PerceiveMetadata[1:5]"
   ]
  },
  {
   "cell_type": "code",
   "execution_count": 132,
   "metadata": {},
   "outputs": [
    {
     "data": {
      "text/html": [
       "<div>\n",
       "<style scoped>\n",
       "    .dataframe tbody tr th:only-of-type {\n",
       "        vertical-align: middle;\n",
       "    }\n",
       "\n",
       "    .dataframe tbody tr th {\n",
       "        vertical-align: top;\n",
       "    }\n",
       "\n",
       "    .dataframe thead th {\n",
       "        text-align: right;\n",
       "    }\n",
       "</style>\n",
       "<table border=\"1\" class=\"dataframe\">\n",
       "  <thead>\n",
       "    <tr style=\"text-align: right;\">\n",
       "      <th></th>\n",
       "      <th>Perceive_filename</th>\n",
       "      <th>sub</th>\n",
       "      <th>rec_modality</th>\n",
       "      <th>timing</th>\n",
       "      <th>condition</th>\n",
       "      <th>task</th>\n",
       "    </tr>\n",
       "  </thead>\n",
       "  <tbody>\n",
       "    <tr>\n",
       "      <th>28</th>\n",
       "      <td>sub021_ses-2021080607015296_run-BrainSense2021...</td>\n",
       "      <td>sub-021</td>\n",
       "      <td>Streaming</td>\n",
       "      <td>3MFU</td>\n",
       "      <td>M0</td>\n",
       "      <td>DirectionalStimulation</td>\n",
       "    </tr>\n",
       "    <tr>\n",
       "      <th>29</th>\n",
       "      <td>sub021_ses-2021080607015296_run-BrainSense2021...</td>\n",
       "      <td>sub-021</td>\n",
       "      <td>Streaming</td>\n",
       "      <td>3MFU</td>\n",
       "      <td>M0</td>\n",
       "      <td>RingStimulation</td>\n",
       "    </tr>\n",
       "    <tr>\n",
       "      <th>30</th>\n",
       "      <td>sub021_ses-2021080607015296_run-BrainSense2021...</td>\n",
       "      <td>sub-021</td>\n",
       "      <td>Streaming</td>\n",
       "      <td>3MFU</td>\n",
       "      <td>M0</td>\n",
       "      <td>FatigueTest</td>\n",
       "    </tr>\n",
       "  </tbody>\n",
       "</table>\n",
       "</div>"
      ],
      "text/plain": [
       "                                   Perceive_filename       sub rec_modality  \\\n",
       "28  sub021_ses-2021080607015296_run-BrainSense2021...  sub-021    Streaming   \n",
       "29  sub021_ses-2021080607015296_run-BrainSense2021...  sub-021    Streaming   \n",
       "30  sub021_ses-2021080607015296_run-BrainSense2021...  sub-021    Streaming   \n",
       "\n",
       "   timing  condition                      task  \n",
       "28    3MFU         M0  DirectionalStimulation   \n",
       "29    3MFU         M0          RingStimulation  \n",
       "30    3MFU         M0              FatigueTest  "
      ]
     },
     "execution_count": 132,
     "metadata": {},
     "output_type": "execute_result"
    }
   ],
   "source": [
    "# print only one specific row -> row index .loc[int]\n",
    "PerceiveMetadata.loc[[28, 29, 30]]"
   ]
  },
  {
   "cell_type": "code",
   "execution_count": 133,
   "metadata": {},
   "outputs": [
    {
     "name": "stdout",
     "output_type": "stream",
     "text": [
      "['Perceive_filename ', 'sub', 'rec_modality', 'timing ', 'condition ', 'task']\n"
     ]
    }
   ],
   "source": [
    "print(PerceiveMetadata.columns.to_list())\n",
    "PerceiveMetadata.columns = PerceiveMetadata.columns.str.strip() # this fixes an error when I want to print column \"condition\""
   ]
  },
  {
   "cell_type": "code",
   "execution_count": 136,
   "metadata": {},
   "outputs": [
    {
     "name": "stdout",
     "output_type": "stream",
     "text": [
      "['sub-20210511PStn_ses-2022052507405881_run-BrainSense20220525075300.mat', 'sub-20210511PStn_ses-2022052507405881_run-BrainSense20220525082000.mat', 'sub-20210511PStn_ses-2022052507405881_run-BrainSense20220525082300.mat', 'sub-20210511PStn_ses-2022052507405881_run-BrainSense20220525082800.mat', 'sub-20210511PStn_ses-2022052507405881_run-BrainSense20220525084300.mat', 'sub-20210511PStn_ses-2022052507405881_run-BrainSense20220525085300.mat', 'sub-20210511PStn_ses-2022052507405881_run-BrainSense20220525090300.mat', 'sub-20210511PStn_ses-2022052507405881_run-BrainSense20220525090600.mat', 'sub-20210511PStn_ses-2022052507405881_run-BrainSense20220525091000.mat', 'sub-20210511PStn_ses-2022052507405881_run-BrainSense20220525093200.mat', 'sub-20210511PStn_ses-2022052507405881_run-BrainSense20220525094300.mat', 'sub-20210511PStn_ses-2022052507405881_run-BrainSense20220525095000.mat', 'sub-20210511PStn_ses-2022052507405881_run-BrainSense20220525095100.mat', 'sub-20210511PStn_ses-2022052507405881_run-BrainSense20220525095400.mat', 'sub-20210511PStn_ses-2022052507405881_run-BrainSense20220525095600.mat', 'sub-20210511PStn_ses-2022052507405881_run-BrainSense20220525095700.mat', 'sub-20210511PStn_ses-2022052507405881_run-BrainSense20220525095800.mat', 'sub-20210511PStn_ses-2022052507405881_run-BrainSense20220525100700.mat', 'sub-20210511PStn_ses-2022052507405881_run-BrainSense20220525101300.mat', 'sub021_ses-2021080602000195_run-BrainSense20210806020700.mat', 'sub021_ses-2021080602000195_run-BrainSense20210806020900.mat', 'sub021_ses-2021080602000195_run-BrainSense20210806022200.mat', 'sub021_ses-2021080602361095_run-BrainSense20210806023800.mat', 'sub021_ses-2021080602361095_run-BrainSense20210806024200.mat', 'sub021_ses-2021080602361095_run-BrainSense20210806025700.mat', 'sub021_ses-2021080602361095_run-BrainSense20210806031300.mat', 'sub021_ses-2021080607015296_run-BrainSense20210806072300.mat', 'sub021_ses-2021080607015296_run-BrainSense20210806074100.mat', 'sub021_ses-2021080607015296_run-BrainSense20210806075600.mat', 'sub021_ses-2021080607015296_run-BrainSense20210806081000.mat', 'sub021_ses-2021080607015296_run-BrainSense20210806082500.mat', 'sub021_ses-2021080608385396_run-BrainSense20210806084200.mat', 'sub021_ses-2021080608385396_run-BrainSense20210806085500.mat', 'sub021_ses-2021080608385396_run-BrainSense20210806090900.mat', 'sub021_ses-2021080608385396_run-BrainSense20210806092600.mat', 'sub021_ses-2021080608385396_run-BrainSense20210806094000.mat', 'sub021_ses-2021080612274895_run-BrainSense20210806010500.mat', 'sub021_ses-2021080612274895_run-BrainSense20210806011900.mat', 'sub021_ses-2021080612274895_run-BrainSense20210806013300.mat', 'sub021_ses-2021080612274895_run-BrainSense20210806014700.mat', 'sub021_ses-2021080612274895_run-BrainSense20210806123400.mat', 'sub021_ses-2021080612274895_run-BrainSense20210806124800.mat', 'sub021_ses-2021080607015296_run-LMTD20210806071100_1.mat', 'sub021_ses-2021080607015296_run-LMTD20210806071300_2.mat', 'sub021_ses-2021080607015296_run-LMTD20210806071400_3.mat', 'sub021_ses-2021080607015296_run-LMTD20210806071500_4.mat', 'sub021_ses-2021080607015296_run-LMTD20210806071700_5.mat', 'sub021_ses-2021080607015296_run-LMTD20210806071800_6.mat', 'sub021_ses-2021051210410399_run-LMTD20210512104800_1.mat', 'sub021_ses-2021051210410399_run-LMTD20210512105000_2.mat', 'sub021_ses-2021051210410399_run-LMTD20210512105000_3.mat', 'sub021_ses-2021051210410399_run-LMTD20210512105300_4.mat', 'sub021_ses-2021051210410399_run-LMTD20210512105400_5.mat', 'sub021_ses-2021051210410399_run-LMTD20210512105500_6.mat', 'sub021_ses-2021080607015296_run-CHRONIC20210804090957.mat', 'sub021_ses-2021080608385396_run-CHRONIC20210804095957.mat', 'sub021_ses-2021080612274895_run-CHRONIC20210804114957.mat']\n"
     ]
    }
   ],
   "source": [
    "print(PerceiveMetadata[\"Perceive_filename\"].to_list())"
   ]
  },
  {
   "cell_type": "code",
   "execution_count": 30,
   "metadata": {},
   "outputs": [
    {
     "data": {
      "text/plain": [
       "0      12MFU\n",
       "1      12MFU\n",
       "2      12MFU\n",
       "3      12MFU\n",
       "4      12MFU\n",
       "       ...  \n",
       "57    Postop\n",
       "58    Postop\n",
       "59      3MFU\n",
       "60      3MFU\n",
       "61      3MFU\n",
       "Name: timing, Length: 62, dtype: object"
      ]
     },
     "execution_count": 30,
     "metadata": {},
     "output_type": "execute_result"
    }
   ],
   "source": [
    "#PerceiveMetadata.values[29:31]\n",
    "PerceiveMetadata[\"timing\"]"
   ]
  },
  {
   "cell_type": "code",
   "execution_count": 107,
   "metadata": {},
   "outputs": [
    {
     "data": {
      "text/html": [
       "<div>\n",
       "<style scoped>\n",
       "    .dataframe tbody tr th:only-of-type {\n",
       "        vertical-align: middle;\n",
       "    }\n",
       "\n",
       "    .dataframe tbody tr th {\n",
       "        vertical-align: top;\n",
       "    }\n",
       "\n",
       "    .dataframe thead th {\n",
       "        text-align: right;\n",
       "    }\n",
       "</style>\n",
       "<table border=\"1\" class=\"dataframe\">\n",
       "  <thead>\n",
       "    <tr style=\"text-align: right;\">\n",
       "      <th></th>\n",
       "      <th>Perceive_filename</th>\n",
       "      <th>sub</th>\n",
       "      <th>rec_modality</th>\n",
       "      <th>timing</th>\n",
       "      <th>condition</th>\n",
       "      <th>task</th>\n",
       "    </tr>\n",
       "  </thead>\n",
       "  <tbody>\n",
       "    <tr>\n",
       "      <th>21</th>\n",
       "      <td>sub021_ses-2021080602000195_run-BrainSense2021...</td>\n",
       "      <td>sub-021</td>\n",
       "      <td>Streaming</td>\n",
       "      <td>3MFU</td>\n",
       "      <td>M0StimUp</td>\n",
       "      <td>DirectionalStimulation</td>\n",
       "    </tr>\n",
       "    <tr>\n",
       "      <th>22</th>\n",
       "      <td>sub021_ses-2021080602361095_run-BrainSense2021...</td>\n",
       "      <td>sub-021</td>\n",
       "      <td>Streaming</td>\n",
       "      <td>3MFU</td>\n",
       "      <td>M0</td>\n",
       "      <td>DirectionalStimulation</td>\n",
       "    </tr>\n",
       "    <tr>\n",
       "      <th>23</th>\n",
       "      <td>sub021_ses-2021080602361095_run-BrainSense2021...</td>\n",
       "      <td>sub-021</td>\n",
       "      <td>Streaming</td>\n",
       "      <td>3MFU</td>\n",
       "      <td>M0</td>\n",
       "      <td>DirectionalStimulation</td>\n",
       "    </tr>\n",
       "  </tbody>\n",
       "</table>\n",
       "</div>"
      ],
      "text/plain": [
       "                                    Perceive_filename      sub rec_modality  \\\n",
       "21  sub021_ses-2021080602000195_run-BrainSense2021...  sub-021    Streaming   \n",
       "22  sub021_ses-2021080602361095_run-BrainSense2021...  sub-021    Streaming   \n",
       "23  sub021_ses-2021080602361095_run-BrainSense2021...  sub-021    Streaming   \n",
       "\n",
       "   timing condition                     task  \n",
       "21   3MFU  M0StimUp  DirectionalStimulation   \n",
       "22   3MFU       M0   DirectionalStimulation   \n",
       "23   3MFU       M0   DirectionalStimulation   "
      ]
     },
     "execution_count": 107,
     "metadata": {},
     "output_type": "execute_result"
    }
   ],
   "source": [
    "# how to get a row of a specific value?\n",
    "\n",
    "made_up_matfile_list = ['sub021_ses-2021080602000195_run-BrainSense20210806022200.mat', \n",
    "'sub021_ses-2021080602361095_run-BrainSense20210806023800.mat', \n",
    "'sub021_ses-2021080602361095_run-BrainSense20210806024200.mat']\n",
    "\n",
    "# newDF = pd.DataFrame()\n",
    "\n",
    "newDF = PerceiveMetadata[PerceiveMetadata[\"Perceive_filename\"].isin(made_up_matfile_list)]\n",
    "newDF\n",
    "    "
   ]
  },
  {
   "cell_type": "code",
   "execution_count": 101,
   "metadata": {},
   "outputs": [
    {
     "data": {
      "text/html": [
       "<div>\n",
       "<style scoped>\n",
       "    .dataframe tbody tr th:only-of-type {\n",
       "        vertical-align: middle;\n",
       "    }\n",
       "\n",
       "    .dataframe tbody tr th {\n",
       "        vertical-align: top;\n",
       "    }\n",
       "\n",
       "    .dataframe thead th {\n",
       "        text-align: right;\n",
       "    }\n",
       "</style>\n",
       "<table border=\"1\" class=\"dataframe\">\n",
       "  <thead>\n",
       "    <tr style=\"text-align: right;\">\n",
       "      <th></th>\n",
       "      <th>Perceive_filename</th>\n",
       "      <th>sub</th>\n",
       "      <th>rec_modality</th>\n",
       "      <th>timing</th>\n",
       "      <th>condition</th>\n",
       "      <th>task</th>\n",
       "    </tr>\n",
       "  </thead>\n",
       "  <tbody>\n",
       "    <tr>\n",
       "      <th>21</th>\n",
       "      <td>sub021_ses-2021080602000195_run-BrainSense2021...</td>\n",
       "      <td>sub-021</td>\n",
       "      <td>Streaming</td>\n",
       "      <td>3MFU</td>\n",
       "      <td>M0StimUp</td>\n",
       "      <td>DirectionalStimulation</td>\n",
       "    </tr>\n",
       "  </tbody>\n",
       "</table>\n",
       "</div>"
      ],
      "text/plain": [
       "                                    Perceive_filename      sub rec_modality  \\\n",
       "21  sub021_ses-2021080602000195_run-BrainSense2021...  sub-021    Streaming   \n",
       "\n",
       "   timing condition                     task  \n",
       "21   3MFU  M0StimUp  DirectionalStimulation   "
      ]
     },
     "execution_count": 101,
     "metadata": {},
     "output_type": "execute_result"
    }
   ],
   "source": [
    "# how to create a new data frame from selecting specific rows form existing dataframe \n",
    "NewPerceiveDF = PerceiveMetadata.loc[PerceiveMetadata.Perceive_filename == 'sub021_ses-2021080602000195_run-BrainSense20210806022200.mat']\n",
    "NewPerceiveDF"
   ]
  },
  {
   "cell_type": "code",
   "execution_count": 137,
   "metadata": {},
   "outputs": [
    {
     "name": "stderr",
     "output_type": "stream",
     "text": [
      "C:\\Users\\jebe12\\AppData\\Local\\Temp\\ipykernel_16344\\3634165910.py:14: FutureWarning: The frame.append method is deprecated and will be removed from pandas in a future version. Use pandas.concat instead.\n",
      "  NewPerceive.append(PerceiveMetadata.loc[PerceiveMetadata.Perceive_filename == filename])\n",
      "C:\\Users\\jebe12\\AppData\\Local\\Temp\\ipykernel_16344\\3634165910.py:14: FutureWarning: The frame.append method is deprecated and will be removed from pandas in a future version. Use pandas.concat instead.\n",
      "  NewPerceive.append(PerceiveMetadata.loc[PerceiveMetadata.Perceive_filename == filename])\n",
      "C:\\Users\\jebe12\\AppData\\Local\\Temp\\ipykernel_16344\\3634165910.py:14: FutureWarning: The frame.append method is deprecated and will be removed from pandas in a future version. Use pandas.concat instead.\n",
      "  NewPerceive.append(PerceiveMetadata.loc[PerceiveMetadata.Perceive_filename == filename])\n"
     ]
    },
    {
     "data": {
      "text/html": [
       "<div>\n",
       "<style scoped>\n",
       "    .dataframe tbody tr th:only-of-type {\n",
       "        vertical-align: middle;\n",
       "    }\n",
       "\n",
       "    .dataframe tbody tr th {\n",
       "        vertical-align: top;\n",
       "    }\n",
       "\n",
       "    .dataframe thead th {\n",
       "        text-align: right;\n",
       "    }\n",
       "</style>\n",
       "<table border=\"1\" class=\"dataframe\">\n",
       "  <thead>\n",
       "    <tr style=\"text-align: right;\">\n",
       "      <th></th>\n",
       "    </tr>\n",
       "  </thead>\n",
       "  <tbody>\n",
       "  </tbody>\n",
       "</table>\n",
       "</div>"
      ],
      "text/plain": [
       "Empty DataFrame\n",
       "Columns: []\n",
       "Index: []"
      ]
     },
     "execution_count": 137,
     "metadata": {},
     "output_type": "execute_result"
    }
   ],
   "source": [
    "made_up_matfile_list = ['sub021_ses-2021080602000195_run-BrainSense20210806022200.mat', \n",
    "'sub021_ses-2021080602361095_run-BrainSense20210806023800.mat', \n",
    "'sub021_ses-2021080602361095_run-BrainSense20210806024200.mat']\n",
    "\n",
    "# extract only the .mat files from the list with the corresponding column values\n",
    "\n",
    "#rownumber_list = []\n",
    "#PerceiveMetadataSelection = PerceiveMetadata[PerceiveMetadata.Perceive_filename == 'sub021_ses-2021080602000195_run-BrainSense20210806022200.mat']\n",
    "\n",
    "NewPerceive = pd.DataFrame()\n",
    "\n",
    "for filename in PerceiveMetadata[\"Perceive_filename\"]:\n",
    "    if filename in made_up_matfile_list:\n",
    "        NewPerceive.append(PerceiveMetadata.loc[PerceiveMetadata.Perceive_filename == filename])\n",
    "\n",
    "NewPerceive\n"
   ]
  },
  {
   "cell_type": "code",
   "execution_count": 140,
   "metadata": {},
   "outputs": [
    {
     "data": {
      "text/plain": [
       "['xxx\\\\sub021_ses-2021080602000195_run-BrainSense20210806022200.mat',\n",
       " 'XXX\\\\XXXXX\\\\XXXXXX\\\\sub021_ses-2021080602361095_run-BrainSense20210806024200.mat']"
      ]
     },
     "execution_count": 140,
     "metadata": {},
     "output_type": "execute_result"
    }
   ],
   "source": [
    "made_up_matfile_list = ['sub021_ses-2021080602000195_run-BrainSense20210806022200.mat', \n",
    "'sub021_ses-2021080602361095_run-BrainSense20210806023800.mat', \n",
    "'sub021_ses-2021080602361095_run-BrainSense20210806024200.mat']\n",
    "\n",
    "matpath_list = ['xxx\\\\sub021_ses-2021080602000195_run-BrainSense20210806022200.mat', \n",
    "'XXXX\\\\sub021_ses_-2021080602361095_run-BrainSense20210806023800.mat', \n",
    "'XXX\\XXXXX\\XXXXXX\\\\sub021_ses-2021080602361095_run-BrainSense20210806024200.mat']\n",
    "\n",
    "new_path_list = []\n",
    "for path in matpath_list:\n",
    "    for f in made_up_matfile_list:\n",
    "        if f in path:\n",
    "            new_path_list.append(path)\n",
    "\n",
    "new_path_list"
   ]
  },
  {
   "cell_type": "code",
   "execution_count": 59,
   "metadata": {},
   "outputs": [
    {
     "data": {
      "text/html": [
       "<div>\n",
       "<style scoped>\n",
       "    .dataframe tbody tr th:only-of-type {\n",
       "        vertical-align: middle;\n",
       "    }\n",
       "\n",
       "    .dataframe tbody tr th {\n",
       "        vertical-align: top;\n",
       "    }\n",
       "\n",
       "    .dataframe thead th {\n",
       "        text-align: right;\n",
       "    }\n",
       "</style>\n",
       "<table border=\"1\" class=\"dataframe\">\n",
       "  <thead>\n",
       "    <tr style=\"text-align: right;\">\n",
       "      <th></th>\n",
       "      <th>Perceive_filename</th>\n",
       "      <th>sub</th>\n",
       "      <th>rec_modality</th>\n",
       "      <th>timing</th>\n",
       "      <th>condition</th>\n",
       "      <th>task</th>\n",
       "    </tr>\n",
       "  </thead>\n",
       "  <tbody>\n",
       "    <tr>\n",
       "      <th>42</th>\n",
       "      <td>sub021_ses-2021080607015296_run-LMTD2021080607...</td>\n",
       "      <td>sub-021</td>\n",
       "      <td>Survey</td>\n",
       "      <td>3MFU</td>\n",
       "      <td>M0</td>\n",
       "      <td>Rest</td>\n",
       "    </tr>\n",
       "    <tr>\n",
       "      <th>43</th>\n",
       "      <td>sub021_ses-2021080607015296_run-LMTD2021080607...</td>\n",
       "      <td>sub-021</td>\n",
       "      <td>Survey</td>\n",
       "      <td>3MFU</td>\n",
       "      <td>M0</td>\n",
       "      <td>Rest</td>\n",
       "    </tr>\n",
       "    <tr>\n",
       "      <th>44</th>\n",
       "      <td>sub021_ses-2021080607015296_run-LMTD2021080607...</td>\n",
       "      <td>sub-021</td>\n",
       "      <td>Survey</td>\n",
       "      <td>3MFU</td>\n",
       "      <td>M0</td>\n",
       "      <td>Rest</td>\n",
       "    </tr>\n",
       "    <tr>\n",
       "      <th>45</th>\n",
       "      <td>sub021_ses-2021080607015296_run-LMTD2021080607...</td>\n",
       "      <td>sub-021</td>\n",
       "      <td>Survey</td>\n",
       "      <td>3MFU</td>\n",
       "      <td>M0</td>\n",
       "      <td>Rest</td>\n",
       "    </tr>\n",
       "    <tr>\n",
       "      <th>46</th>\n",
       "      <td>sub021_ses-2021080607015296_run-LMTD2021080607...</td>\n",
       "      <td>sub-021</td>\n",
       "      <td>Survey</td>\n",
       "      <td>3MFU</td>\n",
       "      <td>M0</td>\n",
       "      <td>Rest</td>\n",
       "    </tr>\n",
       "    <tr>\n",
       "      <th>47</th>\n",
       "      <td>sub021_ses-2021080607015296_run-LMTD2021080607...</td>\n",
       "      <td>sub-021</td>\n",
       "      <td>Survey</td>\n",
       "      <td>3MFU</td>\n",
       "      <td>M0</td>\n",
       "      <td>Rest</td>\n",
       "    </tr>\n",
       "  </tbody>\n",
       "</table>\n",
       "</div>"
      ],
      "text/plain": [
       "                                    Perceive_filename      sub rec_modality  \\\n",
       "42  sub021_ses-2021080607015296_run-LMTD2021080607...  sub-021       Survey   \n",
       "43  sub021_ses-2021080607015296_run-LMTD2021080607...  sub-021       Survey   \n",
       "44  sub021_ses-2021080607015296_run-LMTD2021080607...  sub-021       Survey   \n",
       "45  sub021_ses-2021080607015296_run-LMTD2021080607...  sub-021       Survey   \n",
       "46  sub021_ses-2021080607015296_run-LMTD2021080607...  sub-021       Survey   \n",
       "47  sub021_ses-2021080607015296_run-LMTD2021080607...  sub-021       Survey   \n",
       "\n",
       "   timing condition  task  \n",
       "42   3MFU        M0  Rest  \n",
       "43   3MFU        M0  Rest  \n",
       "44   3MFU        M0  Rest  \n",
       "45   3MFU        M0  Rest  \n",
       "46   3MFU        M0  Rest  \n",
       "47   3MFU        M0  Rest  "
      ]
     },
     "execution_count": 59,
     "metadata": {},
     "output_type": "execute_result"
    }
   ],
   "source": [
    "# PerceiveMetadata_selection = PerceiveMetadata[(PerceiveMetadata.timing == \"3MFU\").all() & (PerceiveMetadata.condition == \"MedOff\").any()]\n",
    "# PerceiveMetadata_selection \n",
    "\n",
    "# define conditions\n",
    "cond_sub = PerceiveMetadata[\"sub\"] == \"sub-021\"\n",
    "cond_rec_modality = PerceiveMetadata[\"rec_modality\"] == \"Survey\"\n",
    "cond_timing = PerceiveMetadata[\"timing\"] == \"3MFU\"\n",
    "cond_condition = PerceiveMetadata[\"condition\"] == \"M0\"\n",
    "cond_task = PerceiveMetadata[\"task\"] == \"Rest\"\n",
    "\n",
    "\n",
    "# note all() means all conditions have to be true (alternatively: any() -> printing if any arument is true)\n",
    "PerceiveMetadata_selection = PerceiveMetadata[[all([a,b,c,d,e]) for a, b, c, d, e in zip(cond_sub, cond_rec_modality, cond_timing, cond_condition, cond_task)]]\n",
    "PerceiveMetadata_selection\n"
   ]
  },
  {
   "cell_type": "code",
   "execution_count": 119,
   "metadata": {},
   "outputs": [
    {
     "data": {
      "text/html": [
       "<div>\n",
       "<style scoped>\n",
       "    .dataframe tbody tr th:only-of-type {\n",
       "        vertical-align: middle;\n",
       "    }\n",
       "\n",
       "    .dataframe tbody tr th {\n",
       "        vertical-align: top;\n",
       "    }\n",
       "\n",
       "    .dataframe thead th {\n",
       "        text-align: right;\n",
       "    }\n",
       "</style>\n",
       "<table border=\"1\" class=\"dataframe\">\n",
       "  <thead>\n",
       "    <tr style=\"text-align: right;\">\n",
       "      <th></th>\n",
       "      <th>Perceive_filename</th>\n",
       "      <th>sub</th>\n",
       "      <th>rec_modality</th>\n",
       "      <th>timing</th>\n",
       "      <th>condition</th>\n",
       "      <th>task</th>\n",
       "    </tr>\n",
       "  </thead>\n",
       "  <tbody>\n",
       "    <tr>\n",
       "      <th>42</th>\n",
       "      <td>sub021_ses-2021080607015296_run-LMTD2021080607...</td>\n",
       "      <td>sub-021</td>\n",
       "      <td>Survey</td>\n",
       "      <td>3MFU</td>\n",
       "      <td>M0</td>\n",
       "      <td>Rest</td>\n",
       "    </tr>\n",
       "    <tr>\n",
       "      <th>43</th>\n",
       "      <td>sub021_ses-2021080607015296_run-LMTD2021080607...</td>\n",
       "      <td>sub-021</td>\n",
       "      <td>Survey</td>\n",
       "      <td>3MFU</td>\n",
       "      <td>M0</td>\n",
       "      <td>Rest</td>\n",
       "    </tr>\n",
       "    <tr>\n",
       "      <th>44</th>\n",
       "      <td>sub021_ses-2021080607015296_run-LMTD2021080607...</td>\n",
       "      <td>sub-021</td>\n",
       "      <td>Survey</td>\n",
       "      <td>3MFU</td>\n",
       "      <td>M0</td>\n",
       "      <td>Rest</td>\n",
       "    </tr>\n",
       "    <tr>\n",
       "      <th>45</th>\n",
       "      <td>sub021_ses-2021080607015296_run-LMTD2021080607...</td>\n",
       "      <td>sub-021</td>\n",
       "      <td>Survey</td>\n",
       "      <td>3MFU</td>\n",
       "      <td>M0</td>\n",
       "      <td>Rest</td>\n",
       "    </tr>\n",
       "    <tr>\n",
       "      <th>46</th>\n",
       "      <td>sub021_ses-2021080607015296_run-LMTD2021080607...</td>\n",
       "      <td>sub-021</td>\n",
       "      <td>Survey</td>\n",
       "      <td>3MFU</td>\n",
       "      <td>M0</td>\n",
       "      <td>Rest</td>\n",
       "    </tr>\n",
       "    <tr>\n",
       "      <th>47</th>\n",
       "      <td>sub021_ses-2021080607015296_run-LMTD2021080607...</td>\n",
       "      <td>sub-021</td>\n",
       "      <td>Survey</td>\n",
       "      <td>3MFU</td>\n",
       "      <td>M0</td>\n",
       "      <td>Rest</td>\n",
       "    </tr>\n",
       "  </tbody>\n",
       "</table>\n",
       "</div>"
      ],
      "text/plain": [
       "                                   Perceive_filename       sub rec_modality  \\\n",
       "42  sub021_ses-2021080607015296_run-LMTD2021080607...  sub-021       Survey   \n",
       "43  sub021_ses-2021080607015296_run-LMTD2021080607...  sub-021       Survey   \n",
       "44  sub021_ses-2021080607015296_run-LMTD2021080607...  sub-021       Survey   \n",
       "45  sub021_ses-2021080607015296_run-LMTD2021080607...  sub-021       Survey   \n",
       "46  sub021_ses-2021080607015296_run-LMTD2021080607...  sub-021       Survey   \n",
       "47  sub021_ses-2021080607015296_run-LMTD2021080607...  sub-021       Survey   \n",
       "\n",
       "   timing  condition   task  \n",
       "42    3MFU         M0  Rest  \n",
       "43    3MFU         M0  Rest  \n",
       "44    3MFU         M0  Rest  \n",
       "45    3MFU         M0  Rest  \n",
       "46    3MFU         M0  Rest  \n",
       "47    3MFU         M0  Rest  "
      ]
     },
     "execution_count": 119,
     "metadata": {},
     "output_type": "execute_result"
    }
   ],
   "source": [
    "\n",
    "PerceiveMetadata_selection = PerceiveMetadata[PerceiveMetadata[\"task\"] == \"Rest\"]\n",
    "PerceiveMetadata_selection\n"
   ]
  },
  {
   "cell_type": "code",
   "execution_count": 121,
   "metadata": {},
   "outputs": [
    {
     "ename": "AttributeError",
     "evalue": "'DataFrame' object has no attribute 'Perceive_filename'",
     "output_type": "error",
     "traceback": [
      "\u001b[1;31m---------------------------------------------------------------------------\u001b[0m",
      "\u001b[1;31mAttributeError\u001b[0m                            Traceback (most recent call last)",
      "\u001b[1;32mc:\\Users\\jebe12\\Research\\PyPerceive_Project\\Code\\PyPerceive\\code\\notebooks\\percept_playground.ipynb Cell 37\u001b[0m in \u001b[0;36m<cell line: 1>\u001b[1;34m()\u001b[0m\n\u001b[1;32m----> <a href='vscode-notebook-cell:/c%3A/Users/jebe12/Research/PyPerceive_Project/Code/PyPerceive/code/notebooks/percept_playground.ipynb#X50sZmlsZQ%3D%3D?line=0'>1</a>\u001b[0m matfile_list \u001b[39m=\u001b[39m [PerceiveMetadata_selection\u001b[39m.\u001b[39;49mPerceive_filename\u001b[39m.\u001b[39mvalues]\n\u001b[0;32m      <a href='vscode-notebook-cell:/c%3A/Users/jebe12/Research/PyPerceive_Project/Code/PyPerceive/code/notebooks/percept_playground.ipynb#X50sZmlsZQ%3D%3D?line=1'>2</a>\u001b[0m matfile_list\n",
      "File \u001b[1;32mc:\\Users\\jebe12\\anaconda3\\envs\\pyPerceive_dev\\lib\\site-packages\\pandas\\core\\generic.py:5575\u001b[0m, in \u001b[0;36mNDFrame.__getattr__\u001b[1;34m(self, name)\u001b[0m\n\u001b[0;32m   5568\u001b[0m \u001b[39mif\u001b[39;00m (\n\u001b[0;32m   5569\u001b[0m     name \u001b[39mnot\u001b[39;00m \u001b[39min\u001b[39;00m \u001b[39mself\u001b[39m\u001b[39m.\u001b[39m_internal_names_set\n\u001b[0;32m   5570\u001b[0m     \u001b[39mand\u001b[39;00m name \u001b[39mnot\u001b[39;00m \u001b[39min\u001b[39;00m \u001b[39mself\u001b[39m\u001b[39m.\u001b[39m_metadata\n\u001b[0;32m   5571\u001b[0m     \u001b[39mand\u001b[39;00m name \u001b[39mnot\u001b[39;00m \u001b[39min\u001b[39;00m \u001b[39mself\u001b[39m\u001b[39m.\u001b[39m_accessors\n\u001b[0;32m   5572\u001b[0m     \u001b[39mand\u001b[39;00m \u001b[39mself\u001b[39m\u001b[39m.\u001b[39m_info_axis\u001b[39m.\u001b[39m_can_hold_identifiers_and_holds_name(name)\n\u001b[0;32m   5573\u001b[0m ):\n\u001b[0;32m   5574\u001b[0m     \u001b[39mreturn\u001b[39;00m \u001b[39mself\u001b[39m[name]\n\u001b[1;32m-> 5575\u001b[0m \u001b[39mreturn\u001b[39;00m \u001b[39mobject\u001b[39;49m\u001b[39m.\u001b[39;49m\u001b[39m__getattribute__\u001b[39;49m(\u001b[39mself\u001b[39;49m, name)\n",
      "\u001b[1;31mAttributeError\u001b[0m: 'DataFrame' object has no attribute 'Perceive_filename'"
     ]
    }
   ],
   "source": [
    "matfile_list = [PerceiveMetadata_selection.Perceive_filename.values]\n",
    "matfile_list\n"
   ]
  },
  {
   "cell_type": "code",
   "execution_count": 86,
   "metadata": {},
   "outputs": [
    {
     "ename": "TypeError",
     "evalue": "'str' object is not callable",
     "output_type": "error",
     "traceback": [
      "\u001b[1;31m---------------------------------------------------------------------------\u001b[0m",
      "\u001b[1;31mTypeError\u001b[0m                                 Traceback (most recent call last)",
      "\u001b[1;32mc:\\Users\\jebe12\\Research\\PyPerceive_Project\\Code\\PyPerceive\\code\\notebooks\\percept_playground.ipynb Cell 25\u001b[0m in \u001b[0;36m<cell line: 8>\u001b[1;34m()\u001b[0m\n\u001b[0;32m      <a href='vscode-notebook-cell:/c%3A/Users/jebe12/Research/PyPerceive_Project/Code/PyPerceive/code/notebooks/percept_playground.ipynb#X31sZmlsZQ%3D%3D?line=7'>8</a>\u001b[0m \u001b[39mfor\u001b[39;00m data \u001b[39min\u001b[39;00m ws[\u001b[39m\"\u001b[39m\u001b[39mA\u001b[39m\u001b[39m\"\u001b[39m]:\n\u001b[0;32m      <a href='vscode-notebook-cell:/c%3A/Users/jebe12/Research/PyPerceive_Project/Code/PyPerceive/code/notebooks/percept_playground.ipynb#X31sZmlsZQ%3D%3D?line=8'>9</a>\u001b[0m     \u001b[39mif\u001b[39;00m data\u001b[39m.\u001b[39mvalue \u001b[39min\u001b[39;00m made_up_matfile_list:\n\u001b[1;32m---> <a href='vscode-notebook-cell:/c%3A/Users/jebe12/Research/PyPerceive_Project/Code/PyPerceive/code/notebooks/percept_playground.ipynb#X31sZmlsZQ%3D%3D?line=9'>10</a>\u001b[0m         PerceiveFilename_List\u001b[39m.\u001b[39mappend([data\u001b[39m.\u001b[39mvalue \u001b[39mfor\u001b[39;00m data \u001b[39min\u001b[39;00m ws[data\u001b[39m.\u001b[39;49mvalue(row)]]) \u001b[39m# append a list of all values in the row of data\u001b[39;00m\n\u001b[0;32m     <a href='vscode-notebook-cell:/c%3A/Users/jebe12/Research/PyPerceive_Project/Code/PyPerceive/code/notebooks/percept_playground.ipynb#X31sZmlsZQ%3D%3D?line=11'>12</a>\u001b[0m         \u001b[39m#for row in ws:\u001b[39;00m\n\u001b[0;32m     <a href='vscode-notebook-cell:/c%3A/Users/jebe12/Research/PyPerceive_Project/Code/PyPerceive/code/notebooks/percept_playground.ipynb#X31sZmlsZQ%3D%3D?line=12'>13</a>\u001b[0m         \u001b[39m#    rowvalues.append(data.value for data in row)\u001b[39;00m\n\u001b[0;32m     <a href='vscode-notebook-cell:/c%3A/Users/jebe12/Research/PyPerceive_Project/Code/PyPerceive/code/notebooks/percept_playground.ipynb#X31sZmlsZQ%3D%3D?line=14'>15</a>\u001b[0m PerceiveFilename_List\n",
      "\u001b[1;31mTypeError\u001b[0m: 'str' object is not callable"
     ]
    }
   ],
   "source": [
    "made_up_matfile_list = ['sub021_ses-2021080602000195_run-BrainSense20210806022200.mat', \n",
    "'sub021_ses-2021080602361095_run-BrainSense20210806023800.mat', \n",
    "'sub021_ses-2021080602361095_run-BrainSense20210806024200.mat']\n",
    "\n",
    "PerceiveFilename_List = []\n",
    "rowvalues = []\n",
    "\n",
    "for data in ws[\"A\"]:\n",
    "    if data.value in made_up_matfile_list:\n",
    "        PerceiveFilename_List.append([data.value for data in ws[data.value(row)]]) # append a list of all values in the row of data\n",
    "\n",
    "        #for row in ws:\n",
    "        #    rowvalues.append(data.value for data in row)\n",
    "        \n",
    "PerceiveFilename_List\n",
    "#rowvalues\n",
    "# make an array with lists only of the chosen subject and rec_modality .mat files and their corresponding row\n",
    "\n",
    "# find rownumber for i in matfile_list\n",
    "# rownumber_list = []\n",
    "\n",
    "# for i in matfile_list make a list of the corresponding rownumber in Excel sheet \n",
    "\n",
    "\n",
    "# create dictionary with keys=matfilenames : values=rowvalue_list\n",
    "# {'sub021_ses-2021080602361095_run-BrainSense20210806024200.mat': [\"sub-021\", \"Streaming\", \"MedOff\", \"Rest\"]}\n",
    "# PerceiveMetadataDict = {matfile_list : rowvalues}\n",
    "\n",
    "# for i in rownumber_list make a list of all columns within the row-number of that \n",
    "# make an array with every row_list\n",
    "# matfile_rowlist = []\n",
    "# for col in ws.columns:\n",
    "#   if (data.value for data in col) == (file for file in matfile_list):\n",
    "#       append.to.newlist [data.value for data in row[\"rownumber_of_matfile\"]]\n",
    "\n",
    "# np.array()"
   ]
  },
  {
   "cell_type": "markdown",
   "metadata": {},
   "source": [
    "### Add .mat files from your directory to your PerceiveMetadata.xlsx file  "
   ]
  },
  {
   "cell_type": "code",
   "execution_count": 71,
   "metadata": {},
   "outputs": [
    {
     "name": "stdout",
     "output_type": "stream",
     "text": [
      "sub021_ses-2021080602361095_run-BrainSense20210806023800.mat\n",
      "sub-021\n",
      "Streaming\n",
      "3MFU\n",
      "MedOff\n",
      "Directional stimulation \n"
     ]
    }
   ],
   "source": [
    "# make sure you´re in the right directory of your xlsx file\n",
    "# and openpyxl is imported\n",
    "\n",
    "\n",
    "# load existing .xlsx file\n",
    "wb = load_workbook('Perceive_Metadata.xlsx')\n",
    "ws = wb.active # this gets the current active worksheet\n",
    "\n",
    "# access the single row number from your workingsheet\n",
    "for data in ws[\"24\"]: # \"2\" refers to Excel sheet row 2\n",
    "    print(data.value)\n",
    "\n",
    "# access all cells in every single row\n",
    "# for row in ws.rows:\n",
    "#     print([data.value for data in row])\n",
    "\n",
    "# access all cells in a single column \n",
    "# for data in ws[\"A\"]: # \"A\" refers to Excel sheet column A\n",
    "#     print(data.value)\n",
    "\n",
    "# read all data present in the Excel sheet\n",
    "# for row in ws:\n",
    "#     print([data.value for data in row]) # indexing will make a list of every row\n",
    "\n",
    "# find the max row number from your Excel sheet\n",
    "# max_rows = ws.max_row\n",
    "\n",
    "# cellvalue = ws.cell(row=1, column=1).value\n",
    "# cellvalue"
   ]
  },
  {
   "cell_type": "code",
   "execution_count": 56,
   "metadata": {},
   "outputs": [],
   "source": [
    "# insert a list into an Excel column using openpyxl\n",
    "\n",
    "PythonList = [1,2,3] # list I want to append to a specific column\n",
    "\n",
    "max_rows = ws.max_row\n",
    "row_start = max_rows + 1\n",
    "column_index = 1\n",
    "\n",
    "for i, value in enumerate(PythonList, start=row_start):\n",
    "    ws.cell(row=i, column=column_index).value = value\n",
    "\n",
    "wb.save(\"added_column_cells.xlsx\")"
   ]
  },
  {
   "cell_type": "code",
   "execution_count": 81,
   "metadata": {},
   "outputs": [
    {
     "data": {
      "text/plain": [
       "<module 'PerceiveImport.methods.matfiles_to_xlsx' from 'c:\\\\Users\\\\jebe12\\\\Research\\\\PyPerceive_Project\\\\Code\\\\PyPerceive\\\\code\\\\PerceiveImport\\\\methods\\\\matfiles_to_xlsx.py'>"
      ]
     },
     "execution_count": 81,
     "metadata": {},
     "output_type": "execute_result"
    }
   ],
   "source": [
    "import PerceiveImport.methods.matfiles_to_xlsx as mat_to_xlsx\n",
    "importlib.reload(mat_to_xlsx)"
   ]
  },
  {
   "cell_type": "code",
   "execution_count": 82,
   "metadata": {},
   "outputs": [
    {
     "name": "stdout",
     "output_type": "stream",
     "text": [
      "sub-20210511PStn_ses-2022052507405881_run-BrainSense20220525075300.mat\n",
      "sub-20210511PStn_ses-2022052507405881_run-BrainSense20220525082000.mat\n",
      "sub-20210511PStn_ses-2022052507405881_run-BrainSense20220525082300.mat\n",
      "sub-20210511PStn_ses-2022052507405881_run-BrainSense20220525082800.mat\n",
      "sub-20210511PStn_ses-2022052507405881_run-BrainSense20220525084300.mat\n",
      "sub-20210511PStn_ses-2022052507405881_run-BrainSense20220525085300.mat\n",
      "sub-20210511PStn_ses-2022052507405881_run-BrainSense20220525090300.mat\n",
      "sub-20210511PStn_ses-2022052507405881_run-BrainSense20220525090600.mat\n",
      "sub-20210511PStn_ses-2022052507405881_run-BrainSense20220525091000.mat\n",
      "sub-20210511PStn_ses-2022052507405881_run-BrainSense20220525093200.mat\n",
      "sub-20210511PStn_ses-2022052507405881_run-BrainSense20220525094300.mat\n",
      "sub-20210511PStn_ses-2022052507405881_run-BrainSense20220525095000.mat\n",
      "sub-20210511PStn_ses-2022052507405881_run-BrainSense20220525095100.mat\n",
      "sub-20210511PStn_ses-2022052507405881_run-BrainSense20220525095400.mat\n",
      "sub-20210511PStn_ses-2022052507405881_run-BrainSense20220525095600.mat\n",
      "sub-20210511PStn_ses-2022052507405881_run-BrainSense20220525095700.mat\n",
      "sub-20210511PStn_ses-2022052507405881_run-BrainSense20220525095800.mat\n",
      "sub-20210511PStn_ses-2022052507405881_run-BrainSense20220525100700.mat\n",
      "sub-20210511PStn_ses-2022052507405881_run-BrainSense20220525101300.mat\n",
      "sub021_ses-2021080602000195_run-BrainSense20210806020700.mat\n",
      "sub021_ses-2021080602000195_run-BrainSense20210806020900.mat\n",
      "sub021_ses-2021080602000195_run-BrainSense20210806022200.mat\n",
      "sub021_ses-2021080602361095_run-BrainSense20210806023800.mat\n",
      "sub021_ses-2021080602361095_run-BrainSense20210806024200.mat\n",
      "sub021_ses-2021080602361095_run-BrainSense20210806025700.mat\n",
      "sub021_ses-2021080602361095_run-BrainSense20210806031300.mat\n",
      "sub021_ses-2021080607015296_run-BrainSense20210806072300.mat\n",
      "sub021_ses-2021080607015296_run-BrainSense20210806074100.mat\n",
      "sub021_ses-2021080607015296_run-BrainSense20210806075600.mat\n",
      "sub021_ses-2021080607015296_run-BrainSense20210806081000.mat\n",
      "sub021_ses-2021080607015296_run-BrainSense20210806082500.mat\n",
      "sub021_ses-2021080608385396_run-BrainSense20210806084200.mat\n",
      "sub021_ses-2021080608385396_run-BrainSense20210806085500.mat\n",
      "sub021_ses-2021080608385396_run-BrainSense20210806090900.mat\n",
      "sub021_ses-2021080608385396_run-BrainSense20210806092600.mat\n",
      "sub021_ses-2021080608385396_run-BrainSense20210806094000.mat\n",
      "sub021_ses-2021080612274895_run-BrainSense20210806010500.mat\n",
      "sub021_ses-2021080612274895_run-BrainSense20210806011900.mat\n",
      "sub021_ses-2021080612274895_run-BrainSense20210806013300.mat\n",
      "sub021_ses-2021080612274895_run-BrainSense20210806014700.mat\n",
      "sub021_ses-2021080612274895_run-BrainSense20210806123400.mat\n",
      "sub021_ses-2021080612274895_run-BrainSense20210806124800.mat\n",
      "sub021_ses-2021080607015296_run-LMTD20210806071100_1.mat\n",
      "sub021_ses-2021080607015296_run-LMTD20210806071300_2.mat\n",
      "sub021_ses-2021080607015296_run-LMTD20210806071400_3.mat\n",
      "sub021_ses-2021080607015296_run-LMTD20210806071500_4.mat\n",
      "sub021_ses-2021080607015296_run-LMTD20210806071700_5.mat\n",
      "sub021_ses-2021080607015296_run-LMTD20210806071800_6.mat\n",
      "sub-021_ses-2021051210410399_run-LMTD20210512104800.mat\n",
      "sub-021_ses-2021051210410399_run-LMTD20210512105000.mat\n",
      "sub-021_ses-2021051210410399_run-LMTD20210512105300.mat\n",
      "sub-021_ses-2021051210410399_run-LMTD20210512105400.mat\n",
      "sub-021_ses-2021051210410399_run-LMTD20210512105500.mat\n",
      "sub021_ses-2021051210410399_run-LMTD20210512104800_1.mat\n",
      "sub021_ses-2021051210410399_run-LMTD20210512105000_2.mat\n",
      "sub021_ses-2021051210410399_run-LMTD20210512105000_3.mat\n",
      "sub021_ses-2021051210410399_run-LMTD20210512105300_4.mat\n",
      "sub021_ses-2021051210410399_run-LMTD20210512105400_5.mat\n",
      "sub021_ses-2021051210410399_run-LMTD20210512105500_6.mat\n",
      "sub021_ses-2021080607015296_run-CHRONIC20210804090957.mat\n",
      "sub021_ses-2021080608385396_run-CHRONIC20210804095957.mat\n",
      "sub021_ses-2021080612274895_run-CHRONIC20210804114957.mat\n"
     ]
    }
   ],
   "source": [
    "# insert a list of matfiles to the Excel sheet using the insert_matfiles_to_Excel method\n",
    "\n",
    "# goal: loop through all .mat files in your directory of a list of all subjects you want to analyze\n",
    "# add them to the first column of your Excel sheet\n",
    "\n",
    "newxlsx = mat_to_xlsx.insert_matfiles_to_Excel(\"sub-021\", \"Streaming\")\n",
    "newxlsx = mat_to_xlsx.insert_matfiles_to_Excel(\"sub-021\", \"Survey\")\n",
    "newxlsx = mat_to_xlsx.insert_matfiles_to_Excel(\"sub-021\", \"Timeline\")\n",
    "\n"
   ]
  },
  {
   "cell_type": "code",
   "execution_count": 21,
   "metadata": {},
   "outputs": [],
   "source": [
    "wb = pd.read_excel(\"Perceive_Metadata.xlsx\")\n",
    "\n",
    "\n",
    "max_rows = wb. # code with existing number of rows in column index 0 currently in xlsx file\n",
    "#PythonList = [1,2,3,4]\n",
    "\n",
    "# ExcelData[\"Col_C\"] = PythonList\n",
    "\n",
    "# ExcelData.to_excel(\"./newExcelname.xlsx\", sheet_name = '1', startrow=max_row+1, header=False, index=False)"
   ]
  },
  {
   "cell_type": "code",
   "execution_count": 17,
   "metadata": {},
   "outputs": [
    {
     "ename": "XLRDError",
     "evalue": "Excel xlsx file; not supported",
     "output_type": "error",
     "traceback": [
      "\u001b[1;31m---------------------------------------------------------------------------\u001b[0m",
      "\u001b[1;31mXLRDError\u001b[0m                                 Traceback (most recent call last)",
      "\u001b[1;32mc:\\Users\\jebe12\\Research\\PyPerceive_Project\\Code\\PyPerceive\\code\\notebooks\\percept_playground.ipynb Cell 24\u001b[0m in \u001b[0;36m<cell line: 8>\u001b[1;34m()\u001b[0m\n\u001b[0;32m      <a href='vscode-notebook-cell:/c%3A/Users/jebe12/Research/PyPerceive_Project/Code/PyPerceive/code/notebooks/percept_playground.ipynb#Y145sZmlsZQ%3D%3D?line=4'>5</a>\u001b[0m xlsx_filename \u001b[39m=\u001b[39m \u001b[39m'\u001b[39m\u001b[39mPerceive_Metadata.xlsx\u001b[39m\u001b[39m'\u001b[39m\n\u001b[0;32m      <a href='vscode-notebook-cell:/c%3A/Users/jebe12/Research/PyPerceive_Project/Code/PyPerceive/code/notebooks/percept_playground.ipynb#Y145sZmlsZQ%3D%3D?line=6'>7</a>\u001b[0m \u001b[39m# read Excel worksheet with xlrd\u001b[39;00m\n\u001b[1;32m----> <a href='vscode-notebook-cell:/c%3A/Users/jebe12/Research/PyPerceive_Project/Code/PyPerceive/code/notebooks/percept_playground.ipynb#Y145sZmlsZQ%3D%3D?line=7'>8</a>\u001b[0m xlsx_wb \u001b[39m=\u001b[39m xlrd\u001b[39m.\u001b[39;49mopen_workbook(xlsx_filename)\n\u001b[0;32m     <a href='vscode-notebook-cell:/c%3A/Users/jebe12/Research/PyPerceive_Project/Code/PyPerceive/code/notebooks/percept_playground.ipynb#Y145sZmlsZQ%3D%3D?line=9'>10</a>\u001b[0m \u001b[39m# xslx_ws = xslx_wb.sheet_by_index(0)\u001b[39;00m\n\u001b[0;32m     <a href='vscode-notebook-cell:/c%3A/Users/jebe12/Research/PyPerceive_Project/Code/PyPerceive/code/notebooks/percept_playground.ipynb#Y145sZmlsZQ%3D%3D?line=11'>12</a>\u001b[0m \u001b[39mprint\u001b[39m(xlsx_wb\u001b[39m.\u001b[39mcell_value(\u001b[39m1\u001b[39m,\u001b[39m1\u001b[39m))\n",
      "File \u001b[1;32mc:\\Users\\jebe12\\anaconda3\\envs\\pyPerceive_dev\\lib\\site-packages\\xlrd\\__init__.py:170\u001b[0m, in \u001b[0;36mopen_workbook\u001b[1;34m(filename, logfile, verbosity, use_mmap, file_contents, encoding_override, formatting_info, on_demand, ragged_rows, ignore_workbook_corruption)\u001b[0m\n\u001b[0;32m    167\u001b[0m \u001b[39m# We have to let unknown file formats pass through here, as some ancient\u001b[39;00m\n\u001b[0;32m    168\u001b[0m \u001b[39m# files that xlrd can parse don't start with the expected signature.\u001b[39;00m\n\u001b[0;32m    169\u001b[0m \u001b[39mif\u001b[39;00m file_format \u001b[39mand\u001b[39;00m file_format \u001b[39m!=\u001b[39m \u001b[39m'\u001b[39m\u001b[39mxls\u001b[39m\u001b[39m'\u001b[39m:\n\u001b[1;32m--> 170\u001b[0m     \u001b[39mraise\u001b[39;00m XLRDError(FILE_FORMAT_DESCRIPTIONS[file_format]\u001b[39m+\u001b[39m\u001b[39m'\u001b[39m\u001b[39m; not supported\u001b[39m\u001b[39m'\u001b[39m)\n\u001b[0;32m    172\u001b[0m bk \u001b[39m=\u001b[39m open_workbook_xls(\n\u001b[0;32m    173\u001b[0m     filename\u001b[39m=\u001b[39mfilename,\n\u001b[0;32m    174\u001b[0m     logfile\u001b[39m=\u001b[39mlogfile,\n\u001b[1;32m   (...)\u001b[0m\n\u001b[0;32m    182\u001b[0m     ignore_workbook_corruption\u001b[39m=\u001b[39mignore_workbook_corruption,\n\u001b[0;32m    183\u001b[0m )\n\u001b[0;32m    185\u001b[0m \u001b[39mreturn\u001b[39;00m bk\n",
      "\u001b[1;31mXLRDError\u001b[0m: Excel xlsx file; not supported"
     ]
    }
   ],
   "source": [
    "import xlrd\n",
    "\n",
    "# set correct path\n",
    "xlsx_path = ('c:\\\\Users\\\\jebe12\\\\Research\\\\PyPerceive_Project\\\\')\n",
    "xlsx_filename = 'Perceive_Metadata.xlsx'\n",
    "\n",
    "# read Excel worksheet with xlrd\n",
    "xlsx_wb = xlrd.open_workbook(xlsx_filename)\n",
    "\n",
    "# xslx_ws = xslx_wb.sheet_by_index(0)\n",
    "\n",
    "print(xlsx_wb.cell_value(1,1))\n"
   ]
  },
  {
   "cell_type": "markdown",
   "metadata": {},
   "source": [
    "### Create a json file with a dictionary of matfile parts "
   ]
  },
  {
   "cell_type": "code",
   "execution_count": 65,
   "metadata": {},
   "outputs": [
    {
     "name": "stdout",
     "output_type": "stream",
     "text": [
      "Json file created\n"
     ]
    }
   ],
   "source": [
    "import json\n",
    "\n",
    "# write a dictionary \n",
    "datatype_dict = {\"Survey\": \"LMTD\",\n",
    "               \"Streaming\": \"BrainSense\",\n",
    "               \"Timeline\": \"CHRONIC\"\n",
    "               }\n",
    "\n",
    "# turn dictionary into string and dump it into json file\n",
    "json_string = json.dumps(datatype_dict, indent=4) # indent will make the line better to read in the json file\n",
    "\n",
    "# write json file\n",
    "with open ('datatype_dict.json', \"w\") as f: # type the filename you want to create, \"w\" stands for write\n",
    "    f.write(json_string)\n",
    "\n",
    "# make sure the code works, print something in the end\n",
    "print(\"Json file created\")"
   ]
  },
  {
   "cell_type": "code",
   "execution_count": 169,
   "metadata": {},
   "outputs": [
    {
     "name": "stdout",
     "output_type": "stream",
     "text": [
      "LMTD\n"
     ]
    }
   ],
   "source": [
    "import json\n",
    "\n",
    "# open file, 'r' stands for read\n",
    "with open('matpart.json', 'r') as f:\n",
    "    json_object = json.loads(f.read())\n",
    "\n",
    "print(json_object[\"Survey\"])"
   ]
  },
  {
   "cell_type": "code",
   "execution_count": 81,
   "metadata": {},
   "outputs": [
    {
     "name": "stdout",
     "output_type": "stream",
     "text": [
      "{'Survey': 'LMTD', 'Streaming': 'BrainSense', 'Timeline': 'CHRONIC'}\n"
     ]
    }
   ],
   "source": [
    "# load a json file and show keys and values of the dictionary in that file\n",
    "\n",
    "os.chdir('c:\\\\Users\\\\jebe12\\\\Research\\\\PyPerceive_Project\\\\Code\\\\PyPerceive\\\\code\\\\PerceiveImport')\n",
    "with open('datatype_dict.json', 'r') as f: # load matpart.json file with dictionary\n",
    "    datatype_matpart = json.loads(f.read())\n",
    "        \n",
    "    print(datatype_matpart) # print the value of the key 'Survey' of the json dictionary matpart"
   ]
  },
  {
   "cell_type": "markdown",
   "metadata": {},
   "source": [
    "### Explore data"
   ]
  },
  {
   "cell_type": "code",
   "execution_count": 75,
   "metadata": {},
   "outputs": [
    {
     "data": {
      "text/plain": [
       "<module 'PerceiveImport.methods.select_matfiles' from 'c:\\\\Users\\\\jebe12\\\\Research\\\\PyPerceive_Project\\\\Code\\\\PyPerceive\\\\code\\\\PerceiveImport\\\\methods\\\\select_matfiles.py'>"
      ]
     },
     "execution_count": 75,
     "metadata": {},
     "output_type": "execute_result"
    }
   ],
   "source": [
    "import PerceiveImport.methods.select_matfiles as matfiles\n",
    "importlib.reload(matfiles)"
   ]
  },
  {
   "cell_type": "code",
   "execution_count": 76,
   "metadata": {},
   "outputs": [
    {
     "name": "stdout",
     "output_type": "stream",
     "text": [
      "sub-20210511PStn_ses-2022052507405881_run-BrainSense20220525075300.mat\n",
      "sub-20210511PStn_ses-2022052507405881_run-BrainSense20220525082000.mat\n",
      "sub-20210511PStn_ses-2022052507405881_run-BrainSense20220525082300.mat\n",
      "sub-20210511PStn_ses-2022052507405881_run-BrainSense20220525082800.mat\n",
      "sub-20210511PStn_ses-2022052507405881_run-BrainSense20220525084300.mat\n",
      "sub-20210511PStn_ses-2022052507405881_run-BrainSense20220525085300.mat\n",
      "sub-20210511PStn_ses-2022052507405881_run-BrainSense20220525090300.mat\n",
      "sub-20210511PStn_ses-2022052507405881_run-BrainSense20220525090600.mat\n",
      "sub-20210511PStn_ses-2022052507405881_run-BrainSense20220525091000.mat\n",
      "sub-20210511PStn_ses-2022052507405881_run-BrainSense20220525093200.mat\n",
      "sub-20210511PStn_ses-2022052507405881_run-BrainSense20220525094300.mat\n",
      "sub-20210511PStn_ses-2022052507405881_run-BrainSense20220525095000.mat\n",
      "sub-20210511PStn_ses-2022052507405881_run-BrainSense20220525095100.mat\n",
      "sub-20210511PStn_ses-2022052507405881_run-BrainSense20220525095400.mat\n",
      "sub-20210511PStn_ses-2022052507405881_run-BrainSense20220525095600.mat\n",
      "sub-20210511PStn_ses-2022052507405881_run-BrainSense20220525095700.mat\n",
      "sub-20210511PStn_ses-2022052507405881_run-BrainSense20220525095800.mat\n",
      "sub-20210511PStn_ses-2022052507405881_run-BrainSense20220525100700.mat\n",
      "sub-20210511PStn_ses-2022052507405881_run-BrainSense20220525101300.mat\n",
      "sub021_ses-2021080602000195_run-BrainSense20210806020700.mat\n",
      "sub021_ses-2021080602000195_run-BrainSense20210806020900.mat\n",
      "sub021_ses-2021080602000195_run-BrainSense20210806022200.mat\n",
      "sub021_ses-2021080602361095_run-BrainSense20210806023800.mat\n",
      "sub021_ses-2021080602361095_run-BrainSense20210806024200.mat\n",
      "sub021_ses-2021080602361095_run-BrainSense20210806025700.mat\n",
      "sub021_ses-2021080602361095_run-BrainSense20210806031300.mat\n",
      "sub021_ses-2021080608385396_run-BrainSense20210806084200.mat\n",
      "sub021_ses-2021080608385396_run-BrainSense20210806085500.mat\n",
      "sub021_ses-2021080608385396_run-BrainSense20210806090900.mat\n",
      "sub021_ses-2021080608385396_run-BrainSense20210806092600.mat\n",
      "sub021_ses-2021080608385396_run-BrainSense20210806094000.mat\n",
      "sub021_ses-2021080612274895_run-BrainSense20210806010500.mat\n",
      "sub021_ses-2021080612274895_run-BrainSense20210806011900.mat\n",
      "sub021_ses-2021080612274895_run-BrainSense20210806013300.mat\n",
      "sub021_ses-2021080612274895_run-BrainSense20210806014700.mat\n",
      "sub021_ses-2021080612274895_run-BrainSense20210806123400.mat\n",
      "sub021_ses-2021080612274895_run-BrainSense20210806124800.mat\n",
      "sub021_ses-2021080607015296_run-BrainSense20210806072300.mat\n",
      "sub021_ses-2021080607015296_run-BrainSense20210806074100.mat\n",
      "sub021_ses-2021080607015296_run-BrainSense20210806075600.mat\n",
      "sub021_ses-2021080607015296_run-BrainSense20210806081000.mat\n",
      "sub021_ses-2021080607015296_run-BrainSense20210806082500.mat\n"
     ]
    },
    {
     "data": {
      "text/plain": [
       "(['sub-20210511PStn_ses-2022052507405881_run-BrainSense20220525075300.mat',\n",
       "  'sub-20210511PStn_ses-2022052507405881_run-BrainSense20220525082000.mat',\n",
       "  'sub-20210511PStn_ses-2022052507405881_run-BrainSense20220525082300.mat',\n",
       "  'sub-20210511PStn_ses-2022052507405881_run-BrainSense20220525082800.mat',\n",
       "  'sub-20210511PStn_ses-2022052507405881_run-BrainSense20220525084300.mat',\n",
       "  'sub-20210511PStn_ses-2022052507405881_run-BrainSense20220525085300.mat',\n",
       "  'sub-20210511PStn_ses-2022052507405881_run-BrainSense20220525090300.mat',\n",
       "  'sub-20210511PStn_ses-2022052507405881_run-BrainSense20220525090600.mat',\n",
       "  'sub-20210511PStn_ses-2022052507405881_run-BrainSense20220525091000.mat',\n",
       "  'sub-20210511PStn_ses-2022052507405881_run-BrainSense20220525093200.mat',\n",
       "  'sub-20210511PStn_ses-2022052507405881_run-BrainSense20220525094300.mat',\n",
       "  'sub-20210511PStn_ses-2022052507405881_run-BrainSense20220525095000.mat',\n",
       "  'sub-20210511PStn_ses-2022052507405881_run-BrainSense20220525095100.mat',\n",
       "  'sub-20210511PStn_ses-2022052507405881_run-BrainSense20220525095400.mat',\n",
       "  'sub-20210511PStn_ses-2022052507405881_run-BrainSense20220525095600.mat',\n",
       "  'sub-20210511PStn_ses-2022052507405881_run-BrainSense20220525095700.mat',\n",
       "  'sub-20210511PStn_ses-2022052507405881_run-BrainSense20220525095800.mat',\n",
       "  'sub-20210511PStn_ses-2022052507405881_run-BrainSense20220525100700.mat',\n",
       "  'sub-20210511PStn_ses-2022052507405881_run-BrainSense20220525101300.mat',\n",
       "  'sub021_ses-2021080602000195_run-BrainSense20210806020700.mat',\n",
       "  'sub021_ses-2021080602000195_run-BrainSense20210806020900.mat',\n",
       "  'sub021_ses-2021080602000195_run-BrainSense20210806022200.mat',\n",
       "  'sub021_ses-2021080602361095_run-BrainSense20210806023800.mat',\n",
       "  'sub021_ses-2021080602361095_run-BrainSense20210806024200.mat',\n",
       "  'sub021_ses-2021080602361095_run-BrainSense20210806025700.mat',\n",
       "  'sub021_ses-2021080602361095_run-BrainSense20210806031300.mat',\n",
       "  'sub021_ses-2021080608385396_run-BrainSense20210806084200.mat',\n",
       "  'sub021_ses-2021080608385396_run-BrainSense20210806085500.mat',\n",
       "  'sub021_ses-2021080608385396_run-BrainSense20210806090900.mat',\n",
       "  'sub021_ses-2021080608385396_run-BrainSense20210806092600.mat',\n",
       "  'sub021_ses-2021080608385396_run-BrainSense20210806094000.mat',\n",
       "  'sub021_ses-2021080612274895_run-BrainSense20210806010500.mat',\n",
       "  'sub021_ses-2021080612274895_run-BrainSense20210806011900.mat',\n",
       "  'sub021_ses-2021080612274895_run-BrainSense20210806013300.mat',\n",
       "  'sub021_ses-2021080612274895_run-BrainSense20210806014700.mat',\n",
       "  'sub021_ses-2021080612274895_run-BrainSense20210806123400.mat',\n",
       "  'sub021_ses-2021080612274895_run-BrainSense20210806124800.mat',\n",
       "  'sub021_ses-2021080607015296_run-BrainSense20210806072300.mat',\n",
       "  'sub021_ses-2021080607015296_run-BrainSense20210806074100.mat',\n",
       "  'sub021_ses-2021080607015296_run-BrainSense20210806075600.mat',\n",
       "  'sub021_ses-2021080607015296_run-BrainSense20210806081000.mat',\n",
       "  'sub021_ses-2021080607015296_run-BrainSense20210806082500.mat'],\n",
       " ['c:\\\\Users\\\\jebe12\\\\Research\\\\PyPerceive_Project\\\\Data\\\\sub-021\\\\12MFU\\\\ses-2022052507405881\\\\ieeg\\\\sub-20210511PStn_ses-2022052507405881_run-BrainSense20220525075300.mat',\n",
       "  'c:\\\\Users\\\\jebe12\\\\Research\\\\PyPerceive_Project\\\\Data\\\\sub-021\\\\12MFU\\\\ses-2022052507405881\\\\ieeg\\\\sub-20210511PStn_ses-2022052507405881_run-BrainSense20220525082000.mat',\n",
       "  'c:\\\\Users\\\\jebe12\\\\Research\\\\PyPerceive_Project\\\\Data\\\\sub-021\\\\12MFU\\\\ses-2022052507405881\\\\ieeg\\\\sub-20210511PStn_ses-2022052507405881_run-BrainSense20220525082300.mat',\n",
       "  'c:\\\\Users\\\\jebe12\\\\Research\\\\PyPerceive_Project\\\\Data\\\\sub-021\\\\12MFU\\\\ses-2022052507405881\\\\ieeg\\\\sub-20210511PStn_ses-2022052507405881_run-BrainSense20220525082800.mat',\n",
       "  'c:\\\\Users\\\\jebe12\\\\Research\\\\PyPerceive_Project\\\\Data\\\\sub-021\\\\12MFU\\\\ses-2022052507405881\\\\ieeg\\\\sub-20210511PStn_ses-2022052507405881_run-BrainSense20220525084300.mat',\n",
       "  'c:\\\\Users\\\\jebe12\\\\Research\\\\PyPerceive_Project\\\\Data\\\\sub-021\\\\12MFU\\\\ses-2022052507405881\\\\ieeg\\\\sub-20210511PStn_ses-2022052507405881_run-BrainSense20220525085300.mat',\n",
       "  'c:\\\\Users\\\\jebe12\\\\Research\\\\PyPerceive_Project\\\\Data\\\\sub-021\\\\12MFU\\\\ses-2022052507405881\\\\ieeg\\\\sub-20210511PStn_ses-2022052507405881_run-BrainSense20220525090300.mat',\n",
       "  'c:\\\\Users\\\\jebe12\\\\Research\\\\PyPerceive_Project\\\\Data\\\\sub-021\\\\12MFU\\\\ses-2022052507405881\\\\ieeg\\\\sub-20210511PStn_ses-2022052507405881_run-BrainSense20220525090600.mat',\n",
       "  'c:\\\\Users\\\\jebe12\\\\Research\\\\PyPerceive_Project\\\\Data\\\\sub-021\\\\12MFU\\\\ses-2022052507405881\\\\ieeg\\\\sub-20210511PStn_ses-2022052507405881_run-BrainSense20220525091000.mat',\n",
       "  'c:\\\\Users\\\\jebe12\\\\Research\\\\PyPerceive_Project\\\\Data\\\\sub-021\\\\12MFU\\\\ses-2022052507405881\\\\ieeg\\\\sub-20210511PStn_ses-2022052507405881_run-BrainSense20220525093200.mat',\n",
       "  'c:\\\\Users\\\\jebe12\\\\Research\\\\PyPerceive_Project\\\\Data\\\\sub-021\\\\12MFU\\\\ses-2022052507405881\\\\ieeg\\\\sub-20210511PStn_ses-2022052507405881_run-BrainSense20220525094300.mat',\n",
       "  'c:\\\\Users\\\\jebe12\\\\Research\\\\PyPerceive_Project\\\\Data\\\\sub-021\\\\12MFU\\\\ses-2022052507405881\\\\ieeg\\\\sub-20210511PStn_ses-2022052507405881_run-BrainSense20220525095000.mat',\n",
       "  'c:\\\\Users\\\\jebe12\\\\Research\\\\PyPerceive_Project\\\\Data\\\\sub-021\\\\12MFU\\\\ses-2022052507405881\\\\ieeg\\\\sub-20210511PStn_ses-2022052507405881_run-BrainSense20220525095100.mat',\n",
       "  'c:\\\\Users\\\\jebe12\\\\Research\\\\PyPerceive_Project\\\\Data\\\\sub-021\\\\12MFU\\\\ses-2022052507405881\\\\ieeg\\\\sub-20210511PStn_ses-2022052507405881_run-BrainSense20220525095400.mat',\n",
       "  'c:\\\\Users\\\\jebe12\\\\Research\\\\PyPerceive_Project\\\\Data\\\\sub-021\\\\12MFU\\\\ses-2022052507405881\\\\ieeg\\\\sub-20210511PStn_ses-2022052507405881_run-BrainSense20220525095600.mat',\n",
       "  'c:\\\\Users\\\\jebe12\\\\Research\\\\PyPerceive_Project\\\\Data\\\\sub-021\\\\12MFU\\\\ses-2022052507405881\\\\ieeg\\\\sub-20210511PStn_ses-2022052507405881_run-BrainSense20220525095700.mat',\n",
       "  'c:\\\\Users\\\\jebe12\\\\Research\\\\PyPerceive_Project\\\\Data\\\\sub-021\\\\12MFU\\\\ses-2022052507405881\\\\ieeg\\\\sub-20210511PStn_ses-2022052507405881_run-BrainSense20220525095800.mat',\n",
       "  'c:\\\\Users\\\\jebe12\\\\Research\\\\PyPerceive_Project\\\\Data\\\\sub-021\\\\12MFU\\\\ses-2022052507405881\\\\ieeg\\\\sub-20210511PStn_ses-2022052507405881_run-BrainSense20220525100700.mat',\n",
       "  'c:\\\\Users\\\\jebe12\\\\Research\\\\PyPerceive_Project\\\\Data\\\\sub-021\\\\12MFU\\\\ses-2022052507405881\\\\ieeg\\\\sub-20210511PStn_ses-2022052507405881_run-BrainSense20220525101300.mat',\n",
       "  'c:\\\\Users\\\\jebe12\\\\Research\\\\PyPerceive_Project\\\\Data\\\\sub-021\\\\3MFU\\\\ses-2021080602000195\\\\ieeg\\\\sub021_ses-2021080602000195_run-BrainSense20210806020700.mat',\n",
       "  'c:\\\\Users\\\\jebe12\\\\Research\\\\PyPerceive_Project\\\\Data\\\\sub-021\\\\3MFU\\\\ses-2021080602000195\\\\ieeg\\\\sub021_ses-2021080602000195_run-BrainSense20210806020900.mat',\n",
       "  'c:\\\\Users\\\\jebe12\\\\Research\\\\PyPerceive_Project\\\\Data\\\\sub-021\\\\3MFU\\\\ses-2021080602000195\\\\ieeg\\\\sub021_ses-2021080602000195_run-BrainSense20210806022200.mat',\n",
       "  'c:\\\\Users\\\\jebe12\\\\Research\\\\PyPerceive_Project\\\\Data\\\\sub-021\\\\3MFU\\\\ses-2021080602361095\\\\ieeg\\\\sub021_ses-2021080602361095_run-BrainSense20210806023800.mat',\n",
       "  'c:\\\\Users\\\\jebe12\\\\Research\\\\PyPerceive_Project\\\\Data\\\\sub-021\\\\3MFU\\\\ses-2021080602361095\\\\ieeg\\\\sub021_ses-2021080602361095_run-BrainSense20210806024200.mat',\n",
       "  'c:\\\\Users\\\\jebe12\\\\Research\\\\PyPerceive_Project\\\\Data\\\\sub-021\\\\3MFU\\\\ses-2021080602361095\\\\ieeg\\\\sub021_ses-2021080602361095_run-BrainSense20210806025700.mat',\n",
       "  'c:\\\\Users\\\\jebe12\\\\Research\\\\PyPerceive_Project\\\\Data\\\\sub-021\\\\3MFU\\\\ses-2021080602361095\\\\ieeg\\\\sub021_ses-2021080602361095_run-BrainSense20210806031300.mat',\n",
       "  'c:\\\\Users\\\\jebe12\\\\Research\\\\PyPerceive_Project\\\\Data\\\\sub-021\\\\3MFU (1)\\\\ses-2021080608385396\\\\ieeg\\\\sub021_ses-2021080608385396_run-BrainSense20210806084200.mat',\n",
       "  'c:\\\\Users\\\\jebe12\\\\Research\\\\PyPerceive_Project\\\\Data\\\\sub-021\\\\3MFU (1)\\\\ses-2021080608385396\\\\ieeg\\\\sub021_ses-2021080608385396_run-BrainSense20210806085500.mat',\n",
       "  'c:\\\\Users\\\\jebe12\\\\Research\\\\PyPerceive_Project\\\\Data\\\\sub-021\\\\3MFU (1)\\\\ses-2021080608385396\\\\ieeg\\\\sub021_ses-2021080608385396_run-BrainSense20210806090900.mat',\n",
       "  'c:\\\\Users\\\\jebe12\\\\Research\\\\PyPerceive_Project\\\\Data\\\\sub-021\\\\3MFU (1)\\\\ses-2021080608385396\\\\ieeg\\\\sub021_ses-2021080608385396_run-BrainSense20210806092600.mat',\n",
       "  'c:\\\\Users\\\\jebe12\\\\Research\\\\PyPerceive_Project\\\\Data\\\\sub-021\\\\3MFU (1)\\\\ses-2021080608385396\\\\ieeg\\\\sub021_ses-2021080608385396_run-BrainSense20210806094000.mat',\n",
       "  'c:\\\\Users\\\\jebe12\\\\Research\\\\PyPerceive_Project\\\\Data\\\\sub-021\\\\3MFU (1)\\\\ses-2021080612274895\\\\ieeg\\\\sub021_ses-2021080612274895_run-BrainSense20210806010500.mat',\n",
       "  'c:\\\\Users\\\\jebe12\\\\Research\\\\PyPerceive_Project\\\\Data\\\\sub-021\\\\3MFU (1)\\\\ses-2021080612274895\\\\ieeg\\\\sub021_ses-2021080612274895_run-BrainSense20210806011900.mat',\n",
       "  'c:\\\\Users\\\\jebe12\\\\Research\\\\PyPerceive_Project\\\\Data\\\\sub-021\\\\3MFU (1)\\\\ses-2021080612274895\\\\ieeg\\\\sub021_ses-2021080612274895_run-BrainSense20210806013300.mat',\n",
       "  'c:\\\\Users\\\\jebe12\\\\Research\\\\PyPerceive_Project\\\\Data\\\\sub-021\\\\3MFU (1)\\\\ses-2021080612274895\\\\ieeg\\\\sub021_ses-2021080612274895_run-BrainSense20210806014700.mat',\n",
       "  'c:\\\\Users\\\\jebe12\\\\Research\\\\PyPerceive_Project\\\\Data\\\\sub-021\\\\3MFU (1)\\\\ses-2021080612274895\\\\ieeg\\\\sub021_ses-2021080612274895_run-BrainSense20210806123400.mat',\n",
       "  'c:\\\\Users\\\\jebe12\\\\Research\\\\PyPerceive_Project\\\\Data\\\\sub-021\\\\3MFU (1)\\\\ses-2021080612274895\\\\ieeg\\\\sub021_ses-2021080612274895_run-BrainSense20210806124800.mat',\n",
       "  'c:\\\\Users\\\\jebe12\\\\Research\\\\PyPerceive_Project\\\\Data\\\\sub-021\\\\3MFU (2)\\\\ses-2021080607015296\\\\ieeg\\\\sub021_ses-2021080607015296_run-BrainSense20210806072300.mat',\n",
       "  'c:\\\\Users\\\\jebe12\\\\Research\\\\PyPerceive_Project\\\\Data\\\\sub-021\\\\3MFU (2)\\\\ses-2021080607015296\\\\ieeg\\\\sub021_ses-2021080607015296_run-BrainSense20210806074100.mat',\n",
       "  'c:\\\\Users\\\\jebe12\\\\Research\\\\PyPerceive_Project\\\\Data\\\\sub-021\\\\3MFU (2)\\\\ses-2021080607015296\\\\ieeg\\\\sub021_ses-2021080607015296_run-BrainSense20210806075600.mat',\n",
       "  'c:\\\\Users\\\\jebe12\\\\Research\\\\PyPerceive_Project\\\\Data\\\\sub-021\\\\3MFU (2)\\\\ses-2021080607015296\\\\ieeg\\\\sub021_ses-2021080607015296_run-BrainSense20210806081000.mat',\n",
       "  'c:\\\\Users\\\\jebe12\\\\Research\\\\PyPerceive_Project\\\\Data\\\\sub-021\\\\3MFU (2)\\\\ses-2021080607015296\\\\ieeg\\\\sub021_ses-2021080607015296_run-BrainSense20210806082500.mat'])"
      ]
     },
     "execution_count": 76,
     "metadata": {},
     "output_type": "execute_result"
    }
   ],
   "source": [
    "mats = matfiles.select_matfiles(\"sub-021\", \"Streaming\")\n",
    "mats"
   ]
  },
  {
   "cell_type": "code",
   "execution_count": 44,
   "metadata": {},
   "outputs": [
    {
     "ename": "RuntimeError",
     "evalue": "For FieldTrip I/O to work, the pymatreader module is needed, but it could not be imported.\n              use the following installation method appropriate for your environment:\n              'pip install pymatreader'\n              'conda install -c conda-forge pymatreader'",
     "output_type": "error",
     "traceback": [
      "\u001b[1;31m---------------------------------------------------------------------------\u001b[0m",
      "\u001b[1;31mModuleNotFoundError\u001b[0m                       Traceback (most recent call last)",
      "File \u001b[1;32mc:\\Users\\jebe12\\anaconda3\\envs\\pyPerceive_dev\\lib\\site-packages\\mne\\utils\\check.py:352\u001b[0m, in \u001b[0;36m_soft_import\u001b[1;34m(name, purpose, strict)\u001b[0m\n\u001b[0;32m    351\u001b[0m \u001b[39mtry\u001b[39;00m:\n\u001b[1;32m--> 352\u001b[0m     mod \u001b[39m=\u001b[39m import_module(name)\n\u001b[0;32m    353\u001b[0m     \u001b[39mreturn\u001b[39;00m mod\n",
      "File \u001b[1;32mc:\\Users\\jebe12\\anaconda3\\envs\\pyPerceive_dev\\lib\\importlib\\__init__.py:126\u001b[0m, in \u001b[0;36mimport_module\u001b[1;34m(name, package)\u001b[0m\n\u001b[0;32m    125\u001b[0m         level \u001b[39m+\u001b[39m\u001b[39m=\u001b[39m \u001b[39m1\u001b[39m\n\u001b[1;32m--> 126\u001b[0m \u001b[39mreturn\u001b[39;00m _bootstrap\u001b[39m.\u001b[39;49m_gcd_import(name[level:], package, level)\n",
      "File \u001b[1;32m<frozen importlib._bootstrap>:1050\u001b[0m, in \u001b[0;36m_gcd_import\u001b[1;34m(name, package, level)\u001b[0m\n",
      "File \u001b[1;32m<frozen importlib._bootstrap>:1027\u001b[0m, in \u001b[0;36m_find_and_load\u001b[1;34m(name, import_)\u001b[0m\n",
      "File \u001b[1;32m<frozen importlib._bootstrap>:1004\u001b[0m, in \u001b[0;36m_find_and_load_unlocked\u001b[1;34m(name, import_)\u001b[0m\n",
      "\u001b[1;31mModuleNotFoundError\u001b[0m: No module named 'pymatreader'",
      "\nDuring handling of the above exception, another exception occurred:\n",
      "\u001b[1;31mRuntimeError\u001b[0m                              Traceback (most recent call last)",
      "\u001b[1;32mc:\\Users\\jebe12\\Research\\PyPerceive_Project\\Code\\PyPerceive\\code\\notebooks\\percept_playground.ipynb Cell 26\u001b[0m in \u001b[0;36m<cell line: 5>\u001b[1;34m()\u001b[0m\n\u001b[0;32m      <a href='vscode-notebook-cell:/c%3A/Users/jebe12/Research/PyPerceive_Project/Code/PyPerceive/code/notebooks/percept_playground.ipynb#X35sZmlsZQ%3D%3D?line=2'>3</a>\u001b[0m matselection \u001b[39m=\u001b[39m sub021\u001b[39m.\u001b[39mtimingdatatype_matfilepaths\n\u001b[0;32m      <a href='vscode-notebook-cell:/c%3A/Users/jebe12/Research/PyPerceive_Project/Code/PyPerceive/code/notebooks/percept_playground.ipynb#X35sZmlsZQ%3D%3D?line=4'>5</a>\u001b[0m \u001b[39mfor\u001b[39;00m file \u001b[39min\u001b[39;00m matselection:  \u001b[39m# matselection stores a list of the selected .mat paths \u001b[39;00m\n\u001b[1;32m----> <a href='vscode-notebook-cell:/c%3A/Users/jebe12/Research/PyPerceive_Project/Code/PyPerceive/code/notebooks/percept_playground.ipynb#X35sZmlsZQ%3D%3D?line=5'>6</a>\u001b[0m     raw \u001b[39m=\u001b[39m mne\u001b[39m.\u001b[39;49mio\u001b[39m.\u001b[39;49mread_raw_fieldtrip(\n\u001b[0;32m      <a href='vscode-notebook-cell:/c%3A/Users/jebe12/Research/PyPerceive_Project/Code/PyPerceive/code/notebooks/percept_playground.ipynb#X35sZmlsZQ%3D%3D?line=6'>7</a>\u001b[0m         file,\n\u001b[0;32m      <a href='vscode-notebook-cell:/c%3A/Users/jebe12/Research/PyPerceive_Project/Code/PyPerceive/code/notebooks/percept_playground.ipynb#X35sZmlsZQ%3D%3D?line=7'>8</a>\u001b[0m         info\u001b[39m=\u001b[39;49m{},\n\u001b[0;32m      <a href='vscode-notebook-cell:/c%3A/Users/jebe12/Research/PyPerceive_Project/Code/PyPerceive/code/notebooks/percept_playground.ipynb#X35sZmlsZQ%3D%3D?line=8'>9</a>\u001b[0m         data_name\u001b[39m=\u001b[39;49m\u001b[39m'\u001b[39;49m\u001b[39mdata\u001b[39;49m\u001b[39m'\u001b[39;49m\n\u001b[0;32m     <a href='vscode-notebook-cell:/c%3A/Users/jebe12/Research/PyPerceive_Project/Code/PyPerceive/code/notebooks/percept_playground.ipynb#X35sZmlsZQ%3D%3D?line=9'>10</a>\u001b[0m         )\n\u001b[0;32m     <a href='vscode-notebook-cell:/c%3A/Users/jebe12/Research/PyPerceive_Project/Code/PyPerceive/code/notebooks/percept_playground.ipynb#X35sZmlsZQ%3D%3D?line=10'>11</a>\u001b[0m \u001b[39mreturn\u001b[39;00m raw\n",
      "File \u001b[1;32mc:\\Users\\jebe12\\anaconda3\\envs\\pyPerceive_dev\\lib\\site-packages\\mne\\io\\fieldtrip\\fieldtrip.py:47\u001b[0m, in \u001b[0;36mread_raw_fieldtrip\u001b[1;34m(fname, info, data_name)\u001b[0m\n\u001b[0;32m     17\u001b[0m \u001b[39mdef\u001b[39;00m \u001b[39mread_raw_fieldtrip\u001b[39m(fname, info, data_name\u001b[39m=\u001b[39m\u001b[39m'\u001b[39m\u001b[39mdata\u001b[39m\u001b[39m'\u001b[39m):\n\u001b[0;32m     18\u001b[0m     \u001b[39m\"\"\"Load continuous (raw) data from a FieldTrip preprocessing structure.\u001b[39;00m\n\u001b[0;32m     19\u001b[0m \n\u001b[0;32m     20\u001b[0m \u001b[39m    This function expects to find single trial raw data (FT_DATATYPE_RAW) in\u001b[39;00m\n\u001b[1;32m   (...)\u001b[0m\n\u001b[0;32m     45\u001b[0m \u001b[39m        A Raw Object containing the loaded data.\u001b[39;00m\n\u001b[0;32m     46\u001b[0m \u001b[39m    \"\"\"\u001b[39;00m\n\u001b[1;32m---> 47\u001b[0m     read_mat \u001b[39m=\u001b[39m _import_pymatreader_funcs(\u001b[39m'\u001b[39;49m\u001b[39mFieldTrip I/O\u001b[39;49m\u001b[39m'\u001b[39;49m)\n\u001b[0;32m     48\u001b[0m     fname \u001b[39m=\u001b[39m _check_fname(fname, overwrite\u001b[39m=\u001b[39m\u001b[39m'\u001b[39m\u001b[39mread\u001b[39m\u001b[39m'\u001b[39m, must_exist\u001b[39m=\u001b[39m\u001b[39mTrue\u001b[39;00m)\n\u001b[0;32m     50\u001b[0m     ft_struct \u001b[39m=\u001b[39m read_mat(fname,\n\u001b[0;32m     51\u001b[0m                          ignore_fields\u001b[39m=\u001b[39m[\u001b[39m'\u001b[39m\u001b[39mprevious\u001b[39m\u001b[39m'\u001b[39m],\n\u001b[0;32m     52\u001b[0m                          variable_names\u001b[39m=\u001b[39m[data_name])\n",
      "File \u001b[1;32mc:\\Users\\jebe12\\anaconda3\\envs\\pyPerceive_dev\\lib\\site-packages\\mne\\utils\\check.py:164\u001b[0m, in \u001b[0;36m_import_pymatreader_funcs\u001b[1;34m(purpose)\u001b[0m\n\u001b[0;32m    163\u001b[0m \u001b[39mdef\u001b[39;00m \u001b[39m_import_pymatreader_funcs\u001b[39m(purpose):\n\u001b[1;32m--> 164\u001b[0m     pymatreader \u001b[39m=\u001b[39m _soft_import(\u001b[39m'\u001b[39;49m\u001b[39mpymatreader\u001b[39;49m\u001b[39m'\u001b[39;49m, purpose)\n\u001b[0;32m    165\u001b[0m     \u001b[39mreturn\u001b[39;00m pymatreader\u001b[39m.\u001b[39mread_mat\n",
      "File \u001b[1;32mc:\\Users\\jebe12\\anaconda3\\envs\\pyPerceive_dev\\lib\\site-packages\\mne\\utils\\check.py:356\u001b[0m, in \u001b[0;36m_soft_import\u001b[1;34m(name, purpose, strict)\u001b[0m\n\u001b[0;32m    354\u001b[0m \u001b[39mexcept\u001b[39;00m (\u001b[39mImportError\u001b[39;00m, \u001b[39mModuleNotFoundError\u001b[39;00m):\n\u001b[0;32m    355\u001b[0m     \u001b[39mif\u001b[39;00m strict:\n\u001b[1;32m--> 356\u001b[0m         \u001b[39mraise\u001b[39;00m \u001b[39mRuntimeError\u001b[39;00m(\n\u001b[0;32m    357\u001b[0m             \u001b[39mf\u001b[39m\u001b[39m'\u001b[39m\u001b[39mFor \u001b[39m\u001b[39m{\u001b[39;00mpurpose\u001b[39m}\u001b[39;00m\u001b[39m to work, the \u001b[39m\u001b[39m{\u001b[39;00mname\u001b[39m}\u001b[39;00m\u001b[39m module is needed, \u001b[39m\u001b[39m'\u001b[39m \u001b[39m+\u001b[39m\n\u001b[0;32m    358\u001b[0m             \u001b[39m'\u001b[39m\u001b[39mbut it could not be imported.\u001b[39m\u001b[39m\\n\u001b[39;00m\u001b[39m'\u001b[39m \u001b[39m+\u001b[39m\n\u001b[0;32m    359\u001b[0m             \u001b[39m'\u001b[39m\u001b[39m\\n\u001b[39;00m\u001b[39m'\u001b[39m\u001b[39m.\u001b[39mjoin((indent(\u001b[39m'\u001b[39m\u001b[39muse the following installation method \u001b[39m\u001b[39m'\u001b[39m\n\u001b[0;32m    360\u001b[0m                               \u001b[39m'\u001b[39m\u001b[39mappropriate for your environment:\u001b[39m\u001b[39m'\u001b[39m),\n\u001b[0;32m    361\u001b[0m                        indent(\u001b[39mf\u001b[39m\u001b[39m\"\u001b[39m\u001b[39m'\u001b[39m\u001b[39mpip install \u001b[39m\u001b[39m{\u001b[39;00mpip_name\u001b[39m}\u001b[39;00m\u001b[39m'\u001b[39m\u001b[39m\"\u001b[39m),\n\u001b[0;32m    362\u001b[0m                        indent(\u001b[39mf\u001b[39m\u001b[39m\"\u001b[39m\u001b[39m'\u001b[39m\u001b[39mconda install -c conda-forge \u001b[39m\u001b[39m{\u001b[39;00mpip_name\u001b[39m}\u001b[39;00m\u001b[39m'\u001b[39m\u001b[39m\"\u001b[39m)\n\u001b[0;32m    363\u001b[0m                        )))\n\u001b[0;32m    364\u001b[0m     \u001b[39melse\u001b[39;00m:\n\u001b[0;32m    365\u001b[0m         \u001b[39mreturn\u001b[39;00m \u001b[39mFalse\u001b[39;00m\n",
      "\u001b[1;31mRuntimeError\u001b[0m: For FieldTrip I/O to work, the pymatreader module is needed, but it could not be imported.\n              use the following installation method appropriate for your environment:\n              'pip install pymatreader'\n              'conda install -c conda-forge pymatreader'"
     ]
    }
   ],
   "source": [
    "# matselection = matfiles.select_mat_timing_datatype(\"sub-021\", \"3MFU\", \"Streaming\")\n",
    "\n",
    "matselection = sub021.timingdatatype_matfilepaths\n",
    "\n",
    "for file in matselection:  # matselection stores a list of the selected .mat paths \n",
    "    raw = mne.io.read_raw_fieldtrip(\n",
    "        file,\n",
    "        info={},\n",
    "        data_name='data'\n",
    "        )\n",
    "return raw"
   ]
  },
  {
   "cell_type": "code",
   "execution_count": 62,
   "metadata": {},
   "outputs": [
    {
     "ename": "RuntimeError",
     "evalue": "For FieldTrip I/O to work, the pymatreader module is needed, but it could not be imported.\n              use the following installation method appropriate for your environment:\n              'pip install pymatreader'\n              'conda install -c conda-forge pymatreader'",
     "output_type": "error",
     "traceback": [
      "\u001b[1;31m---------------------------------------------------------------------------\u001b[0m",
      "\u001b[1;31mModuleNotFoundError\u001b[0m                       Traceback (most recent call last)",
      "File \u001b[1;32mc:\\Users\\jebe12\\anaconda3\\envs\\pyPerceive_dev\\lib\\site-packages\\mne\\utils\\check.py:352\u001b[0m, in \u001b[0;36m_soft_import\u001b[1;34m(name, purpose, strict)\u001b[0m\n\u001b[0;32m    351\u001b[0m \u001b[39mtry\u001b[39;00m:\n\u001b[1;32m--> 352\u001b[0m     mod \u001b[39m=\u001b[39m import_module(name)\n\u001b[0;32m    353\u001b[0m     \u001b[39mreturn\u001b[39;00m mod\n",
      "File \u001b[1;32mc:\\Users\\jebe12\\anaconda3\\envs\\pyPerceive_dev\\lib\\importlib\\__init__.py:126\u001b[0m, in \u001b[0;36mimport_module\u001b[1;34m(name, package)\u001b[0m\n\u001b[0;32m    125\u001b[0m         level \u001b[39m+\u001b[39m\u001b[39m=\u001b[39m \u001b[39m1\u001b[39m\n\u001b[1;32m--> 126\u001b[0m \u001b[39mreturn\u001b[39;00m _bootstrap\u001b[39m.\u001b[39;49m_gcd_import(name[level:], package, level)\n",
      "File \u001b[1;32m<frozen importlib._bootstrap>:1050\u001b[0m, in \u001b[0;36m_gcd_import\u001b[1;34m(name, package, level)\u001b[0m\n",
      "File \u001b[1;32m<frozen importlib._bootstrap>:1027\u001b[0m, in \u001b[0;36m_find_and_load\u001b[1;34m(name, import_)\u001b[0m\n",
      "File \u001b[1;32m<frozen importlib._bootstrap>:1004\u001b[0m, in \u001b[0;36m_find_and_load_unlocked\u001b[1;34m(name, import_)\u001b[0m\n",
      "\u001b[1;31mModuleNotFoundError\u001b[0m: No module named 'pymatreader'",
      "\nDuring handling of the above exception, another exception occurred:\n",
      "\u001b[1;31mRuntimeError\u001b[0m                              Traceback (most recent call last)",
      "\u001b[1;32mc:\\Users\\jebe12\\Research\\PyPerceive_Project\\Code\\PyPerceive\\code\\notebooks\\percept_playground.ipynb Cell 26\u001b[0m in \u001b[0;36m<cell line: 4>\u001b[1;34m()\u001b[0m\n\u001b[0;32m      <a href='vscode-notebook-cell:/c%3A/Users/jebe12/Research/PyPerceive_Project/Code/PyPerceive/code/notebooks/percept_playground.ipynb#X36sZmlsZQ%3D%3D?line=0'>1</a>\u001b[0m \u001b[39m# import file as MNE object\u001b[39;00m\n\u001b[0;32m      <a href='vscode-notebook-cell:/c%3A/Users/jebe12/Research/PyPerceive_Project/Code/PyPerceive/code/notebooks/percept_playground.ipynb#X36sZmlsZQ%3D%3D?line=1'>2</a>\u001b[0m \u001b[39m# saved in variable data as RawArray\u001b[39;00m\n\u001b[1;32m----> <a href='vscode-notebook-cell:/c%3A/Users/jebe12/Research/PyPerceive_Project/Code/PyPerceive/code/notebooks/percept_playground.ipynb#X36sZmlsZQ%3D%3D?line=3'>4</a>\u001b[0m raw \u001b[39m=\u001b[39m mne\u001b[39m.\u001b[39;49mio\u001b[39m.\u001b[39;49mread_raw_fieldtrip(\n\u001b[0;32m      <a href='vscode-notebook-cell:/c%3A/Users/jebe12/Research/PyPerceive_Project/Code/PyPerceive/code/notebooks/percept_playground.ipynb#X36sZmlsZQ%3D%3D?line=4'>5</a>\u001b[0m     sub021\u001b[39m.\u001b[39;49mselected_matfiles,\n\u001b[0;32m      <a href='vscode-notebook-cell:/c%3A/Users/jebe12/Research/PyPerceive_Project/Code/PyPerceive/code/notebooks/percept_playground.ipynb#X36sZmlsZQ%3D%3D?line=5'>6</a>\u001b[0m     info\u001b[39m=\u001b[39;49m{},\n\u001b[0;32m      <a href='vscode-notebook-cell:/c%3A/Users/jebe12/Research/PyPerceive_Project/Code/PyPerceive/code/notebooks/percept_playground.ipynb#X36sZmlsZQ%3D%3D?line=6'>7</a>\u001b[0m     data_name\u001b[39m=\u001b[39;49m\u001b[39m'\u001b[39;49m\u001b[39mdata\u001b[39;49m\u001b[39m'\u001b[39;49m\n\u001b[0;32m      <a href='vscode-notebook-cell:/c%3A/Users/jebe12/Research/PyPerceive_Project/Code/PyPerceive/code/notebooks/percept_playground.ipynb#X36sZmlsZQ%3D%3D?line=7'>8</a>\u001b[0m )\n\u001b[0;32m      <a href='vscode-notebook-cell:/c%3A/Users/jebe12/Research/PyPerceive_Project/Code/PyPerceive/code/notebooks/percept_playground.ipynb#X36sZmlsZQ%3D%3D?line=8'>9</a>\u001b[0m raw\u001b[39m.\u001b[39minfo\n",
      "File \u001b[1;32mc:\\Users\\jebe12\\anaconda3\\envs\\pyPerceive_dev\\lib\\site-packages\\mne\\io\\fieldtrip\\fieldtrip.py:47\u001b[0m, in \u001b[0;36mread_raw_fieldtrip\u001b[1;34m(fname, info, data_name)\u001b[0m\n\u001b[0;32m     17\u001b[0m \u001b[39mdef\u001b[39;00m \u001b[39mread_raw_fieldtrip\u001b[39m(fname, info, data_name\u001b[39m=\u001b[39m\u001b[39m'\u001b[39m\u001b[39mdata\u001b[39m\u001b[39m'\u001b[39m):\n\u001b[0;32m     18\u001b[0m     \u001b[39m\"\"\"Load continuous (raw) data from a FieldTrip preprocessing structure.\u001b[39;00m\n\u001b[0;32m     19\u001b[0m \n\u001b[0;32m     20\u001b[0m \u001b[39m    This function expects to find single trial raw data (FT_DATATYPE_RAW) in\u001b[39;00m\n\u001b[1;32m   (...)\u001b[0m\n\u001b[0;32m     45\u001b[0m \u001b[39m        A Raw Object containing the loaded data.\u001b[39;00m\n\u001b[0;32m     46\u001b[0m \u001b[39m    \"\"\"\u001b[39;00m\n\u001b[1;32m---> 47\u001b[0m     read_mat \u001b[39m=\u001b[39m _import_pymatreader_funcs(\u001b[39m'\u001b[39;49m\u001b[39mFieldTrip I/O\u001b[39;49m\u001b[39m'\u001b[39;49m)\n\u001b[0;32m     48\u001b[0m     fname \u001b[39m=\u001b[39m _check_fname(fname, overwrite\u001b[39m=\u001b[39m\u001b[39m'\u001b[39m\u001b[39mread\u001b[39m\u001b[39m'\u001b[39m, must_exist\u001b[39m=\u001b[39m\u001b[39mTrue\u001b[39;00m)\n\u001b[0;32m     50\u001b[0m     ft_struct \u001b[39m=\u001b[39m read_mat(fname,\n\u001b[0;32m     51\u001b[0m                          ignore_fields\u001b[39m=\u001b[39m[\u001b[39m'\u001b[39m\u001b[39mprevious\u001b[39m\u001b[39m'\u001b[39m],\n\u001b[0;32m     52\u001b[0m                          variable_names\u001b[39m=\u001b[39m[data_name])\n",
      "File \u001b[1;32mc:\\Users\\jebe12\\anaconda3\\envs\\pyPerceive_dev\\lib\\site-packages\\mne\\utils\\check.py:164\u001b[0m, in \u001b[0;36m_import_pymatreader_funcs\u001b[1;34m(purpose)\u001b[0m\n\u001b[0;32m    163\u001b[0m \u001b[39mdef\u001b[39;00m \u001b[39m_import_pymatreader_funcs\u001b[39m(purpose):\n\u001b[1;32m--> 164\u001b[0m     pymatreader \u001b[39m=\u001b[39m _soft_import(\u001b[39m'\u001b[39;49m\u001b[39mpymatreader\u001b[39;49m\u001b[39m'\u001b[39;49m, purpose)\n\u001b[0;32m    165\u001b[0m     \u001b[39mreturn\u001b[39;00m pymatreader\u001b[39m.\u001b[39mread_mat\n",
      "File \u001b[1;32mc:\\Users\\jebe12\\anaconda3\\envs\\pyPerceive_dev\\lib\\site-packages\\mne\\utils\\check.py:356\u001b[0m, in \u001b[0;36m_soft_import\u001b[1;34m(name, purpose, strict)\u001b[0m\n\u001b[0;32m    354\u001b[0m \u001b[39mexcept\u001b[39;00m (\u001b[39mImportError\u001b[39;00m, \u001b[39mModuleNotFoundError\u001b[39;00m):\n\u001b[0;32m    355\u001b[0m     \u001b[39mif\u001b[39;00m strict:\n\u001b[1;32m--> 356\u001b[0m         \u001b[39mraise\u001b[39;00m \u001b[39mRuntimeError\u001b[39;00m(\n\u001b[0;32m    357\u001b[0m             \u001b[39mf\u001b[39m\u001b[39m'\u001b[39m\u001b[39mFor \u001b[39m\u001b[39m{\u001b[39;00mpurpose\u001b[39m}\u001b[39;00m\u001b[39m to work, the \u001b[39m\u001b[39m{\u001b[39;00mname\u001b[39m}\u001b[39;00m\u001b[39m module is needed, \u001b[39m\u001b[39m'\u001b[39m \u001b[39m+\u001b[39m\n\u001b[0;32m    358\u001b[0m             \u001b[39m'\u001b[39m\u001b[39mbut it could not be imported.\u001b[39m\u001b[39m\\n\u001b[39;00m\u001b[39m'\u001b[39m \u001b[39m+\u001b[39m\n\u001b[0;32m    359\u001b[0m             \u001b[39m'\u001b[39m\u001b[39m\\n\u001b[39;00m\u001b[39m'\u001b[39m\u001b[39m.\u001b[39mjoin((indent(\u001b[39m'\u001b[39m\u001b[39muse the following installation method \u001b[39m\u001b[39m'\u001b[39m\n\u001b[0;32m    360\u001b[0m                               \u001b[39m'\u001b[39m\u001b[39mappropriate for your environment:\u001b[39m\u001b[39m'\u001b[39m),\n\u001b[0;32m    361\u001b[0m                        indent(\u001b[39mf\u001b[39m\u001b[39m\"\u001b[39m\u001b[39m'\u001b[39m\u001b[39mpip install \u001b[39m\u001b[39m{\u001b[39;00mpip_name\u001b[39m}\u001b[39;00m\u001b[39m'\u001b[39m\u001b[39m\"\u001b[39m),\n\u001b[0;32m    362\u001b[0m                        indent(\u001b[39mf\u001b[39m\u001b[39m\"\u001b[39m\u001b[39m'\u001b[39m\u001b[39mconda install -c conda-forge \u001b[39m\u001b[39m{\u001b[39;00mpip_name\u001b[39m}\u001b[39;00m\u001b[39m'\u001b[39m\u001b[39m\"\u001b[39m)\n\u001b[0;32m    363\u001b[0m                        )))\n\u001b[0;32m    364\u001b[0m     \u001b[39melse\u001b[39;00m:\n\u001b[0;32m    365\u001b[0m         \u001b[39mreturn\u001b[39;00m \u001b[39mFalse\u001b[39;00m\n",
      "\u001b[1;31mRuntimeError\u001b[0m: For FieldTrip I/O to work, the pymatreader module is needed, but it could not be imported.\n              use the following installation method appropriate for your environment:\n              'pip install pymatreader'\n              'conda install -c conda-forge pymatreader'"
     ]
    }
   ],
   "source": [
    "# import file as MNE object\n",
    "# saved in variable data as RawArray\n",
    "\n",
    "raw = mne.io.read_raw_fieldtrip(\n",
    "    sub021.selected_matfiles,\n",
    "    info={},\n",
    "    data_name='data'\n",
    ")\n",
    "raw.info"
   ]
  },
  {
   "cell_type": "code",
   "execution_count": 289,
   "metadata": {},
   "outputs": [],
   "source": [
    "# load raw-mat file into python\n",
    "# saved in variable dat as a dict with variable names as keys and loaded matrices as values\n",
    "\n",
    "#dat = scipy.io.loadmat(matfile_path)"
   ]
  },
  {
   "cell_type": "markdown",
   "metadata": {},
   "source": [
    "### Define variables to access relevant data "
   ]
  },
  {
   "cell_type": "code",
   "execution_count": 65,
   "metadata": {},
   "outputs": [
    {
     "name": "stdout",
     "output_type": "stream",
     "text": [
      "The data object has:\n",
      "\t3688 time samples,\n",
      "\tand a sample frequency of 250.0 Hz\n",
      "\twith a recording duration of 14.752 seconds.\n",
      "\t6 channels were labeled as \n",
      "['LFP_Stn_L_13', 'LFP_Stn_R_02', 'LFP_Stn_L_13_PEAK15Hz_THR20-30_AVG3000ms', 'LFP_Stn_R_02_PEAK15Hz_THR20-30_AVG3000ms', 'STIM_L_125Hz_60us', 'STIM_R_125Hz_60us'].\n"
     ]
    }
   ],
   "source": [
    "ch_names = raw.ch_names\n",
    "n_chan = len(ch_names)\n",
    "n_time_samps = raw.n_times #nsamples\n",
    "time_secs = raw.times #timepoints set to zero\n",
    "ch_trials = raw._data\n",
    "sampling_freq = raw.info['sfreq']\n",
    "time_duration = (n_time_samps/sampling_freq).astype(float)\n",
    "\n",
    "\n",
    "\n",
    "print(\n",
    "      f'The data object has:\\n\\t{n_time_samps} time samples,'\n",
    "      f'\\n\\tand a sample frequency of {sampling_freq} Hz' \n",
    "      f'\\n\\twith a recording duration of {time_duration} seconds.' \n",
    "      f'\\n\\t{n_chan} channels were labeled as \\n{ch_names}.'\n",
    ")"
   ]
  },
  {
   "cell_type": "code",
   "execution_count": 66,
   "metadata": {},
   "outputs": [],
   "source": [
    "# print(raw.info.keys())\n",
    "\n",
    "# print(raw.info['dev_ctf_t'])\n",
    "# raw[0] # indexing of raw shows tuple of data and time (2 arrays)\n"
   ]
  },
  {
   "cell_type": "code",
   "execution_count": 67,
   "metadata": {},
   "outputs": [
    {
     "name": "stdout",
     "output_type": "stream",
     "text": [
      "0 LFP_Stn_L_13\n",
      "1 LFP_Stn_R_02\n",
      "2 LFP_Stn_L_13_PEAK15Hz_THR20-30_AVG3000ms\n",
      "3 LFP_Stn_R_02_PEAK15Hz_THR20-30_AVG3000ms\n",
      "4 STIM_L_125Hz_60us\n",
      "5 STIM_R_125Hz_60us\n"
     ]
    },
    {
     "data": {
      "text/plain": [
       "dict_keys(['Time', 'LFP_Stn_L_13', 'LFP_Stn_R_02', 'LFP_Stn_L_13_PEAK15Hz_THR20-30_AVG3000ms', 'LFP_Stn_R_02_PEAK15Hz_THR20-30_AVG3000ms', 'STIM_L_125Hz_60us', 'STIM_R_125Hz_60us'])"
      ]
     },
     "execution_count": 67,
     "metadata": {},
     "output_type": "execute_result"
    }
   ],
   "source": [
    "# create dictionary with ch_names as keys : ch_trials as values\n",
    "\n",
    "mydict = {\n",
    "    'Time' : time_secs\n",
    "}\n",
    "for i, name in enumerate(ch_names):\n",
    "    # enumerate gives you counter within the loop\n",
    "    mydict[name] = ch_trials[i]\n",
    "    print(i, name)\n",
    "\n",
    "mydict.keys()  \n"
   ]
  },
  {
   "cell_type": "code",
   "execution_count": 8,
   "metadata": {},
   "outputs": [
    {
     "name": "stdout",
     "output_type": "stream",
     "text": [
      "    Time  LFP_Stn_L_13  LFP_Stn_R_02  \\\n",
      "0  0.000     -4.440345     -5.806605   \n",
      "1  0.004     -3.643360     -6.262025   \n",
      "2  0.008     -4.440345     -3.301795   \n",
      "3  0.012     -3.757215      4.326490   \n",
      "4  0.016     -4.098780      5.465040   \n",
      "\n",
      "   LFP_Stn_L_13_PEAK15Hz_THR20-30_AVG3000ms  \\\n",
      "0                                     482.0   \n",
      "1                                     482.0   \n",
      "2                                     482.0   \n",
      "3                                     482.0   \n",
      "4                                     482.0   \n",
      "\n",
      "   LFP_Stn_R_02_PEAK15Hz_THR20-30_AVG3000ms  STIM_L_125Hz_60us  \\\n",
      "0                                     587.0                0.0   \n",
      "1                                     587.0                0.0   \n",
      "2                                     587.0                0.0   \n",
      "3                                     587.0                0.0   \n",
      "4                                     587.0                0.0   \n",
      "\n",
      "   STIM_R_125Hz_60us  \n",
      "0                0.0  \n",
      "1                0.0  \n",
      "2                0.0  \n",
      "3                0.0  \n",
      "4                0.0  \n"
     ]
    }
   ],
   "source": [
    "# write dictionary to a csv file and store it in the current folder\n",
    "\n",
    "df = pd.DataFrame.from_dict(mydict)\n",
    "# or\n",
    "# df = pd.DataFrame(data=ch_trials.T, columns=ch_names)\n",
    "\n",
    "df.to_csv(matfile_folder+'mydict.csv', index=False, header=True)\n",
    "\n",
    "# MNE method to save only a selection of channels and timepoints in .csv\n",
    "# start_end_secs = np.array([10, 13])\n",
    "# start_sample, stop_sample = (start_end_secs * sampling_freq).astype(int)\n",
    "# df = raw.to_data_frame(picks=['LFP_Stn_L_13'], start=start_sample, stop=stop_sample)\n",
    "# df.to_csv(folder+'mydict.csv')\n",
    "\n",
    "print(df.head())"
   ]
  },
  {
   "cell_type": "code",
   "execution_count": null,
   "metadata": {},
   "outputs": [],
   "source": [
    "# save all channels in .npy files without timepoints\n",
    "\n",
    "# all_channels = raw.get_data()\n",
    "# np.save(file='data_all_channels_.npy', arr=data)\n"
   ]
  },
  {
   "cell_type": "markdown",
   "metadata": {},
   "source": [
    "### Annotating data"
   ]
  },
  {
   "cell_type": "code",
   "execution_count": 68,
   "metadata": {},
   "outputs": [],
   "source": [
    "from datetime import timedelta"
   ]
  },
  {
   "cell_type": "code",
   "execution_count": 69,
   "metadata": {},
   "outputs": [
    {
     "name": "stdout",
     "output_type": "stream",
     "text": [
      "<Annotations | 3 segments: AAA (1), BBB (1), CCC (1)>\n",
      "<Annotations | 3 segments: AAA (1), BBB (1), CCC (1)>\n",
      "True\n",
      "[3. 5. 7.]\n",
      "[3. 5. 7.]\n"
     ]
    }
   ],
   "source": [
    "# create annotations\n",
    "\n",
    "my_annot = mne.Annotations(onset=[3, 5, 7],  # in seconds\n",
    "                           duration=[1, 0.5, 0.25],  # in seconds, too\n",
    "                           description=['AAA', 'BBB', 'CCC'])\n",
    "print(my_annot)\n",
    "\n",
    "raw.set_annotations(my_annot)\n",
    "print(raw.annotations)\n",
    "\n",
    "# convert meas_date (a tuple of seconds, microseconds) into a float:\n",
    "meas_date = raw.info['meas_date']\n",
    "orig_time = raw.annotations.orig_time \n",
    "# orig_time matches the time of the first sample of the recording\n",
    "print(meas_date == orig_time)\n",
    "\n",
    "# add the onset values to each annotation\n",
    "time_of_first_sample = raw.first_samp / raw.info['sfreq']\n",
    "print(my_annot.onset + time_of_first_sample)\n",
    "print(raw.annotations.onset)"
   ]
  },
  {
   "cell_type": "code",
   "execution_count": 70,
   "metadata": {},
   "outputs": [
    {
     "name": "stdout",
     "output_type": "stream",
     "text": [
      "Using pyopengl with version 3.1.6\n",
      "<mne_qt_browser._pg_figure.MNEQtBrowser object at 0x15872a7a0>\n"
     ]
    },
    {
     "name": "stdout",
     "output_type": "stream",
     "text": [
      "Channels marked as bad:\n",
      "none\n"
     ]
    }
   ],
   "source": [
    "fig = raw.plot(start=2, duration=6)\n",
    "print(fig)"
   ]
  },
  {
   "cell_type": "markdown",
   "metadata": {},
   "source": [
    "## 2. Plot data"
   ]
  },
  {
   "cell_type": "markdown",
   "metadata": {},
   "source": [
    "### Matplotlib Plotting Playground"
   ]
  },
  {
   "cell_type": "code",
   "execution_count": 14,
   "metadata": {},
   "outputs": [
    {
     "name": "stdout",
     "output_type": "stream",
     "text": [
      "(array([[-4.44034504, -3.64336003, -4.44034504]]), array([0.   , 0.004, 0.008]))\n"
     ]
    }
   ],
   "source": [
    "# print the raw[] tuple of ch_trials[0, 0:3] and time_secs[0, 0:3]\n",
    "print(raw[0, 0:3]) "
   ]
  },
  {
   "cell_type": "code",
   "execution_count": 71,
   "metadata": {},
   "outputs": [
    {
     "name": "stdout",
     "output_type": "stream",
     "text": [
      "We here selected the timepoints from 2750 until 3250\n",
      "and selected the channel LFP_Stn_L_13\n"
     ]
    }
   ],
   "source": [
    "# extract a selection of raw[]\n",
    "\n",
    "start_stop_seconds = np.array([11, 13])\n",
    "start_sample, stop_sample = (start_stop_seconds * sampling_freq).astype(int)\n",
    "\n",
    "channel_index = 0\n",
    "raw_selection = raw[channel_index, start_sample:stop_sample]\n",
    "\n",
    "print(f'We here selected the timepoints from {start_sample} until {stop_sample}' \n",
    "      f'\\nand selected the channel {ch_names[channel_index]}')\n",
    "\n",
    "# print(raw_selection)"
   ]
  },
  {
   "cell_type": "code",
   "execution_count": 73,
   "metadata": {},
   "outputs": [
    {
     "data": {
      "image/png": "[encoded data removed]",
      "text/plain": [
       "<Figure size 640x480 with 1 Axes>"
      ]
     },
     "metadata": {},
     "output_type": "display_data"
    }
   ],
   "source": [
    "# plot the selected 2 arrays\n",
    "\n",
    "x = raw_selection[1]        # time in seconds\n",
    "y = raw_selection[0].T      # data from ch_trials[channel_index]\n",
    "\n",
    "plt.plot(x, y)\n",
    "\n",
    "plt.title(str(ch_names[channel_index]))\n",
    "plt.xlabel(\"Time in seconds\")\n",
    "# plt.ylabel() ???\n",
    "\n",
    "plt.show()"
   ]
  },
  {
   "cell_type": "code",
   "execution_count": 89,
   "metadata": {},
   "outputs": [
    {
     "data": {
      "text/plain": [
       "<Figure size 640x480 with 0 Axes>"
      ]
     },
     "metadata": {},
     "output_type": "display_data"
    },
    {
     "data": {
      "image/png": "[encoded data removed]",
      "text/plain": [
       "<Figure size 2000x800 with 2 Axes>"
      ]
     },
     "metadata": {},
     "output_type": "display_data"
    }
   ],
   "source": [
    "# plotting first and second row of data.trial from Matlab\n",
    "# plotting first 2 channels \n",
    "\n",
    "plt.suptitle(\"Raw data of channels left and right\")\n",
    "\n",
    "plt.figure(figsize= (20, 8))\n",
    "\n",
    "# plot raw data of channel LFP_Stn_L_13\n",
    "plt.subplot(1,2,1)\n",
    "plt.plot(ch_trials[0])\n",
    "plt.title(str(ch_names[0]))\n",
    "\n",
    "# plot raw data of channel LFP_Stn_R_02\n",
    "plt.subplot(1,2,2)\n",
    "plt.plot(ch_trials[1])\n",
    "plt.title(str(ch_names[1]))\n",
    "\n",
    "plt.show()\n"
   ]
  },
  {
   "cell_type": "code",
   "execution_count": 75,
   "metadata": {},
   "outputs": [
    {
     "name": "stdout",
     "output_type": "stream",
     "text": [
      "[[-4.44034504 -3.64336003 -4.44034504 ... 10.9300801   9.67767509\n",
      "  10.3608051 ]]\n"
     ]
    },
    {
     "data": {
      "image/png": "[encoded data removed]",
      "text/plain": [
       "<Figure size 1500x500 with 1 Axes>"
      ]
     },
     "metadata": {},
     "output_type": "display_data"
    }
   ],
   "source": [
    "mydat = raw.get_data(picks='LFP_Stn_L_13') # saving row 1 from data.trial\n",
    "print(mydat)\n",
    "\n",
    "fig, ax = plt.subplots(figsize=[15, 5])\n",
    "ax.plot(mydat)\n",
    "plt.show()"
   ]
  },
  {
   "cell_type": "markdown",
   "metadata": {},
   "source": [
    "### MNE built-in plotting "
   ]
  },
  {
   "cell_type": "code",
   "execution_count": 90,
   "metadata": {},
   "outputs": [
    {
     "name": "stdout",
     "output_type": "stream",
     "text": [
      "Using pyopengl with version 3.1.6\n"
     ]
    },
    {
     "data": {
      "text/plain": [
       "<mne_qt_browser._pg_figure.MNEQtBrowser at 0x156b24670>"
      ]
     },
     "execution_count": 90,
     "metadata": {},
     "output_type": "execute_result"
    },
    {
     "name": "stdout",
     "output_type": "stream",
     "text": [
      "Channels marked as bad:\n",
      "none\n"
     ]
    }
   ],
   "source": [
    "# raw hast a built-in plot() method \n",
    "# this opens MNE an interactive plot window\n",
    "\n",
    "raw.plot()"
   ]
  },
  {
   "cell_type": "code",
   "execution_count": 83,
   "metadata": {},
   "outputs": [
    {
     "name": "stdout",
     "output_type": "stream",
     "text": [
      "Effective window size : 1.024 (s)\n"
     ]
    },
    {
     "name": "stderr",
     "output_type": "stream",
     "text": [
      "/var/folders/d4/z737wy2x2y309dsbbzk9y8yr0000gn/T/ipykernel_2210/4077106721.py:7: RuntimeWarning: Channel locations not available. Disabling spatial colors.\n",
      "  spectrum.plot(picks = chs_to_plot, average=False, color='b')\n",
      "/Applications/MNE-Python/.mne-python/lib/python3.10/site-packages/mne/viz/utils.py:137: UserWarning: Matplotlib is currently using module://matplotlib_inline.backend_inline, which is a non-GUI backend, so cannot show the figure.\n",
      "  (fig or plt).show(**kwargs)\n"
     ]
    },
    {
     "data": {
      "image/png": "[encoded data removed]",
      "text/plain": [
       "<MNELineFigure size 1000x350 with 1 Axes>"
      ]
     },
     "execution_count": 83,
     "metadata": {},
     "output_type": "execute_result"
    }
   ],
   "source": [
    "chs_to_plot = ['LFP_Stn_L_13', 'LFP_Stn_R_02']\n",
    "\n",
    "# to plot spectral power create object spectrum\n",
    "spectrum = raw.compute_psd(picks = chs_to_plot )\n",
    "\n",
    "# spectrum has a built-in plot() method \n",
    "spectrum.plot(picks = chs_to_plot, average=False, color='b')"
   ]
  },
  {
   "cell_type": "markdown",
   "metadata": {},
   "source": [
    "### Make some nice plots of the data"
   ]
  },
  {
   "cell_type": "code",
   "execution_count": 40,
   "metadata": {},
   "outputs": [],
   "source": [
    "#channels to plot:\n",
    "chs_to_plot = [ \n",
    "    'LFP_R_13_PEAK76',\n",
    "    'LFP_R_13_STN',\n",
    "    'STIM_R_125Hz_60'\n",
    "]\n"
   ]
  },
  {
   "cell_type": "code",
   "execution_count": null,
   "metadata": {},
   "outputs": [],
   "source": [
    "# time to plot\n",
    "plot_times = time_secs # time set to zero "
   ]
  },
  {
   "cell_type": "markdown",
   "metadata": {},
   "source": [
    "### Code from Varvara"
   ]
  },
  {
   "cell_type": "code",
   "execution_count": null,
   "metadata": {},
   "outputs": [],
   "source": [
    "#Make some nice plots of the data\n",
    "\n",
    "#channels to plot:\n",
    "chs_to_plot = [ \n",
    "    'LFP_R_13_PEAK76',\n",
    "    'LFP_R_13_STN',\n",
    "    'STIM_R_125Hz_60'\n",
    "]\n",
    "\n",
    "plot_times = data.times #time\n",
    "xticks = np.linspace(0, plot_times[-1], 5) #make 5 x-axis ticks, dividing the seconds by 5\n",
    "\n",
    "fig, axes = plt.subplots(\n",
    "    1, len(chs_to_plot), figsize=(18, 6)\n",
    ") #define n of subplots and size\n",
    "\n",
    "# axes = axes.flatten()\n",
    "ax_c = 0\n",
    "\n",
    "for i, name in enumerate(chNamesList):\n",
    "\n",
    "    \n",
    "    if name in chs_to_plot:\n",
    "\n",
    "        if name[-3:] == 'STN':\n",
    "            axes[ax_c].psd(raw_data[i, :])\n",
    "            axes[ax_c].set_title(\n",
    "                f'PSD {name}',\n",
    "                fontsize=16, color='r'\n",
    "            )\n",
    "\n",
    "        else:\n",
    "            \n",
    "            axes[ax_c].plot(plot_times, raw_data[i, :])\n",
    "            axes[ax_c].set_title(name, fontsize=16, color='r')\n",
    "            axes[ax_c].set_xticks(xticks)\n",
    "            axes[ax_c].set_xticklabels(np.around(xticks / 60, 1))\n",
    "                \n",
    "        ax_c += 1\n",
    "        \n",
    "        \n",
    "# chNamesArr == chs_to_plot"
   ]
  },
  {
   "cell_type": "code",
   "execution_count": null,
   "metadata": {},
   "outputs": [],
   "source": [
    "a = 55.5"
   ]
  },
  {
   "cell_type": "code",
   "execution_count": null,
   "metadata": {},
   "outputs": [],
   "source": [
    "(f'channel1 {name}, #{a}'\n",
    " ' because ut was too long')"
   ]
  },
  {
   "cell_type": "code",
   "execution_count": null,
   "metadata": {},
   "outputs": [],
   "source": [
    "chNamesList.index(chs_to_plot)"
   ]
  },
  {
   "cell_type": "code",
   "execution_count": null,
   "metadata": {},
   "outputs": [],
   "source": [
    "data.plot_psd(fmin = 5, fmax = 50, picks = 1, tmin = 0, tmax = 20, dB = False, estimate = 'amplitude')\n",
    "data.plot_psd(fmin = 5, fmax = 50, picks = 1, tmin = 60, tmax = 80,  dB = False, estimate = 'amplitude')"
   ]
  },
  {
   "cell_type": "code",
   "execution_count": null,
   "metadata": {},
   "outputs": [],
   "source": [
    "print(type(data._data))\n",
    "print(data._data.shape)\n",
    "scan_durn = data._data.shape[1] / data.info['sfreq']\n",
    "print('Duration of LFP recording = ', scan_durn, 's, or', scan_durn / 60, 'min.')\n",
    "print(data._data[1, :])\n",
    "\n",
    "chan = 1 # set channel we want\n",
    "start_time = int((1000 / 1000) * data.info['sfreq'])\n",
    "end_time   = int((10000 / 1000) * data.info['sfreq'])\n",
    "data._data[chan, start_time:end_time]"
   ]
  },
  {
   "cell_type": "code",
   "execution_count": null,
   "metadata": {},
   "outputs": [],
   "source": [
    "mydat = data.get_data(picks=['LFP_Stn_L_13'], start=1, stop=201)\n",
    "print(mydat.shape)"
   ]
  },
  {
   "cell_type": "code",
   "execution_count": null,
   "metadata": {},
   "outputs": [],
   "source": [
    "fig, ax = plt.subplots(figsize=[15, 5])\n",
    "ax.plot(data.get_data(picks='STIM_R_125Hz_60us',start=1, stop=20000).T)\n",
    "plt.show()"
   ]
  },
  {
   "cell_type": "code",
   "execution_count": null,
   "metadata": {},
   "outputs": [],
   "source": [
    "#%matplotlib inline\n",
    "data.plot(data.get_data(picks='LFP_Stn_L_13'))"
   ]
  },
  {
   "cell_type": "code",
   "execution_count": null,
   "metadata": {},
   "outputs": [],
   "source": [
    "#Pick only channel one and two\n",
    "data.info['bads'] = ['LFP_Stn_L_13','LFP_Stn_R_02', 'LFP_Stn_L_13_PEAK15Hz_THR20-30_AVG3000ms', 'LFP_Stn_R_02_PEAK15Hz_THR20-30_AVG3000ms', 'STIM_L_125Hz_60us', 'STIM_R_125Hz_60us'] \n",
    "picks = mne.pick_types(data.info, meg='mag', eeg=False, eog=False,\n",
    "                       stim=False, exclude='bads')"
   ]
  },
  {
   "cell_type": "code",
   "execution_count": null,
   "metadata": {},
   "outputs": [],
   "source": [
    "#events = mne.find_events(raw, stim_channel='LFP_R_13_STN')\n",
    "trial_onsets = np.array([\n",
    "       [ 1000 ,      0 ,    1],\n",
    "       [ 15000 ,      0 ,    2 ]]) #we need the samples\n",
    "event_dict = {'NoStim':1,'Threshold':2}\n",
    "fig = mne.viz.plot_events(trial_onsets, sfreq=data.info['sfreq'], first_samp=data.first_samp)\n",
    "epochs = mne.Epochs(data,events=trial_onsets,event_id = event_dict, tmin=0, tmax=10, baseline = None, preload = True)\n",
    "epochs.plot_image(picks = 0)"
   ]
  },
  {
   "cell_type": "code",
   "execution_count": null,
   "metadata": {},
   "outputs": [],
   "source": [
    "nostim_ep = epochs['NoStim']\n",
    "stim_ep = epochs['Threshold']\n",
    "stim_ep.plot_image(picks = 1)"
   ]
  },
  {
   "cell_type": "code",
   "execution_count": null,
   "metadata": {},
   "outputs": [],
   "source": [
    "M = 200\n",
    "NFFT = M\n",
    "win = hanning(M)\n",
    "overlap = 0.25\n",
    "overlap_samples = int(round(M*overlap)) # overlap in samples\n",
    "t, f, S = spectrogram(mydat,window=win,nperseg=M,noverlap=overlap_samples,nfft=NFFT)\n",
    "\n",
    "# Compute average spectrum\n",
    "avg_S = np.mean(S,axis=1)"
   ]
  },
  {
   "cell_type": "code",
   "execution_count": null,
   "metadata": {},
   "outputs": [],
   "source": [
    "vars(tfr_morlet)"
   ]
  },
  {
   "cell_type": "code",
   "execution_count": null,
   "metadata": {},
   "outputs": [],
   "source": [
    "freqs = np.arange(1, 125)\n",
    "D = tfr_morlet(epochs, freqs=freqs, n_cycles=6, return_itc=False, average=True, picks = 1)"
   ]
  },
  {
   "cell_type": "code",
   "execution_count": null,
   "metadata": {},
   "outputs": [],
   "source": [
    "spectrogram(\n",
    "    mydat,\n",
    "    fs=125.0, \n",
    "#             window=('hanning', 0.25), \n",
    "    nperseg=1, noverlap=0.25, nfft=None, detrend='constant', \n",
    "                         return_onesided=True, scaling='density', axis=- 1, mode='psd')"
   ]
  },
  {
   "cell_type": "code",
   "execution_count": null,
   "metadata": {},
   "outputs": [],
   "source": [
    "raw = data.filter(l_freq=90, h_freq=5, picks=[0,1])"
   ]
  },
  {
   "cell_type": "code",
   "execution_count": null,
   "metadata": {},
   "outputs": [],
   "source": [
    "#epochs.plot_psd(fmin=5, fmax=90)\n",
    "D.plot(fmin=5, fmax=40, picks = 1)"
   ]
  },
  {
   "cell_type": "code",
   "execution_count": null,
   "metadata": {},
   "outputs": [],
   "source": [
    "D.plot(mode='zlogratio', picks = 0, baseline=None,\n",
    "#        vmin = -3, vmax = 8,\n",
    "       cmap='viridis',\n",
    ")"
   ]
  },
  {
   "cell_type": "code",
   "execution_count": null,
   "metadata": {},
   "outputs": [],
   "source": [
    "# matplotlib\n",
    "D.plot(events = trial_onsets, start = 80, duration = 7, n_channels = 1)"
   ]
  },
  {
   "cell_type": "markdown",
   "metadata": {},
   "source": [
    "## 3. Preprocessing"
   ]
  },
  {
   "cell_type": "code",
   "execution_count": 54,
   "metadata": {},
   "outputs": [
    {
     "name": "stdout",
     "output_type": "stream",
     "text": [
      "Effective window size : 1.024 (s)\n",
      "Aggregating Welch estimates (median) before plotting...\n"
     ]
    },
    {
     "name": "stderr",
     "output_type": "stream",
     "text": [
      "/var/folders/d4/z737wy2x2y309dsbbzk9y8yr0000gn/T/ipykernel_2210/3965450946.py:2: RuntimeWarning: Channel locations not available. Disabling spatial colors.\n",
      "  fig = raw.compute_psd(picks=chs_to_plot, tmax=np.inf, fmax=125.0, average=None).plot(picks=chs_to_plot)\n",
      "/Applications/MNE-Python/.mne-python/lib/python3.10/site-packages/mne/viz/utils.py:137: UserWarning: Matplotlib is currently using module://matplotlib_inline.backend_inline, which is a non-GUI backend, so cannot show the figure.\n",
      "  (fig or plt).show(**kwargs)\n",
      "/var/folders/d4/z737wy2x2y309dsbbzk9y8yr0000gn/T/ipykernel_2210/3965450946.py:3: UserWarning: Matplotlib is currently using module://matplotlib_inline.backend_inline, which is a non-GUI backend, so cannot show the figure.\n",
      "  fig.show()\n"
     ]
    }
   ],
   "source": [
    "# detecting power line noise\n",
    "fig = raw.compute_psd(picks=chs_to_plot, tmax=np.inf, fmax=125.0, average=None).plot(picks=chs_to_plot)\n",
    "fig.show()\n",
    "\n",
    "# add some arrows at 60 Hz and its harmonics:\n",
    "for ax in fig.axes[1:]:\n",
    "    freqs = ax.lines[-1].get_xdata()\n",
    "    psds = ax.lines[-1].get_ydata()\n",
    "    for freq in (60, 120, 180, 240):\n",
    "        idx = np.searchsorted(freqs, freq)\n",
    "        ax.arrow(x=freqs[idx], y=psds[idx] + 18, dx=0, dy=-12, color='red',\n",
    "                 width=0.1, head_width=3, length_includes_head=True)"
   ]
  },
  {
   "cell_type": "code",
   "execution_count": 60,
   "metadata": {},
   "outputs": [
    {
     "ename": "ValueError",
     "evalue": "Unable to generate artificial ECG channel",
     "output_type": "error",
     "traceback": [
      "\u001b[0;31m---------------------------------------------------------------------------\u001b[0m",
      "\u001b[0;31mValueError\u001b[0m                                Traceback (most recent call last)",
      "\u001b[0;32m/var/folders/d4/z737wy2x2y309dsbbzk9y8yr0000gn/T/ipykernel_2210/2063458837.py\u001b[0m in \u001b[0;36m<cell line: 5>\u001b[0;34m()\u001b[0m\n\u001b[1;32m      3\u001b[0m \u001b[0;31m# detect ecg artifacts\u001b[0m\u001b[0;34m\u001b[0m\u001b[0;34m\u001b[0m\u001b[0m\n\u001b[1;32m      4\u001b[0m \u001b[0;34m\u001b[0m\u001b[0m\n\u001b[0;32m----> 5\u001b[0;31m \u001b[0mecg_epochs\u001b[0m \u001b[0;34m=\u001b[0m \u001b[0mmne\u001b[0m\u001b[0;34m.\u001b[0m\u001b[0mpreprocessing\u001b[0m\u001b[0;34m.\u001b[0m\u001b[0mcreate_ecg_epochs\u001b[0m\u001b[0;34m(\u001b[0m\u001b[0mraw\u001b[0m\u001b[0;34m)\u001b[0m\u001b[0;34m\u001b[0m\u001b[0;34m\u001b[0m\u001b[0m\n\u001b[0m\u001b[1;32m      6\u001b[0m \u001b[0;31m# ecg_epochs.plot_image(combine='mean')\u001b[0m\u001b[0;34m\u001b[0m\u001b[0;34m\u001b[0m\u001b[0m\n",
      "\u001b[0;32m<decorator-gen-434>\u001b[0m in \u001b[0;36mcreate_ecg_epochs\u001b[0;34m(raw, ch_name, event_id, picks, tmin, tmax, l_freq, h_freq, reject, flat, baseline, preload, keep_ecg, reject_by_annotation, decim, verbose)\u001b[0m\n",
      "\u001b[0;32m/Applications/MNE-Python/.mne-python/lib/python3.10/site-packages/mne/preprocessing/ecg.py\u001b[0m in \u001b[0;36mcreate_ecg_epochs\u001b[0;34m(raw, ch_name, event_id, picks, tmin, tmax, l_freq, h_freq, reject, flat, baseline, preload, keep_ecg, reject_by_annotation, decim, verbose)\u001b[0m\n\u001b[1;32m    344\u001b[0m                          'created synthetically and preload=True.')\n\u001b[1;32m    345\u001b[0m \u001b[0;34m\u001b[0m\u001b[0m\n\u001b[0;32m--> 346\u001b[0;31m     events, _, _, ecg = find_ecg_events(\n\u001b[0m\u001b[1;32m    347\u001b[0m         \u001b[0mraw\u001b[0m\u001b[0;34m,\u001b[0m \u001b[0mch_name\u001b[0m\u001b[0;34m=\u001b[0m\u001b[0mch_name\u001b[0m\u001b[0;34m,\u001b[0m \u001b[0mevent_id\u001b[0m\u001b[0;34m=\u001b[0m\u001b[0mevent_id\u001b[0m\u001b[0;34m,\u001b[0m \u001b[0ml_freq\u001b[0m\u001b[0;34m=\u001b[0m\u001b[0ml_freq\u001b[0m\u001b[0;34m,\u001b[0m \u001b[0mh_freq\u001b[0m\u001b[0;34m=\u001b[0m\u001b[0mh_freq\u001b[0m\u001b[0;34m,\u001b[0m\u001b[0;34m\u001b[0m\u001b[0;34m\u001b[0m\u001b[0m\n\u001b[1;32m    348\u001b[0m         return_ecg=True, reject_by_annotation=reject_by_annotation)\n",
      "\u001b[0;32m<decorator-gen-433>\u001b[0m in \u001b[0;36mfind_ecg_events\u001b[0;34m(raw, event_id, ch_name, tstart, l_freq, h_freq, qrs_threshold, filter_length, return_ecg, reject_by_annotation, verbose)\u001b[0m\n",
      "\u001b[0;32m/Applications/MNE-Python/.mne-python/lib/python3.10/site-packages/mne/preprocessing/ecg.py\u001b[0m in \u001b[0;36mfind_ecg_events\u001b[0;34m(***failed resolving arguments***)\u001b[0m\n\u001b[1;32m    192\u001b[0m         \u001b[0mecg\u001b[0m \u001b[0;34m=\u001b[0m \u001b[0mraw\u001b[0m\u001b[0;34m.\u001b[0m\u001b[0mget_data\u001b[0m\u001b[0;34m(\u001b[0m\u001b[0mpicks\u001b[0m\u001b[0;34m=\u001b[0m\u001b[0midx_ecg\u001b[0m\u001b[0;34m)\u001b[0m\u001b[0;34m\u001b[0m\u001b[0;34m\u001b[0m\u001b[0m\n\u001b[1;32m    193\u001b[0m     \u001b[0;32melse\u001b[0m\u001b[0;34m:\u001b[0m\u001b[0;34m\u001b[0m\u001b[0;34m\u001b[0m\u001b[0m\n\u001b[0;32m--> 194\u001b[0;31m         \u001b[0mecg\u001b[0m\u001b[0;34m,\u001b[0m \u001b[0m_\u001b[0m \u001b[0;34m=\u001b[0m \u001b[0m_make_ecg\u001b[0m\u001b[0;34m(\u001b[0m\u001b[0mraw\u001b[0m\u001b[0;34m,\u001b[0m \u001b[0mstart\u001b[0m\u001b[0;34m=\u001b[0m\u001b[0;32mNone\u001b[0m\u001b[0;34m,\u001b[0m \u001b[0mstop\u001b[0m\u001b[0;34m=\u001b[0m\u001b[0;32mNone\u001b[0m\u001b[0;34m)\u001b[0m\u001b[0;34m\u001b[0m\u001b[0;34m\u001b[0m\u001b[0m\n\u001b[0m\u001b[1;32m    195\u001b[0m     \u001b[0;32massert\u001b[0m \u001b[0mecg\u001b[0m\u001b[0;34m.\u001b[0m\u001b[0mndim\u001b[0m \u001b[0;34m==\u001b[0m \u001b[0;36m2\u001b[0m \u001b[0;32mand\u001b[0m \u001b[0mecg\u001b[0m\u001b[0;34m.\u001b[0m\u001b[0mshape\u001b[0m\u001b[0;34m[\u001b[0m\u001b[0;36m0\u001b[0m\u001b[0;34m]\u001b[0m \u001b[0;34m==\u001b[0m \u001b[0;36m1\u001b[0m\u001b[0;34m\u001b[0m\u001b[0;34m\u001b[0m\u001b[0m\n\u001b[1;32m    196\u001b[0m     \u001b[0mecg\u001b[0m \u001b[0;34m=\u001b[0m \u001b[0mecg\u001b[0m\u001b[0;34m[\u001b[0m\u001b[0;36m0\u001b[0m\u001b[0;34m]\u001b[0m\u001b[0;34m\u001b[0m\u001b[0;34m\u001b[0m\u001b[0m\n",
      "\u001b[0;32m<decorator-gen-435>\u001b[0m in \u001b[0;36m_make_ecg\u001b[0;34m(inst, start, stop, reject_by_annotation, verbose)\u001b[0m\n",
      "\u001b[0;32m/Applications/MNE-Python/.mne-python/lib/python3.10/site-packages/mne/preprocessing/ecg.py\u001b[0m in \u001b[0;36m_make_ecg\u001b[0;34m(inst, start, stop, reject_by_annotation, verbose)\u001b[0m\n\u001b[1;32m    381\u001b[0m     \u001b[0;34m\"\"\"Create ECG signal from cross channel average.\"\"\"\u001b[0m\u001b[0;34m\u001b[0m\u001b[0;34m\u001b[0m\u001b[0m\n\u001b[1;32m    382\u001b[0m     \u001b[0;32mif\u001b[0m \u001b[0;32mnot\u001b[0m \u001b[0many\u001b[0m\u001b[0;34m(\u001b[0m\u001b[0mc\u001b[0m \u001b[0;32min\u001b[0m \u001b[0minst\u001b[0m \u001b[0;32mfor\u001b[0m \u001b[0mc\u001b[0m \u001b[0;32min\u001b[0m \u001b[0;34m[\u001b[0m\u001b[0;34m'mag'\u001b[0m\u001b[0;34m,\u001b[0m \u001b[0;34m'grad'\u001b[0m\u001b[0;34m]\u001b[0m\u001b[0;34m)\u001b[0m\u001b[0;34m:\u001b[0m\u001b[0;34m\u001b[0m\u001b[0;34m\u001b[0m\u001b[0m\n\u001b[0;32m--> 383\u001b[0;31m         \u001b[0;32mraise\u001b[0m \u001b[0mValueError\u001b[0m\u001b[0;34m(\u001b[0m\u001b[0;34m'Unable to generate artificial ECG channel'\u001b[0m\u001b[0;34m)\u001b[0m\u001b[0;34m\u001b[0m\u001b[0;34m\u001b[0m\u001b[0m\n\u001b[0m\u001b[1;32m    384\u001b[0m     \u001b[0;32mfor\u001b[0m \u001b[0mch\u001b[0m \u001b[0;32min\u001b[0m \u001b[0;34m[\u001b[0m\u001b[0;34m'mag'\u001b[0m\u001b[0;34m,\u001b[0m \u001b[0;34m'grad'\u001b[0m\u001b[0;34m]\u001b[0m\u001b[0;34m:\u001b[0m\u001b[0;34m\u001b[0m\u001b[0;34m\u001b[0m\u001b[0m\n\u001b[1;32m    385\u001b[0m         \u001b[0;32mif\u001b[0m \u001b[0mch\u001b[0m \u001b[0;32min\u001b[0m \u001b[0minst\u001b[0m\u001b[0;34m:\u001b[0m\u001b[0;34m\u001b[0m\u001b[0;34m\u001b[0m\u001b[0m\n",
      "\u001b[0;31mValueError\u001b[0m: Unable to generate artificial ECG channel"
     ]
    }
   ],
   "source": [
    "from mne.preprocessing import (create_eog_epochs, create_ecg_epochs, compute_proj_ecg, compute_proj_eog)\n",
    "\n",
    "# detect ecg artifacts\n",
    "\n",
    "ecg_epochs = mne.preprocessing.create_ecg_epochs(raw)\n",
    "ecg_epochs.plot_image(combine='mean')"
   ]
  },
  {
   "cell_type": "code",
   "execution_count": null,
   "metadata": {},
   "outputs": [],
   "source": []
  }
 ],
 "metadata": {
  "kernelspec": {
   "display_name": "Python 3.10.6 ('pyPerceive_dev')",
   "language": "python",
   "name": "python3"
  },
  "language_info": {
   "codemirror_mode": {
    "name": "ipython",
    "version": 3
   },
   "file_extension": ".py",
   "mimetype": "text/x-python",
   "name": "python",
   "nbconvert_exporter": "python",
   "pygments_lexer": "ipython3",
   "version": "3.10.6"
  },
  "orig_nbformat": 4,
  "vscode": {
   "interpreter": {
    "hash": "3f70f96619c4c5eb645d0e9073112ce77298f8a2779fc08300cec5240d192365"
   }
  }
 },
 "nbformat": 4,
 "nbformat_minor": 2
}
