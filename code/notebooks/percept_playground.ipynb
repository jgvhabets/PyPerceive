{
 "cells": [
  {
   "cell_type": "markdown",
   "metadata": {},
   "source": [
    "# Code Playground for Percept Data\n",
    "\n",
    "\n",
    "\n",
    "<b> Data is required to converted into the BIDS-standard. </b>\n",
    "\n",
    "\n"
   ]
  },
  {
   "cell_type": "markdown",
   "metadata": {},
   "source": [
    "### 0. Loading packages and functions, defining paths\n",
    "\n"
   ]
  },
  {
   "cell_type": "code",
   "execution_count": 1,
   "metadata": {},
   "outputs": [],
   "source": [
    "# Importing Python and external packages\n",
    "import os\n",
    "import sys\n",
    "import importlib\n",
    "import json\n",
    "from dataclasses import dataclass, field, fields\n",
    "from itertools import compress\n",
    "import csv\n",
    "import pandas as pd\n",
    "import numpy as np\n",
    "\n",
    "import sklearn as sk\n",
    "import scipy\n",
    "import matplotlib.pyplot as plt\n",
    "from scipy import signal\n",
    "\n",
    "#mne\n",
    "import mne_bids\n",
    "import mne"
   ]
  },
  {
   "cell_type": "code",
   "execution_count": 2,
   "metadata": {},
   "outputs": [
    {
     "name": "stdout",
     "output_type": "stream",
     "text": [
      "Python sys 3.10.6 | packaged by conda-forge | (main, Aug 22 2022, 20:43:44) [Clang 13.0.1 ]\n",
      "pandas 1.5.0\n",
      "numpy 1.21.6\n",
      "mne_bids 0.11\n",
      "mne 1.2.0\n",
      "sci-py 1.9.1\n",
      "sci-kit learn 1.1.2\n"
     ]
    }
   ],
   "source": [
    "# check some package versions for documentation and reproducability\n",
    "print('Python sys', sys.version)\n",
    "print('pandas', pd.__version__)\n",
    "print('numpy', np.__version__)\n",
    "print('mne_bids', mne_bids.__version__)\n",
    "print('mne', mne.__version__)\n",
    "print('sci-py', scipy.__version__)\n",
    "print('sci-kit learn', sk.__version__)"
   ]
  },
  {
   "cell_type": "code",
   "execution_count": 7,
   "metadata": {},
   "outputs": [
    {
     "name": "stdout",
     "output_type": "stream",
     "text": [
      "/Users/jenniferbehnke/Coding/PyPerceive/code/notebooks\n",
      "/Users/jenniferbehnke/Coding/PyPerceive/code\n"
     ]
    }
   ],
   "source": [
    "filepath = '/Users/jenniferbehnke/Coding/Perceive_output/ieeg_ses-2021080602000195_3MFU/sub021_ses-2021080602000195_run-BrainSense20210806020700.mat'\n",
    "# define local storage directories\n",
    "\n",
    "# check working directory\n",
    "print(os.getcwd())\n",
    "\n",
    "# get folder above a certain folder\n",
    "print(os.path.dirname(os.getcwd()))\n",
    "\n",
    "# change working directory to project-code folder\n",
    "os.chdir('/Users/jenniferbehnke/Coding/Perceive_output/ieeg_ses-2021080602000195_3MFU/')\n"
   ]
  },
  {
   "cell_type": "markdown",
   "metadata": {},
   "source": [
    "## Pre-Work - Getting into the Files"
   ]
  },
  {
   "cell_type": "code",
   "execution_count": 23,
   "metadata": {},
   "outputs": [
    {
     "name": "stdout",
     "output_type": "stream",
     "text": [
      "Creating RawArray with float64 data, n_channels=6, n_times=3688\n",
      "    Range : 0 ... 3687 =      0.000 ...    14.748 secs\n",
      "Ready.\n"
     ]
    },
    {
     "name": "stderr",
     "output_type": "stream",
     "text": [
      "/var/folders/d4/z737wy2x2y309dsbbzk9y8yr0000gn/T/ipykernel_4884/1624976735.py:4: RuntimeWarning: The supplied FieldTrip structure does not have an elec or grad field. No channel locations will extracted and the kind of channel might be inaccurate.\n",
      "  data = mne.io.read_raw_fieldtrip(\n",
      "/var/folders/d4/z737wy2x2y309dsbbzk9y8yr0000gn/T/ipykernel_4884/1624976735.py:4: RuntimeWarning: Cannot guess the correct type of channel LFP_Stn_L_13. Making it a MISC channel.\n",
      "  data = mne.io.read_raw_fieldtrip(\n",
      "/var/folders/d4/z737wy2x2y309dsbbzk9y8yr0000gn/T/ipykernel_4884/1624976735.py:4: RuntimeWarning: Cannot guess the correct type of channel LFP_Stn_R_02. Making it a MISC channel.\n",
      "  data = mne.io.read_raw_fieldtrip(\n",
      "/var/folders/d4/z737wy2x2y309dsbbzk9y8yr0000gn/T/ipykernel_4884/1624976735.py:4: RuntimeWarning: Cannot guess the correct type of channel LFP_Stn_L_13_PEAK15Hz_THR20-30_AVG3000ms. Making it a MISC channel.\n",
      "  data = mne.io.read_raw_fieldtrip(\n",
      "/var/folders/d4/z737wy2x2y309dsbbzk9y8yr0000gn/T/ipykernel_4884/1624976735.py:4: RuntimeWarning: Cannot guess the correct type of channel LFP_Stn_R_02_PEAK15Hz_THR20-30_AVG3000ms. Making it a MISC channel.\n",
      "  data = mne.io.read_raw_fieldtrip(\n"
     ]
    },
    {
     "data": {
      "text/html": [
       "<table class=\"table table-hover table-striped table-sm table-responsive small\">\n",
       "    <tr>\n",
       "        <th>Measurement date</th>\n",
       "        \n",
       "        <td>Unknown</td>\n",
       "        \n",
       "    </tr>\n",
       "    <tr>\n",
       "        <th>Experimenter</th>\n",
       "        \n",
       "        <td>Unknown</td>\n",
       "        \n",
       "    </tr>\n",
       "        <th>Participant</th>\n",
       "        \n",
       "        <td>Unknown</td>\n",
       "        \n",
       "    </tr>\n",
       "    <tr>\n",
       "        <th>Digitized points</th>\n",
       "        \n",
       "        <td>0 points</td>\n",
       "        \n",
       "    </tr>\n",
       "    <tr>\n",
       "        <th>Good channels</th>\n",
       "        <td>4 misc, 2 Stimulus</td>\n",
       "    </tr>\n",
       "    <tr>\n",
       "        <th>Bad channels</th>\n",
       "        <td>None</td>\n",
       "    </tr>\n",
       "    <tr>\n",
       "        <th>EOG channels</th>\n",
       "        <td>Not available</td>\n",
       "    </tr>\n",
       "    <tr>\n",
       "        <th>ECG channels</th>\n",
       "        <td>Not available</td>\n",
       "    \n",
       "    <tr>\n",
       "        <th>Sampling frequency</th>\n",
       "        <td>250.00 Hz</td>\n",
       "    </tr>\n",
       "    \n",
       "    \n",
       "    <tr>\n",
       "        <th>Highpass</th>\n",
       "        <td>0.00 Hz</td>\n",
       "    </tr>\n",
       "    \n",
       "    \n",
       "    <tr>\n",
       "        <th>Lowpass</th>\n",
       "        <td>125.00 Hz</td>\n",
       "    </tr>\n",
       "    \n",
       "    \n",
       "</table>"
      ],
      "text/plain": [
       "<Info | 8 non-empty values\n",
       " bads: []\n",
       " ch_names: LFP_Stn_L_13, LFP_Stn_R_02, ...\n",
       " chs: 4 misc, 2 Stimulus\n",
       " custom_ref_applied: False\n",
       " dig: 0 items\n",
       " highpass: 0.0 Hz\n",
       " lowpass: 125.0 Hz\n",
       " meas_date: unspecified\n",
       " nchan: 6\n",
       " projs: []\n",
       " sfreq: 250.0 Hz\n",
       ">"
      ]
     },
     "execution_count": 23,
     "metadata": {},
     "output_type": "execute_result"
    }
   ],
   "source": [
    "# import file as MNE object\n",
    "# Varvaras notebook: raw = mne.io.read_raw_fieldtrip('sub021_ses-2021080602000195_run-BrainSense20210806020700.mat',info = None)\n",
    "\n",
    "data = mne.io.read_raw_fieldtrip(\n",
    "    filepath,\n",
    "    info={},\n",
    "    data_name='data',\n",
    ")\n",
    "data.info"
   ]
  },
  {
   "cell_type": "code",
   "execution_count": 10,
   "metadata": {},
   "outputs": [],
   "source": [
    "# load raw-mat file into python\n",
    "dat = scipy.io.loadmat(filepath)"
   ]
  },
  {
   "cell_type": "code",
   "execution_count": 11,
   "metadata": {},
   "outputs": [
    {
     "name": "stdout",
     "output_type": "stream",
     "text": [
      "<RawArray | 6 x 3688 (14.7 s), ~184 kB, data loaded>\n",
      "<Info | 8 non-empty values\n",
      " bads: []\n",
      " ch_names: LFP_Stn_L_13, LFP_Stn_R_02, ...\n",
      " chs: 4 misc, 2 Stimulus\n",
      " custom_ref_applied: False\n",
      " dig: 0 items\n",
      " highpass: 0.0 Hz\n",
      " lowpass: 125.0 Hz\n",
      " meas_date: unspecified\n",
      " nchan: 6\n",
      " projs: []\n",
      " sfreq: 250.0 Hz\n",
      ">\n"
     ]
    }
   ],
   "source": [
    "print(raw) #here you can see the number of samples and the time\n",
    "print(raw.info) #ch_names, sfreq, nchan.\n",
    "n_time_samps = raw.n_times #nsamples\n",
    "time_secs = raw.times #timepoints\n",
    "raw.info.keys()\n",
    "ch_names = raw.ch_names\n",
    "n_chan = len(ch_names) "
   ]
  },
  {
   "cell_type": "code",
   "execution_count": 17,
   "metadata": {},
   "outputs": [
    {
     "name": "stdout",
     "output_type": "stream",
     "text": [
      "['LFP_Stn_L_13', 'LFP_Stn_R_02', 'LFP_Stn_L_13_PEAK15Hz_THR20-30_AVG3000ms', 'LFP_Stn_R_02_PEAK15Hz_THR20-30_AVG3000ms', 'STIM_L_125Hz_60us', 'STIM_R_125Hz_60us']\n",
      "(6, 3688)\n"
     ]
    }
   ],
   "source": [
    "print(ch_names)\n",
    "#print(raw._data[2,:])\n",
    "\n",
    "raw_data = raw.get_data()\n",
    "print(raw_data.shape)\n",
    "\n",
    "#mydat = raw.get_data(picks='LFP_R_13_STN')\n",
    "#print(mydat)\n",
    "#fig, ax = plt.subplots(figsize=[15, 5])\n",
    "#ax.plot(mydat)\n",
    "#plt.show()"
   ]
  },
  {
   "cell_type": "code",
   "execution_count": 20,
   "metadata": {},
   "outputs": [
    {
     "data": {
      "text/plain": [
       "{'_data': array([[ -4.44034504,  -3.64336003,  -4.44034504, ...,  10.9300801 ,\n",
       "           9.67767509,  10.3608051 ],\n",
       "        [ -5.80660505,  -6.26202506,  -3.30179503, ...,   7.85599507,\n",
       "           8.31141508,   7.74214007],\n",
       "        [482.        , 482.        , 482.        , ...,          nan,\n",
       "                  nan,          nan],\n",
       "        [587.        , 587.        , 587.        , ...,          nan,\n",
       "                  nan,          nan],\n",
       "        [  0.        ,   0.        ,   0.        , ...,          nan,\n",
       "                  nan,          nan],\n",
       "        [  0.        ,   0.        ,   0.        , ...,          nan,\n",
       "                  nan,          nan]]),\n",
       " 'preload': True,\n",
       " '_last_samps': array([3687]),\n",
       " '_first_samps': array([0]),\n",
       " 'info': <Info | 8 non-empty values\n",
       "  bads: []\n",
       "  ch_names: LFP_Stn_L_13, LFP_Stn_R_02, ...\n",
       "  chs: 4 misc, 2 Stimulus\n",
       "  custom_ref_applied: False\n",
       "  dig: 0 items\n",
       "  highpass: 0.0 Hz\n",
       "  lowpass: 125.0 Hz\n",
       "  meas_date: unspecified\n",
       "  nchan: 6\n",
       "  projs: []\n",
       "  sfreq: 250.0 Hz\n",
       " >,\n",
       " 'buffer_size_sec': 1.0,\n",
       " '_cals': array([1., 1., 1., 1., 1., 1.]),\n",
       " '_raw_extras': [{'orig_nchan': 6}],\n",
       " '_read_picks': [array([0, 1, 2, 3, 4, 5])],\n",
       " '_read_comp_grade': None,\n",
       " '_comp': None,\n",
       " '_filenames': [None],\n",
       " 'orig_format': 'double',\n",
       " '_orig_units': {},\n",
       " '_projectors': [],\n",
       " '_projector': None,\n",
       " '_dtype_': numpy.float64,\n",
       " '_annotations': <Annotations | 0 segments>,\n",
       " '_cropped_samp': 0,\n",
       " '_init_kwargs': {'data': array([[ -4.44034504,  -3.64336003,  -4.44034504, ...,  10.9300801 ,\n",
       "            9.67767509,  10.3608051 ],\n",
       "         [ -5.80660505,  -6.26202506,  -3.30179503, ...,   7.85599507,\n",
       "            8.31141508,   7.74214007],\n",
       "         [482.        , 482.        , 482.        , ...,          nan,\n",
       "                   nan,          nan],\n",
       "         [587.        , 587.        , 587.        , ...,          nan,\n",
       "                   nan,          nan],\n",
       "         [  0.        ,   0.        ,   0.        , ...,          nan,\n",
       "                   nan,          nan],\n",
       "         [  0.        ,   0.        ,   0.        , ...,          nan,\n",
       "                   nan,          nan]]),\n",
       "  'info': <Info | 8 non-empty values\n",
       "   bads: []\n",
       "   ch_names: LFP_Stn_L_13, LFP_Stn_R_02, ...\n",
       "   chs: 4 misc, 2 Stimulus\n",
       "   custom_ref_applied: False\n",
       "   dig: 0 items\n",
       "   highpass: 0.0 Hz\n",
       "   lowpass: 125.0 Hz\n",
       "   meas_date: unspecified\n",
       "   nchan: 6\n",
       "   projs: []\n",
       "   sfreq: 250.0 Hz\n",
       "  >,\n",
       "  'first_samp': 0,\n",
       "  'copy': 'auto',\n",
       "  'verbose': None}}"
      ]
     },
     "execution_count": 20,
     "metadata": {},
     "output_type": "execute_result"
    }
   ],
   "source": [
    "raw.__dict__"
   ]
  },
  {
   "cell_type": "code",
   "execution_count": 21,
   "metadata": {},
   "outputs": [
    {
     "ename": "IndentationError",
     "evalue": "unexpected indent (4018942458.py, line 3)",
     "output_type": "error",
     "traceback": [
      "\u001b[0;36m  File \u001b[0;32m\"/var/folders/d4/z737wy2x2y309dsbbzk9y8yr0000gn/T/ipykernel_4884/4018942458.py\"\u001b[0;36m, line \u001b[0;32m3\u001b[0m\n\u001b[0;31m    'a': np.arange(10),\u001b[0m\n\u001b[0m    ^\u001b[0m\n\u001b[0;31mIndentationError\u001b[0m\u001b[0;31m:\u001b[0m unexpected indent\n"
     ]
    }
   ],
   "source": [
    "# principe of dictionary\n",
    "a = {\n",
    "    'a': np.arange(10),\n",
    "    'b': 'bbbbbbb',\n",
    "    'c': {\n",
    "        'd': np.arange(10),\n",
    "    }\n",
    "}"
   ]
  },
  {
   "cell_type": "code",
   "execution_count": 44,
   "metadata": {},
   "outputs": [
    {
     "name": "stdout",
     "output_type": "stream",
     "text": [
      "dict_keys(['_data', 'preload', '_last_samps', '_first_samps', 'info', 'buffer_size_sec', '_cals', '_raw_extras', '_read_picks', '_read_comp_grade', '_comp', '_filenames', 'orig_format', '_orig_units', '_projectors', '_projector', '_dtype_', '_annotations', '_cropped_samp', '_init_kwargs'])\n"
     ]
    }
   ],
   "source": [
    "data_as_dict = vars(data)\n",
    "\n",
    "print(data_as_dict.keys())\n",
    "\n",
    "# plt.plot(data._data[0, :])\n",
    "# plt.plot(data._data[1, :])"
   ]
  },
  {
   "cell_type": "code",
   "execution_count": 43,
   "metadata": {},
   "outputs": [
    {
     "data": {
      "text/plain": [
       "<Annotations | 0 segments>"
      ]
     },
     "execution_count": 43,
     "metadata": {},
     "output_type": "execute_result"
    }
   ],
   "source": [
    "data._annotations"
   ]
  }
 ],
 "metadata": {
  "kernelspec": {
   "display_name": "Python 3.10.6",
   "language": "python",
   "name": "python3"
  },
  "language_info": {
   "codemirror_mode": {
    "name": "ipython",
    "version": 3
   },
   "file_extension": ".py",
   "mimetype": "text/x-python",
   "name": "python",
   "nbconvert_exporter": "python",
   "pygments_lexer": "ipython3",
   "version": "3.10.6"
  },
  "orig_nbformat": 4,
  "vscode": {
   "interpreter": {
    "hash": "eb2deed888c183470f90a2f4f7a88f050bd656e7ee75cf8eefff8017d957171b"
   }
  }
 },
 "nbformat": 4,
 "nbformat_minor": 2
}
