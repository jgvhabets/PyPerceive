{
 "cells": [
  {
   "attachments": {},
   "cell_type": "markdown",
   "metadata": {},
   "source": [
    "# PyPerceive to select and load Percept recordings "
   ]
  },
  {
   "attachments": {},
   "cell_type": "markdown",
   "metadata": {},
   "source": [
    "## 0a. Loading default packages and functions"
   ]
  },
  {
   "cell_type": "code",
   "execution_count": 2,
   "metadata": {},
   "outputs": [],
   "source": [
    "# Importing Python and external packages\n",
    "import os\n",
    "import sys\n",
    "import importlib\n",
    "import json\n",
    "from dataclasses import dataclass, field, fields\n",
    "from itertools import compress\n",
    "import csv\n",
    "import pandas as pd\n",
    "import numpy as np\n",
    "\n",
    "import scipy\n",
    "import matplotlib.pyplot as plt\n",
    "from scipy import signal\n",
    "\n",
    "import openpyxl\n",
    "from openpyxl import Workbook, load_workbook\n",
    "import xlrd\n",
    "\n",
    "#mne\n",
    "import mne_bids\n",
    "import mne\n",
    "from mne.time_frequency import tfr_morlet \n",
    "\n",
    "from importlib import reload          \n"
   ]
  },
  {
   "attachments": {},
   "cell_type": "markdown",
   "metadata": {},
   "source": [
    "#### check package versions\n",
    "\n",
    "developed with:\n",
    "- Python sys 3.10.8\n",
    "- pandas 1.5.1\n",
    "- numpy 1.23.4\n",
    "- mne_bids 0.11.1\n",
    "- mne 1.2.3"
   ]
  },
  {
   "cell_type": "code",
   "execution_count": 3,
   "metadata": {},
   "outputs": [
    {
     "name": "stdout",
     "output_type": "stream",
     "text": [
      "Python sys 3.10.8 | packaged by conda-forge | (main, Nov 24 2022, 14:07:00) [MSC v.1916 64 bit (AMD64)]\n",
      "pandas 1.5.1\n",
      "numpy 1.23.4\n",
      "mne_bids 0.11.1\n",
      "mne 1.2.3\n"
     ]
    }
   ],
   "source": [
    "# check some package versions for documentation and reproducability\n",
    "print('Python sys', sys.version)\n",
    "print('pandas', pd.__version__)\n",
    "print('numpy', np.__version__)\n",
    "print('mne_bids', mne_bids.__version__)\n",
    "print('mne', mne.__version__)\n"
   ]
  },
  {
   "attachments": {},
   "cell_type": "markdown",
   "metadata": {},
   "source": [
    "## 0b. Loading pyPerceive functions"
   ]
  },
  {
   "cell_type": "code",
   "execution_count": 4,
   "metadata": {},
   "outputs": [],
   "source": [
    "def add_and_set_code_folder_in_notebook():\n",
    "    \"\"\"\n",
    "    while working in the local pyPerceive repo,\n",
    "    find and set path to the PyPerceive code folder\n",
    "\n",
    "    use function in notebook first, to locate the local\n",
    "    repo and enable import of pyPerceive functions\n",
    "    \"\"\"\n",
    "    project_path = os.getcwd()\n",
    "\n",
    "    while project_path[-10:] != 'PyPerceive':\n",
    "        project_path = os.path.dirname(project_path)\n",
    "\n",
    "    code_path = os.path.join(project_path, 'code')\n",
    "    sys.path.append(code_path)\n",
    "\n",
    "    # change directory to code path\n",
    "    os.chdir(code_path)\n",
    "    \n",
    "    return print(f'working dir set to: {code_path}')\n"
   ]
  },
  {
   "cell_type": "code",
   "execution_count": 5,
   "metadata": {},
   "outputs": [
    {
     "name": "stdout",
     "output_type": "stream",
     "text": [
      "working dir set to: c:\\Users\\habetsj\\Research\\projects\\PyPerceive\\code\n"
     ]
    }
   ],
   "source": [
    "## MAIN FUNCTION FOR DATA IMPORT\n",
    "\n",
    "# change working directory to ensure correct loading of own functions\n",
    "add_and_set_code_folder_in_notebook()\n",
    "\n",
    "# import main class to work with\n",
    "from PerceiveImport.classes import main_class\n"
   ]
  },
  {
   "cell_type": "code",
   "execution_count": 6,
   "metadata": {},
   "outputs": [],
   "source": [
    "## IMPORT ALL SUB CLASSES AND FUNCTIONS FOR DEBUGGING\n",
    "from PerceiveImport.classes import (\n",
    "    main_class, modality_class, metadata_class,\n",
    "    session_class, condition_class, task_class,\n",
    "    contact_class, run_class, chronic_class\n",
    ")\n",
    "import PerceiveImport.methods.load_rawfile as load_rawfile\n",
    "import PerceiveImport.methods.find_folders as find_folders\n",
    "import PerceiveImport.methods.metadata_helpers as metaHelpers"
   ]
  },
  {
   "attachments": {},
   "cell_type": "markdown",
   "metadata": {},
   "source": [
    "## 1. Test Data Loading for Streaming and Survey"
   ]
  },
  {
   "cell_type": "code",
   "execution_count": 7,
   "metadata": {},
   "outputs": [
    {
     "name": "stdout",
     "output_type": "stream",
     "text": [
      "\n",
      "\t### WARNING: NaNs in Metadata Table sub-024 ###\n",
      "NaNs in: sub024_ses-2021061806255999_run-BrainSense20210618063700.mat\n",
      "NaNs in: sub024_ses-2021061806255999_run-BrainSense20210618064000.mat\n",
      "NaNs in: sub024_ses-2021061806255999_run-BrainSense20210618064200.mat\n",
      "NaNs in: sub024_ses-2021061808253999_run-BrainSense20210618084000.mat\n",
      "NaNs in: sub024_ses-2021061808253999_run-BrainSense20210618084300.mat\n",
      "NaNs in: sub024_ses-2021061808253999_run-BrainSense20210618084700.mat\n",
      "NaNs in: sub024_ses-2021092106385396_run-BrainSense20210921070500.mat\n",
      "NaNs in: sub024_ses-2021092106385396_run-BrainSense20210921072300.mat\n",
      "NaNs in: sub024_ses-2021092107452096_run-BrainSense20210921074800.mat\n",
      "NaNs in: sub024_ses-2021092107452096_run-BrainSense20210921080600.mat\n",
      "NaNs in: sub024_ses-2021092107452096_run-BrainSense20210921082400.mat\n",
      "NaNs in: sub-20210615PStn_ses-2022061010445782_run-BrainSense20220610105800.mat\n",
      "NaNs in: sub-20210615PStn_ses-2022061010445782_run-BrainSense20220610111500.mat\n",
      "NaNs in: sub-20210615PStn_ses-2022061010445782_run-BrainSense20220610111700.mat\n",
      "NaNs in: sub-20210615PStn_ses-2022061010445782_run-BrainSense20220610112200.mat\n",
      "NaNs in: sub-20210615PStn_ses-2022061010445782_run-BrainSense20220610112500.mat\n",
      "NaNs in: sub-20210615PStn_ses-2022061010445782_run-BrainSense20220610112700.mat\n",
      "NaNs in: sub-20210615PStn_ses-2022061010445782_run-BrainSense20220610113100.mat\n",
      "NaNs in: sub-20210615PStn_ses-2022061010445782_run-BrainSense20220610114400.mat\n",
      "NaNs in: sub-20210615PStn_ses-2022061010445782_run-BrainSense20220610115200.mat\n",
      "NaNs in: sub-20210615PStn_ses-2022061010445782_run-BrainSense20220610115500.mat\n",
      "NaNs in: sub-20210615PStn_ses-2022061010445782_run-BrainSense20220610115900.mat\n",
      "NaNs in: sub-20210615PStn_ses-2022061010445782_run-BrainSense20220610120100.mat\n",
      "NaNs in: sub-20210615PStn_ses-2022061010445782_run-BrainSense20220610120200.mat\n",
      "NaNs in: sub-20210615PStn_ses-2022061010445782_run-BrainSense20220610120500.mat\n",
      "NaNs in: sub-20210615PStn_ses-2022072210000082_run-BrainSense20220609070200.mat\n",
      "NaNs in: sub-20210615PStn_ses-2022072210000082_run-BrainSense20220609071800.mat\n",
      "NaNs in: sub-20210615PStn_ses-2022072210000082_run-BrainSense20220609072200.mat\n",
      "NaNs in: sub-20210615PStn_ses-2022072210000082_run-BrainSense20220609072900.mat\n",
      "NaNs in: sub-20210615PStn_ses-2022072210000082_run-BrainSense20220609073100.mat\n",
      "NaNs in: sub-20210615PStn_ses-2022072210000082_run-BrainSense20220609073500.mat\n",
      "Creating RawArray with float64 data, n_channels=6, n_times=5288\n",
      "    Range : 0 ... 5287 =      0.000 ...    21.148 secs\n",
      "Ready.\n",
      "Creating RawArray with float64 data, n_channels=3, n_times=5312\n",
      "    Range : 0 ... 5311 =      0.000 ...    21.244 secs\n",
      "Ready.\n",
      "Creating RawArray with float64 data, n_channels=6, n_times=5288\n",
      "    Range : 0 ... 5287 =      0.000 ...    21.148 secs\n",
      "Ready.\n",
      "Creating RawArray with float64 data, n_channels=6, n_times=30187\n",
      "    Range : 0 ... 30186 =      0.000 ...   120.744 secs\n",
      "Ready.\n",
      "Creating RawArray with float64 data, n_channels=12, n_times=6500\n",
      "    Range : 0 ... 6499 =      0.000 ...    25.996 secs\n",
      "Ready.\n",
      "Creating RawArray with float64 data, n_channels=12, n_times=34687\n",
      "    Range : 0 ... 34686 =      0.000 ...   138.744 secs\n",
      "Ready.\n",
      "Creating RawArray with float64 data, n_channels=12, n_times=46500\n",
      "    Range : 0 ... 46499 =      0.000 ...   185.996 secs\n",
      "Ready.\n"
     ]
    }
   ],
   "source": [
    "# define an example instance and fill in the values of the dataclass PerceiveData \n",
    "# choose the values you are interested in analyzing further\n",
    "\n",
    "sub024 = main_class.PerceiveData(\n",
    "    sub = \"024\", \n",
    "    incl_modalities=['survey', 'streaming', 'indefiniteStreaming'],\n",
    "    incl_session = [\"fu18m\"],\n",
    "    incl_condition =['m0s0'],\n",
    "    incl_task = [\"rest\"],\n",
    "    incl_contact = [\"RingL\", \"SegmInterR\", \"SegmIntraR\"],\n",
    "    import_json=False,\n",
    "    warn_for_metaNaNs=True,\n",
    "    # use_bids=True,  # TODO: add to functionality\n",
    ")\n"
   ]
  },
  {
   "cell_type": "code",
   "execution_count": 17,
   "metadata": {},
   "outputs": [
    {
     "data": {
      "text/html": [
       "<table class=\"table table-hover table-striped table-sm table-responsive small\">\n",
       "    <tr>\n",
       "        <th>Measurement date</th>\n",
       "        \n",
       "        <td>Unknown</td>\n",
       "        \n",
       "    </tr>\n",
       "    <tr>\n",
       "        <th>Experimenter</th>\n",
       "        \n",
       "        <td>Unknown</td>\n",
       "        \n",
       "    </tr>\n",
       "        <th>Participant</th>\n",
       "        \n",
       "        <td>Unknown</td>\n",
       "        \n",
       "    </tr>\n",
       "    <tr>\n",
       "        <th>Digitized points</th>\n",
       "        \n",
       "        <td>0 points</td>\n",
       "        \n",
       "    </tr>\n",
       "    <tr>\n",
       "        <th>Good channels</th>\n",
       "        <td>4 misc, 2 Stimulus</td>\n",
       "    </tr>\n",
       "    <tr>\n",
       "        <th>Bad channels</th>\n",
       "        <td>None</td>\n",
       "    </tr>\n",
       "    <tr>\n",
       "        <th>EOG channels</th>\n",
       "        <td>Not available</td>\n",
       "    </tr>\n",
       "    <tr>\n",
       "        <th>ECG channels</th>\n",
       "        <td>Not available</td>\n",
       "    \n",
       "    <tr>\n",
       "        <th>Sampling frequency</th>\n",
       "        <td>250.00 Hz</td>\n",
       "    </tr>\n",
       "    \n",
       "    \n",
       "    <tr>\n",
       "        <th>Highpass</th>\n",
       "        <td>0.00 Hz</td>\n",
       "    </tr>\n",
       "    \n",
       "    \n",
       "    <tr>\n",
       "        <th>Lowpass</th>\n",
       "        <td>125.00 Hz</td>\n",
       "    </tr>\n",
       "    \n",
       "    \n",
       "    \n",
       "    <tr>\n",
       "        <th>Duration</th>\n",
       "        <td>00:02:01 (HH:MM:SS)</td>\n",
       "    </tr>\n",
       "</table>"
      ],
      "text/plain": [
       "<RawArray | 6 x 30187 (120.7 s), ~1.4 MB, data loaded>"
      ]
     },
     "execution_count": 17,
     "metadata": {},
     "output_type": "execute_result"
    }
   ],
   "source": [
    "sub024.streaming.fu18m.m0s0.rest.run1.data"
   ]
  },
  {
   "cell_type": "code",
   "execution_count": null,
   "metadata": {},
   "outputs": [],
   "source": [
    "sub024.indefiniteStreaming.fu18m.m0s0.rest.run1.data.ch_names"
   ]
  },
  {
   "cell_type": "code",
   "execution_count": null,
   "metadata": {},
   "outputs": [],
   "source": [
    "sub024.streaming.fu18m.m0s0.rest.run1.data"
   ]
  },
  {
   "cell_type": "code",
   "execution_count": null,
   "metadata": {},
   "outputs": [],
   "source": [
    "sub024.streaming.fu18m.m0s0.rest.run1.data.get_data().shape"
   ]
  },
  {
   "cell_type": "code",
   "execution_count": null,
   "metadata": {},
   "outputs": [],
   "source": [
    "print(sub024.indefiniteStreaming.fu18m.m0s0.rest.run1.data.get_data().shape)\n",
    "print(sub024.indefiniteStreaming.fu18m.m0s0.rest.run1.data.ch_names)"
   ]
  },
  {
   "cell_type": "code",
   "execution_count": null,
   "metadata": {},
   "outputs": [],
   "source": [
    "sub024.survey.fu18m.m0s0.rest.SegmInterR.run1.data.get_data()"
   ]
  },
  {
   "attachments": {},
   "cell_type": "markdown",
   "metadata": {},
   "source": [
    "## 2. Test Data Loading for Chronic"
   ]
  },
  {
   "cell_type": "code",
   "execution_count": 18,
   "metadata": {},
   "outputs": [],
   "source": [
    "# in case of debugging\n",
    "from PerceiveImport.methods import extract_chronic_timeline_samples as extract_chronic"
   ]
  },
  {
   "cell_type": "code",
   "execution_count": 19,
   "metadata": {},
   "outputs": [
    {
     "name": "stdout",
     "output_type": "stream",
     "text": [
      "\n",
      "Add session 2021-01-11T07:28:47Z from Left hemisphere\n",
      "\n",
      "Add session 2021-01-12T07:28:47Z from Left hemisphere\n",
      "\n",
      "Add session 2021-01-11T07:28:47Z from Right hemisphere\n",
      "\n",
      "Add session 2021-01-12T07:28:47Z from Right hemisphere\n",
      "\n",
      "Add session 2021-01-19T07:28:47Z from Left hemisphere\n",
      "\n",
      "Add session 2021-01-19T07:28:47Z from Right hemisphere\n",
      "\n",
      "Add session 2022-01-25T07:28:47Z from Left hemisphere\n",
      "\n",
      "Add session 2022-01-25T07:28:47Z from Right hemisphere\n",
      "\n",
      "Add session 2021-01-15T07:28:47Z from Left hemisphere\n",
      "\n",
      "Add session 2021-01-16T07:28:47Z from Left hemisphere\n",
      "\n",
      "Add session 2021-01-17T07:28:47Z from Left hemisphere\n",
      "\n",
      "Add session 2021-01-18T07:28:47Z from Left hemisphere\n",
      "\n",
      "Add session 2021-01-15T07:28:47Z from Right hemisphere\n",
      "\n",
      "Add session 2021-01-16T07:28:47Z from Right hemisphere\n",
      "\n",
      "Add session 2021-01-17T07:28:47Z from Right hemisphere\n",
      "\n",
      "Add session 2021-01-18T07:28:47Z from Right hemisphere\n",
      "\n",
      "Add session 2021-01-21T07:28:47Z from Left hemisphere\n",
      "\n",
      "Add session 2021-01-22T07:28:47Z from Left hemisphere\n",
      "\n",
      "Add session 2021-01-23T07:28:47Z from Left hemisphere\n",
      "\n",
      "Add session 2021-01-24T07:28:47Z from Left hemisphere\n",
      "\n",
      "Add session 2021-01-25T07:28:47Z from Left hemisphere\n",
      "\n",
      "Add session 2021-01-21T07:28:47Z from Right hemisphere\n",
      "\n",
      "Add session 2021-01-22T07:28:47Z from Right hemisphere\n",
      "\n",
      "Add session 2021-01-23T07:28:47Z from Right hemisphere\n",
      "\n",
      "Add session 2021-01-24T07:28:47Z from Right hemisphere\n",
      "\n",
      "Add session 2021-01-25T07:28:47Z from Right hemisphere\n",
      "\n",
      "Add session 2020-11-30T07:28:47Z from Left hemisphere\n",
      "\n",
      "Add session 2020-12-01T07:28:47Z from Left hemisphere\n",
      "\n",
      "Add session 2020-12-02T07:28:47Z from Left hemisphere\n",
      "\n",
      "Add session 2020-12-03T07:28:47Z from Left hemisphere\n",
      "\n",
      "Add session 2020-12-04T07:28:47Z from Left hemisphere\n",
      "\n",
      "Add session 2020-12-05T07:28:47Z from Left hemisphere\n",
      "\n",
      "Add session 2020-12-06T07:28:47Z from Left hemisphere\n",
      "\n",
      "Add session 2020-12-07T07:28:47Z from Left hemisphere\n",
      "\n",
      "Add session 2020-12-08T07:28:47Z from Left hemisphere\n",
      "\n",
      "Add session 2020-12-09T07:28:47Z from Left hemisphere\n",
      "\n",
      "Add session 2020-12-10T07:28:47Z from Left hemisphere\n",
      "\n",
      "Add session 2020-12-11T07:28:47Z from Left hemisphere\n",
      "\n",
      "Add session 2020-12-12T07:28:47Z from Left hemisphere\n",
      "\n",
      "Add session 2020-12-13T07:28:47Z from Left hemisphere\n",
      "\n",
      "Add session 2020-12-14T07:28:47Z from Left hemisphere\n",
      "\n",
      "Add session 2020-12-15T07:28:47Z from Left hemisphere\n",
      "\n",
      "Add session 2020-12-16T07:28:47Z from Left hemisphere\n",
      "\n",
      "Add session 2020-12-17T07:28:47Z from Left hemisphere\n",
      "\n",
      "Add session 2020-12-18T07:28:47Z from Left hemisphere\n",
      "\n",
      "Add session 2020-12-19T07:28:47Z from Left hemisphere\n",
      "\n",
      "Add session 2020-12-20T07:28:47Z from Left hemisphere\n",
      "\n",
      "Add session 2020-12-21T07:28:47Z from Left hemisphere\n",
      "\n",
      "Add session 2020-12-22T07:28:47Z from Left hemisphere\n",
      "\n",
      "Add session 2020-12-23T07:28:47Z from Left hemisphere\n",
      "\n",
      "Add session 2020-12-24T07:28:47Z from Left hemisphere\n",
      "\n",
      "Add session 2020-12-25T07:28:47Z from Left hemisphere\n",
      "\n",
      "Add session 2020-12-26T07:28:47Z from Left hemisphere\n",
      "\n",
      "Add session 2020-12-27T07:28:47Z from Left hemisphere\n",
      "\n",
      "Add session 2020-12-28T07:28:47Z from Left hemisphere\n",
      "\n",
      "Add session 2020-12-29T07:28:47Z from Left hemisphere\n",
      "\n",
      "Add session 2020-12-30T07:28:47Z from Left hemisphere\n",
      "\n",
      "Add session 2020-12-31T07:28:47Z from Left hemisphere\n",
      "\n",
      "Add session 2021-01-01T07:28:47Z from Left hemisphere\n",
      "\n",
      "Add session 2021-01-02T07:28:47Z from Left hemisphere\n",
      "\n",
      "Add session 2021-01-03T07:28:47Z from Left hemisphere\n",
      "\n",
      "Add session 2021-01-04T07:28:47Z from Left hemisphere\n",
      "\n",
      "Add session 2021-01-05T07:28:47Z from Left hemisphere\n",
      "\n",
      "Add session 2021-01-06T07:28:47Z from Left hemisphere\n",
      "\n",
      "Add session 2021-01-07T07:28:47Z from Left hemisphere\n",
      "\n",
      "Add session 2021-01-08T07:28:47Z from Left hemisphere\n",
      "\n",
      "Add session 2021-01-09T07:28:47Z from Left hemisphere\n",
      "\n",
      "Add session 2021-01-10T07:28:47Z from Left hemisphere\n",
      "\n",
      "Add session 2021-01-11T07:28:47Z from Left hemisphere\n",
      "\n",
      "Add session 2020-11-30T07:28:47Z from Right hemisphere\n",
      "\n",
      "Add session 2020-12-01T07:28:47Z from Right hemisphere\n",
      "\n",
      "Add session 2020-12-02T07:28:47Z from Right hemisphere\n",
      "\n",
      "Add session 2020-12-03T07:28:47Z from Right hemisphere\n",
      "\n",
      "Add session 2020-12-04T07:28:47Z from Right hemisphere\n",
      "\n",
      "Add session 2020-12-05T07:28:47Z from Right hemisphere\n",
      "\n",
      "Add session 2020-12-06T07:28:47Z from Right hemisphere\n",
      "\n",
      "Add session 2020-12-07T07:28:47Z from Right hemisphere\n",
      "\n",
      "Add session 2020-12-08T07:28:47Z from Right hemisphere\n",
      "\n",
      "Add session 2020-12-09T07:28:47Z from Right hemisphere\n",
      "\n",
      "Add session 2020-12-10T07:28:47Z from Right hemisphere\n",
      "\n",
      "Add session 2020-12-11T07:28:47Z from Right hemisphere\n",
      "\n",
      "Add session 2020-12-12T07:28:47Z from Right hemisphere\n",
      "\n",
      "Add session 2020-12-13T07:28:47Z from Right hemisphere\n",
      "\n",
      "Add session 2020-12-14T07:28:47Z from Right hemisphere\n",
      "\n",
      "Add session 2020-12-15T07:28:47Z from Right hemisphere\n",
      "\n",
      "Add session 2020-12-16T07:28:47Z from Right hemisphere\n",
      "\n",
      "Add session 2020-12-17T07:28:47Z from Right hemisphere\n",
      "\n",
      "Add session 2020-12-18T07:28:47Z from Right hemisphere\n",
      "\n",
      "Add session 2020-12-19T07:28:47Z from Right hemisphere\n",
      "\n",
      "Add session 2020-12-20T07:28:47Z from Right hemisphere\n",
      "\n",
      "Add session 2020-12-21T07:28:47Z from Right hemisphere\n",
      "\n",
      "Add session 2020-12-22T07:28:47Z from Right hemisphere\n",
      "\n",
      "Add session 2020-12-23T07:28:47Z from Right hemisphere\n",
      "\n",
      "Add session 2020-12-24T07:28:47Z from Right hemisphere\n",
      "\n",
      "Add session 2020-12-25T07:28:47Z from Right hemisphere\n",
      "\n",
      "Add session 2020-12-26T07:28:47Z from Right hemisphere\n",
      "\n",
      "Add session 2020-12-27T07:28:47Z from Right hemisphere\n",
      "\n",
      "Add session 2020-12-28T07:28:47Z from Right hemisphere\n",
      "\n",
      "Add session 2020-12-29T07:28:47Z from Right hemisphere\n",
      "\n",
      "Add session 2020-12-30T07:28:47Z from Right hemisphere\n",
      "\n",
      "Add session 2020-12-31T07:28:47Z from Right hemisphere\n",
      "\n",
      "Add session 2021-01-01T07:28:47Z from Right hemisphere\n",
      "\n",
      "Add session 2021-01-02T07:28:47Z from Right hemisphere\n",
      "\n",
      "Add session 2021-01-03T07:28:47Z from Right hemisphere\n",
      "\n",
      "Add session 2021-01-04T07:28:47Z from Right hemisphere\n",
      "\n",
      "Add session 2021-01-05T07:28:47Z from Right hemisphere\n",
      "\n",
      "Add session 2021-01-06T07:28:47Z from Right hemisphere\n",
      "\n",
      "Add session 2021-01-07T07:28:47Z from Right hemisphere\n",
      "\n",
      "Add session 2021-01-08T07:28:47Z from Right hemisphere\n",
      "\n",
      "Add session 2021-01-09T07:28:47Z from Right hemisphere\n",
      "\n",
      "Add session 2021-01-10T07:28:47Z from Right hemisphere\n",
      "\n",
      "Add session 2021-01-11T07:28:47Z from Right hemisphere\n",
      "\n",
      "Add session 2021-01-12T07:28:47Z from Left hemisphere\n",
      "\n",
      "Add session 2021-01-13T07:28:47Z from Left hemisphere\n",
      "\n",
      "Add session 2021-01-12T07:28:47Z from Right hemisphere\n",
      "\n",
      "Add session 2021-01-13T07:28:47Z from Right hemisphere\n",
      "\n",
      "Add session 2021-01-19T07:28:47Z from Left hemisphere\n",
      "\n",
      "Add session 2021-01-20T07:28:47Z from Left hemisphere\n",
      "\n",
      "Add session 2021-01-19T07:28:47Z from Right hemisphere\n",
      "\n",
      "Add session 2021-01-20T07:28:47Z from Right hemisphere\n",
      "\n",
      "Add session 2021-01-20T07:28:47Z from Left hemisphere\n",
      "\n",
      "Add session 2021-01-21T07:28:47Z from Left hemisphere\n",
      "\n",
      "Add session 2021-01-20T07:28:47Z from Right hemisphere\n",
      "\n",
      "Add session 2021-01-21T07:28:47Z from Right hemisphere\n",
      "\n",
      "Add session 2021-01-14T07:28:47Z from Left hemisphere\n",
      "\n",
      "Add session 2021-01-15T07:28:47Z from Left hemisphere\n",
      "\n",
      "Add session 2021-01-14T07:28:47Z from Right hemisphere\n",
      "\n",
      "Add session 2021-01-15T07:28:47Z from Right hemisphere\n",
      "\n",
      "Add session 2021-01-18T07:28:47Z from Left hemisphere\n",
      "\n",
      "Add session 2021-01-19T07:28:47Z from Left hemisphere\n",
      "\n",
      "Add session 2021-01-18T07:28:47Z from Right hemisphere\n",
      "\n",
      "Add session 2021-01-19T07:28:47Z from Right hemisphere\n",
      "\n",
      "Add session 2021-01-13T07:28:47Z from Left hemisphere\n",
      "\n",
      "Add session 2021-01-14T07:28:47Z from Left hemisphere\n",
      "\n",
      "Add session 2021-01-13T07:28:47Z from Right hemisphere\n",
      "\n",
      "Add session 2021-01-14T07:28:47Z from Right hemisphere\n",
      "Timezone select for local-time: Europe/Berlin\n"
     ]
    }
   ],
   "source": [
    "# define an example instance and fill in the values of the dataclass PerceiveData \n",
    "# choose the values you are interested in analyzing further\n",
    "importlib.reload(main_class)\n",
    "importlib.reload(modality_class)\n",
    "importlib.reload(extract_chronic)\n",
    "\n",
    "importlib.reload(chronic_class)\n",
    "importlib.reload(extract_chronic)\n",
    "\n",
    "dat = main_class.PerceiveData(\n",
    "    sub = \"015\", \n",
    "    incl_modalities=['chronic'],\n",
    "    import_json=True,\n",
    "    warn_for_metaNaNs=False,\n",
    ")\n"
   ]
  },
  {
   "cell_type": "code",
   "execution_count": 20,
   "metadata": {},
   "outputs": [
    {
     "data": {
      "text/html": [
       "<div>\n",
       "<style scoped>\n",
       "    .dataframe tbody tr th:only-of-type {\n",
       "        vertical-align: middle;\n",
       "    }\n",
       "\n",
       "    .dataframe tbody tr th {\n",
       "        vertical-align: top;\n",
       "    }\n",
       "\n",
       "    .dataframe thead th {\n",
       "        text-align: right;\n",
       "    }\n",
       "</style>\n",
       "<table border=\"1\" class=\"dataframe\">\n",
       "  <thead>\n",
       "    <tr style=\"text-align: right;\">\n",
       "      <th></th>\n",
       "      <th>local_time</th>\n",
       "      <th>PSD_Left</th>\n",
       "      <th>freq_Left</th>\n",
       "      <th>contact_Left</th>\n",
       "      <th>group_name_Left</th>\n",
       "      <th>stim_amp_Left</th>\n",
       "      <th>PSD_Right</th>\n",
       "      <th>freq_Right</th>\n",
       "      <th>contact_Right</th>\n",
       "      <th>group_name_Right</th>\n",
       "      <th>stim_amp_Right</th>\n",
       "    </tr>\n",
       "    <tr>\n",
       "      <th>utc_time</th>\n",
       "      <th></th>\n",
       "      <th></th>\n",
       "      <th></th>\n",
       "      <th></th>\n",
       "      <th></th>\n",
       "      <th></th>\n",
       "      <th></th>\n",
       "      <th></th>\n",
       "      <th></th>\n",
       "      <th></th>\n",
       "      <th></th>\n",
       "    </tr>\n",
       "  </thead>\n",
       "  <tbody>\n",
       "    <tr>\n",
       "      <th>2021-01-11T22:55:48Z</th>\n",
       "      <td>2021-01-11 23:55:48 CET+0100</td>\n",
       "      <td>1644</td>\n",
       "      <td>20.51</td>\n",
       "      <td>SensingChannelDef.ZERO_TWO_LEFT</td>\n",
       "      <td>GroupIdDef.GROUP_A</td>\n",
       "      <td>1.1</td>\n",
       "      <td>374</td>\n",
       "      <td>21.48</td>\n",
       "      <td>SensingChannelDef.ZERO_TWO_RIGHT</td>\n",
       "      <td>GroupIdDef.GROUP_A</td>\n",
       "      <td>1.1</td>\n",
       "    </tr>\n",
       "    <tr>\n",
       "      <th>2021-01-11T22:45:48Z</th>\n",
       "      <td>2021-01-11 23:45:48 CET+0100</td>\n",
       "      <td>6368</td>\n",
       "      <td>20.51</td>\n",
       "      <td>SensingChannelDef.ZERO_TWO_LEFT</td>\n",
       "      <td>GroupIdDef.GROUP_A</td>\n",
       "      <td>1.1</td>\n",
       "      <td>684</td>\n",
       "      <td>21.48</td>\n",
       "      <td>SensingChannelDef.ZERO_TWO_RIGHT</td>\n",
       "      <td>GroupIdDef.GROUP_A</td>\n",
       "      <td>1.1</td>\n",
       "    </tr>\n",
       "    <tr>\n",
       "      <th>2021-01-11T22:35:48Z</th>\n",
       "      <td>2021-01-11 23:35:48 CET+0100</td>\n",
       "      <td>6803</td>\n",
       "      <td>20.51</td>\n",
       "      <td>SensingChannelDef.ZERO_TWO_LEFT</td>\n",
       "      <td>GroupIdDef.GROUP_A</td>\n",
       "      <td>1.1</td>\n",
       "      <td>867</td>\n",
       "      <td>21.48</td>\n",
       "      <td>SensingChannelDef.ZERO_TWO_RIGHT</td>\n",
       "      <td>GroupIdDef.GROUP_A</td>\n",
       "      <td>1.1</td>\n",
       "    </tr>\n",
       "    <tr>\n",
       "      <th>2021-01-11T22:25:48Z</th>\n",
       "      <td>2021-01-11 23:25:48 CET+0100</td>\n",
       "      <td>6466</td>\n",
       "      <td>20.51</td>\n",
       "      <td>SensingChannelDef.ZERO_TWO_LEFT</td>\n",
       "      <td>GroupIdDef.GROUP_A</td>\n",
       "      <td>1.1</td>\n",
       "      <td>761</td>\n",
       "      <td>21.48</td>\n",
       "      <td>SensingChannelDef.ZERO_TWO_RIGHT</td>\n",
       "      <td>GroupIdDef.GROUP_A</td>\n",
       "      <td>1.1</td>\n",
       "    </tr>\n",
       "    <tr>\n",
       "      <th>2021-01-11T22:15:48Z</th>\n",
       "      <td>2021-01-11 23:15:48 CET+0100</td>\n",
       "      <td>4703</td>\n",
       "      <td>20.51</td>\n",
       "      <td>SensingChannelDef.ZERO_TWO_LEFT</td>\n",
       "      <td>GroupIdDef.GROUP_A</td>\n",
       "      <td>1.1</td>\n",
       "      <td>713</td>\n",
       "      <td>21.48</td>\n",
       "      <td>SensingChannelDef.ZERO_TWO_RIGHT</td>\n",
       "      <td>GroupIdDef.GROUP_A</td>\n",
       "      <td>1.1</td>\n",
       "    </tr>\n",
       "    <tr>\n",
       "      <th>...</th>\n",
       "      <td>...</td>\n",
       "      <td>...</td>\n",
       "      <td>...</td>\n",
       "      <td>...</td>\n",
       "      <td>...</td>\n",
       "      <td>...</td>\n",
       "      <td>...</td>\n",
       "      <td>...</td>\n",
       "      <td>...</td>\n",
       "      <td>...</td>\n",
       "      <td>...</td>\n",
       "    </tr>\n",
       "    <tr>\n",
       "      <th>2021-01-13T23:46:24Z</th>\n",
       "      <td>2021-01-14 00:46:24 CET+0100</td>\n",
       "      <td>1447</td>\n",
       "      <td>20.51</td>\n",
       "      <td>SensingChannelDef.ZERO_TWO_LEFT</td>\n",
       "      <td>GroupIdDef.GROUP_A</td>\n",
       "      <td>1.4</td>\n",
       "      <td>150</td>\n",
       "      <td>23.44</td>\n",
       "      <td>SensingChannelDef.ZERO_TWO_RIGHT</td>\n",
       "      <td>GroupIdDef.GROUP_A</td>\n",
       "      <td>1.4</td>\n",
       "    </tr>\n",
       "    <tr>\n",
       "      <th>2021-01-13T23:36:24Z</th>\n",
       "      <td>2021-01-14 00:36:24 CET+0100</td>\n",
       "      <td>223</td>\n",
       "      <td>20.51</td>\n",
       "      <td>SensingChannelDef.ZERO_TWO_LEFT</td>\n",
       "      <td>GroupIdDef.GROUP_A</td>\n",
       "      <td>1.4</td>\n",
       "      <td>74</td>\n",
       "      <td>23.44</td>\n",
       "      <td>SensingChannelDef.ZERO_TWO_RIGHT</td>\n",
       "      <td>GroupIdDef.GROUP_A</td>\n",
       "      <td>1.4</td>\n",
       "    </tr>\n",
       "    <tr>\n",
       "      <th>2021-01-13T23:26:24Z</th>\n",
       "      <td>2021-01-14 00:26:24 CET+0100</td>\n",
       "      <td>435</td>\n",
       "      <td>20.51</td>\n",
       "      <td>SensingChannelDef.ZERO_TWO_LEFT</td>\n",
       "      <td>GroupIdDef.GROUP_A</td>\n",
       "      <td>1.4</td>\n",
       "      <td>79</td>\n",
       "      <td>23.44</td>\n",
       "      <td>SensingChannelDef.ZERO_TWO_RIGHT</td>\n",
       "      <td>GroupIdDef.GROUP_A</td>\n",
       "      <td>1.4</td>\n",
       "    </tr>\n",
       "    <tr>\n",
       "      <th>2021-01-13T23:16:24Z</th>\n",
       "      <td>2021-01-14 00:16:24 CET+0100</td>\n",
       "      <td>1030</td>\n",
       "      <td>20.51</td>\n",
       "      <td>SensingChannelDef.ZERO_TWO_LEFT</td>\n",
       "      <td>GroupIdDef.GROUP_A</td>\n",
       "      <td>1.4</td>\n",
       "      <td>113</td>\n",
       "      <td>23.44</td>\n",
       "      <td>SensingChannelDef.ZERO_TWO_RIGHT</td>\n",
       "      <td>GroupIdDef.GROUP_A</td>\n",
       "      <td>1.4</td>\n",
       "    </tr>\n",
       "    <tr>\n",
       "      <th>2021-01-13T23:06:24Z</th>\n",
       "      <td>2021-01-14 00:06:24 CET+0100</td>\n",
       "      <td>4934</td>\n",
       "      <td>20.51</td>\n",
       "      <td>SensingChannelDef.ZERO_TWO_LEFT</td>\n",
       "      <td>GroupIdDef.GROUP_A</td>\n",
       "      <td>1.4</td>\n",
       "      <td>298</td>\n",
       "      <td>23.44</td>\n",
       "      <td>SensingChannelDef.ZERO_TWO_RIGHT</td>\n",
       "      <td>GroupIdDef.GROUP_A</td>\n",
       "      <td>1.4</td>\n",
       "    </tr>\n",
       "  </tbody>\n",
       "</table>\n",
       "<p>8020 rows × 11 columns</p>\n",
       "</div>"
      ],
      "text/plain": [
       "                                        local_time PSD_Left freq_Left  \\\n",
       "utc_time                                                                \n",
       "2021-01-11T22:55:48Z  2021-01-11 23:55:48 CET+0100     1644     20.51   \n",
       "2021-01-11T22:45:48Z  2021-01-11 23:45:48 CET+0100     6368     20.51   \n",
       "2021-01-11T22:35:48Z  2021-01-11 23:35:48 CET+0100     6803     20.51   \n",
       "2021-01-11T22:25:48Z  2021-01-11 23:25:48 CET+0100     6466     20.51   \n",
       "2021-01-11T22:15:48Z  2021-01-11 23:15:48 CET+0100     4703     20.51   \n",
       "...                                            ...      ...       ...   \n",
       "2021-01-13T23:46:24Z  2021-01-14 00:46:24 CET+0100     1447     20.51   \n",
       "2021-01-13T23:36:24Z  2021-01-14 00:36:24 CET+0100      223     20.51   \n",
       "2021-01-13T23:26:24Z  2021-01-14 00:26:24 CET+0100      435     20.51   \n",
       "2021-01-13T23:16:24Z  2021-01-14 00:16:24 CET+0100     1030     20.51   \n",
       "2021-01-13T23:06:24Z  2021-01-14 00:06:24 CET+0100     4934     20.51   \n",
       "\n",
       "                                         contact_Left     group_name_Left  \\\n",
       "utc_time                                                                    \n",
       "2021-01-11T22:55:48Z  SensingChannelDef.ZERO_TWO_LEFT  GroupIdDef.GROUP_A   \n",
       "2021-01-11T22:45:48Z  SensingChannelDef.ZERO_TWO_LEFT  GroupIdDef.GROUP_A   \n",
       "2021-01-11T22:35:48Z  SensingChannelDef.ZERO_TWO_LEFT  GroupIdDef.GROUP_A   \n",
       "2021-01-11T22:25:48Z  SensingChannelDef.ZERO_TWO_LEFT  GroupIdDef.GROUP_A   \n",
       "2021-01-11T22:15:48Z  SensingChannelDef.ZERO_TWO_LEFT  GroupIdDef.GROUP_A   \n",
       "...                                               ...                 ...   \n",
       "2021-01-13T23:46:24Z  SensingChannelDef.ZERO_TWO_LEFT  GroupIdDef.GROUP_A   \n",
       "2021-01-13T23:36:24Z  SensingChannelDef.ZERO_TWO_LEFT  GroupIdDef.GROUP_A   \n",
       "2021-01-13T23:26:24Z  SensingChannelDef.ZERO_TWO_LEFT  GroupIdDef.GROUP_A   \n",
       "2021-01-13T23:16:24Z  SensingChannelDef.ZERO_TWO_LEFT  GroupIdDef.GROUP_A   \n",
       "2021-01-13T23:06:24Z  SensingChannelDef.ZERO_TWO_LEFT  GroupIdDef.GROUP_A   \n",
       "\n",
       "                     stim_amp_Left PSD_Right freq_Right  \\\n",
       "utc_time                                                  \n",
       "2021-01-11T22:55:48Z           1.1       374      21.48   \n",
       "2021-01-11T22:45:48Z           1.1       684      21.48   \n",
       "2021-01-11T22:35:48Z           1.1       867      21.48   \n",
       "2021-01-11T22:25:48Z           1.1       761      21.48   \n",
       "2021-01-11T22:15:48Z           1.1       713      21.48   \n",
       "...                            ...       ...        ...   \n",
       "2021-01-13T23:46:24Z           1.4       150      23.44   \n",
       "2021-01-13T23:36:24Z           1.4        74      23.44   \n",
       "2021-01-13T23:26:24Z           1.4        79      23.44   \n",
       "2021-01-13T23:16:24Z           1.4       113      23.44   \n",
       "2021-01-13T23:06:24Z           1.4       298      23.44   \n",
       "\n",
       "                                         contact_Right    group_name_Right  \\\n",
       "utc_time                                                                     \n",
       "2021-01-11T22:55:48Z  SensingChannelDef.ZERO_TWO_RIGHT  GroupIdDef.GROUP_A   \n",
       "2021-01-11T22:45:48Z  SensingChannelDef.ZERO_TWO_RIGHT  GroupIdDef.GROUP_A   \n",
       "2021-01-11T22:35:48Z  SensingChannelDef.ZERO_TWO_RIGHT  GroupIdDef.GROUP_A   \n",
       "2021-01-11T22:25:48Z  SensingChannelDef.ZERO_TWO_RIGHT  GroupIdDef.GROUP_A   \n",
       "2021-01-11T22:15:48Z  SensingChannelDef.ZERO_TWO_RIGHT  GroupIdDef.GROUP_A   \n",
       "...                                                ...                 ...   \n",
       "2021-01-13T23:46:24Z  SensingChannelDef.ZERO_TWO_RIGHT  GroupIdDef.GROUP_A   \n",
       "2021-01-13T23:36:24Z  SensingChannelDef.ZERO_TWO_RIGHT  GroupIdDef.GROUP_A   \n",
       "2021-01-13T23:26:24Z  SensingChannelDef.ZERO_TWO_RIGHT  GroupIdDef.GROUP_A   \n",
       "2021-01-13T23:16:24Z  SensingChannelDef.ZERO_TWO_RIGHT  GroupIdDef.GROUP_A   \n",
       "2021-01-13T23:06:24Z  SensingChannelDef.ZERO_TWO_RIGHT  GroupIdDef.GROUP_A   \n",
       "\n",
       "                     stim_amp_Right  \n",
       "utc_time                             \n",
       "2021-01-11T22:55:48Z            1.1  \n",
       "2021-01-11T22:45:48Z            1.1  \n",
       "2021-01-11T22:35:48Z            1.1  \n",
       "2021-01-11T22:25:48Z            1.1  \n",
       "2021-01-11T22:15:48Z            1.1  \n",
       "...                             ...  \n",
       "2021-01-13T23:46:24Z            1.4  \n",
       "2021-01-13T23:36:24Z            1.4  \n",
       "2021-01-13T23:26:24Z            1.4  \n",
       "2021-01-13T23:16:24Z            1.4  \n",
       "2021-01-13T23:06:24Z            1.4  \n",
       "\n",
       "[8020 rows x 11 columns]"
      ]
     },
     "execution_count": 20,
     "metadata": {},
     "output_type": "execute_result"
    }
   ],
   "source": [
    "dat.chronic.data"
   ]
  },
  {
   "cell_type": "code",
   "execution_count": null,
   "metadata": {},
   "outputs": [],
   "source": [
    "dat.chronic.data"
   ]
  },
  {
   "attachments": {},
   "cell_type": "markdown",
   "metadata": {},
   "source": [
    "## 3. Direct access JSONs"
   ]
  },
  {
   "cell_type": "code",
   "execution_count": 22,
   "metadata": {},
   "outputs": [],
   "source": [
    "json_fname = 'Report_Json_Session_Report_20210618T111250.json'\n",
    "j = load_rawfile.load_sourceJSON('024', json_fname)"
   ]
  },
  {
   "cell_type": "code",
   "execution_count": null,
   "metadata": {},
   "outputs": [],
   "source": []
  },
  {
   "cell_type": "code",
   "execution_count": 25,
   "metadata": {},
   "outputs": [
    {
     "name": "stdout",
     "output_type": "stream",
     "text": [
      "dict_keys(['AbnormalEnd', 'FullyReadForSession', 'FeatureInformationCode', 'SessionDate', 'SessionEndDate', 'ProgrammerTimezone', 'ProgrammerUtcOffset', 'ProgrammerLocale', 'ProgrammerVersion', 'PatientInformation', 'DeviceInformation', 'BatteryInformation', 'LeadConfiguration', 'Stimulation', 'Groups', 'BatteryReminder', 'MostRecentInSessionSignalCheck', 'Impedance', 'GroupHistory', 'LfpMontageTimeDomain', 'BrainSenseTimeDomain', 'BrainSenseLfp', 'LFPMontage', 'DiagnosticData'])\n"
     ]
    }
   ],
   "source": [
    "print(j.keys())"
   ]
  },
  {
   "cell_type": "code",
   "execution_count": 28,
   "metadata": {},
   "outputs": [],
   "source": [
    "prc_data_codes = {\n",
    "    'signal_test': 'CalibrationTests',\n",
    "    'streaming': 'BrainSenseTimeDomain',\n",
    "    'survey': 'LfpMontageTimeDomain',\n",
    "    'indef_streaming': 'IndefiniteStreaming'\n",
    "}"
   ]
  },
  {
   "cell_type": "code",
   "execution_count": 34,
   "metadata": {},
   "outputs": [
    {
     "data": {
      "text/plain": [
       "6"
      ]
     },
     "execution_count": 34,
     "metadata": {},
     "output_type": "execute_result"
    }
   ],
   "source": [
    "mod = 'streaming'\n",
    "\n",
    "list_of_streamings = j[prc_data_codes[mod]]\n",
    "n_streamings = len(list_of_streamings)\n",
    "\n",
    "# n_exp_streamings = extract from metadata\n",
    "# check whether n-streamings match metdata table \n",
    "# if n_streamings == n_streamings: ...\n",
    "\n",
    "for dat in list_of_streamings:\n",
    "    print(dat)"
   ]
  },
  {
   "cell_type": "code",
   "execution_count": 38,
   "metadata": {},
   "outputs": [
    {
     "name": "stdout",
     "output_type": "stream",
     "text": [
      "1467 3912 1693\n"
     ]
    }
   ],
   "source": [
    "print(\n",
    "    len(list_of_streamings[0]['GlobalPacketSizes']),\n",
    "    len(list_of_streamings[0]['TicksInMses']),\n",
    "    len(list_of_streamings[0]['GlobalSequences'])\n",
    "    )"
   ]
  },
  {
   "cell_type": "code",
   "execution_count": 79,
   "metadata": {},
   "outputs": [
    {
     "data": {
      "text/plain": [
       "226"
      ]
     },
     "execution_count": 79,
     "metadata": {},
     "output_type": "execute_result"
    }
   ],
   "source": [
    "1693 - 1467"
   ]
  },
  {
   "cell_type": "code",
   "execution_count": 40,
   "metadata": {},
   "outputs": [],
   "source": [
    "dat = list_of_streamings[0]"
   ]
  },
  {
   "cell_type": "code",
   "execution_count": 73,
   "metadata": {},
   "outputs": [
    {
     "name": "stdout",
     "output_type": "stream",
     "text": [
      "dict_keys(['Pass', 'GlobalSequences', 'GlobalPacketSizes', 'TicksInMses', 'Channel', 'Gain', 'FirstPacketDateTime', 'SampleRateInHz', 'TimeDomainData'])\n"
     ]
    },
    {
     "data": {
      "text/plain": [
       "'ZERO_TWO_LEFT'"
      ]
     },
     "execution_count": 73,
     "metadata": {},
     "output_type": "execute_result"
    }
   ],
   "source": [
    "print(dat.keys())\n",
    "\n",
    "sfreq = dat['SampleRateInHz']\n",
    "starttime = dat['FirstPacketDateTime']\n",
    "ch_name = dat['Channel']\n",
    "\n"
   ]
  },
  {
   "cell_type": "code",
   "execution_count": 74,
   "metadata": {},
   "outputs": [],
   "source": [
    "def convert_list_string_floats(\n",
    "    string_list\n",
    "):\n",
    "    try:\n",
    "        floats = [float(v) for v in string_list.split(',')]\n",
    "    except:\n",
    "        floats = [float(v) for v in string_list[:-1].split(',')]\n",
    "\n",
    "    return floats\n"
   ]
  },
  {
   "cell_type": "code",
   "execution_count": 78,
   "metadata": {},
   "outputs": [
    {
     "data": {
      "text/plain": [
       "122"
      ]
     },
     "execution_count": 78,
     "metadata": {},
     "output_type": "execute_result"
    }
   ],
   "source": [
    "gs_floats = convert_list_string_floats(dat['GlobalSequences'])\n",
    "\n",
    "diffs = np.diff(gs_floats) == 2\n",
    "\n",
    "sum(diffs)"
   ]
  },
  {
   "cell_type": "code",
   "execution_count": 64,
   "metadata": {},
   "outputs": [
    {
     "data": {
      "text/plain": [
       "30563"
      ]
     },
     "execution_count": 64,
     "metadata": {},
     "output_type": "execute_result"
    }
   ],
   "source": [
    "len(dat['TimeDomainData']) "
   ]
  },
  {
   "cell_type": "code",
   "execution_count": null,
   "metadata": {},
   "outputs": [],
   "source": []
  }
 ],
 "metadata": {
  "kernelspec": {
   "display_name": "pyPerceive",
   "language": "python",
   "name": "python3"
  },
  "language_info": {
   "codemirror_mode": {
    "name": "ipython",
    "version": 3
   },
   "file_extension": ".py",
   "mimetype": "text/x-python",
   "name": "python",
   "nbconvert_exporter": "python",
   "pygments_lexer": "ipython3",
   "version": "3.10.8"
  },
  "orig_nbformat": 4,
  "vscode": {
   "interpreter": {
    "hash": "89cb9b15ea7fbcc6bc9b1c7e86ec8f92184be73d513127a97a923adf23b86793"
   }
  }
 },
 "nbformat": 4,
 "nbformat_minor": 2
}
