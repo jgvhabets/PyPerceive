{
 "cells": [
  {
   "attachments": {},
   "cell_type": "markdown",
   "metadata": {},
   "source": [
    "# PyPerceive to select and load Percept recordings "
   ]
  },
  {
   "cell_type": "markdown",
   "metadata": {},
   "source": [
    "## 0. Loading packages and functions, defining paths"
   ]
  },
  {
   "cell_type": "code",
   "execution_count": 1,
   "metadata": {},
   "outputs": [],
   "source": [
    "# Importing Python and external packages\n",
    "\n",
    "\n",
    "import os\n",
    "import sys\n",
    "import importlib\n",
    "import json\n",
    "from dataclasses import dataclass, field, fields\n",
    "from itertools import compress\n",
    "import csv\n",
    "import pandas as pd\n",
    "import numpy as np\n",
    "\n",
    "import scipy\n",
    "import matplotlib.pyplot as plt\n",
    "from scipy import signal\n",
    "\n",
    "import openpyxl\n",
    "from openpyxl import Workbook, load_workbook\n",
    "import xlrd\n",
    "\n",
    "#mne\n",
    "import mne_bids\n",
    "import mne\n",
    "from mne.time_frequency import tfr_morlet \n",
    "\n",
    "\n",
    "\n",
    "from importlib import reload          \n",
    "\n",
    "# from scipy.signal import spectrogram, hanning     # hanning not found\n"
   ]
  },
  {
   "attachments": {},
   "cell_type": "markdown",
   "metadata": {},
   "source": [
    "#### check package versions\n",
    "\n",
    "developed with:\n",
    "- Python sys 3.10.8\n",
    "- pandas 1.5.1\n",
    "- numpy 1.23.4\n",
    "- mne_bids 0.11.1\n",
    "- mne 1.2.3"
   ]
  },
  {
   "cell_type": "code",
   "execution_count": 2,
   "metadata": {},
   "outputs": [
    {
     "name": "stdout",
     "output_type": "stream",
     "text": [
      "Python sys 3.10.8 | packaged by conda-forge | (main, Nov 24 2022, 14:07:00) [MSC v.1916 64 bit (AMD64)]\n",
      "pandas 1.5.1\n",
      "numpy 1.23.4\n",
      "mne_bids 0.11.1\n",
      "mne 1.2.3\n"
     ]
    }
   ],
   "source": [
    "# check some package versions for documentation and reproducability\n",
    "print('Python sys', sys.version)\n",
    "print('pandas', pd.__version__)\n",
    "print('numpy', np.__version__)\n",
    "print('mne_bids', mne_bids.__version__)\n",
    "print('mne', mne.__version__)\n"
   ]
  },
  {
   "attachments": {},
   "cell_type": "markdown",
   "metadata": {},
   "source": [
    "#### Load pyPerceive functions"
   ]
  },
  {
   "cell_type": "code",
   "execution_count": 3,
   "metadata": {},
   "outputs": [],
   "source": [
    "def add_and_set_code_folder_in_notebook():\n",
    "    \"\"\"\n",
    "    while working in the local pyPerceive repo,\n",
    "    find and set path to the PyPerceive code folder\n",
    "\n",
    "    use function in notebook first, to locate the local\n",
    "    repo and enable import of pyPerceive functions\n",
    "    \"\"\"\n",
    "    project_path = os.getcwd()\n",
    "\n",
    "    while project_path[-10:] != 'PyPerceive':\n",
    "        project_path = os.path.dirname(project_path)\n",
    "\n",
    "    code_path = os.path.join(project_path, 'code')\n",
    "    sys.path.append(code_path)\n",
    "\n",
    "    # change directory to code path\n",
    "    os.chdir(code_path)\n",
    "    \n",
    "    return print(f'working dir set to: {code_path}')\n"
   ]
  },
  {
   "attachments": {},
   "cell_type": "markdown",
   "metadata": {},
   "source": [
    "## 1. Load Data using MainClass"
   ]
  },
  {
   "cell_type": "code",
   "execution_count": 4,
   "metadata": {},
   "outputs": [
    {
     "name": "stdout",
     "output_type": "stream",
     "text": [
      "working dir set to: c:\\Users\\habetsj\\Research\\projects\\PyPerceive\\code\n"
     ]
    }
   ],
   "source": [
    "# change working directory to ensure correct loading of own functions\n",
    "add_and_set_code_folder_in_notebook()\n",
    "\n",
    "from PerceiveImport.classes import (\n",
    "    main_class, modality_class, metadata_class,\n",
    "    session_class, condition_class, task_class,\n",
    "    contact_class, run_class, chronic_class\n",
    ")\n",
    "import PerceiveImport.methods.load_rawfile as load_rawfile\n",
    "import PerceiveImport.methods.find_folders as find_folders\n",
    "import PerceiveImport.methods.metadata_helpers as metaHelpers\n",
    "\n"
   ]
  },
  {
   "cell_type": "code",
   "execution_count": 5,
   "metadata": {},
   "outputs": [
    {
     "data": {
      "text/plain": [
       "<module 'PerceiveImport.methods.metadata_helpers' from 'c:\\\\Users\\\\habetsj\\\\Research\\\\projects\\\\PyPerceive\\\\code\\\\PerceiveImport\\\\methods\\\\metadata_helpers.py'>"
      ]
     },
     "execution_count": 5,
     "metadata": {},
     "output_type": "execute_result"
    }
   ],
   "source": [
    "# reload classes during debugging\n",
    "importlib.reload(main_class)\n",
    "importlib.reload(modality_class)\n",
    "importlib.reload(session_class)\n",
    "importlib.reload(task_class)\n",
    "importlib.reload(condition_class)\n",
    "importlib.reload(contact_class)\n",
    "importlib.reload(metadata_class)\n",
    "importlib.reload(load_rawfile)\n",
    "importlib.reload(find_folders)\n",
    "importlib.reload(run_class)\n",
    "importlib.reload(metaHelpers)"
   ]
  },
  {
   "cell_type": "code",
   "execution_count": 6,
   "metadata": {},
   "outputs": [
    {
     "name": "stdout",
     "output_type": "stream",
     "text": [
      "\n",
      "\t### WARNING: NaNs in Metadata Table sub-024 ###\n",
      "NaNs in: sub024_ses-2021061806255999_run-BrainSense20210618063700.mat\n",
      "NaNs in: sub024_ses-2021061806255999_run-BrainSense20210618064000.mat\n",
      "NaNs in: sub024_ses-2021061806255999_run-BrainSense20210618064200.mat\n",
      "NaNs in: sub024_ses-2021061808253999_run-BrainSense20210618084000.mat\n",
      "NaNs in: sub024_ses-2021061808253999_run-BrainSense20210618084300.mat\n",
      "NaNs in: sub024_ses-2021061808253999_run-BrainSense20210618084700.mat\n",
      "NaNs in: sub024_ses-2021092106385396_run-BrainSense20210921070500.mat\n",
      "NaNs in: sub024_ses-2021092106385396_run-BrainSense20210921072300.mat\n",
      "NaNs in: sub024_ses-2021092106385396_run-CHRONIC20210917114914.mat\n",
      "NaNs in: sub024_ses-2021092107452096_run-BrainSense20210921074800.mat\n",
      "NaNs in: sub024_ses-2021092107452096_run-BrainSense20210921080600.mat\n",
      "NaNs in: sub024_ses-2021092107452096_run-BrainSense20210921082400.mat\n",
      "NaNs in: sub024_ses-2021092107452096_run-CHRONIC20210918121914.mat\n",
      "NaNs in: sub-20210615PStn_ses-2022061010445782_run-BrainSense20220610105800.mat\n",
      "NaNs in: sub-20210615PStn_ses-2022061010445782_run-BrainSense20220610111500.mat\n",
      "NaNs in: sub-20210615PStn_ses-2022061010445782_run-BrainSense20220610111700.mat\n",
      "NaNs in: sub-20210615PStn_ses-2022061010445782_run-BrainSense20220610112200.mat\n",
      "NaNs in: sub-20210615PStn_ses-2022061010445782_run-BrainSense20220610112500.mat\n",
      "NaNs in: sub-20210615PStn_ses-2022061010445782_run-BrainSense20220610112700.mat\n",
      "NaNs in: sub-20210615PStn_ses-2022061010445782_run-BrainSense20220610113100.mat\n",
      "NaNs in: sub-20210615PStn_ses-2022061010445782_run-BrainSense20220610114400.mat\n",
      "NaNs in: sub-20210615PStn_ses-2022061010445782_run-BrainSense20220610115200.mat\n",
      "NaNs in: sub-20210615PStn_ses-2022061010445782_run-BrainSense20220610115500.mat\n",
      "NaNs in: sub-20210615PStn_ses-2022061010445782_run-BrainSense20220610115900.mat\n",
      "NaNs in: sub-20210615PStn_ses-2022061010445782_run-BrainSense20220610120100.mat\n",
      "NaNs in: sub-20210615PStn_ses-2022061010445782_run-BrainSense20220610120200.mat\n",
      "NaNs in: sub-20210615PStn_ses-2022061010445782_run-BrainSense20220610120500.mat\n",
      "NaNs in: sub-20210615PStn_ses-2022061010445782_run-CHRONIC20210918012914.mat\n",
      "NaNs in: sub-20210615PStn_ses-2022072210000082_run-BrainSense20220609070200.mat\n",
      "NaNs in: sub-20210615PStn_ses-2022072210000082_run-BrainSense20220609071800.mat\n",
      "NaNs in: sub-20210615PStn_ses-2022072210000082_run-BrainSense20220609072200.mat\n",
      "NaNs in: sub-20210615PStn_ses-2022072210000082_run-BrainSense20220609072900.mat\n",
      "NaNs in: sub-20210615PStn_ses-2022072210000082_run-BrainSense20220609073100.mat\n",
      "NaNs in: sub-20210615PStn_ses-2022072210000082_run-BrainSense20220609073500.mat\n",
      "NaNs in: sub-20210615PStn_ses-2022072210000082_run-CHRONIC20210918125914.mat\n",
      "NaNs in: sub-20210615PStn_ses-1948072210000072_run-CHRONIC20210918022914.mat\n",
      "Creating RawArray with float64 data, n_channels=6, n_times=5288\n",
      "    Range : 0 ... 5287 =      0.000 ...    21.148 secs\n",
      "Ready.\n",
      "Creating RawArray with float64 data, n_channels=3, n_times=5312\n",
      "    Range : 0 ... 5311 =      0.000 ...    21.244 secs\n",
      "Ready.\n",
      "Creating RawArray with float64 data, n_channels=6, n_times=5288\n",
      "    Range : 0 ... 5287 =      0.000 ...    21.148 secs\n",
      "Ready.\n",
      "Creating RawArray with float64 data, n_channels=6, n_times=30187\n",
      "    Range : 0 ... 30186 =      0.000 ...   120.744 secs\n",
      "Ready.\n",
      "Creating RawArray with float64 data, n_channels=12, n_times=6500\n",
      "    Range : 0 ... 6499 =      0.000 ...    25.996 secs\n",
      "Ready.\n",
      "Creating RawArray with float64 data, n_channels=12, n_times=34687\n",
      "    Range : 0 ... 34686 =      0.000 ...   138.744 secs\n",
      "Ready.\n",
      "Creating RawArray with float64 data, n_channels=12, n_times=46500\n",
      "    Range : 0 ... 46499 =      0.000 ...   185.996 secs\n",
      "Ready.\n"
     ]
    }
   ],
   "source": [
    "# define an example instance and fill in the values of the dataclass PerceiveData \n",
    "# choose the values you are interested in analyzing further\n",
    "\n",
    "sub024 = main_class.PerceiveData(\n",
    "    sub = \"024\", \n",
    "    incl_modalities=['survey', 'streaming', 'indefiniteStreaming'],\n",
    "    incl_session = [\"fu18m\"],\n",
    "    incl_condition =['m0s0'],\n",
    "    incl_task = [\"rest\"],\n",
    "    incl_contact = [\"RingL\", \"SegmInterR\", \"SegmIntraR\"],\n",
    "    import_json=False,\n",
    "    warn_for_metaNaNs=True,\n",
    "    # use_bids=True,  # TODO: add to functionality\n",
    ")\n"
   ]
  },
  {
   "cell_type": "code",
   "execution_count": 11,
   "metadata": {},
   "outputs": [
    {
     "data": {
      "text/plain": [
       "['LFP_L_03_STN_MT',\n",
       " 'LFP_L_13_STN_MT',\n",
       " 'LFP_L_02_STN_MT',\n",
       " 'LFP_R_03_STN_MT',\n",
       " 'LFP_R_13_STN_MT',\n",
       " 'LFP_R_02_STN_MT',\n",
       " 'LFP_L_01_STN_MT',\n",
       " 'LFP_L_12_STN_MT',\n",
       " 'LFP_L_23_STN_MT',\n",
       " 'LFP_R_01_STN_MT',\n",
       " 'LFP_R_12_STN_MT',\n",
       " 'LFP_R_23_STN_MT']"
      ]
     },
     "execution_count": 11,
     "metadata": {},
     "output_type": "execute_result"
    }
   ],
   "source": [
    "sub024.indefiniteStreaming.fu18m.m0s0.rest.run1.data.ch_names"
   ]
  },
  {
   "cell_type": "code",
   "execution_count": 35,
   "metadata": {},
   "outputs": [
    {
     "data": {
      "text/html": [
       "<table class=\"table table-hover table-striped table-sm table-responsive small\">\n",
       "    <tr>\n",
       "        <th>Measurement date</th>\n",
       "        \n",
       "        <td>Unknown</td>\n",
       "        \n",
       "    </tr>\n",
       "    <tr>\n",
       "        <th>Experimenter</th>\n",
       "        \n",
       "        <td>Unknown</td>\n",
       "        \n",
       "    </tr>\n",
       "        <th>Participant</th>\n",
       "        \n",
       "        <td>Unknown</td>\n",
       "        \n",
       "    </tr>\n",
       "    <tr>\n",
       "        <th>Digitized points</th>\n",
       "        \n",
       "        <td>0 points</td>\n",
       "        \n",
       "    </tr>\n",
       "    <tr>\n",
       "        <th>Good channels</th>\n",
       "        <td>4 misc, 2 Stimulus</td>\n",
       "    </tr>\n",
       "    <tr>\n",
       "        <th>Bad channels</th>\n",
       "        <td>None</td>\n",
       "    </tr>\n",
       "    <tr>\n",
       "        <th>EOG channels</th>\n",
       "        <td>Not available</td>\n",
       "    </tr>\n",
       "    <tr>\n",
       "        <th>ECG channels</th>\n",
       "        <td>Not available</td>\n",
       "    \n",
       "    <tr>\n",
       "        <th>Sampling frequency</th>\n",
       "        <td>250.00 Hz</td>\n",
       "    </tr>\n",
       "    \n",
       "    \n",
       "    <tr>\n",
       "        <th>Highpass</th>\n",
       "        <td>0.00 Hz</td>\n",
       "    </tr>\n",
       "    \n",
       "    \n",
       "    <tr>\n",
       "        <th>Lowpass</th>\n",
       "        <td>125.00 Hz</td>\n",
       "    </tr>\n",
       "    \n",
       "    \n",
       "    \n",
       "    <tr>\n",
       "        <th>Duration</th>\n",
       "        <td>00:02:01 (HH:MM:SS)</td>\n",
       "    </tr>\n",
       "</table>"
      ],
      "text/plain": [
       "<RawArray | 6 x 30187 (120.7 s), ~1.4 MB, data loaded>"
      ]
     },
     "execution_count": 35,
     "metadata": {},
     "output_type": "execute_result"
    }
   ],
   "source": [
    "sub024.streaming.fu18m.m0s0.rest.run1.data"
   ]
  },
  {
   "cell_type": "code",
   "execution_count": 36,
   "metadata": {},
   "outputs": [
    {
     "data": {
      "text/html": [
       "<table class=\"table table-hover table-striped table-sm table-responsive small\">\n",
       "    <tr>\n",
       "        <th>Measurement date</th>\n",
       "        \n",
       "        <td>Unknown</td>\n",
       "        \n",
       "    </tr>\n",
       "    <tr>\n",
       "        <th>Experimenter</th>\n",
       "        \n",
       "        <td>Unknown</td>\n",
       "        \n",
       "    </tr>\n",
       "        <th>Participant</th>\n",
       "        \n",
       "        <td>Unknown</td>\n",
       "        \n",
       "    </tr>\n",
       "    <tr>\n",
       "        <th>Digitized points</th>\n",
       "        \n",
       "        <td>0 points</td>\n",
       "        \n",
       "    </tr>\n",
       "    <tr>\n",
       "        <th>Good channels</th>\n",
       "        <td>12 misc</td>\n",
       "    </tr>\n",
       "    <tr>\n",
       "        <th>Bad channels</th>\n",
       "        <td>None</td>\n",
       "    </tr>\n",
       "    <tr>\n",
       "        <th>EOG channels</th>\n",
       "        <td>Not available</td>\n",
       "    </tr>\n",
       "    <tr>\n",
       "        <th>ECG channels</th>\n",
       "        <td>Not available</td>\n",
       "    \n",
       "    <tr>\n",
       "        <th>Sampling frequency</th>\n",
       "        <td>250.00 Hz</td>\n",
       "    </tr>\n",
       "    \n",
       "    \n",
       "    <tr>\n",
       "        <th>Highpass</th>\n",
       "        <td>0.00 Hz</td>\n",
       "    </tr>\n",
       "    \n",
       "    \n",
       "    <tr>\n",
       "        <th>Lowpass</th>\n",
       "        <td>125.00 Hz</td>\n",
       "    </tr>\n",
       "    \n",
       "    \n",
       "    \n",
       "    <tr>\n",
       "        <th>Duration</th>\n",
       "        <td>00:00:26 (HH:MM:SS)</td>\n",
       "    </tr>\n",
       "</table>"
      ],
      "text/plain": [
       "<RawArray | 12 x 6500 (26.0 s), ~626 kB, data loaded>"
      ]
     },
     "execution_count": 36,
     "metadata": {},
     "output_type": "execute_result"
    }
   ],
   "source": [
    "sub024.indefiniteStreaming.fu18m.m0s0.rest.run1.data"
   ]
  },
  {
   "cell_type": "code",
   "execution_count": 239,
   "metadata": {},
   "outputs": [],
   "source": [
    "from PerceiveImport.methods import extract_chronic_timeline_samples as extract_chronic"
   ]
  },
  {
   "cell_type": "code",
   "execution_count": 260,
   "metadata": {},
   "outputs": [],
   "source": [
    "# TODO: check selection of JSON files and CHRONIC, potential deletion of many rows due to missing data\n",
    "# in metadata table"
   ]
  },
  {
   "cell_type": "code",
   "execution_count": 259,
   "metadata": {},
   "outputs": [],
   "source": [
    "# define an example instance and fill in the values of the dataclass PerceiveData \n",
    "# choose the values you are interested in analyzing further\n",
    "importlib.reload(main_class)\n",
    "importlib.reload(modality_class)\n",
    "importlib.reload(extract_chronic)\n",
    "\n",
    "importlib.reload(chronic_class)\n",
    "importlib.reload(extract_chronic)\n",
    "# importlib.reload()\n",
    "\n",
    "chronic = main_class.PerceiveData(\n",
    "    sub = \"021\", \n",
    "    incl_modalities=['chronic'],\n",
    "    incl_task = [\"rest\"],\n",
    "    import_json=True,\n",
    "    warn_for_metaNaNs=False,\n",
    "    # use_bids=True,  # TODO: add to functionality\n",
    ")\n"
   ]
  },
  {
   "cell_type": "code",
   "execution_count": 251,
   "metadata": {},
   "outputs": [
    {
     "data": {
      "text/plain": [
       "0    Report_Json_Session_Report_20210921T120859.json\n",
       "1    Report_Json_Session_Report_20210921T120956.json\n",
       "2    Report_Json_Session_Report_20220613T133239.json\n",
       "3    Report_Json_Session_Report_20220613T133123.json\n",
       "4    Report_Json_Session_Report_20221205T134700.json\n",
       "Name: report, dtype: object"
      ]
     },
     "execution_count": 251,
     "metadata": {},
     "output_type": "execute_result"
    }
   ],
   "source": [
    "chronic24.chronic.json_files_list"
   ]
  },
  {
   "cell_type": "code",
   "execution_count": 255,
   "metadata": {},
   "outputs": [],
   "source": [
    "jsonfile = 'Report_Json_Session_Report_20210921T120859.json'\n",
    "dat = load_rawfile.load_sourceJSON('024', jsonfile)"
   ]
  },
  {
   "cell_type": "code",
   "execution_count": 20,
   "metadata": {},
   "outputs": [],
   "source": [
    "import PerceiveImport.methods.extract_chronic_timeline_samples as get_chronic"
   ]
  },
  {
   "cell_type": "code",
   "execution_count": 256,
   "metadata": {},
   "outputs": [
    {
     "name": "stdout",
     "output_type": "stream",
     "text": [
      "\n",
      "Add session 2021-09-18T06:44:36Z from Left hemisphere\n",
      "Right hemisphere not present\n",
      "\n",
      "\t### WARNING ###\n",
      "\tNo SensingChannel in active group, sensing info from NON-ACTIVE group is taken\n",
      "Report_Json_Session_Report_20210921T120859.json\n",
      "{'Left': ['2021-09-18T04:59:15Z', '2021-09-18T04:49:15Z', '2021-09-18T04:39:15Z', '2021-09-18T04:29:15Z', '2021-09-18T04:19:15Z', '2021-09-18T04:09:15Z', '2021-09-18T03:59:15Z', '2021-09-18T03:49:15Z', '2021-09-18T03:39:15Z', '2021-09-18T03:29:15Z', '2021-09-18T03:19:15Z', '2021-09-18T03:09:15Z', '2021-09-18T02:59:15Z', '2021-09-18T02:49:15Z', '2021-09-18T02:39:15Z', '2021-09-18T02:29:14Z', '2021-09-18T02:19:14Z', '2021-09-18T02:09:14Z', '2021-09-18T01:59:14Z', '2021-09-18T01:49:14Z', '2021-09-18T01:39:14Z', '2021-09-18T01:29:14Z', '2021-09-18T01:19:14Z', '2021-09-18T01:09:14Z', '2021-09-18T00:59:14Z', '2021-09-18T00:49:14Z', '2021-09-18T00:39:14Z', '2021-09-18T00:29:14Z', '2021-09-18T00:19:14Z', '2021-09-18T00:09:14Z', '2021-09-17T23:59:14Z', '2021-09-17T23:49:14Z'], 'Right': []}\n"
     ]
    }
   ],
   "source": [
    "importlib.reload(get_chronic)\n",
    "# extract time points and power-values from json-file\n",
    "sense_settings, peak_times, peak_values, peak_stimAmps = get_chronic.extract_chronic_from_json('024', jsonfile)"
   ]
  },
  {
   "attachments": {},
   "cell_type": "markdown",
   "metadata": {},
   "source": [
    "#### direct from MAT has trouble with Fieldtrip"
   ]
  },
  {
   "cell_type": "code",
   "execution_count": 36,
   "metadata": {},
   "outputs": [],
   "source": [
    "mat = scipy.io.loadmat(\n",
    "    os.path.join(find_folders.get_onedrive_path('sourcedata', sub='024'),\n",
    "                 'sub024_ses-2021092106385396_run-CHRONIC20210917114914.mat'\n",
    "    )\n",
    ")"
   ]
  },
  {
   "cell_type": "code",
   "execution_count": 68,
   "metadata": {},
   "outputs": [
    {
     "data": {
      "text/plain": [
       "'DiagnosticData.LFPTrends'"
      ]
     },
     "execution_count": 68,
     "metadata": {},
     "output_type": "execute_result"
    }
   ],
   "source": [
    "mat['data'][0][0][1][0]"
   ]
  },
  {
   "cell_type": "code",
   "execution_count": 342,
   "metadata": {},
   "outputs": [],
   "source": [
    "# if jsons are imported\n",
    "# json_object=sub024.survey.fu18m.m0s0.rest.RingR.json\n",
    "# json_object[\"RingR\"][\"Impedance\"]"
   ]
  }
 ],
 "metadata": {
  "kernelspec": {
   "display_name": "pyPerceive",
   "language": "python",
   "name": "python3"
  },
  "language_info": {
   "codemirror_mode": {
    "name": "ipython",
    "version": 3
   },
   "file_extension": ".py",
   "mimetype": "text/x-python",
   "name": "python",
   "nbconvert_exporter": "python",
   "pygments_lexer": "ipython3",
   "version": "3.10.8"
  },
  "orig_nbformat": 4,
  "vscode": {
   "interpreter": {
    "hash": "89cb9b15ea7fbcc6bc9b1c7e86ec8f92184be73d513127a97a923adf23b86793"
   }
  }
 },
 "nbformat": 4,
 "nbformat_minor": 2
}
