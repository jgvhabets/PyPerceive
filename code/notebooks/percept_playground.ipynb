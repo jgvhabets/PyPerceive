{
 "cells": [
  {
   "attachments": {},
   "cell_type": "markdown",
   "metadata": {},
   "source": [
    "# PyPerceive to select and load Percept recordings "
   ]
  },
  {
   "cell_type": "markdown",
   "metadata": {},
   "source": [
    "## 0. Loading packages and functions, defining paths"
   ]
  },
  {
   "cell_type": "code",
   "execution_count": 1,
   "metadata": {},
   "outputs": [],
   "source": [
    "# Importing Python and external packages\n",
    "\n",
    "\n",
    "import os\n",
    "import sys\n",
    "import importlib\n",
    "import json\n",
    "from dataclasses import dataclass, field, fields\n",
    "from itertools import compress\n",
    "import csv\n",
    "import pandas as pd\n",
    "import numpy as np\n",
    "\n",
    "import scipy\n",
    "import matplotlib.pyplot as plt\n",
    "from scipy import signal\n",
    "\n",
    "import openpyxl\n",
    "from openpyxl import Workbook, load_workbook\n",
    "import xlrd\n",
    "\n",
    "#mne\n",
    "import mne_bids\n",
    "import mne\n",
    "from mne.time_frequency import tfr_morlet \n",
    "\n",
    "\n",
    "\n",
    "from importlib import reload          \n",
    "\n",
    "# from scipy.signal import spectrogram, hanning     # hanning not found\n"
   ]
  },
  {
   "attachments": {},
   "cell_type": "markdown",
   "metadata": {},
   "source": [
    "#### check package versions\n",
    "\n",
    "developed with:\n",
    "- Python sys 3.10.8\n",
    "- pandas 1.5.1\n",
    "- numpy 1.23.4\n",
    "- mne_bids 0.11.1\n",
    "- mne 1.2.3"
   ]
  },
  {
   "cell_type": "code",
   "execution_count": 2,
   "metadata": {},
   "outputs": [
    {
     "name": "stdout",
     "output_type": "stream",
     "text": [
      "Python sys 3.10.8 | packaged by conda-forge | (main, Nov 24 2022, 14:07:00) [MSC v.1916 64 bit (AMD64)]\n",
      "pandas 1.5.1\n",
      "numpy 1.23.4\n",
      "mne_bids 0.11.1\n",
      "mne 1.2.3\n"
     ]
    }
   ],
   "source": [
    "# check some package versions for documentation and reproducability\n",
    "print('Python sys', sys.version)\n",
    "print('pandas', pd.__version__)\n",
    "print('numpy', np.__version__)\n",
    "print('mne_bids', mne_bids.__version__)\n",
    "print('mne', mne.__version__)\n"
   ]
  },
  {
   "attachments": {},
   "cell_type": "markdown",
   "metadata": {},
   "source": [
    "#### Load pyPerceive functions"
   ]
  },
  {
   "cell_type": "code",
   "execution_count": 3,
   "metadata": {},
   "outputs": [],
   "source": [
    "def add_and_set_code_folder_in_notebook():\n",
    "    \"\"\"\n",
    "    while working in the local pyPerceive repo,\n",
    "    find and set path to the PyPerceive code folder\n",
    "\n",
    "    use function in notebook first, to locate the local\n",
    "    repo and enable import of pyPerceive functions\n",
    "    \"\"\"\n",
    "    project_path = os.getcwd()\n",
    "\n",
    "    while project_path[-10:] != 'PyPerceive':\n",
    "        project_path = os.path.dirname(project_path)\n",
    "\n",
    "    code_path = os.path.join(project_path, 'code')\n",
    "    sys.path.append(code_path)\n",
    "\n",
    "    # change directory to code path\n",
    "    os.chdir(code_path)\n",
    "    \n",
    "    return print(f'working dir set to: {code_path}')\n"
   ]
  },
  {
   "attachments": {},
   "cell_type": "markdown",
   "metadata": {},
   "source": [
    "## 1. Load Data using MainClass"
   ]
  },
  {
   "cell_type": "code",
   "execution_count": 4,
   "metadata": {},
   "outputs": [
    {
     "name": "stdout",
     "output_type": "stream",
     "text": [
      "working dir set to: c:\\Users\\habetsj\\Research\\projects\\PyPerceive\\code\n"
     ]
    }
   ],
   "source": [
    "# change working directory to ensure correct loading of own functions\n",
    "add_and_set_code_folder_in_notebook()\n",
    "\n",
    "from PerceiveImport.classes import (\n",
    "    main_class, modality_class, metadata_class,\n",
    "    session_class, condition_class, task_class,\n",
    "    contact_class, run_class, chronic_class\n",
    ")\n",
    "import PerceiveImport.methods.load_rawfile as load_rawfile\n",
    "import PerceiveImport.methods.find_folders as find_folders\n",
    "import PerceiveImport.methods.metadata_helpers as metaHelpers\n",
    "\n"
   ]
  },
  {
   "cell_type": "code",
   "execution_count": 5,
   "metadata": {},
   "outputs": [
    {
     "data": {
      "text/plain": [
       "<module 'PerceiveImport.methods.metadata_helpers' from 'c:\\\\Users\\\\habetsj\\\\Research\\\\projects\\\\PyPerceive\\\\code\\\\PerceiveImport\\\\methods\\\\metadata_helpers.py'>"
      ]
     },
     "execution_count": 5,
     "metadata": {},
     "output_type": "execute_result"
    }
   ],
   "source": [
    "# reload classes during debugging\n",
    "importlib.reload(main_class)\n",
    "importlib.reload(modality_class)\n",
    "importlib.reload(session_class)\n",
    "importlib.reload(task_class)\n",
    "importlib.reload(condition_class)\n",
    "importlib.reload(contact_class)\n",
    "importlib.reload(metadata_class)\n",
    "importlib.reload(load_rawfile)\n",
    "importlib.reload(find_folders)\n",
    "importlib.reload(run_class)\n",
    "importlib.reload(metaHelpers)"
   ]
  },
  {
   "cell_type": "code",
   "execution_count": 6,
   "metadata": {},
   "outputs": [
    {
     "name": "stdout",
     "output_type": "stream",
     "text": [
      "\n",
      "\t### WARNING: NaNs in Metadata Table sub-024 ###\n",
      "NaNs in: sub024_ses-2021061806255999_run-BrainSense20210618063700.mat\n",
      "NaNs in: sub024_ses-2021061806255999_run-BrainSense20210618064000.mat\n",
      "NaNs in: sub024_ses-2021061806255999_run-BrainSense20210618064200.mat\n",
      "NaNs in: sub024_ses-2021061808253999_run-BrainSense20210618084000.mat\n",
      "NaNs in: sub024_ses-2021061808253999_run-BrainSense20210618084300.mat\n",
      "NaNs in: sub024_ses-2021061808253999_run-BrainSense20210618084700.mat\n",
      "NaNs in: sub024_ses-2021092106385396_run-BrainSense20210921070500.mat\n",
      "NaNs in: sub024_ses-2021092106385396_run-BrainSense20210921072300.mat\n",
      "NaNs in: sub024_ses-2021092106385396_run-CHRONIC20210917114914.mat\n",
      "NaNs in: sub024_ses-2021092107452096_run-BrainSense20210921074800.mat\n",
      "NaNs in: sub024_ses-2021092107452096_run-BrainSense20210921080600.mat\n",
      "NaNs in: sub024_ses-2021092107452096_run-BrainSense20210921082400.mat\n",
      "NaNs in: sub024_ses-2021092107452096_run-CHRONIC20210918121914.mat\n",
      "NaNs in: sub-20210615PStn_ses-2022061010445782_run-BrainSense20220610105800.mat\n",
      "NaNs in: sub-20210615PStn_ses-2022061010445782_run-BrainSense20220610111500.mat\n",
      "NaNs in: sub-20210615PStn_ses-2022061010445782_run-BrainSense20220610111700.mat\n",
      "NaNs in: sub-20210615PStn_ses-2022061010445782_run-BrainSense20220610112200.mat\n",
      "NaNs in: sub-20210615PStn_ses-2022061010445782_run-BrainSense20220610112500.mat\n",
      "NaNs in: sub-20210615PStn_ses-2022061010445782_run-BrainSense20220610112700.mat\n",
      "NaNs in: sub-20210615PStn_ses-2022061010445782_run-BrainSense20220610113100.mat\n",
      "NaNs in: sub-20210615PStn_ses-2022061010445782_run-BrainSense20220610114400.mat\n",
      "NaNs in: sub-20210615PStn_ses-2022061010445782_run-BrainSense20220610115200.mat\n",
      "NaNs in: sub-20210615PStn_ses-2022061010445782_run-BrainSense20220610115500.mat\n",
      "NaNs in: sub-20210615PStn_ses-2022061010445782_run-BrainSense20220610115900.mat\n",
      "NaNs in: sub-20210615PStn_ses-2022061010445782_run-BrainSense20220610120100.mat\n",
      "NaNs in: sub-20210615PStn_ses-2022061010445782_run-BrainSense20220610120200.mat\n",
      "NaNs in: sub-20210615PStn_ses-2022061010445782_run-BrainSense20220610120500.mat\n",
      "NaNs in: sub-20210615PStn_ses-2022061010445782_run-CHRONIC20210918012914.mat\n",
      "NaNs in: sub-20210615PStn_ses-2022072210000082_run-BrainSense20220609070200.mat\n",
      "NaNs in: sub-20210615PStn_ses-2022072210000082_run-BrainSense20220609071800.mat\n",
      "NaNs in: sub-20210615PStn_ses-2022072210000082_run-BrainSense20220609072200.mat\n",
      "NaNs in: sub-20210615PStn_ses-2022072210000082_run-BrainSense20220609072900.mat\n",
      "NaNs in: sub-20210615PStn_ses-2022072210000082_run-BrainSense20220609073100.mat\n",
      "NaNs in: sub-20210615PStn_ses-2022072210000082_run-BrainSense20220609073500.mat\n",
      "NaNs in: sub-20210615PStn_ses-2022072210000082_run-CHRONIC20210918125914.mat\n",
      "NaNs in: sub-20210615PStn_ses-1948072210000072_run-CHRONIC20210918022914.mat\n",
      "Creating RawArray with float64 data, n_channels=6, n_times=5288\n",
      "    Range : 0 ... 5287 =      0.000 ...    21.148 secs\n",
      "Ready.\n",
      "Creating RawArray with float64 data, n_channels=3, n_times=5312\n",
      "    Range : 0 ... 5311 =      0.000 ...    21.244 secs\n",
      "Ready.\n",
      "Creating RawArray with float64 data, n_channels=6, n_times=5288\n",
      "    Range : 0 ... 5287 =      0.000 ...    21.148 secs\n",
      "Ready.\n",
      "Creating RawArray with float64 data, n_channels=6, n_times=30187\n",
      "    Range : 0 ... 30186 =      0.000 ...   120.744 secs\n",
      "Ready.\n",
      "Creating RawArray with float64 data, n_channels=12, n_times=6500\n",
      "    Range : 0 ... 6499 =      0.000 ...    25.996 secs\n",
      "Ready.\n",
      "Creating RawArray with float64 data, n_channels=12, n_times=34687\n",
      "    Range : 0 ... 34686 =      0.000 ...   138.744 secs\n",
      "Ready.\n",
      "Creating RawArray with float64 data, n_channels=12, n_times=46500\n",
      "    Range : 0 ... 46499 =      0.000 ...   185.996 secs\n",
      "Ready.\n"
     ]
    }
   ],
   "source": [
    "# define an example instance and fill in the values of the dataclass PerceiveData \n",
    "# choose the values you are interested in analyzing further\n",
    "\n",
    "sub024 = main_class.PerceiveData(\n",
    "    sub = \"024\", \n",
    "    incl_modalities=['survey', 'streaming', 'indefiniteStreaming'],\n",
    "    incl_session = [\"fu18m\"],\n",
    "    incl_condition =['m0s0'],\n",
    "    incl_task = [\"rest\"],\n",
    "    incl_contact = [\"RingL\", \"SegmInterR\", \"SegmIntraR\"],\n",
    "    import_json=False,\n",
    "    warn_for_metaNaNs=True,\n",
    "    # use_bids=True,  # TODO: add to functionality\n",
    ")\n"
   ]
  },
  {
   "cell_type": "code",
   "execution_count": 11,
   "metadata": {},
   "outputs": [
    {
     "data": {
      "text/plain": [
       "['LFP_L_03_STN_MT',\n",
       " 'LFP_L_13_STN_MT',\n",
       " 'LFP_L_02_STN_MT',\n",
       " 'LFP_R_03_STN_MT',\n",
       " 'LFP_R_13_STN_MT',\n",
       " 'LFP_R_02_STN_MT',\n",
       " 'LFP_L_01_STN_MT',\n",
       " 'LFP_L_12_STN_MT',\n",
       " 'LFP_L_23_STN_MT',\n",
       " 'LFP_R_01_STN_MT',\n",
       " 'LFP_R_12_STN_MT',\n",
       " 'LFP_R_23_STN_MT']"
      ]
     },
     "execution_count": 11,
     "metadata": {},
     "output_type": "execute_result"
    }
   ],
   "source": [
    "sub024.indefiniteStreaming.fu18m.m0s0.rest.run1.data.ch_names"
   ]
  },
  {
   "cell_type": "code",
   "execution_count": 35,
   "metadata": {},
   "outputs": [
    {
     "data": {
      "text/html": [
       "<table class=\"table table-hover table-striped table-sm table-responsive small\">\n",
       "    <tr>\n",
       "        <th>Measurement date</th>\n",
       "        \n",
       "        <td>Unknown</td>\n",
       "        \n",
       "    </tr>\n",
       "    <tr>\n",
       "        <th>Experimenter</th>\n",
       "        \n",
       "        <td>Unknown</td>\n",
       "        \n",
       "    </tr>\n",
       "        <th>Participant</th>\n",
       "        \n",
       "        <td>Unknown</td>\n",
       "        \n",
       "    </tr>\n",
       "    <tr>\n",
       "        <th>Digitized points</th>\n",
       "        \n",
       "        <td>0 points</td>\n",
       "        \n",
       "    </tr>\n",
       "    <tr>\n",
       "        <th>Good channels</th>\n",
       "        <td>4 misc, 2 Stimulus</td>\n",
       "    </tr>\n",
       "    <tr>\n",
       "        <th>Bad channels</th>\n",
       "        <td>None</td>\n",
       "    </tr>\n",
       "    <tr>\n",
       "        <th>EOG channels</th>\n",
       "        <td>Not available</td>\n",
       "    </tr>\n",
       "    <tr>\n",
       "        <th>ECG channels</th>\n",
       "        <td>Not available</td>\n",
       "    \n",
       "    <tr>\n",
       "        <th>Sampling frequency</th>\n",
       "        <td>250.00 Hz</td>\n",
       "    </tr>\n",
       "    \n",
       "    \n",
       "    <tr>\n",
       "        <th>Highpass</th>\n",
       "        <td>0.00 Hz</td>\n",
       "    </tr>\n",
       "    \n",
       "    \n",
       "    <tr>\n",
       "        <th>Lowpass</th>\n",
       "        <td>125.00 Hz</td>\n",
       "    </tr>\n",
       "    \n",
       "    \n",
       "    \n",
       "    <tr>\n",
       "        <th>Duration</th>\n",
       "        <td>00:02:01 (HH:MM:SS)</td>\n",
       "    </tr>\n",
       "</table>"
      ],
      "text/plain": [
       "<RawArray | 6 x 30187 (120.7 s), ~1.4 MB, data loaded>"
      ]
     },
     "execution_count": 35,
     "metadata": {},
     "output_type": "execute_result"
    }
   ],
   "source": [
    "sub024.streaming.fu18m.m0s0.rest.run1.data"
   ]
  },
  {
   "cell_type": "code",
   "execution_count": 36,
   "metadata": {},
   "outputs": [
    {
     "data": {
      "text/html": [
       "<table class=\"table table-hover table-striped table-sm table-responsive small\">\n",
       "    <tr>\n",
       "        <th>Measurement date</th>\n",
       "        \n",
       "        <td>Unknown</td>\n",
       "        \n",
       "    </tr>\n",
       "    <tr>\n",
       "        <th>Experimenter</th>\n",
       "        \n",
       "        <td>Unknown</td>\n",
       "        \n",
       "    </tr>\n",
       "        <th>Participant</th>\n",
       "        \n",
       "        <td>Unknown</td>\n",
       "        \n",
       "    </tr>\n",
       "    <tr>\n",
       "        <th>Digitized points</th>\n",
       "        \n",
       "        <td>0 points</td>\n",
       "        \n",
       "    </tr>\n",
       "    <tr>\n",
       "        <th>Good channels</th>\n",
       "        <td>12 misc</td>\n",
       "    </tr>\n",
       "    <tr>\n",
       "        <th>Bad channels</th>\n",
       "        <td>None</td>\n",
       "    </tr>\n",
       "    <tr>\n",
       "        <th>EOG channels</th>\n",
       "        <td>Not available</td>\n",
       "    </tr>\n",
       "    <tr>\n",
       "        <th>ECG channels</th>\n",
       "        <td>Not available</td>\n",
       "    \n",
       "    <tr>\n",
       "        <th>Sampling frequency</th>\n",
       "        <td>250.00 Hz</td>\n",
       "    </tr>\n",
       "    \n",
       "    \n",
       "    <tr>\n",
       "        <th>Highpass</th>\n",
       "        <td>0.00 Hz</td>\n",
       "    </tr>\n",
       "    \n",
       "    \n",
       "    <tr>\n",
       "        <th>Lowpass</th>\n",
       "        <td>125.00 Hz</td>\n",
       "    </tr>\n",
       "    \n",
       "    \n",
       "    \n",
       "    <tr>\n",
       "        <th>Duration</th>\n",
       "        <td>00:00:26 (HH:MM:SS)</td>\n",
       "    </tr>\n",
       "</table>"
      ],
      "text/plain": [
       "<RawArray | 12 x 6500 (26.0 s), ~626 kB, data loaded>"
      ]
     },
     "execution_count": 36,
     "metadata": {},
     "output_type": "execute_result"
    }
   ],
   "source": [
    "sub024.indefiniteStreaming.fu18m.m0s0.rest.run1.data"
   ]
  },
  {
   "cell_type": "code",
   "execution_count": 6,
   "metadata": {},
   "outputs": [
    {
     "name": "stdout",
     "output_type": "stream",
     "text": [
      "sub024_ses-2021092106385396_run-CHRONIC20210917114914.mat FAILED\n",
      "Report_Json_Session_Report_20210921T120859.json\n",
      "sub024_ses-2021092107452096_run-CHRONIC20210918121914.mat FAILED\n",
      "Report_Json_Session_Report_20210921T120956.json\n",
      "sub-20210615PStn_ses-2022061010445782_run-CHRONIC20210918012914.mat FAILED\n",
      "Report_Json_Session_Report_20220613T133239.json\n",
      "sub-20210615PStn_ses-2022072210000082_run-CHRONIC20210918125914.mat FAILED\n",
      "Report_Json_Session_Report_20220613T133123.json\n",
      "sub-20210615PStn_ses-1948072210000072_run-CHRONIC20210918022914.mat FAILED\n",
      "Report_Json_Session_Report_20221205T134700.json\n"
     ]
    }
   ],
   "source": [
    "# define an example instance and fill in the values of the dataclass PerceiveData \n",
    "# choose the values you are interested in analyzing further\n",
    "importlib.reload(main_class)\n",
    "importlib.reload(modality_class)\n",
    "importlib.reload(chronic_class)\n",
    "\n",
    "chronic24 = main_class.PerceiveData(\n",
    "    sub = \"024\", \n",
    "    incl_modalities=['chronic'],\n",
    "    incl_task = [\"rest\"],\n",
    "    import_json=True,\n",
    "    warn_for_metaNaNs=False,\n",
    "    # use_bids=True,  # TODO: add to functionality\n",
    ")\n"
   ]
  },
  {
   "cell_type": "code",
   "execution_count": 7,
   "metadata": {},
   "outputs": [],
   "source": [
    "jsonfile = 'Report_Json_Session_Report_20210921T120859.json'\n",
    "dat = load_rawfile.load_sourceJSON('024', jsonfile)"
   ]
  },
  {
   "cell_type": "code",
   "execution_count": 8,
   "metadata": {},
   "outputs": [
    {
     "data": {
      "text/plain": [
       "dict_keys(['AbnormalEnd', 'FullyReadForSession', 'FeatureInformationCode', 'SessionDate', 'SessionEndDate', 'ProgrammerTimezone', 'ProgrammerUtcOffset', 'ProgrammerLocale', 'ProgrammerVersion', 'PatientInformation', 'DeviceInformation', 'BatteryInformation', 'LeadConfiguration', 'Stimulation', 'Groups', 'BatteryReminder', 'MostRecentInSessionSignalCheck', 'Impedance', 'GroupHistory', 'SenseChannelTests', 'CalibrationTests', 'LfpMontageTimeDomain', 'BrainSenseTimeDomain', 'BrainSenseLfp', 'LFPMontage', 'EventSummary', 'DiagnosticData'])"
      ]
     },
     "execution_count": 8,
     "metadata": {},
     "output_type": "execute_result"
    }
   ],
   "source": [
    "dat.keys()\n"
   ]
  },
  {
   "cell_type": "code",
   "execution_count": 54,
   "metadata": {},
   "outputs": [],
   "source": [
    "# #LFPMontage (sSurvey) is list with 30 sensed events -> different Survey Configs\n",
    "# # plot PSD\n",
    "# plt.plot(dat['LFPMontage'][2]['LFPFrequency'],\n",
    "#          dat['LFPMontage'][2]['LFPMagnitude'])\n"
   ]
  },
  {
   "cell_type": "code",
   "execution_count": 92,
   "metadata": {},
   "outputs": [
    {
     "name": "stdout",
     "output_type": "stream",
     "text": [
      "Explore SensingChannel Content Group 0\n",
      "\n",
      "SensingChannel is type <class 'list'>, with length 1\n",
      "\n",
      "\tHemisphereLocation: HemisphereLocationDef.Left\n",
      "\tProgramId: ProgramIdDef.FIRST_LEFT\n",
      "\tElectrodeState: [{'Electrode': 'ElectrodeDef.SenSight_1a', 'ElectrodeStateResult': 'ElectrodeStateDef.Negative', 'ElectrodeAmplitudeInMilliAmps': 0.6, 'ElectrodeFractionOf64': -21}, {'Electrode': 'ElectrodeDef.Sensight_1b', 'ElectrodeStateResult': 'ElectrodeStateDef.Negative', 'ElectrodeAmplitudeInMilliAmps': 0.6, 'ElectrodeFractionOf64': -21}, {'Electrode': 'ElectrodeDef.Sensight_1c', 'ElectrodeStateResult': 'ElectrodeStateDef.Negative', 'ElectrodeAmplitudeInMilliAmps': 0.6, 'ElectrodeFractionOf64': -21}, {'Electrode': 'ElectrodeDef.Case', 'ElectrodeStateResult': 'ElectrodeStateDef.Positive'}]\n",
      "\tPulseWidthInMicroSecond: 50\n",
      "\tRateInHertz: 110\n",
      "\tBrainSensingStatus: SensingStatusDef.ENABLED\n",
      "\tChannel: SensingElectrodeConfigDef.ZERO_AND_TWO\n",
      "\tUpperLfpThreshold: 30.0\n",
      "\tLowerLfpThreshold: 20.0\n",
      "\tUpperCaptureAmplitudeInMilliAmps: 0.0\n",
      "\tLowerCaptureAmplitudeInMilliAmps: 0.0\n",
      "\tMeasuredUpperLfp: 0\n",
      "\tMeasuredLowerLfp: 0\n",
      "\tUpperLimitInMilliAmps: 2.2\n",
      "\tLowerLimitInMilliAmps: 1.9\n",
      "\tSuspendAmplitudeInMilliAmps: 1.9\n",
      "\tSensingSetup: {'FrequencyInHertz': 20.51, 'AveragingDurationInMilliSeconds': 3000, 'ChannelSignalResult': {'Channel': 'SensingChannelDef.ZERO_TWO_LEFT', 'ArtifactStatus': 'ArtifactStatusDef.ARTIFACT_NOT_PRESENT', 'SignalFrequencies': [0.0, 0.98, 1.95, 2.93, 3.91, 4.88, 5.86, 6.84, 7.81, 8.79, 9.77, 10.74, 11.72, 12.7, 13.67, 14.65, 15.63, 16.6, 17.58, 18.55, 19.53, 20.51, 21.48, 22.46, 23.44, 24.41, 25.39, 26.37, 27.34, 28.32, 29.3, 30.27, 31.25, 32.23, 33.2, 34.18, 35.16, 36.13, 37.11, 38.09, 39.06, 40.04, 41.02, 41.99, 42.97, 43.95, 44.92, 45.9, 46.88, 47.85, 48.83, 49.8, 50.78, 51.76, 52.73, 53.71, 54.69, 55.66, 56.64, 57.62, 58.59, 59.57, 60.55, 61.52, 62.5, 63.48, 64.45, 65.43, 66.41, 67.38, 68.36, 69.34, 70.31, 71.29, 72.27, 73.24, 74.22, 75.2, 76.17, 77.15, 78.13, 79.1, 80.08, 81.05, 82.03, 83.01, 83.98, 84.96, 85.94, 86.91, 87.89, 88.87, 89.84, 90.82, 91.8, 92.77, 93.75, 94.73, 95.7, 96.68], 'SignalPsdValues': [4.05078125, 5.23828125, 4.21875, 3.5078125, 3.083984375, 2.626953125, 1.8642578125, 1.59375, 1.626953125, 1.4912109375, 1.271484375, 1.0849609375, 1.0166015625, 0.8984375, 0.77978515625, 0.77978515625, 0.74560546875, 0.626953125, 0.59326171875, 0.6611328125, 0.74560546875, 0.796875, 0.69482421875, 0.6611328125, 0.67822265625, 0.72900390625, 0.7119140625, 0.69482421875, 0.6611328125, 0.67822265625, 0.69482421875, 0.7119140625, 0.7119140625, 0.6611328125, 0.77978515625, 0.83056640625, 0.88134765625, 0.8642578125, 0.8134765625, 0.77978515625, 0.796875, 0.72900390625, 0.74560546875, 0.626953125, 0.59326171875, 0.6611328125, 0.64404296875, 0.6103515625, 0.457763671875, 0.474609375, 0.54248046875, 0.474609375, 0.423828125, 0.40673828125, 0.372802734375, 0.339111328125, 0.35595703125, 0.35595703125, 0.339111328125, 0.2880859375, 0.2373046875, 0.30517578125, 0.271240234375, 0.271240234375, 0.271240234375, 0.271240234375, 0.271240234375, 0.2373046875, 0.2203369140625, 0.271240234375, 0.254150390625, 0.2203369140625, 0.2203369140625, 0.2373046875, 0.2203369140625, 0.271240234375, 0.322021484375, 0.2880859375, 0.2373046875, 0.2203369140625, 0.2203369140625, 0.203369140625, 0.203369140625, 0.203369140625, 0.1864013671875, 0.203369140625, 0.203369140625, 0.1864013671875, 0.1695556640625, 0.152587890625, 0.152587890625, 0.1356201171875, 0.152587890625, 0.1864013671875, 0.1864013671875, 0.1864013671875, 0.1695556640625, 0.1695556640625, 0.1695556640625, 0.1356201171875], 'PeakFrequencies': [], 'PeakValues': []}}\n"
     ]
    }
   ],
   "source": [
    "# get info about group\n",
    "group_i = 0\n",
    "# for k in dat['Groups']['Initial'][1].keys(): print(f'\\t{k}: {groups[0][k]}')\n",
    "groups = dat['Groups']['Initial']  # groups[0]['GroupId'] -> 'GroupIdDef.GROUP_A' \n",
    "\n",
    "# explore ProgramSettings (has keys 'AmplitudeControl', 'LeftHemisphere' (if programmed),\n",
    "# 'RightHemisphere' (if programmed), 'SensingChannel' (if programmed))\n",
    "for k in groups[group_i]['ProgramSettings'].keys():\n",
    "    # explore SensingChannel\n",
    "    if k == 'SensingChannel':\n",
    "        print(f'Explore {k} Content Group {group_i}\\n')\n",
    "        print(f'{k} is type {type(groups[group_i][\"ProgramSettings\"][k])}, '\n",
    "              f'with length {len(groups[group_i][\"ProgramSettings\"][k])}\\n')\n",
    "        \n",
    "        for k2 in groups[group_i][\"ProgramSettings\"][k][0].keys():\n",
    "            print(f'\\t{k2}: {groups[group_i][\"ProgramSettings\"][k][0][k2]}')"
   ]
  },
  {
   "cell_type": "code",
   "execution_count": 37,
   "metadata": {},
   "outputs": [
    {
     "name": "stdout",
     "output_type": "stream",
     "text": [
      "Group dict keys: dict_keys(['GroupId', 'GroupName', 'ActiveGroup', 'Mode', 'AdjustableParameter', 'ProgramSettings', 'GroupSettings'])\n",
      "\n",
      "GROUP 0, ProgramSettings dict keys: dict_keys(['AmplitudeControl', 'RightHemisphere', 'SensingChannel'])\n",
      "GROUP 1, ProgramSettings dict keys: dict_keys(['AmplitudeControl', 'LeftHemisphere', 'RightHemisphere'])\n",
      "GROUP 2, ProgramSettings dict keys: dict_keys(['AmplitudeControl', 'LeftHemisphere', 'RightHemisphere'])\n",
      "GROUP 3, ProgramSettings dict keys: dict_keys(['AmplitudeControl', 'LeftHemisphere', 'RightHemisphere'])\n",
      "\n",
      "GroupIdDef.GROUP_A is NOT active group\n",
      "\tProgramSettings keys dict_keys(['AmplitudeControl', 'RightHemisphere', 'SensingChannel'])\n",
      "#0 of SENSING CHANNEL\n",
      "\tSENSING SIDE: Left\n",
      "\tSENSING FREQ: 20.51\n",
      "\tSENSING CONTACTS: SensingChannelDef.ZERO_TWO_LEFT\n",
      "\n",
      "GroupIdDef.GROUP_B is ACTIVE group\n",
      "\tProgramSettings keys dict_keys(['AmplitudeControl', 'LeftHemisphere', 'RightHemisphere'])\n",
      "\n",
      "\tNo SensingChannel in active group\n",
      "\n",
      "GroupIdDef.GROUP_C is NOT active group\n",
      "\tProgramSettings keys dict_keys(['AmplitudeControl', 'LeftHemisphere', 'RightHemisphere'])\n",
      "\n",
      "\tNo SensingChannel in active group\n",
      "\n",
      "GroupIdDef.GROUP_D is NOT active group\n",
      "\tProgramSettings keys dict_keys(['AmplitudeControl', 'LeftHemisphere', 'RightHemisphere'])\n",
      "\n",
      "\tNo SensingChannel in active group\n"
     ]
    }
   ],
   "source": [
    "# Groups exploring, just as in MAT file: # dat.hdr.Groups.Initial(b).ProgramSettings.SensingChannel(2).SensingSetup.FrequencyInHertz\n",
    "\n",
    "# within Groups there is 'Initial' and 'Final' as 2 dicts with 4 group-keys [0,1,2,3] with same keys\n",
    "\n",
    "groups = dat['Groups']['Initial']  # groups[0]['GroupId'] -> 'GroupIdDef.GROUP_A' \n",
    "\n",
    "print(f'Group dict keys: {groups[0].keys()}\\n')\n",
    "for i in range(4):\n",
    "    print(f'GROUP {i}, ProgramSettings dict keys: {groups[i][\"ProgramSettings\"].keys()}')\n",
    "\n",
    "\n",
    "for n in np.arange(len(groups)):\n",
    "    # active group or not\n",
    "    if groups[n]['ActiveGroup']:\n",
    "        print(f'\\n{groups[n][\"GroupId\"]} is ACTIVE group')\n",
    "    else:\n",
    "        print(f'\\n{groups[n][\"GroupId\"]} is NOT active group')\n",
    "    \n",
    "    print('\\tProgramSettings keys', groups[n]['ProgramSettings'].keys())\n",
    "\n",
    "    if 'SensingChannel' not in groups[n]['ProgramSettings'].keys():\n",
    "        print('\\n\\tNo SensingChannel in active group')\n",
    "\n",
    "    elif 'SensingChannel' in groups[n]['ProgramSettings'].keys():\n",
    "        \n",
    "        for i_ch in range(len(groups[n][\"ProgramSettings\"][\"SensingChannel\"])):\n",
    "            print(f'#{i_ch} of SENSING CHANNEL')\n",
    "            freq = groups[n][\"ProgramSettings\"][\"SensingChannel\"][i_ch]['SensingSetup']['FrequencyInHertz']\n",
    "            sense_side = groups[n][\"ProgramSettings\"][\"SensingChannel\"][i_ch]['HemisphereLocation'].split('.')[1]\n",
    "            contacts = groups[n][\"ProgramSettings\"][\"SensingChannel\"][i_ch]['SensingSetup']['ChannelSignalResult']['Channel']\n",
    "\n",
    "            print(f'\\tSENSING SIDE: {sense_side}')                \n",
    "            print(f'\\tSENSING FREQ: {freq}')\n",
    "            print(f'\\tSENSING CONTACTS: {contacts}')\n",
    "            # print( groups[n][\"ProgramSettings\"][\"SensingChannel\"][i_ch])"
   ]
  },
  {
   "cell_type": "code",
   "execution_count": 20,
   "metadata": {},
   "outputs": [],
   "source": [
    "import PerceiveImport.methods.extract_chronic_timeline_samples as get_chronic"
   ]
  },
  {
   "cell_type": "code",
   "execution_count": 39,
   "metadata": {},
   "outputs": [
    {
     "name": "stdout",
     "output_type": "stream",
     "text": [
      "Add session 2021-09-18T06:44:36Z from Left hemisphere\n",
      "Right hemisphere not present\n",
      "\n",
      "\tNo SensingChannel in active group\n",
      "{'Left': {'freq': 20.51, 'contacts': 'SensingChannelDef.ZERO_TWO_LEFT', 'group_name': 'GroupIdDef.GROUP_A'}, 'Right': {}}\n"
     ]
    }
   ],
   "source": [
    "importlib.reload(get_chronic)\n",
    "# extract time points and power-values from json-file\n",
    "peak_times, peak_values, peak_stimAmps = get_chronic.extract_chronic_from_json('024', jsonfile)"
   ]
  },
  {
   "attachments": {},
   "cell_type": "markdown",
   "metadata": {},
   "source": [
    "#### direct from MAT has trouble with Fieldtrip"
   ]
  },
  {
   "cell_type": "code",
   "execution_count": 36,
   "metadata": {},
   "outputs": [],
   "source": [
    "mat = scipy.io.loadmat(\n",
    "    os.path.join(find_folders.get_onedrive_path('sourcedata', sub='024'),\n",
    "                 'sub024_ses-2021092106385396_run-CHRONIC20210917114914.mat'\n",
    "    )\n",
    ")"
   ]
  },
  {
   "cell_type": "code",
   "execution_count": 68,
   "metadata": {},
   "outputs": [
    {
     "data": {
      "text/plain": [
       "'DiagnosticData.LFPTrends'"
      ]
     },
     "execution_count": 68,
     "metadata": {},
     "output_type": "execute_result"
    }
   ],
   "source": [
    "mat['data'][0][0][1][0]"
   ]
  },
  {
   "cell_type": "code",
   "execution_count": 342,
   "metadata": {},
   "outputs": [],
   "source": [
    "# if jsons are imported\n",
    "# json_object=sub024.survey.fu18m.m0s0.rest.RingR.json\n",
    "# json_object[\"RingR\"][\"Impedance\"]"
   ]
  }
 ],
 "metadata": {
  "kernelspec": {
   "display_name": "pyPerceive",
   "language": "python",
   "name": "python3"
  },
  "language_info": {
   "codemirror_mode": {
    "name": "ipython",
    "version": 3
   },
   "file_extension": ".py",
   "mimetype": "text/x-python",
   "name": "python",
   "nbconvert_exporter": "python",
   "pygments_lexer": "ipython3",
   "version": "3.10.8"
  },
  "orig_nbformat": 4,
  "vscode": {
   "interpreter": {
    "hash": "89cb9b15ea7fbcc6bc9b1c7e86ec8f92184be73d513127a97a923adf23b86793"
   }
  }
 },
 "nbformat": 4,
 "nbformat_minor": 2
}
