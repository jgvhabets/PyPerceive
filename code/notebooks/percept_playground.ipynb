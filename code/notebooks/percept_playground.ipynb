{
 "cells": [
  {
   "cell_type": "markdown",
   "metadata": {},
   "source": [
    "# Code Playground for Percept Data\n",
    "\n",
    "\n",
    "\n",
    "<b> Data is required to converted into the BIDS-standard. </b>\n",
    "\n",
    "\n"
   ]
  },
  {
   "cell_type": "markdown",
   "metadata": {},
   "source": [
    "### 0. Loading packages and functions, defining paths\n",
    "\n"
   ]
  },
  {
   "cell_type": "code",
   "execution_count": 1,
   "metadata": {},
   "outputs": [],
   "source": [
    "# Importing Python and external packages\n",
    "import os\n",
    "import sys\n",
    "import importlib\n",
    "import json\n",
    "from dataclasses import dataclass, field, fields\n",
    "from itertools import compress\n",
    "import csv\n",
    "import pandas as pd\n",
    "import numpy as np\n",
    "\n",
    "import sklearn as sk\n",
    "import scipy\n",
    "import matplotlib.pyplot as plt\n",
    "from scipy import signal\n",
    "\n",
    "#mne\n",
    "import mne_bids\n",
    "import mne"
   ]
  },
  {
   "cell_type": "code",
   "execution_count": 2,
   "metadata": {},
   "outputs": [
    {
     "name": "stdout",
     "output_type": "stream",
     "text": [
      "Python sys 3.10.6 | packaged by conda-forge | (main, Aug 22 2022, 20:43:44) [Clang 13.0.1 ]\n",
      "pandas 1.5.0\n",
      "numpy 1.21.6\n",
      "mne_bids 0.11\n",
      "mne 1.2.0\n",
      "sci-py 1.9.1\n",
      "sci-kit learn 1.1.2\n"
     ]
    }
   ],
   "source": [
    "# check some package versions for documentation and reproducability\n",
    "print('Python sys', sys.version)\n",
    "print('pandas', pd.__version__)\n",
    "print('numpy', np.__version__)\n",
    "print('mne_bids', mne_bids.__version__)\n",
    "print('mne', mne.__version__)\n",
    "print('sci-py', scipy.__version__)\n",
    "print('sci-kit learn', sk.__version__)"
   ]
  },
  {
   "cell_type": "code",
   "execution_count": 5,
   "metadata": {},
   "outputs": [
    {
     "name": "stdout",
     "output_type": "stream",
     "text": [
      "/Users/jenniferbehnke/Coding/PyPerceive/code/notebooks\n",
      "/Users/jenniferbehnke/Coding/PyPerceive/code\n"
     ]
    }
   ],
   "source": [
    "filepath = '/Users/jenniferbehnke/Coding/sub-021_ses-2021051307445099_run-CT120210513074700.mat'\n",
    "# define local storage directories\n",
    "\n",
    "# check working directory\n",
    "print(os.getcwd())\n",
    "\n",
    "# get folder above a certain folder\n",
    "print(os.path.dirname(os.getcwd()))\n",
    "\n",
    "# change working directory to project-code folder\n",
    "# os.chdir()\n"
   ]
  },
  {
   "cell_type": "markdown",
   "metadata": {},
   "source": [
    "## Pre-Work - Getting into the Files"
   ]
  },
  {
   "cell_type": "code",
   "execution_count": 4,
   "metadata": {},
   "outputs": [],
   "source": [
    "# load raw-mat file into python\n",
    "dat = scipy.io.loadmat(filepath)"
   ]
  },
  {
   "cell_type": "code",
   "execution_count": 17,
   "metadata": {},
   "outputs": [],
   "source": [
    "# principe of dictionary\n",
    "a = {\n",
    "    'a': np.arange(10),\n",
    "    'b': 'bbbbbbb',\n",
    "    'c': {\n",
    "        'd': np.arange(10),\n",
    "    }\n",
    "}"
   ]
  },
  {
   "cell_type": "code",
   "execution_count": 40,
   "metadata": {},
   "outputs": [
    {
     "name": "stdout",
     "output_type": "stream",
     "text": [
      "Creating RawArray with float64 data, n_channels=2, n_times=5313\n",
      "    Range : 0 ... 5312 =      0.000 ...    21.248 secs\n",
      "Ready.\n"
     ]
    },
    {
     "name": "stderr",
     "output_type": "stream",
     "text": [
      "/Users/jeroenhabets/anaconda3/envs/ecog_dysk/lib/python3.9/site-packages/pymatreader/utils.py:230: UserWarning: Complex objects (like classes) are not supported. They are imported on a best effort base but your mileage will vary.\n",
      "  warn('Complex objects (like classes) are not supported. '\n",
      "/var/folders/7d/4ptht2m910d1y872jrgp9cq40000gp/T/ipykernel_15149/2674698262.py:1: RuntimeWarning: The supplied FieldTrip structure does not have an elec or grad field. No channel locations will extracted and the kind of channel might be inaccurate.\n",
      "  data = mne.io.read_raw_fieldtrip(\n",
      "/var/folders/7d/4ptht2m910d1y872jrgp9cq40000gp/T/ipykernel_15149/2674698262.py:1: RuntimeWarning: Cannot guess the correct type of channel LFP_L_02. Making it a MISC channel.\n",
      "  data = mne.io.read_raw_fieldtrip(\n",
      "/var/folders/7d/4ptht2m910d1y872jrgp9cq40000gp/T/ipykernel_15149/2674698262.py:1: RuntimeWarning: Cannot guess the correct type of channel LFP_R_02. Making it a MISC channel.\n",
      "  data = mne.io.read_raw_fieldtrip(\n"
     ]
    },
    {
     "data": {
      "text/html": [
       "<table class=\"table table-hover table-striped table-sm table-responsive small\">\n",
       "    <tr>\n",
       "        <th>Measurement date</th>\n",
       "        \n",
       "        <td>Unknown</td>\n",
       "        \n",
       "    </tr>\n",
       "    <tr>\n",
       "        <th>Experimenter</th>\n",
       "        \n",
       "        <td>Unknown</td>\n",
       "        \n",
       "    </tr>\n",
       "        <th>Participant</th>\n",
       "        \n",
       "        <td>Unknown</td>\n",
       "        \n",
       "    </tr>\n",
       "    <tr>\n",
       "        <th>Digitized points</th>\n",
       "        \n",
       "        <td>0 points</td>\n",
       "        \n",
       "    </tr>\n",
       "    <tr>\n",
       "        <th>Good channels</th>\n",
       "        <td>2 misc</td>\n",
       "    </tr>\n",
       "    <tr>\n",
       "        <th>Bad channels</th>\n",
       "        <td>None</td>\n",
       "    </tr>\n",
       "    <tr>\n",
       "        <th>EOG channels</th>\n",
       "        <td>Not available</td>\n",
       "    </tr>\n",
       "    <tr>\n",
       "        <th>ECG channels</th>\n",
       "        <td>Not available</td>\n",
       "    \n",
       "    <tr>\n",
       "        <th>Sampling frequency</th>\n",
       "        <td>250.00 Hz</td>\n",
       "    </tr>\n",
       "    \n",
       "    \n",
       "    <tr>\n",
       "        <th>Highpass</th>\n",
       "        <td>0.00 Hz</td>\n",
       "    </tr>\n",
       "    \n",
       "    \n",
       "    <tr>\n",
       "        <th>Lowpass</th>\n",
       "        <td>125.00 Hz</td>\n",
       "    </tr>\n",
       "    \n",
       "    \n",
       "</table>"
      ],
      "text/plain": [
       "<Info | 8 non-empty values\n",
       " bads: []\n",
       " ch_names: LFP_L_02, LFP_R_02\n",
       " chs: 2 misc\n",
       " custom_ref_applied: False\n",
       " dig: 0 items\n",
       " highpass: 0.0 Hz\n",
       " lowpass: 125.0 Hz\n",
       " meas_date: unspecified\n",
       " nchan: 2\n",
       " projs: []\n",
       " sfreq: 250.0 Hz\n",
       ">"
      ]
     },
     "execution_count": 40,
     "metadata": {},
     "output_type": "execute_result"
    }
   ],
   "source": [
    "data = mne.io.read_raw_fieldtrip(\n",
    "    filepath,\n",
    "    info={},\n",
    "    data_name='data',\n",
    ")\n",
    "data.info"
   ]
  },
  {
   "cell_type": "code",
   "execution_count": 44,
   "metadata": {},
   "outputs": [
    {
     "name": "stdout",
     "output_type": "stream",
     "text": [
      "dict_keys(['_data', 'preload', '_last_samps', '_first_samps', 'info', 'buffer_size_sec', '_cals', '_raw_extras', '_read_picks', '_read_comp_grade', '_comp', '_filenames', 'orig_format', '_orig_units', '_projectors', '_projector', '_dtype_', '_annotations', '_cropped_samp', '_init_kwargs'])\n"
     ]
    }
   ],
   "source": [
    "data_as_dict = vars(data)\n",
    "\n",
    "print(data_as_dict.keys())\n",
    "\n",
    "# plt.plot(data._data[0, :])\n",
    "# plt.plot(data._data[1, :])"
   ]
  },
  {
   "cell_type": "code",
   "execution_count": 43,
   "metadata": {},
   "outputs": [
    {
     "data": {
      "text/plain": [
       "<Annotations | 0 segments>"
      ]
     },
     "execution_count": 43,
     "metadata": {},
     "output_type": "execute_result"
    }
   ],
   "source": [
    "data._annotations"
   ]
  }
 ],
 "metadata": {
  "kernelspec": {
   "display_name": "Python 3.10.6",
   "language": "python",
   "name": "python3"
  },
  "language_info": {
   "codemirror_mode": {
    "name": "ipython",
    "version": 3
   },
   "file_extension": ".py",
   "mimetype": "text/x-python",
   "name": "python",
   "nbconvert_exporter": "python",
   "pygments_lexer": "ipython3",
   "version": "3.10.6"
  },
  "orig_nbformat": 4,
  "vscode": {
   "interpreter": {
    "hash": "eb2deed888c183470f90a2f4f7a88f050bd656e7ee75cf8eefff8017d957171b"
   }
  }
 },
 "nbformat": 4,
 "nbformat_minor": 2
}
