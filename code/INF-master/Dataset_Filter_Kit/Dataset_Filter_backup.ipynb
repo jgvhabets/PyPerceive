{
 "cells": [
  {
   "cell_type": "markdown",
   "metadata": {},
   "source": [
    "# Dependencies and imports"
   ]
  },
  {
   "cell_type": "code",
   "execution_count": 28,
   "metadata": {},
   "outputs": [],
   "source": [
    "# Dependencies to install before use\n",
    "# For ipyfilechooser and ipywidgets\n",
    "# conda install -c conda-forge ipywidgets\n",
    "# conda install -c conda-forge ipyfilechooser\n",
    "\n",
    "# Import packages and functions\n",
    "import os\n",
    "import json\n",
    "import ipywidgets as widgets\n",
    "#from IPython.display import display\n",
    "#from ipyfilechooser import FileChooser\n",
    "#import numpy as np\n",
    "import mne_bids\n",
    "import mne\n",
    "#import ipympl\n",
    "#from os.path import join\n",
    "from bids import BIDSLayout, variables\n",
    "import bids\n",
    "#from bids.tests import get_test_data_path\n",
    "from ipywidgets import AppLayout, Button, Layout, GridspecLayout\n"
   ]
  },
  {
   "cell_type": "markdown",
   "metadata": {},
   "source": [
    "# Read data"
   ]
  },
  {
   "cell_type": "code",
   "execution_count": 2,
   "metadata": {},
   "outputs": [],
   "source": [
    "rawdataroot=r'C:\\Users\\Jonathan\\Charité - Universitätsmedizin Berlin\\Interventional Cognitive Neuromodulation - Data\\BIDS_01_Berlin_Neurophys\\rawdata'"
   ]
  },
  {
   "cell_type": "code",
   "execution_count": 3,
   "metadata": {},
   "outputs": [],
   "source": [
    "layout_BERLIN = BIDSLayout(rawdataroot)"
   ]
  },
  {
   "cell_type": "code",
   "execution_count": 4,
   "metadata": {},
   "outputs": [],
   "source": [
    "Berlin_files = layout_BERLIN.get_files() #this gives a dictionary with all BIDS file absolute paths"
   ]
  },
  {
   "cell_type": "code",
   "execution_count": null,
   "metadata": {},
   "outputs": [],
   "source": [
    "for key in Berlin_files:\n",
    "    BIDSobject = Berlin_files[key]\n",
    "    if BIDSobject.entities.get('extension') == '.vhdr':\n",
    "        print(BIDSobject.relpath)"
   ]
  },
  {
   "cell_type": "code",
   "execution_count": null,
   "metadata": {},
   "outputs": [],
   "source": [
    "BIDSobject.get_metadata() # this prints the json file"
   ]
  },
  {
   "cell_type": "code",
   "execution_count": 29,
   "metadata": {},
   "outputs": [
    {
     "data": {
      "text/plain": [
       "['Speech',\n",
       " 'Free',\n",
       " 'SelfpacedHandTapB',\n",
       " 'SelfpacedRotationR',\n",
       " 'Transition',\n",
       " 'ReadRelaxMoveR',\n",
       " 'SelfpacedSpeech',\n",
       " 'BlockRotationL',\n",
       " 'ContinuousStopping',\n",
       " 'VigorStimL',\n",
       " 'Evoked',\n",
       " 'UPDRSIII',\n",
       " 'SelfpacedHandFlipR',\n",
       " 'FreeDrawing',\n",
       " 'RestAndSpeech',\n",
       " 'Rest',\n",
       " 'VigorStimR',\n",
       " 'DyskinesiaProtocol',\n",
       " 'SelfpacedRotationL',\n",
       " 'Visuomotor',\n",
       " 'SelfpacedHandFlipL',\n",
       " 'BlockRotationWheel',\n",
       " 'SelfpacedForceWheel',\n",
       " 'BlockRotationR',\n",
       " 'SelfpacedHandTapL',\n",
       " 'ReadRelaxMoveL']"
      ]
     },
     "execution_count": 29,
     "metadata": {},
     "output_type": "execute_result"
    }
   ],
   "source": [
    "layout_BERLIN.get_subjects()\n",
    "layout_BERLIN.get_sessions()\n",
    "layout_BERLIN.get_tasks()\n"
   ]
  },
  {
   "cell_type": "code",
   "execution_count": 21,
   "metadata": {},
   "outputs": [
    {
     "data": {
      "application/vnd.jupyter.widget-view+json": {
       "model_id": "0b00eb1f95b94636afc42202aabcf73a",
       "version_major": 2,
       "version_minor": 0
      },
      "text/plain": [
       "GridspecLayout(children=(SelectMultiple(description='Subjects', index=(0, 1, 2, 3, 4, 5, 6, 7, 8, 9, 10, 11, 1…"
      ]
     },
     "metadata": {},
     "output_type": "display_data"
    }
   ],
   "source": [
    "subjects = widgets.SelectMultiple(\n",
    "    options=sorted(layout_BERLIN.get_subjects()),\n",
    "    description='Subjects',\n",
    "    rows=20,\n",
    "    value=sorted(layout_BERLIN.get_subjects())\n",
    ")\n",
    "\n",
    "sessions = widgets.SelectMultiple(\n",
    "    options=sorted(layout_BERLIN.get_sessions()),\n",
    "    description='Session',\n",
    "    rows=20,\n",
    "    value=sorted(layout_BERLIN.get_sessions())\n",
    ")\n",
    "\n",
    "tasks = widgets.SelectMultiple(\n",
    "    options=sorted(layout_BERLIN.get_tasks()),\n",
    "    description='Task',\n",
    "    rows=20,\n",
    "        value=sorted(layout_BERLIN.get_tasks())\n",
    "\n",
    ")\n",
    "\n",
    "acquisitions = widgets.SelectMultiple(\n",
    "    options=sorted(layout_BERLIN.get_acquisitions()),\n",
    "    description='Acquisition',\n",
    "    rows=20,\n",
    "        value=sorted(layout_BERLIN.get_acquisitions())\n",
    "\n",
    ")\n",
    "\n",
    "grid1 = GridspecLayout(1, 4)\n",
    "grid1[0,0]=subjects\n",
    "grid1[0,1]=sessions\n",
    "grid1[0,2]=tasks\n",
    "grid1[0,3]=acquisitions\n",
    "grid1\n",
    "\n",
    "\n"
   ]
  },
  {
   "cell_type": "code",
   "execution_count": 22,
   "metadata": {},
   "outputs": [
    {
     "name": "stdout",
     "output_type": "stream",
     "text": [
      "sub-EL006\\ses-EcogLfpMedOff02\\ieeg\\sub-EL006_ses-EcogLfpMedOff02_task-VigorStimR_acq-StimOn_run-1_ieeg.vhdr\n",
      "sub-EL007\\ses-EcogLfpMedOff02\\ieeg\\sub-EL007_ses-EcogLfpMedOff02_task-VigorStimR_acq-StimOn_run-1_ieeg.vhdr\n",
      "sub-EL007\\ses-EcogLfpMedOn02\\ieeg\\sub-EL007_ses-EcogLfpMedOn02_task-VigorStimL_acq-StimOn_run-1_ieeg.vhdr\n",
      "sub-EL007\\ses-EcogLfpMedOn02\\ieeg\\sub-EL007_ses-EcogLfpMedOn02_task-VigorStimR_acq-StimOn_run-1_ieeg.vhdr\n",
      "sub-EL008\\ses-EcogLfpMedOff01\\ieeg\\sub-EL008_ses-EcogLfpMedOff01_task-VigorStimR_acq-StimOn_run-1_ieeg.vhdr\n",
      "sub-EL008\\ses-EcogLfpMedOn01\\ieeg\\sub-EL008_ses-EcogLfpMedOn01_task-VigorStimR_acq-StimOn_run-1_ieeg.vhdr\n",
      "sub-EL011\\ses-EcogLfpMedOff01\\ieeg\\sub-EL011_ses-EcogLfpMedOff01_task-VigorStimR_acq-StimOnB_run-1_ieeg.vhdr\n",
      "sub-EL012\\ses-EcogLfpMedOff02\\ieeg\\sub-EL012_ses-EcogLfpMedOff02_task-VigorStimL_acq-StimOnB_run-1_ieeg.vhdr\n",
      "sub-EL013\\ses-EcogLfpMedOff01\\ieeg\\sub-EL013_ses-EcogLfpMedOff01_task-VigorStimR_acq-StimOnB_run-1_ieeg.vhdr\n",
      "sub-EL014\\ses-EcogLfpMedOff01\\ieeg\\sub-EL014_ses-EcogLfpMedOff01_task-VigorStimR_acq-StimOnB_run-1_ieeg.vhdr\n",
      "sub-EL015\\ses-EcogLfpMedOn01\\ieeg\\sub-EL015_ses-EcogLfpMedOn01_task-VigorStimR_acq-StimOnB_run-1_ieeg.vhdr\n",
      "sub-EL016\\ses-EcogLfpMedOff01\\ieeg\\sub-EL016_ses-EcogLfpMedOff01_task-VigorStimR_acq-StimOnR_run-1_ieeg.vhdr\n",
      "sub-EL016\\ses-EcogLfpMedOn01\\ieeg\\sub-EL016_ses-EcogLfpMedOn01_task-VigorStimR_acq-StimOnB_run-1_ieeg.vhdr\n",
      "sub-EL016\\ses-EcogLfpMedOn02\\ieeg\\sub-EL016_ses-EcogLfpMedOn02_task-VigorStimL_acq-StimOnB_run-1_ieeg.vhdr\n"
     ]
    }
   ],
   "source": [
    "My_selection = []\n",
    "JSON_keys = set()\n",
    "for key in Berlin_files:\n",
    "    BIDSobject = Berlin_files[key]\n",
    "    if BIDSobject.entities.get('extension') == '.vhdr':\n",
    "        entities = BIDSobject.get_entities()\n",
    "        if entities['subject'] in subjects.value and entities['session'] in sessions.value and entities['task'] in tasks.value and entities['acquisition'] in acquisitions.value:        \n",
    "             print(BIDSobject.relpath)\n",
    "             My_selection.append(BIDSobject)\n",
    "             JSON_keys = JSON_keys|BIDSobject.get_metadata().keys()"
   ]
  },
  {
   "cell_type": "code",
   "execution_count": 15,
   "metadata": {},
   "outputs": [
    {
     "data": {
      "application/vnd.jupyter.widget-view+json": {
       "model_id": "c26c3169e2b54e1fb53e381cbfa9d6e1",
       "version_major": 2,
       "version_minor": 0
      },
      "text/plain": [
       "GridspecLayout(children=(SelectMultiple(description='Participants.tsv', index=(0, 1, 3), layout=Layout(grid_ar…"
      ]
     },
     "metadata": {},
     "output_type": "display_data"
    }
   ],
   "source": [
    "part=layout_BERLIN.get_file('participants.tsv')\n",
    "#part = part.get_df()\n",
    "#display(part.columns.tolist())\n",
    "\n",
    "participants = widgets.SelectMultiple(\n",
    "    options=part.get_df().columns.tolist(),\n",
    "    description='Participants.tsv',\n",
    "    rows=20,\n",
    "    value=['participant_id','sex','age']\n",
    "\n",
    ")\n",
    "\n",
    "sessions = widgets.SelectMultiple(\n",
    "    options=layout_BERLIN.get(suffix='sessions',extension='.tsv')[0].get_df().columns.tolist(),\n",
    "    description='_sessions.tsv',\n",
    "    rows=20,\n",
    ")\n",
    "\n",
    "jsons = widgets.SelectMultiple(\n",
    "    options=sorted(JSON_keys),\n",
    "    description='.json',\n",
    "    rows=20,\n",
    ")\n",
    "\n",
    "grid2 = GridspecLayout(1, 3)\n",
    "grid2[0,0]=participants\n",
    "grid2[0,1]=sessions\n",
    "grid2[0,2]=jsons\n",
    "grid2"
   ]
  },
  {
   "cell_type": "code",
   "execution_count": 16,
   "metadata": {},
   "outputs": [
    {
     "data": {
      "application/vnd.jupyter.widget-view+json": {
       "model_id": "d7966299f6f7493a81339899cbb39e91",
       "version_major": 2,
       "version_minor": 0
      },
      "text/plain": [
       "SelectMultiple(options=('sub-EL001 \\t female \\t 50', 'sub-EL002 \\t male \\t 62', 'sub-EL003 \\t female \\t 56', '…"
      ]
     },
     "metadata": {},
     "output_type": "display_data"
    }
   ],
   "source": [
    "\n",
    "df = layout_BERLIN.get(suffix='participants',extension='.tsv')[0].get_df().astype(str)\n",
    "df = df[list(participants.value)]\n",
    "#df = df[df['participant_id'].isin(list(subjects.value))]\n",
    "#df = df[df['participant_id'].str.contains(subjects.value)]\n",
    "part_widget= widgets.SelectMultiple(\n",
    "    options=df.stack().groupby(level=0).apply(' \\t '.join),\n",
    "    description='',\n",
    "    rows=20,\n",
    ")\n",
    "part_widget\n",
    "    "
   ]
  },
  {
   "cell_type": "code",
   "execution_count": 39,
   "metadata": {},
   "outputs": [
    {
     "name": "stdout",
     "output_type": "stream",
     "text": [
      "Extracting parameters from C:\\Users\\Jonathan\\Charité - Universitätsmedizin Berlin\\Interventional Cognitive Neuromodulation - Data\\BIDS_01_Berlin_Neurophys\\rawdata\\sub-EL006\\ses-EcogLfpMedOff02\\ieeg\\sub-EL006_ses-EcogLfpMedOff02_task-VigorStimR_acq-StimOn_run-1_ieeg.vhdr...\n",
      "Setting channel info structure...\n",
      "C:/Users/Jonathan/Documents/DATA/Test_vigor/sub-EL006/ses-EcogLfpMedOff02/ieeg/sub-EL006_ses-EcogLfpMedOff02_task-VigorStimR_acq-StimOn_run-1_ieeg.vhdr\n",
      "Extracting parameters from C:\\Users\\Jonathan\\Charité - Universitätsmedizin Berlin\\Interventional Cognitive Neuromodulation - Data\\BIDS_01_Berlin_Neurophys\\rawdata\\sub-EL006\\ses-EcogLfpMedOff02\\ieeg\\sub-EL006_ses-EcogLfpMedOff02_task-VigorStimR_acq-StimOn_run-1_ieeg.vhdr...\n",
      "Setting channel info structure...\n"
     ]
    },
    {
     "ename": "ValueError",
     "evalue": "The specified datatype ieeg was not found in the raw object. Please specify the correct datatype using `bids_path.update(datatype=\"<datatype>\")` or use raw.set_channel_types to set the correct channel types in the raw object.",
     "output_type": "error",
     "traceback": [
      "\u001b[1;31m---------------------------------------------------------------------------\u001b[0m",
      "\u001b[1;31mValueError\u001b[0m                                Traceback (most recent call last)",
      "\u001b[1;32m<ipython-input-39-0659c56c8d0e>\u001b[0m in \u001b[0;36m<module>\u001b[1;34m\u001b[0m\n\u001b[0;32m      5\u001b[0m     \u001b[0mbids_path\u001b[0m \u001b[1;33m=\u001b[0m \u001b[0mbids_path\u001b[0m\u001b[1;33m.\u001b[0m\u001b[0mupdate\u001b[0m\u001b[1;33m(\u001b[0m\u001b[0mroot\u001b[0m\u001b[1;33m=\u001b[0m\u001b[1;34mr'C:\\Users\\Jonathan\\Documents\\DATA\\Test_vigor'\u001b[0m\u001b[1;33m,\u001b[0m \u001b[0mdatatype\u001b[0m\u001b[1;33m=\u001b[0m\u001b[1;34m'ieeg'\u001b[0m\u001b[1;33m)\u001b[0m\u001b[1;33m\u001b[0m\u001b[1;33m\u001b[0m\u001b[0m\n\u001b[0;32m      6\u001b[0m     \u001b[0mprint\u001b[0m\u001b[1;33m(\u001b[0m\u001b[0mbids_path\u001b[0m\u001b[1;33m)\u001b[0m\u001b[1;33m\u001b[0m\u001b[1;33m\u001b[0m\u001b[0m\n\u001b[1;32m----> 7\u001b[1;33m     \u001b[0mmne_bids\u001b[0m\u001b[1;33m.\u001b[0m\u001b[0mwrite_raw_bids\u001b[0m\u001b[1;33m(\u001b[0m\u001b[0mraw\u001b[0m\u001b[1;33m=\u001b[0m\u001b[0mraw\u001b[0m\u001b[1;33m,\u001b[0m \u001b[0mbids_path\u001b[0m\u001b[1;33m=\u001b[0m\u001b[0mbids_path\u001b[0m\u001b[1;33m,\u001b[0m \u001b[0mallow_preload\u001b[0m\u001b[1;33m=\u001b[0m\u001b[1;32mFalse\u001b[0m\u001b[1;33m)\u001b[0m\u001b[1;33m\u001b[0m\u001b[1;33m\u001b[0m\u001b[0m\n\u001b[0m\u001b[0;32m      8\u001b[0m \u001b[1;33m\u001b[0m\u001b[0m\n\u001b[0;32m      9\u001b[0m \u001b[1;33m\u001b[0m\u001b[0m\n",
      "\u001b[1;32m<decorator-gen-717>\u001b[0m in \u001b[0;36mwrite_raw_bids\u001b[1;34m(raw, bids_path, events_data, event_id, anonymize, format, symlink, empty_room, allow_preload, montage, acpc_aligned, overwrite, verbose)\u001b[0m\n",
      "\u001b[1;32mc:\\Users\\Jonathan\\Documents\\VSCODE\\.venv\\lib\\site-packages\\mne_bids\\write.py\u001b[0m in \u001b[0;36mwrite_raw_bids\u001b[1;34m(raw, bids_path, events_data, event_id, anonymize, format, symlink, empty_room, allow_preload, montage, acpc_aligned, overwrite, verbose)\u001b[0m\n\u001b[0;32m   1487\u001b[0m \u001b[1;33m\u001b[0m\u001b[0m\n\u001b[0;32m   1488\u001b[0m     \u001b[1;31m# Initialize BIDS path\u001b[0m\u001b[1;33m\u001b[0m\u001b[1;33m\u001b[0m\u001b[1;33m\u001b[0m\u001b[0m\n\u001b[1;32m-> 1489\u001b[1;33m     \u001b[0mdatatype\u001b[0m \u001b[1;33m=\u001b[0m \u001b[0m_handle_datatype\u001b[0m\u001b[1;33m(\u001b[0m\u001b[0mraw\u001b[0m\u001b[1;33m,\u001b[0m \u001b[0mbids_path\u001b[0m\u001b[1;33m.\u001b[0m\u001b[0mdatatype\u001b[0m\u001b[1;33m)\u001b[0m\u001b[1;33m\u001b[0m\u001b[1;33m\u001b[0m\u001b[0m\n\u001b[0m\u001b[0;32m   1490\u001b[0m     bids_path = (bids_path.copy()\n\u001b[0;32m   1491\u001b[0m                  .update(datatype=datatype, suffix=datatype, extension=ext))\n",
      "\u001b[1;32mc:\\Users\\Jonathan\\Documents\\VSCODE\\.venv\\lib\\site-packages\\mne_bids\\utils.py\u001b[0m in \u001b[0;36m_handle_datatype\u001b[1;34m(raw, datatype)\u001b[0m\n\u001b[0;32m    109\u001b[0m     \"\"\"\n\u001b[0;32m    110\u001b[0m     \u001b[1;32mif\u001b[0m \u001b[0mdatatype\u001b[0m \u001b[1;32mis\u001b[0m \u001b[1;32mnot\u001b[0m \u001b[1;32mNone\u001b[0m\u001b[1;33m:\u001b[0m\u001b[1;33m\u001b[0m\u001b[1;33m\u001b[0m\u001b[0m\n\u001b[1;32m--> 111\u001b[1;33m         \u001b[0m_check_datatype\u001b[0m\u001b[1;33m(\u001b[0m\u001b[0mraw\u001b[0m\u001b[1;33m,\u001b[0m \u001b[0mdatatype\u001b[0m\u001b[1;33m)\u001b[0m\u001b[1;33m\u001b[0m\u001b[1;33m\u001b[0m\u001b[0m\n\u001b[0m\u001b[0;32m    112\u001b[0m         \u001b[1;31m# MEG data is not supported by BrainVision or EDF files\u001b[0m\u001b[1;33m\u001b[0m\u001b[1;33m\u001b[0m\u001b[1;33m\u001b[0m\u001b[0m\n\u001b[0;32m    113\u001b[0m         \u001b[1;32mif\u001b[0m \u001b[0mdatatype\u001b[0m \u001b[1;32min\u001b[0m \u001b[1;33m[\u001b[0m\u001b[1;34m'eeg'\u001b[0m\u001b[1;33m,\u001b[0m \u001b[1;34m'ieeg'\u001b[0m\u001b[1;33m]\u001b[0m \u001b[1;32mand\u001b[0m \u001b[1;34m'meg'\u001b[0m \u001b[1;32min\u001b[0m \u001b[0mraw\u001b[0m\u001b[1;33m:\u001b[0m\u001b[1;33m\u001b[0m\u001b[1;33m\u001b[0m\u001b[0m\n",
      "\u001b[1;32mc:\\Users\\Jonathan\\Documents\\VSCODE\\.venv\\lib\\site-packages\\mne_bids\\utils.py\u001b[0m in \u001b[0;36m_check_datatype\u001b[1;34m(raw, datatype)\u001b[0m\n\u001b[0;32m    450\u001b[0m             \u001b[0mdatatype_matches\u001b[0m \u001b[1;33m=\u001b[0m \u001b[1;32mTrue\u001b[0m\u001b[1;33m\u001b[0m\u001b[1;33m\u001b[0m\u001b[0m\n\u001b[0;32m    451\u001b[0m     \u001b[1;32mif\u001b[0m \u001b[1;32mnot\u001b[0m \u001b[0mdatatype_matches\u001b[0m\u001b[1;33m:\u001b[0m\u001b[1;33m\u001b[0m\u001b[1;33m\u001b[0m\u001b[0m\n\u001b[1;32m--> 452\u001b[1;33m         raise ValueError(\n\u001b[0m\u001b[0;32m    453\u001b[0m             \u001b[1;34mf'The specified datatype {datatype} was not found in the raw '\u001b[0m\u001b[1;33m\u001b[0m\u001b[1;33m\u001b[0m\u001b[0m\n\u001b[0;32m    454\u001b[0m             \u001b[1;34m'object. Please specify the correct datatype using '\u001b[0m\u001b[1;33m\u001b[0m\u001b[1;33m\u001b[0m\u001b[0m\n",
      "\u001b[1;31mValueError\u001b[0m: The specified datatype ieeg was not found in the raw object. Please specify the correct datatype using `bids_path.update(datatype=\"<datatype>\")` or use raw.set_channel_types to set the correct channel types in the raw object."
     ]
    }
   ],
   "source": [
    "BIDSobject = []\n",
    "for BIDSobject in My_selection:\n",
    "    raw=mne.io.read_raw_brainvision(BIDSobject.path, preload=False)\n",
    "    bids_path = mne_bids.get_bids_path_from_fname(BIDSobject.relpath)\n",
    "    bids_path = bids_path.update(root=r'C:\\Users\\Jonathan\\Documents\\DATA\\Test_vigor', datatype='ieeg')\n",
    "    print(bids_path)\n",
    "    mne_bids.write_raw_bids(raw=raw, bids_path=bids_path, allow_preload=False)\n",
    "    \n",
    "\n",
    "\n"
   ]
  },
  {
   "cell_type": "code",
   "execution_count": 308,
   "metadata": {},
   "outputs": [],
   "source": [
    "a =layout_BERLIN.get(suffix='participants',extension='.tsv')[0].get_df()['participant_id']"
   ]
  },
  {
   "cell_type": "code",
   "execution_count": 344,
   "metadata": {},
   "outputs": [
    {
     "data": {
      "text/plain": [
       "['EL001',\n",
       " 'EL002',\n",
       " 'EL003',\n",
       " 'EL004',\n",
       " 'EL005',\n",
       " 'EL006',\n",
       " 'EL007',\n",
       " 'EL008',\n",
       " 'EL009',\n",
       " 'EL010',\n",
       " 'EL011',\n",
       " 'EL012',\n",
       " 'EL013',\n",
       " 'EL014',\n",
       " 'EL015',\n",
       " 'EL016']"
      ]
     },
     "execution_count": 344,
     "metadata": {},
     "output_type": "execute_result"
    }
   ],
   "source": [
    "list(subjects.value)"
   ]
  },
  {
   "cell_type": "code",
   "execution_count": 339,
   "metadata": {},
   "outputs": [
    {
     "data": {
      "text/plain": [
       "0     sub-EL001\n",
       "1     sub-EL002\n",
       "2     sub-EL003\n",
       "3     sub-EL004\n",
       "4     sub-EL005\n",
       "5     sub-EL006\n",
       "6     sub-EL007\n",
       "7     sub-EL008\n",
       "8     sub-EL009\n",
       "9     sub-EL010\n",
       "10    sub-EL011\n",
       "11    sub-EL012\n",
       "12    sub-EL013\n",
       "13    sub-EL014\n",
       "14    sub-EL015\n",
       "15    sub-EL016\n",
       "Name: participant_id, dtype: object"
      ]
     },
     "execution_count": 339,
     "metadata": {},
     "output_type": "execute_result"
    }
   ],
   "source": [
    "df['participant_id']"
   ]
  },
  {
   "cell_type": "code",
   "execution_count": 312,
   "metadata": {},
   "outputs": [
    {
     "ename": "TypeError",
     "evalue": "Cannot use .str.cat with values of inferred dtype 'mixed-integer'.",
     "output_type": "error",
     "traceback": [
      "\u001b[1;31m---------------------------------------------------------------------------\u001b[0m",
      "\u001b[1;31mTypeError\u001b[0m                                 Traceback (most recent call last)",
      "\u001b[1;32m<ipython-input-312-def145354a58>\u001b[0m in \u001b[0;36m<module>\u001b[1;34m\u001b[0m\n\u001b[0;32m      1\u001b[0m \u001b[1;32mfor\u001b[0m \u001b[0mi\u001b[0m\u001b[1;33m,\u001b[0m \u001b[0mr\u001b[0m \u001b[1;32min\u001b[0m \u001b[0mlayout_BERLIN\u001b[0m\u001b[1;33m.\u001b[0m\u001b[0mget\u001b[0m\u001b[1;33m(\u001b[0m\u001b[0msuffix\u001b[0m\u001b[1;33m=\u001b[0m\u001b[1;34m'participants'\u001b[0m\u001b[1;33m,\u001b[0m\u001b[0mextension\u001b[0m\u001b[1;33m=\u001b[0m\u001b[1;34m'.tsv'\u001b[0m\u001b[1;33m)\u001b[0m\u001b[1;33m[\u001b[0m\u001b[1;36m0\u001b[0m\u001b[1;33m]\u001b[0m\u001b[1;33m.\u001b[0m\u001b[0mget_df\u001b[0m\u001b[1;33m(\u001b[0m\u001b[1;33m)\u001b[0m\u001b[1;33m.\u001b[0m\u001b[0miterrows\u001b[0m\u001b[1;33m(\u001b[0m\u001b[1;33m)\u001b[0m\u001b[1;33m:\u001b[0m\u001b[1;33m\u001b[0m\u001b[1;33m\u001b[0m\u001b[0m\n\u001b[1;32m----> 2\u001b[1;33m     \u001b[0mprint\u001b[0m\u001b[1;33m(\u001b[0m\u001b[0mr\u001b[0m\u001b[1;33m.\u001b[0m\u001b[0mstr\u001b[0m\u001b[1;33m.\u001b[0m\u001b[0mcat\u001b[0m\u001b[1;33m(\u001b[0m\u001b[0msep\u001b[0m\u001b[1;33m=\u001b[0m\u001b[1;34m\"\\t\"\u001b[0m\u001b[1;33m)\u001b[0m\u001b[1;33m)\u001b[0m\u001b[1;33m\u001b[0m\u001b[1;33m\u001b[0m\u001b[0m\n\u001b[0m",
      "\u001b[1;32mc:\\Users\\Jonathan\\Documents\\VSCODE\\.venv\\lib\\site-packages\\pandas\\core\\strings.py\u001b[0m in \u001b[0;36mwrapper\u001b[1;34m(self, *args, **kwargs)\u001b[0m\n\u001b[0;32m   1998\u001b[0m                     \u001b[1;34mf\"inferred dtype '{self._inferred_dtype}'.\"\u001b[0m\u001b[1;33m\u001b[0m\u001b[1;33m\u001b[0m\u001b[0m\n\u001b[0;32m   1999\u001b[0m                 )\n\u001b[1;32m-> 2000\u001b[1;33m                 \u001b[1;32mraise\u001b[0m \u001b[0mTypeError\u001b[0m\u001b[1;33m(\u001b[0m\u001b[0mmsg\u001b[0m\u001b[1;33m)\u001b[0m\u001b[1;33m\u001b[0m\u001b[1;33m\u001b[0m\u001b[0m\n\u001b[0m\u001b[0;32m   2001\u001b[0m             \u001b[1;32mreturn\u001b[0m \u001b[0mfunc\u001b[0m\u001b[1;33m(\u001b[0m\u001b[0mself\u001b[0m\u001b[1;33m,\u001b[0m \u001b[1;33m*\u001b[0m\u001b[0margs\u001b[0m\u001b[1;33m,\u001b[0m \u001b[1;33m**\u001b[0m\u001b[0mkwargs\u001b[0m\u001b[1;33m)\u001b[0m\u001b[1;33m\u001b[0m\u001b[1;33m\u001b[0m\u001b[0m\n\u001b[0;32m   2002\u001b[0m \u001b[1;33m\u001b[0m\u001b[0m\n",
      "\u001b[1;31mTypeError\u001b[0m: Cannot use .str.cat with values of inferred dtype 'mixed-integer'."
     ]
    }
   ],
   "source": [
    "for i, r in layout_BERLIN.get(suffix='participants',extension='.tsv')[0].get_df().iterrows():\n",
    "    print(r.str.cat(sep=\"\\t\"))"
   ]
  },
  {
   "cell_type": "code",
   "execution_count": 310,
   "metadata": {},
   "outputs": [
    {
     "ename": "TypeError",
     "evalue": "sequence item 3: expected str instance, int found",
     "output_type": "error",
     "traceback": [
      "\u001b[1;31m---------------------------------------------------------------------------\u001b[0m",
      "\u001b[1;31mTypeError\u001b[0m                                 Traceback (most recent call last)",
      "\u001b[1;32mc:\\Users\\Jonathan\\Documents\\VSCODE\\.venv\\lib\\site-packages\\pandas\\core\\groupby\\groupby.py\u001b[0m in \u001b[0;36mapply\u001b[1;34m(self, func, *args, **kwargs)\u001b[0m\n\u001b[0;32m    858\u001b[0m             \u001b[1;32mtry\u001b[0m\u001b[1;33m:\u001b[0m\u001b[1;33m\u001b[0m\u001b[1;33m\u001b[0m\u001b[0m\n\u001b[1;32m--> 859\u001b[1;33m                 \u001b[0mresult\u001b[0m \u001b[1;33m=\u001b[0m \u001b[0mself\u001b[0m\u001b[1;33m.\u001b[0m\u001b[0m_python_apply_general\u001b[0m\u001b[1;33m(\u001b[0m\u001b[0mf\u001b[0m\u001b[1;33m,\u001b[0m \u001b[0mself\u001b[0m\u001b[1;33m.\u001b[0m\u001b[0m_selected_obj\u001b[0m\u001b[1;33m)\u001b[0m\u001b[1;33m\u001b[0m\u001b[1;33m\u001b[0m\u001b[0m\n\u001b[0m\u001b[0;32m    860\u001b[0m             \u001b[1;32mexcept\u001b[0m \u001b[0mTypeError\u001b[0m\u001b[1;33m:\u001b[0m\u001b[1;33m\u001b[0m\u001b[1;33m\u001b[0m\u001b[0m\n",
      "\u001b[1;32mc:\\Users\\Jonathan\\Documents\\VSCODE\\.venv\\lib\\site-packages\\pandas\\core\\groupby\\groupby.py\u001b[0m in \u001b[0;36m_python_apply_general\u001b[1;34m(self, f, data)\u001b[0m\n\u001b[0;32m    891\u001b[0m         \"\"\"\n\u001b[1;32m--> 892\u001b[1;33m         \u001b[0mkeys\u001b[0m\u001b[1;33m,\u001b[0m \u001b[0mvalues\u001b[0m\u001b[1;33m,\u001b[0m \u001b[0mmutated\u001b[0m \u001b[1;33m=\u001b[0m \u001b[0mself\u001b[0m\u001b[1;33m.\u001b[0m\u001b[0mgrouper\u001b[0m\u001b[1;33m.\u001b[0m\u001b[0mapply\u001b[0m\u001b[1;33m(\u001b[0m\u001b[0mf\u001b[0m\u001b[1;33m,\u001b[0m \u001b[0mdata\u001b[0m\u001b[1;33m,\u001b[0m \u001b[0mself\u001b[0m\u001b[1;33m.\u001b[0m\u001b[0maxis\u001b[0m\u001b[1;33m)\u001b[0m\u001b[1;33m\u001b[0m\u001b[1;33m\u001b[0m\u001b[0m\n\u001b[0m\u001b[0;32m    893\u001b[0m \u001b[1;33m\u001b[0m\u001b[0m\n",
      "\u001b[1;32mc:\\Users\\Jonathan\\Documents\\VSCODE\\.venv\\lib\\site-packages\\pandas\\core\\groupby\\ops.py\u001b[0m in \u001b[0;36mapply\u001b[1;34m(self, f, data, axis)\u001b[0m\n\u001b[0;32m    212\u001b[0m             \u001b[0mgroup_axes\u001b[0m \u001b[1;33m=\u001b[0m \u001b[0mgroup\u001b[0m\u001b[1;33m.\u001b[0m\u001b[0maxes\u001b[0m\u001b[1;33m\u001b[0m\u001b[1;33m\u001b[0m\u001b[0m\n\u001b[1;32m--> 213\u001b[1;33m             \u001b[0mres\u001b[0m \u001b[1;33m=\u001b[0m \u001b[0mf\u001b[0m\u001b[1;33m(\u001b[0m\u001b[0mgroup\u001b[0m\u001b[1;33m)\u001b[0m\u001b[1;33m\u001b[0m\u001b[1;33m\u001b[0m\u001b[0m\n\u001b[0m\u001b[0;32m    214\u001b[0m             \u001b[1;32mif\u001b[0m \u001b[1;32mnot\u001b[0m \u001b[0m_is_indexed_like\u001b[0m\u001b[1;33m(\u001b[0m\u001b[0mres\u001b[0m\u001b[1;33m,\u001b[0m \u001b[0mgroup_axes\u001b[0m\u001b[1;33m)\u001b[0m\u001b[1;33m:\u001b[0m\u001b[1;33m\u001b[0m\u001b[1;33m\u001b[0m\u001b[0m\n",
      "\u001b[1;31mTypeError\u001b[0m: sequence item 3: expected str instance, int found",
      "\nDuring handling of the above exception, another exception occurred:\n",
      "\u001b[1;31mTypeError\u001b[0m                                 Traceback (most recent call last)",
      "\u001b[1;32m<ipython-input-310-e44057624e7d>\u001b[0m in \u001b[0;36m<module>\u001b[1;34m\u001b[0m\n\u001b[1;32m----> 1\u001b[1;33m \u001b[0mlayout_BERLIN\u001b[0m\u001b[1;33m.\u001b[0m\u001b[0mget\u001b[0m\u001b[1;33m(\u001b[0m\u001b[0msuffix\u001b[0m\u001b[1;33m=\u001b[0m\u001b[1;34m'participants'\u001b[0m\u001b[1;33m,\u001b[0m\u001b[0mextension\u001b[0m\u001b[1;33m=\u001b[0m\u001b[1;34m'.tsv'\u001b[0m\u001b[1;33m)\u001b[0m\u001b[1;33m[\u001b[0m\u001b[1;36m0\u001b[0m\u001b[1;33m]\u001b[0m\u001b[1;33m.\u001b[0m\u001b[0mget_df\u001b[0m\u001b[1;33m(\u001b[0m\u001b[1;33m)\u001b[0m\u001b[1;33m.\u001b[0m\u001b[0mstack\u001b[0m\u001b[1;33m(\u001b[0m\u001b[1;33m)\u001b[0m\u001b[1;33m.\u001b[0m\u001b[0mgroupby\u001b[0m\u001b[1;33m(\u001b[0m\u001b[0mlevel\u001b[0m\u001b[1;33m=\u001b[0m\u001b[1;36m0\u001b[0m\u001b[1;33m)\u001b[0m\u001b[1;33m.\u001b[0m\u001b[0mapply\u001b[0m\u001b[1;33m(\u001b[0m\u001b[1;34m'\\t'\u001b[0m\u001b[1;33m.\u001b[0m\u001b[0mjoin\u001b[0m\u001b[1;33m)\u001b[0m\u001b[1;33m.\u001b[0m\u001b[0mto_frame\u001b[0m\u001b[1;33m(\u001b[0m\u001b[1;36m0\u001b[0m\u001b[1;33m)\u001b[0m\u001b[1;33m\u001b[0m\u001b[1;33m\u001b[0m\u001b[0m\n\u001b[0m",
      "\u001b[1;32mc:\\Users\\Jonathan\\Documents\\VSCODE\\.venv\\lib\\site-packages\\pandas\\core\\groupby\\generic.py\u001b[0m in \u001b[0;36mapply\u001b[1;34m(self, func, *args, **kwargs)\u001b[0m\n\u001b[0;32m    224\u001b[0m     )\n\u001b[0;32m    225\u001b[0m     \u001b[1;32mdef\u001b[0m \u001b[0mapply\u001b[0m\u001b[1;33m(\u001b[0m\u001b[0mself\u001b[0m\u001b[1;33m,\u001b[0m \u001b[0mfunc\u001b[0m\u001b[1;33m,\u001b[0m \u001b[1;33m*\u001b[0m\u001b[0margs\u001b[0m\u001b[1;33m,\u001b[0m \u001b[1;33m**\u001b[0m\u001b[0mkwargs\u001b[0m\u001b[1;33m)\u001b[0m\u001b[1;33m:\u001b[0m\u001b[1;33m\u001b[0m\u001b[1;33m\u001b[0m\u001b[0m\n\u001b[1;32m--> 226\u001b[1;33m         \u001b[1;32mreturn\u001b[0m \u001b[0msuper\u001b[0m\u001b[1;33m(\u001b[0m\u001b[1;33m)\u001b[0m\u001b[1;33m.\u001b[0m\u001b[0mapply\u001b[0m\u001b[1;33m(\u001b[0m\u001b[0mfunc\u001b[0m\u001b[1;33m,\u001b[0m \u001b[1;33m*\u001b[0m\u001b[0margs\u001b[0m\u001b[1;33m,\u001b[0m \u001b[1;33m**\u001b[0m\u001b[0mkwargs\u001b[0m\u001b[1;33m)\u001b[0m\u001b[1;33m\u001b[0m\u001b[1;33m\u001b[0m\u001b[0m\n\u001b[0m\u001b[0;32m    227\u001b[0m \u001b[1;33m\u001b[0m\u001b[0m\n\u001b[0;32m    228\u001b[0m     @doc(\n",
      "\u001b[1;32mc:\\Users\\Jonathan\\Documents\\VSCODE\\.venv\\lib\\site-packages\\pandas\\core\\groupby\\groupby.py\u001b[0m in \u001b[0;36mapply\u001b[1;34m(self, func, *args, **kwargs)\u001b[0m\n\u001b[0;32m    868\u001b[0m \u001b[1;33m\u001b[0m\u001b[0m\n\u001b[0;32m    869\u001b[0m                 \u001b[1;32mwith\u001b[0m \u001b[0m_group_selection_context\u001b[0m\u001b[1;33m(\u001b[0m\u001b[0mself\u001b[0m\u001b[1;33m)\u001b[0m\u001b[1;33m:\u001b[0m\u001b[1;33m\u001b[0m\u001b[1;33m\u001b[0m\u001b[0m\n\u001b[1;32m--> 870\u001b[1;33m                     \u001b[1;32mreturn\u001b[0m \u001b[0mself\u001b[0m\u001b[1;33m.\u001b[0m\u001b[0m_python_apply_general\u001b[0m\u001b[1;33m(\u001b[0m\u001b[0mf\u001b[0m\u001b[1;33m,\u001b[0m \u001b[0mself\u001b[0m\u001b[1;33m.\u001b[0m\u001b[0m_selected_obj\u001b[0m\u001b[1;33m)\u001b[0m\u001b[1;33m\u001b[0m\u001b[1;33m\u001b[0m\u001b[0m\n\u001b[0m\u001b[0;32m    871\u001b[0m \u001b[1;33m\u001b[0m\u001b[0m\n\u001b[0;32m    872\u001b[0m         \u001b[1;32mreturn\u001b[0m \u001b[0mresult\u001b[0m\u001b[1;33m\u001b[0m\u001b[1;33m\u001b[0m\u001b[0m\n",
      "\u001b[1;32mc:\\Users\\Jonathan\\Documents\\VSCODE\\.venv\\lib\\site-packages\\pandas\\core\\groupby\\groupby.py\u001b[0m in \u001b[0;36m_python_apply_general\u001b[1;34m(self, f, data)\u001b[0m\n\u001b[0;32m    890\u001b[0m             \u001b[0mdata\u001b[0m \u001b[0mafter\u001b[0m \u001b[0mapplying\u001b[0m \u001b[0mf\u001b[0m\u001b[1;33m\u001b[0m\u001b[1;33m\u001b[0m\u001b[0m\n\u001b[0;32m    891\u001b[0m         \"\"\"\n\u001b[1;32m--> 892\u001b[1;33m         \u001b[0mkeys\u001b[0m\u001b[1;33m,\u001b[0m \u001b[0mvalues\u001b[0m\u001b[1;33m,\u001b[0m \u001b[0mmutated\u001b[0m \u001b[1;33m=\u001b[0m \u001b[0mself\u001b[0m\u001b[1;33m.\u001b[0m\u001b[0mgrouper\u001b[0m\u001b[1;33m.\u001b[0m\u001b[0mapply\u001b[0m\u001b[1;33m(\u001b[0m\u001b[0mf\u001b[0m\u001b[1;33m,\u001b[0m \u001b[0mdata\u001b[0m\u001b[1;33m,\u001b[0m \u001b[0mself\u001b[0m\u001b[1;33m.\u001b[0m\u001b[0maxis\u001b[0m\u001b[1;33m)\u001b[0m\u001b[1;33m\u001b[0m\u001b[1;33m\u001b[0m\u001b[0m\n\u001b[0m\u001b[0;32m    893\u001b[0m \u001b[1;33m\u001b[0m\u001b[0m\n\u001b[0;32m    894\u001b[0m         return self._wrap_applied_output(\n",
      "\u001b[1;32mc:\\Users\\Jonathan\\Documents\\VSCODE\\.venv\\lib\\site-packages\\pandas\\core\\groupby\\ops.py\u001b[0m in \u001b[0;36mapply\u001b[1;34m(self, f, data, axis)\u001b[0m\n\u001b[0;32m    211\u001b[0m             \u001b[1;31m# group might be modified\u001b[0m\u001b[1;33m\u001b[0m\u001b[1;33m\u001b[0m\u001b[1;33m\u001b[0m\u001b[0m\n\u001b[0;32m    212\u001b[0m             \u001b[0mgroup_axes\u001b[0m \u001b[1;33m=\u001b[0m \u001b[0mgroup\u001b[0m\u001b[1;33m.\u001b[0m\u001b[0maxes\u001b[0m\u001b[1;33m\u001b[0m\u001b[1;33m\u001b[0m\u001b[0m\n\u001b[1;32m--> 213\u001b[1;33m             \u001b[0mres\u001b[0m \u001b[1;33m=\u001b[0m \u001b[0mf\u001b[0m\u001b[1;33m(\u001b[0m\u001b[0mgroup\u001b[0m\u001b[1;33m)\u001b[0m\u001b[1;33m\u001b[0m\u001b[1;33m\u001b[0m\u001b[0m\n\u001b[0m\u001b[0;32m    214\u001b[0m             \u001b[1;32mif\u001b[0m \u001b[1;32mnot\u001b[0m \u001b[0m_is_indexed_like\u001b[0m\u001b[1;33m(\u001b[0m\u001b[0mres\u001b[0m\u001b[1;33m,\u001b[0m \u001b[0mgroup_axes\u001b[0m\u001b[1;33m)\u001b[0m\u001b[1;33m:\u001b[0m\u001b[1;33m\u001b[0m\u001b[1;33m\u001b[0m\u001b[0m\n\u001b[0;32m    215\u001b[0m                 \u001b[0mmutated\u001b[0m \u001b[1;33m=\u001b[0m \u001b[1;32mTrue\u001b[0m\u001b[1;33m\u001b[0m\u001b[1;33m\u001b[0m\u001b[0m\n",
      "\u001b[1;31mTypeError\u001b[0m: sequence item 3: expected str instance, int found"
     ]
    }
   ],
   "source": [
    "layout_BERLIN.get(suffix='participants',extension='.tsv')[0].get_df().stack().groupby(level=0).apply('\\t'.join).to_frame(0)"
   ]
  },
  {
   "cell_type": "code",
   "execution_count": 309,
   "metadata": {},
   "outputs": [
    {
     "data": {
      "text/plain": [
       "'participant_id'"
      ]
     },
     "metadata": {},
     "output_type": "display_data"
    },
    {
     "data": {
      "text/plain": [
       "'sex'"
      ]
     },
     "metadata": {},
     "output_type": "display_data"
    },
    {
     "data": {
      "text/plain": [
       "'age'"
      ]
     },
     "metadata": {},
     "output_type": "display_data"
    },
    {
     "data": {
      "application/vnd.jupyter.widget-view+json": {
       "model_id": "e5994b1984ac4e029d9a26bd1ee06b3e",
       "version_major": 2,
       "version_minor": 0
      },
      "text/plain": [
       "GridspecLayout(children=(SelectMultiple(layout=Layout(grid_area='widget001'), options=('test \\t test', 'erty \\…"
      ]
     },
     "metadata": {},
     "output_type": "display_data"
    }
   ],
   "source": [
    "l=len(participants.value)\n",
    "grid3 = GridspecLayout(1, l)\n",
    "for i,value in enumerate(participants.value):\n",
    "    display(value)\n",
    "    grid3[0,i]= widgets.SelectMultiple(\n",
    "    options=['test \\t test', 'erty \\t wrhfh'],\n",
    "    description='',\n",
    "    rows=20,\n",
    ")\n",
    "grid3"
   ]
  },
  {
   "cell_type": "code",
   "execution_count": 300,
   "metadata": {},
   "outputs": [
    {
     "data": {
      "text/html": [
       "<div>\n",
       "<style scoped>\n",
       "    .dataframe tbody tr th:only-of-type {\n",
       "        vertical-align: middle;\n",
       "    }\n",
       "\n",
       "    .dataframe tbody tr th {\n",
       "        vertical-align: top;\n",
       "    }\n",
       "\n",
       "    .dataframe thead th {\n",
       "        text-align: right;\n",
       "    }\n",
       "</style>\n",
       "<table border=\"1\" class=\"dataframe\">\n",
       "  <thead>\n",
       "    <tr style=\"text-align: right;\">\n",
       "      <th></th>\n",
       "      <th>participant_id</th>\n",
       "      <th>sex</th>\n",
       "    </tr>\n",
       "  </thead>\n",
       "  <tbody>\n",
       "    <tr>\n",
       "      <th>0</th>\n",
       "      <td>sub-EL001</td>\n",
       "      <td>female</td>\n",
       "    </tr>\n",
       "    <tr>\n",
       "      <th>1</th>\n",
       "      <td>sub-EL002</td>\n",
       "      <td>male</td>\n",
       "    </tr>\n",
       "    <tr>\n",
       "      <th>2</th>\n",
       "      <td>sub-EL003</td>\n",
       "      <td>female</td>\n",
       "    </tr>\n",
       "    <tr>\n",
       "      <th>3</th>\n",
       "      <td>sub-EL004</td>\n",
       "      <td>female</td>\n",
       "    </tr>\n",
       "    <tr>\n",
       "      <th>4</th>\n",
       "      <td>sub-EL005</td>\n",
       "      <td>female</td>\n",
       "    </tr>\n",
       "    <tr>\n",
       "      <th>5</th>\n",
       "      <td>sub-EL006</td>\n",
       "      <td>male</td>\n",
       "    </tr>\n",
       "    <tr>\n",
       "      <th>6</th>\n",
       "      <td>sub-EL007</td>\n",
       "      <td>male</td>\n",
       "    </tr>\n",
       "    <tr>\n",
       "      <th>7</th>\n",
       "      <td>sub-EL008</td>\n",
       "      <td>male</td>\n",
       "    </tr>\n",
       "    <tr>\n",
       "      <th>8</th>\n",
       "      <td>sub-EL009</td>\n",
       "      <td>male</td>\n",
       "    </tr>\n",
       "    <tr>\n",
       "      <th>9</th>\n",
       "      <td>sub-EL010</td>\n",
       "      <td>female</td>\n",
       "    </tr>\n",
       "    <tr>\n",
       "      <th>10</th>\n",
       "      <td>sub-EL011</td>\n",
       "      <td>male</td>\n",
       "    </tr>\n",
       "    <tr>\n",
       "      <th>11</th>\n",
       "      <td>sub-EL012</td>\n",
       "      <td>male</td>\n",
       "    </tr>\n",
       "    <tr>\n",
       "      <th>12</th>\n",
       "      <td>sub-EL013</td>\n",
       "      <td>male</td>\n",
       "    </tr>\n",
       "    <tr>\n",
       "      <th>13</th>\n",
       "      <td>sub-EL014</td>\n",
       "      <td>male</td>\n",
       "    </tr>\n",
       "    <tr>\n",
       "      <th>14</th>\n",
       "      <td>sub-EL015</td>\n",
       "      <td>male</td>\n",
       "    </tr>\n",
       "    <tr>\n",
       "      <th>15</th>\n",
       "      <td>sub-EL016</td>\n",
       "      <td>male</td>\n",
       "    </tr>\n",
       "  </tbody>\n",
       "</table>\n",
       "</div>"
      ],
      "text/plain": [
       "   participant_id     sex\n",
       "0       sub-EL001  female\n",
       "1       sub-EL002    male\n",
       "2       sub-EL003  female\n",
       "3       sub-EL004  female\n",
       "4       sub-EL005  female\n",
       "5       sub-EL006    male\n",
       "6       sub-EL007    male\n",
       "7       sub-EL008    male\n",
       "8       sub-EL009    male\n",
       "9       sub-EL010  female\n",
       "10      sub-EL011    male\n",
       "11      sub-EL012    male\n",
       "12      sub-EL013    male\n",
       "13      sub-EL014    male\n",
       "14      sub-EL015    male\n",
       "15      sub-EL016    male"
      ]
     },
     "execution_count": 300,
     "metadata": {},
     "output_type": "execute_result"
    }
   ],
   "source": [
    "layout_BERLIN.get(suffix='participants',extension='.tsv')[0].get_df()[['participant_id','sex']]"
   ]
  },
  {
   "cell_type": "code",
   "execution_count": 276,
   "metadata": {},
   "outputs": [
    {
     "data": {
      "text/plain": [
       "['session_id', 'acq_date', 'medication_state', 'UPDRS_III']"
      ]
     },
     "execution_count": 276,
     "metadata": {},
     "output_type": "execute_result"
    }
   ],
   "source": [
    "layout_BERLIN.get(suffix='sessions',extension='.tsv')[0].get_df().columns.tolist()"
   ]
  },
  {
   "cell_type": "code",
   "execution_count": 219,
   "metadata": {},
   "outputs": [
    {
     "ename": "TypeError",
     "evalue": "'NodeIndex' object is not callable",
     "output_type": "error",
     "traceback": [
      "\u001b[1;31m---------------------------------------------------------------------------\u001b[0m",
      "\u001b[1;31mTypeError\u001b[0m                                 Traceback (most recent call last)",
      "\u001b[1;32m<ipython-input-219-80a1c993fcad>\u001b[0m in \u001b[0;36m<module>\u001b[1;34m\u001b[0m\n\u001b[1;32m----> 1\u001b[1;33m \u001b[0mnode\u001b[0m\u001b[1;33m(\u001b[0m\u001b[0mlevel\u001b[0m\u001b[1;33m=\u001b[0m\u001b[1;34m'subject'\u001b[0m\u001b[1;33m)\u001b[0m\u001b[1;33m\u001b[0m\u001b[1;33m\u001b[0m\u001b[0m\n\u001b[0m",
      "\u001b[1;31mTypeError\u001b[0m: 'NodeIndex' object is not callable"
     ]
    }
   ],
   "source": [
    "node(level='subject')"
   ]
  },
  {
   "cell_type": "code",
   "execution_count": 220,
   "metadata": {},
   "outputs": [
    {
     "data": {
      "text/html": [
       "<div>\n",
       "<style scoped>\n",
       "    .dataframe tbody tr th:only-of-type {\n",
       "        vertical-align: middle;\n",
       "    }\n",
       "\n",
       "    .dataframe tbody tr th {\n",
       "        vertical-align: top;\n",
       "    }\n",
       "\n",
       "    .dataframe thead th {\n",
       "        text-align: right;\n",
       "    }\n",
       "</style>\n",
       "<table border=\"1\" class=\"dataframe\">\n",
       "  <thead>\n",
       "    <tr style=\"text-align: right;\">\n",
       "      <th></th>\n",
       "      <th>extension</th>\n",
       "      <th>suffix</th>\n",
       "      <th>node_index</th>\n",
       "      <th>level</th>\n",
       "    </tr>\n",
       "  </thead>\n",
       "  <tbody>\n",
       "    <tr>\n",
       "      <th>0</th>\n",
       "      <td>.tsv</td>\n",
       "      <td>participants</td>\n",
       "      <td>0</td>\n",
       "      <td>dataset</td>\n",
       "    </tr>\n",
       "  </tbody>\n",
       "</table>\n",
       "</div>"
      ],
      "text/plain": [
       "  extension        suffix node_index    level\n",
       "0      .tsv  participants          0  dataset"
      ]
     },
     "execution_count": 220,
     "metadata": {},
     "output_type": "execute_result"
    }
   ],
   "source": [
    "node=variables.load_variables(layout_BERLIN, ['participants'], levels='run')\n",
    "\n",
    "\n",
    "node.index\n",
    "\n"
   ]
  },
  {
   "cell_type": "code",
   "execution_count": 213,
   "metadata": {},
   "outputs": [
    {
     "data": {
      "text/html": [
       "<div>\n",
       "<style scoped>\n",
       "    .dataframe tbody tr th:only-of-type {\n",
       "        vertical-align: middle;\n",
       "    }\n",
       "\n",
       "    .dataframe tbody tr th {\n",
       "        vertical-align: top;\n",
       "    }\n",
       "\n",
       "    .dataframe thead th {\n",
       "        text-align: right;\n",
       "    }\n",
       "</style>\n",
       "<table border=\"1\" class=\"dataframe\">\n",
       "  <thead>\n",
       "    <tr style=\"text-align: right;\">\n",
       "      <th></th>\n",
       "      <th>extension</th>\n",
       "      <th>subject</th>\n",
       "      <th>suffix</th>\n",
       "      <th>node_index</th>\n",
       "      <th>level</th>\n",
       "    </tr>\n",
       "  </thead>\n",
       "  <tbody>\n",
       "    <tr>\n",
       "      <th>0</th>\n",
       "      <td>.tsv</td>\n",
       "      <td>EL016</td>\n",
       "      <td>sessions</td>\n",
       "      <td>0</td>\n",
       "      <td>subject</td>\n",
       "    </tr>\n",
       "  </tbody>\n",
       "</table>\n",
       "</div>"
      ],
      "text/plain": [
       "  extension subject    suffix node_index    level\n",
       "0      .tsv   EL016  sessions          0  subject"
      ]
     },
     "execution_count": 213,
     "metadata": {},
     "output_type": "execute_result"
    }
   ],
   "source": [
    "node=variables.load_variables(layout_BERLIN, ['sessions'], levels='run')\n",
    "\n",
    "node.index"
   ]
  },
  {
   "cell_type": "code",
   "execution_count": 80,
   "metadata": {},
   "outputs": [
    {
     "ename": "AttributeError",
     "evalue": "module 'bids.layout' has no attribute 'BIDSJSONfile'",
     "output_type": "error",
     "traceback": [
      "\u001b[1;31m---------------------------------------------------------------------------\u001b[0m",
      "\u001b[1;31mAttributeError\u001b[0m                            Traceback (most recent call last)",
      "\u001b[1;32m<ipython-input-80-79b90068e2f6>\u001b[0m in \u001b[0;36m<module>\u001b[1;34m\u001b[0m\n\u001b[1;32m----> 1\u001b[1;33m \u001b[0mbids\u001b[0m\u001b[1;33m.\u001b[0m\u001b[0mlayout\u001b[0m\u001b[1;33m.\u001b[0m\u001b[0mBIDSJSONfile\u001b[0m\u001b[1;33m(\u001b[0m\u001b[0mBIDSobject\u001b[0m\u001b[1;33m.\u001b[0m\u001b[0mrelpath\u001b[0m\u001b[1;33m)\u001b[0m\u001b[1;33m\u001b[0m\u001b[1;33m\u001b[0m\u001b[0m\n\u001b[0m",
      "\u001b[1;31mAttributeError\u001b[0m: module 'bids.layout' has no attribute 'BIDSJSONfile'"
     ]
    }
   ],
   "source": [
    "bids.layout.BIDSJSONfile(BIDSobject.relpath)"
   ]
  },
  {
   "cell_type": "code",
   "execution_count": null,
   "metadata": {},
   "outputs": [],
   "source": [
    "layout.files"
   ]
  },
  {
   "cell_type": "code",
   "execution_count": null,
   "metadata": {},
   "outputs": [],
   "source": [
    "layout = BIDSLayout(join(get_test_data_path(), 'synthetic'), absolute_paths=False)"
   ]
  },
  {
   "cell_type": "code",
   "execution_count": null,
   "metadata": {},
   "outputs": [],
   "source": [
    "myfiles = layout.get_files() #this gives a dictionary"
   ]
  },
  {
   "cell_type": "code",
   "execution_count": null,
   "metadata": {},
   "outputs": [],
   "source": [
    "myfiles.keys()\n",
    "datafile = myfiles['C:\\\\Users\\\\Jonathan\\\\AppData\\\\Local\\\\Programs\\\\Python\\\\Python39\\\\lib\\\\site-packages\\\\bids\\\\tests\\\\data\\\\synthetic\\\\sub-01\\\\sub-01_sessions.tsv'] #this gives a BIDSobject"
   ]
  },
  {
   "cell_type": "code",
   "execution_count": null,
   "metadata": {},
   "outputs": [],
   "source": [
    "datafile.filename\n",
    "datafile.dirname\n",
    "datafile.path\n",
    "datafile.entities\n",
    "datafile.relpath"
   ]
  },
  {
   "cell_type": "code",
   "execution_count": null,
   "metadata": {},
   "outputs": [],
   "source": [
    "datafile.get_metadata()"
   ]
  },
  {
   "cell_type": "code",
   "execution_count": null,
   "metadata": {},
   "outputs": [],
   "source": [
    "layout_BERLIN = BIDSLayout(rawdataroot)"
   ]
  },
  {
   "cell_type": "code",
   "execution_count": null,
   "metadata": {},
   "outputs": [],
   "source": [
    "#l=layout_BERLIN.get_collections(level='subject')"
   ]
  },
  {
   "cell_type": "code",
   "execution_count": 123,
   "metadata": {},
   "outputs": [],
   "source": [
    "l=BIDSobject\n"
   ]
  },
  {
   "cell_type": "code",
   "execution_count": 124,
   "metadata": {},
   "outputs": [
    {
     "data": {
      "text/plain": [
       "{'DeviceSerialNumber': '1005190056', 'ECGChannelCount': 1, 'ECOGChannelCount': 6, 'EEGChannelCount': 2, 'EMGChannelCount': 34, 'EOGChannelCount': 0, 'ElectricalStimulation': True, 'HardwareFilters': {'Anti_AliasFilter': {'Low_Pass': {'UnipolarChannels': 1600, 'BipolarChannels': 2100, 'AuxiliaryChannels': 2100}}, 'AnalogueBandwidth': 800}, 'InstitutionAddress': 'Chariteplatz 1, 10117 Berlin, Germany', 'InstitutionName': 'Charite - Universitaetsmedizin Berlin, corporate member of Freie Universitaet Berlin and Humboldt-Universitaet zu Berlin, Department of Neurology with Experimental Neurology/BNIC, Movement Disorders and Neuromodulation Unit', 'Instructions': 'Do not move or speak and keep your eyes open.', 'Manufacturer': 'Twente Medical Systems International B.V. (TMSi)', 'ManufacturersModelName': 'Saga 64+', 'MiscChannelCount': 6, 'PowerLineFrequency': 50, 'RecordingDuration': 317.04825, 'RecordingType': 'continuous', 'SEEGChannelCount': 16, 'SamplingFrequency': 4000, 'SoftwareFilters': 'no additional filters', 'SoftwareVersions': 'TMSi Polybench - QRA for SAGA - REV1.1.0', 'TaskName': 'Rest', 'TriggerChannelCount': 0, 'acquisition': 'StimOffDopa50', 'datatype': 'ieeg', 'extension': '.vmrk', 'iEEGElectrodeGroups': 'ECOG_right: 6-contact, 1x6 dual-sided long-term monitoring Ad-Tech strip on sensorimotor cortex. DBS_left: 1x8 Medtronic SenSight Short DBS lead in left STN, DBS_right: 1x8 Medtronic SenSight Short DBS lead in right STN.', 'iEEGGround': 'Right shoulder patch', 'iEEGPlacementScheme': 'right subdural cortical strip and bilateral STN deep brain stimulation (DBS) leads.', 'iEEGReference': 'LFP_L_01_STN_MT', 'run': 1, 'session': 'EcogLfpMedOnDys01', 'subject': 'EL016', 'suffix': 'ieeg', 'task': 'Rest'}"
      ]
     },
     "execution_count": 124,
     "metadata": {},
     "output_type": "execute_result"
    }
   ],
   "source": [
    "l.entities\n",
    "\n",
    "\n",
    "\n"
   ]
  },
  {
   "cell_type": "code",
   "execution_count": 125,
   "metadata": {},
   "outputs": [
    {
     "ename": "AttributeError",
     "evalue": "BIDSFile object has no attribute named 'variables'",
     "output_type": "error",
     "traceback": [
      "\u001b[1;31m---------------------------------------------------------------------------\u001b[0m",
      "\u001b[1;31mAttributeError\u001b[0m                            Traceback (most recent call last)",
      "\u001b[1;32m<ipython-input-125-9cb888f8bc55>\u001b[0m in \u001b[0;36m<module>\u001b[1;34m\u001b[0m\n\u001b[1;32m----> 1\u001b[1;33m \u001b[0msimplevar\u001b[0m \u001b[1;33m=\u001b[0m \u001b[0ml\u001b[0m\u001b[1;33m.\u001b[0m\u001b[0mvariables\u001b[0m\u001b[1;33m[\u001b[0m\u001b[1;34m'TaskName'\u001b[0m\u001b[1;33m]\u001b[0m\u001b[1;33m\u001b[0m\u001b[1;33m\u001b[0m\u001b[0m\n\u001b[0m",
      "\u001b[1;32m~\\AppData\\Local\\Programs\\Python\\Python39\\lib\\site-packages\\bids\\layout\\models.py\u001b[0m in \u001b[0;36m__getattr__\u001b[1;34m(self, attr)\u001b[0m\n\u001b[0;32m    222\u001b[0m                           % (attr, attr))\n\u001b[0;32m    223\u001b[0m             \u001b[1;32mreturn\u001b[0m \u001b[0mself\u001b[0m\u001b[1;33m.\u001b[0m\u001b[0mentities\u001b[0m\u001b[1;33m[\u001b[0m\u001b[0mattr\u001b[0m\u001b[1;33m]\u001b[0m\u001b[1;33m\u001b[0m\u001b[1;33m\u001b[0m\u001b[0m\n\u001b[1;32m--> 224\u001b[1;33m         raise AttributeError(\"%s object has no attribute named %r\" %\n\u001b[0m\u001b[0;32m    225\u001b[0m                              (self.__class__.__name__, attr))\n\u001b[0;32m    226\u001b[0m \u001b[1;33m\u001b[0m\u001b[0m\n",
      "\u001b[1;31mAttributeError\u001b[0m: BIDSFile object has no attribute named 'variables'"
     ]
    }
   ],
   "source": [
    "simplevar = l.variables['TaskName']"
   ]
  },
  {
   "cell_type": "code",
   "execution_count": null,
   "metadata": {},
   "outputs": [],
   "source": [
    "simplevar"
   ]
  },
  {
   "cell_type": "code",
   "execution_count": null,
   "metadata": {},
   "outputs": [],
   "source": [
    "simplevar.values"
   ]
  },
  {
   "cell_type": "code",
   "execution_count": null,
   "metadata": {},
   "outputs": [],
   "source": [
    "l.name"
   ]
  },
  {
   "cell_type": "code",
   "execution_count": null,
   "metadata": {},
   "outputs": [],
   "source": [
    "l.level"
   ]
  },
  {
   "cell_type": "code",
   "execution_count": 9,
   "metadata": {},
   "outputs": [
    {
     "ename": "NameError",
     "evalue": "name 'layout_BERLIN' is not defined",
     "output_type": "error",
     "traceback": [
      "\u001b[1;31m---------------------------------------------------------------------------\u001b[0m",
      "\u001b[1;31mNameError\u001b[0m                                 Traceback (most recent call last)",
      "\u001b[1;32m<ipython-input-9-22742c5c111b>\u001b[0m in \u001b[0;36m<module>\u001b[1;34m\u001b[0m\n\u001b[1;32m----> 1\u001b[1;33m \u001b[0mlayout_BERLIN\u001b[0m\u001b[1;33m\u001b[0m\u001b[1;33m\u001b[0m\u001b[0m\n\u001b[0m",
      "\u001b[1;31mNameError\u001b[0m: name 'layout_BERLIN' is not defined"
     ]
    }
   ],
   "source": [
    "layout_BERLIN"
   ]
  },
  {
   "cell_type": "code",
   "execution_count": null,
   "metadata": {},
   "outputs": [],
   "source": [
    "layout_BERLIN.root\n",
    "Berlin_files = layout_BERLIN.files"
   ]
  },
  {
   "cell_type": "code",
   "execution_count": null,
   "metadata": {},
   "outputs": [],
   "source": [
    "Berlin_files.popitem()"
   ]
  },
  {
   "cell_type": "code",
   "execution_count": 16,
   "metadata": {},
   "outputs": [
    {
     "ename": "NameError",
     "evalue": "name 'Berlin_files' is not defined",
     "output_type": "error",
     "traceback": [
      "\u001b[1;31m---------------------------------------------------------------------------\u001b[0m",
      "\u001b[1;31mNameError\u001b[0m                                 Traceback (most recent call last)",
      "\u001b[1;32m<ipython-input-16-078ebe1f6483>\u001b[0m in \u001b[0;36m<module>\u001b[1;34m\u001b[0m\n\u001b[1;32m----> 1\u001b[1;33m \u001b[0mBIDSfile_Berlin\u001b[0m \u001b[1;33m=\u001b[0m \u001b[0mBerlin_files\u001b[0m\u001b[1;33m.\u001b[0m\u001b[0mpopitem\u001b[0m\u001b[1;33m(\u001b[0m\u001b[1;33m)\u001b[0m\u001b[1;33m[\u001b[0m\u001b[1;36m1\u001b[0m\u001b[1;33m]\u001b[0m\u001b[1;33m\u001b[0m\u001b[1;33m\u001b[0m\u001b[0m\n\u001b[0m",
      "\u001b[1;31mNameError\u001b[0m: name 'Berlin_files' is not defined"
     ]
    }
   ],
   "source": [
    "BIDSfile_Berlin = Berlin_files.popitem()[1]"
   ]
  },
  {
   "cell_type": "code",
   "execution_count": null,
   "metadata": {},
   "outputs": [],
   "source": [
    "BIDSfile_Berlin.filename\n",
    "BIDSfile_Berlin.dirname\n",
    "BIDSfile_Berlin.path\n",
    "BIDSfile_Berlin.entities\n",
    "BIDSfile_Berlin.relpath"
   ]
  },
  {
   "cell_type": "code",
   "execution_count": null,
   "metadata": {},
   "outputs": [],
   "source": [
    "#s = layout.get_subjects()\n",
    "rawdataroot=r'C:\\Users\\Jonathan\\Charité - Universitätsmedizin Berlin\\Interventional Cognitive Neuromodulation - Data\\BIDS_Berlin_ECOG_LFP\\rawdata'\n",
    "layout = BIDSLayout(rawdataroot)\n",
    "layout.get_collections(level='richard')\n",
    "layout.get_collections(level='subject')\n",
    "layout.get_collections(level='session')\n",
    "layout.get_collections(level='run')\n"
   ]
  },
  {
   "cell_type": "code",
   "execution_count": null,
   "metadata": {},
   "outputs": [],
   "source": [
    "layout.connection_manager\n",
    "\n",
    "layout.BIDS"
   ]
  },
  {
   "cell_type": "code",
   "execution_count": null,
   "metadata": {},
   "outputs": [],
   "source": [
    "layout"
   ]
  },
  {
   "cell_type": "code",
   "execution_count": null,
   "metadata": {},
   "outputs": [],
   "source": [
    "mne_bids.print_dir_tree(rawdataroot)"
   ]
  },
  {
   "cell_type": "code",
   "execution_count": null,
   "metadata": {},
   "outputs": [],
   "source": [
    "for folder in mne_bids.print_dir_tree(rawdataroot)\n",
    "    widgets.Checkbox(\n",
    "        value=False,\n",
    "        description=folder,\n",
    "        disabled=False,\n",
    "        indent=False\n",
    "    )"
   ]
  },
  {
   "cell_type": "code",
   "execution_count": null,
   "metadata": {},
   "outputs": [],
   "source": [
    "m = mne_bids.print_dir_tree(rawdataroot)"
   ]
  },
  {
   "cell_type": "code",
   "execution_count": null,
   "metadata": {},
   "outputs": [],
   "source": [
    "from bids.tests import get_test_data_path\n",
    "layout = BIDSLayout(join(get_test_data_path(), 'synthetic'))"
   ]
  },
  {
   "cell_type": "code",
   "execution_count": null,
   "metadata": {},
   "outputs": [],
   "source": [
    "layout.get_subjects()"
   ]
  },
  {
   "cell_type": "code",
   "execution_count": 144,
   "metadata": {},
   "outputs": [
    {
     "ename": "NotImplementedError",
     "evalue": "'Dict' nodes are not implemented",
     "output_type": "error",
     "traceback": [
      "\u001b[1;31m---------------------------------------------------------------------------\u001b[0m",
      "\u001b[1;31mNotImplementedError\u001b[0m                       Traceback (most recent call last)",
      "\u001b[1;32m<ipython-input-144-aa5ae42fa748>\u001b[0m in \u001b[0;36m<module>\u001b[1;34m\u001b[0m\n\u001b[1;32m----> 1\u001b[1;33m \u001b[0ml\u001b[0m \u001b[1;33m=\u001b[0m \u001b[0mlayout\u001b[0m\u001b[1;33m.\u001b[0m\u001b[0mget_collections\u001b[0m\u001b[1;33m(\u001b[0m\u001b[0mlevel\u001b[0m\u001b[1;33m=\u001b[0m\u001b[1;34m'session'\u001b[0m\u001b[1;33m)\u001b[0m\u001b[1;33m\u001b[0m\u001b[1;33m\u001b[0m\u001b[0m\n\u001b[0m",
      "\u001b[1;32m~\\AppData\\Local\\Programs\\Python\\Python39\\lib\\site-packages\\bids\\layout\\layout.py\u001b[0m in \u001b[0;36mget_collections\u001b[1;34m(self, level, types, variables, merge, sampling_rate, skip_empty, **kwargs)\u001b[0m\n\u001b[0;32m    858\u001b[0m         \"\"\"\n\u001b[0;32m    859\u001b[0m         \u001b[1;32mfrom\u001b[0m \u001b[0mbids\u001b[0m\u001b[1;33m.\u001b[0m\u001b[0mvariables\u001b[0m \u001b[1;32mimport\u001b[0m \u001b[0mload_variables\u001b[0m\u001b[1;33m\u001b[0m\u001b[1;33m\u001b[0m\u001b[0m\n\u001b[1;32m--> 860\u001b[1;33m         index = load_variables(self, types=types, levels=level,\n\u001b[0m\u001b[0;32m    861\u001b[0m                                skip_empty=skip_empty, **kwargs)\n\u001b[0;32m    862\u001b[0m         return index.get_collections(level, variables, merge,\n",
      "\u001b[1;32m~\\AppData\\Local\\Programs\\Python\\Python39\\lib\\site-packages\\bids\\variables\\io.py\u001b[0m in \u001b[0;36mload_variables\u001b[1;34m(layout, types, levels, skip_empty, dataset, scope, regex_search, **kwargs)\u001b[0m\n\u001b[0;32m     95\u001b[0m     \u001b[1;32mfor\u001b[0m \u001b[0mt\u001b[0m \u001b[1;32min\u001b[0m \u001b[1;33m(\u001b[0m\u001b[1;33m{\u001b[0m\u001b[1;34m'scans'\u001b[0m\u001b[1;33m,\u001b[0m \u001b[1;34m'sessions'\u001b[0m\u001b[1;33m,\u001b[0m \u001b[1;34m'participants'\u001b[0m\u001b[1;33m}\u001b[0m \u001b[1;33m&\u001b[0m \u001b[0mset\u001b[0m\u001b[1;33m(\u001b[0m\u001b[0mtypes\u001b[0m\u001b[1;33m)\u001b[0m\u001b[1;33m)\u001b[0m\u001b[1;33m:\u001b[0m\u001b[1;33m\u001b[0m\u001b[1;33m\u001b[0m\u001b[0m\n\u001b[0;32m     96\u001b[0m         \u001b[0mkwargs\u001b[0m\u001b[1;33m.\u001b[0m\u001b[0mpop\u001b[0m\u001b[1;33m(\u001b[0m\u001b[1;34m'suffix'\u001b[0m\u001b[1;33m,\u001b[0m \u001b[1;32mNone\u001b[0m\u001b[1;33m)\u001b[0m \u001b[1;31m# suffix is always one of values above\u001b[0m\u001b[1;33m\u001b[0m\u001b[1;33m\u001b[0m\u001b[0m\n\u001b[1;32m---> 97\u001b[1;33m         dataset = _load_tsv_variables(layout, t, dataset, scope=scope,\n\u001b[0m\u001b[0;32m     98\u001b[0m                                       regex_search=regex_search, **kwargs)\n\u001b[0;32m     99\u001b[0m \u001b[1;33m\u001b[0m\u001b[0m\n",
      "\u001b[1;32m~\\AppData\\Local\\Programs\\Python\\Python39\\lib\\site-packages\\bids\\variables\\io.py\u001b[0m in \u001b[0;36m_load_tsv_variables\u001b[1;34m(layout, suffix, dataset, columns, prepend_type, scope, regex_search, **selectors)\u001b[0m\n\u001b[0;32m    498\u001b[0m                  'participants': 'dataset'}[suffix]\n\u001b[0;32m    499\u001b[0m \u001b[1;33m\u001b[0m\u001b[0m\n\u001b[1;32m--> 500\u001b[1;33m         \u001b[0mnode\u001b[0m \u001b[1;33m=\u001b[0m \u001b[0mdataset\u001b[0m\u001b[1;33m.\u001b[0m\u001b[0mget_or_create_node\u001b[0m\u001b[1;33m(\u001b[0m\u001b[0mlevel\u001b[0m\u001b[1;33m,\u001b[0m \u001b[0mf\u001b[0m\u001b[1;33m.\u001b[0m\u001b[0mentities\u001b[0m\u001b[1;33m)\u001b[0m\u001b[1;33m\u001b[0m\u001b[1;33m\u001b[0m\u001b[0m\n\u001b[0m\u001b[0;32m    501\u001b[0m \u001b[1;33m\u001b[0m\u001b[0m\n\u001b[0;32m    502\u001b[0m         \u001b[0ment_cols\u001b[0m \u001b[1;33m=\u001b[0m \u001b[0mlist\u001b[0m\u001b[1;33m(\u001b[0m\u001b[0mset\u001b[0m\u001b[1;33m(\u001b[0m\u001b[0mALL_ENTITIES\u001b[0m\u001b[1;33m)\u001b[0m \u001b[1;33m&\u001b[0m \u001b[0mset\u001b[0m\u001b[1;33m(\u001b[0m\u001b[0m_data\u001b[0m\u001b[1;33m.\u001b[0m\u001b[0mcolumns\u001b[0m\u001b[1;33m)\u001b[0m\u001b[1;33m)\u001b[0m\u001b[1;33m\u001b[0m\u001b[1;33m\u001b[0m\u001b[0m\n",
      "\u001b[1;32m~\\AppData\\Local\\Programs\\Python\\Python39\\lib\\site-packages\\bids\\variables\\entities.py\u001b[0m in \u001b[0;36mget_or_create_node\u001b[1;34m(self, level, entities, *args, **kwargs)\u001b[0m\n\u001b[0;32m    282\u001b[0m         \"\"\"\n\u001b[0;32m    283\u001b[0m \u001b[1;33m\u001b[0m\u001b[0m\n\u001b[1;32m--> 284\u001b[1;33m         \u001b[0mresult\u001b[0m \u001b[1;33m=\u001b[0m \u001b[0mself\u001b[0m\u001b[1;33m.\u001b[0m\u001b[0mget_nodes\u001b[0m\u001b[1;33m(\u001b[0m\u001b[0mlevel\u001b[0m\u001b[1;33m,\u001b[0m \u001b[0mentities\u001b[0m\u001b[1;33m)\u001b[0m\u001b[1;33m\u001b[0m\u001b[1;33m\u001b[0m\u001b[0m\n\u001b[0m\u001b[0;32m    285\u001b[0m \u001b[1;33m\u001b[0m\u001b[0m\n\u001b[0;32m    286\u001b[0m         \u001b[1;32mif\u001b[0m \u001b[0mresult\u001b[0m\u001b[1;33m:\u001b[0m\u001b[1;33m\u001b[0m\u001b[1;33m\u001b[0m\u001b[0m\n",
      "\u001b[1;32m~\\AppData\\Local\\Programs\\Python\\Python39\\lib\\site-packages\\bids\\variables\\entities.py\u001b[0m in \u001b[0;36mget_nodes\u001b[1;34m(self, level, entities, strict)\u001b[0m\n\u001b[0;32m    214\u001b[0m         \u001b[0mquery\u001b[0m \u001b[1;33m=\u001b[0m \u001b[1;34m' and '\u001b[0m\u001b[1;33m.\u001b[0m\u001b[0mjoin\u001b[0m\u001b[1;33m(\u001b[0m\u001b[0mquery\u001b[0m\u001b[1;33m)\u001b[0m\u001b[1;33m\u001b[0m\u001b[1;33m\u001b[0m\u001b[0m\n\u001b[0;32m    215\u001b[0m \u001b[1;33m\u001b[0m\u001b[0m\n\u001b[1;32m--> 216\u001b[1;33m         \u001b[0mrows\u001b[0m \u001b[1;33m=\u001b[0m \u001b[0mself\u001b[0m\u001b[1;33m.\u001b[0m\u001b[0mindex\u001b[0m\u001b[1;33m.\u001b[0m\u001b[0mquery\u001b[0m\u001b[1;33m(\u001b[0m\u001b[0mquery\u001b[0m\u001b[1;33m)\u001b[0m\u001b[1;33m\u001b[0m\u001b[1;33m\u001b[0m\u001b[0m\n\u001b[0m\u001b[0;32m    217\u001b[0m         \u001b[1;32mif\u001b[0m \u001b[0mrows\u001b[0m\u001b[1;33m.\u001b[0m\u001b[0mempty\u001b[0m\u001b[1;33m:\u001b[0m\u001b[1;33m\u001b[0m\u001b[1;33m\u001b[0m\u001b[0m\n\u001b[0;32m    218\u001b[0m             \u001b[1;32mreturn\u001b[0m \u001b[1;33m[\u001b[0m\u001b[1;33m]\u001b[0m\u001b[1;33m\u001b[0m\u001b[1;33m\u001b[0m\u001b[0m\n",
      "\u001b[1;32mc:\\Users\\Jonathan\\Documents\\VSCODE\\.venv\\lib\\site-packages\\pandas\\core\\frame.py\u001b[0m in \u001b[0;36mquery\u001b[1;34m(self, expr, inplace, **kwargs)\u001b[0m\n\u001b[0;32m   3343\u001b[0m         \u001b[0mkwargs\u001b[0m\u001b[1;33m[\u001b[0m\u001b[1;34m\"level\"\u001b[0m\u001b[1;33m]\u001b[0m \u001b[1;33m=\u001b[0m \u001b[0mkwargs\u001b[0m\u001b[1;33m.\u001b[0m\u001b[0mpop\u001b[0m\u001b[1;33m(\u001b[0m\u001b[1;34m\"level\"\u001b[0m\u001b[1;33m,\u001b[0m \u001b[1;36m0\u001b[0m\u001b[1;33m)\u001b[0m \u001b[1;33m+\u001b[0m \u001b[1;36m1\u001b[0m\u001b[1;33m\u001b[0m\u001b[1;33m\u001b[0m\u001b[0m\n\u001b[0;32m   3344\u001b[0m         \u001b[0mkwargs\u001b[0m\u001b[1;33m[\u001b[0m\u001b[1;34m\"target\"\u001b[0m\u001b[1;33m]\u001b[0m \u001b[1;33m=\u001b[0m \u001b[1;32mNone\u001b[0m\u001b[1;33m\u001b[0m\u001b[1;33m\u001b[0m\u001b[0m\n\u001b[1;32m-> 3345\u001b[1;33m         \u001b[0mres\u001b[0m \u001b[1;33m=\u001b[0m \u001b[0mself\u001b[0m\u001b[1;33m.\u001b[0m\u001b[0meval\u001b[0m\u001b[1;33m(\u001b[0m\u001b[0mexpr\u001b[0m\u001b[1;33m,\u001b[0m \u001b[1;33m**\u001b[0m\u001b[0mkwargs\u001b[0m\u001b[1;33m)\u001b[0m\u001b[1;33m\u001b[0m\u001b[1;33m\u001b[0m\u001b[0m\n\u001b[0m\u001b[0;32m   3346\u001b[0m \u001b[1;33m\u001b[0m\u001b[0m\n\u001b[0;32m   3347\u001b[0m         \u001b[1;32mtry\u001b[0m\u001b[1;33m:\u001b[0m\u001b[1;33m\u001b[0m\u001b[1;33m\u001b[0m\u001b[0m\n",
      "\u001b[1;32mc:\\Users\\Jonathan\\Documents\\VSCODE\\.venv\\lib\\site-packages\\pandas\\core\\frame.py\u001b[0m in \u001b[0;36meval\u001b[1;34m(self, expr, inplace, **kwargs)\u001b[0m\n\u001b[0;32m   3473\u001b[0m         \u001b[0mkwargs\u001b[0m\u001b[1;33m[\u001b[0m\u001b[1;34m\"resolvers\"\u001b[0m\u001b[1;33m]\u001b[0m \u001b[1;33m=\u001b[0m \u001b[0mkwargs\u001b[0m\u001b[1;33m.\u001b[0m\u001b[0mget\u001b[0m\u001b[1;33m(\u001b[0m\u001b[1;34m\"resolvers\"\u001b[0m\u001b[1;33m,\u001b[0m \u001b[1;33m(\u001b[0m\u001b[1;33m)\u001b[0m\u001b[1;33m)\u001b[0m \u001b[1;33m+\u001b[0m \u001b[0mtuple\u001b[0m\u001b[1;33m(\u001b[0m\u001b[0mresolvers\u001b[0m\u001b[1;33m)\u001b[0m\u001b[1;33m\u001b[0m\u001b[1;33m\u001b[0m\u001b[0m\n\u001b[0;32m   3474\u001b[0m \u001b[1;33m\u001b[0m\u001b[0m\n\u001b[1;32m-> 3475\u001b[1;33m         \u001b[1;32mreturn\u001b[0m \u001b[0m_eval\u001b[0m\u001b[1;33m(\u001b[0m\u001b[0mexpr\u001b[0m\u001b[1;33m,\u001b[0m \u001b[0minplace\u001b[0m\u001b[1;33m=\u001b[0m\u001b[0minplace\u001b[0m\u001b[1;33m,\u001b[0m \u001b[1;33m**\u001b[0m\u001b[0mkwargs\u001b[0m\u001b[1;33m)\u001b[0m\u001b[1;33m\u001b[0m\u001b[1;33m\u001b[0m\u001b[0m\n\u001b[0m\u001b[0;32m   3476\u001b[0m \u001b[1;33m\u001b[0m\u001b[0m\n\u001b[0;32m   3477\u001b[0m     \u001b[1;32mdef\u001b[0m \u001b[0mselect_dtypes\u001b[0m\u001b[1;33m(\u001b[0m\u001b[0mself\u001b[0m\u001b[1;33m,\u001b[0m \u001b[0minclude\u001b[0m\u001b[1;33m=\u001b[0m\u001b[1;32mNone\u001b[0m\u001b[1;33m,\u001b[0m \u001b[0mexclude\u001b[0m\u001b[1;33m=\u001b[0m\u001b[1;32mNone\u001b[0m\u001b[1;33m)\u001b[0m \u001b[1;33m->\u001b[0m \u001b[1;34m\"DataFrame\"\u001b[0m\u001b[1;33m:\u001b[0m\u001b[1;33m\u001b[0m\u001b[1;33m\u001b[0m\u001b[0m\n",
      "\u001b[1;32mc:\\Users\\Jonathan\\Documents\\VSCODE\\.venv\\lib\\site-packages\\pandas\\core\\computation\\eval.py\u001b[0m in \u001b[0;36meval\u001b[1;34m(expr, parser, engine, truediv, local_dict, global_dict, resolvers, level, target, inplace)\u001b[0m\n\u001b[0;32m    339\u001b[0m         )\n\u001b[0;32m    340\u001b[0m \u001b[1;33m\u001b[0m\u001b[0m\n\u001b[1;32m--> 341\u001b[1;33m         \u001b[0mparsed_expr\u001b[0m \u001b[1;33m=\u001b[0m \u001b[0mExpr\u001b[0m\u001b[1;33m(\u001b[0m\u001b[0mexpr\u001b[0m\u001b[1;33m,\u001b[0m \u001b[0mengine\u001b[0m\u001b[1;33m=\u001b[0m\u001b[0mengine\u001b[0m\u001b[1;33m,\u001b[0m \u001b[0mparser\u001b[0m\u001b[1;33m=\u001b[0m\u001b[0mparser\u001b[0m\u001b[1;33m,\u001b[0m \u001b[0menv\u001b[0m\u001b[1;33m=\u001b[0m\u001b[0menv\u001b[0m\u001b[1;33m)\u001b[0m\u001b[1;33m\u001b[0m\u001b[1;33m\u001b[0m\u001b[0m\n\u001b[0m\u001b[0;32m    342\u001b[0m \u001b[1;33m\u001b[0m\u001b[0m\n\u001b[0;32m    343\u001b[0m         \u001b[1;31m# construct the engine and evaluate the parsed expression\u001b[0m\u001b[1;33m\u001b[0m\u001b[1;33m\u001b[0m\u001b[1;33m\u001b[0m\u001b[0m\n",
      "\u001b[1;32mc:\\Users\\Jonathan\\Documents\\VSCODE\\.venv\\lib\\site-packages\\pandas\\core\\computation\\expr.py\u001b[0m in \u001b[0;36m__init__\u001b[1;34m(self, expr, engine, parser, env, level)\u001b[0m\n\u001b[0;32m    785\u001b[0m         \u001b[0mself\u001b[0m\u001b[1;33m.\u001b[0m\u001b[0mparser\u001b[0m \u001b[1;33m=\u001b[0m \u001b[0mparser\u001b[0m\u001b[1;33m\u001b[0m\u001b[1;33m\u001b[0m\u001b[0m\n\u001b[0;32m    786\u001b[0m         \u001b[0mself\u001b[0m\u001b[1;33m.\u001b[0m\u001b[0m_visitor\u001b[0m \u001b[1;33m=\u001b[0m \u001b[0m_parsers\u001b[0m\u001b[1;33m[\u001b[0m\u001b[0mparser\u001b[0m\u001b[1;33m]\u001b[0m\u001b[1;33m(\u001b[0m\u001b[0mself\u001b[0m\u001b[1;33m.\u001b[0m\u001b[0menv\u001b[0m\u001b[1;33m,\u001b[0m \u001b[0mself\u001b[0m\u001b[1;33m.\u001b[0m\u001b[0mengine\u001b[0m\u001b[1;33m,\u001b[0m \u001b[0mself\u001b[0m\u001b[1;33m.\u001b[0m\u001b[0mparser\u001b[0m\u001b[1;33m)\u001b[0m\u001b[1;33m\u001b[0m\u001b[1;33m\u001b[0m\u001b[0m\n\u001b[1;32m--> 787\u001b[1;33m         \u001b[0mself\u001b[0m\u001b[1;33m.\u001b[0m\u001b[0mterms\u001b[0m \u001b[1;33m=\u001b[0m \u001b[0mself\u001b[0m\u001b[1;33m.\u001b[0m\u001b[0mparse\u001b[0m\u001b[1;33m(\u001b[0m\u001b[1;33m)\u001b[0m\u001b[1;33m\u001b[0m\u001b[1;33m\u001b[0m\u001b[0m\n\u001b[0m\u001b[0;32m    788\u001b[0m \u001b[1;33m\u001b[0m\u001b[0m\n\u001b[0;32m    789\u001b[0m     \u001b[1;33m@\u001b[0m\u001b[0mproperty\u001b[0m\u001b[1;33m\u001b[0m\u001b[1;33m\u001b[0m\u001b[0m\n",
      "\u001b[1;32mc:\\Users\\Jonathan\\Documents\\VSCODE\\.venv\\lib\\site-packages\\pandas\\core\\computation\\expr.py\u001b[0m in \u001b[0;36mparse\u001b[1;34m(self)\u001b[0m\n\u001b[0;32m    804\u001b[0m         \u001b[0mParse\u001b[0m \u001b[0man\u001b[0m \u001b[0mexpression\u001b[0m\u001b[1;33m.\u001b[0m\u001b[1;33m\u001b[0m\u001b[1;33m\u001b[0m\u001b[0m\n\u001b[0;32m    805\u001b[0m         \"\"\"\n\u001b[1;32m--> 806\u001b[1;33m         \u001b[1;32mreturn\u001b[0m \u001b[0mself\u001b[0m\u001b[1;33m.\u001b[0m\u001b[0m_visitor\u001b[0m\u001b[1;33m.\u001b[0m\u001b[0mvisit\u001b[0m\u001b[1;33m(\u001b[0m\u001b[0mself\u001b[0m\u001b[1;33m.\u001b[0m\u001b[0mexpr\u001b[0m\u001b[1;33m)\u001b[0m\u001b[1;33m\u001b[0m\u001b[1;33m\u001b[0m\u001b[0m\n\u001b[0m\u001b[0;32m    807\u001b[0m \u001b[1;33m\u001b[0m\u001b[0m\n\u001b[0;32m    808\u001b[0m     \u001b[1;33m@\u001b[0m\u001b[0mproperty\u001b[0m\u001b[1;33m\u001b[0m\u001b[1;33m\u001b[0m\u001b[0m\n",
      "\u001b[1;32mc:\\Users\\Jonathan\\Documents\\VSCODE\\.venv\\lib\\site-packages\\pandas\\core\\computation\\expr.py\u001b[0m in \u001b[0;36mvisit\u001b[1;34m(self, node, **kwargs)\u001b[0m\n\u001b[0;32m    396\u001b[0m         \u001b[0mmethod\u001b[0m \u001b[1;33m=\u001b[0m \u001b[1;34m\"visit_\"\u001b[0m \u001b[1;33m+\u001b[0m \u001b[0mtype\u001b[0m\u001b[1;33m(\u001b[0m\u001b[0mnode\u001b[0m\u001b[1;33m)\u001b[0m\u001b[1;33m.\u001b[0m\u001b[0m__name__\u001b[0m\u001b[1;33m\u001b[0m\u001b[1;33m\u001b[0m\u001b[0m\n\u001b[0;32m    397\u001b[0m         \u001b[0mvisitor\u001b[0m \u001b[1;33m=\u001b[0m \u001b[0mgetattr\u001b[0m\u001b[1;33m(\u001b[0m\u001b[0mself\u001b[0m\u001b[1;33m,\u001b[0m \u001b[0mmethod\u001b[0m\u001b[1;33m)\u001b[0m\u001b[1;33m\u001b[0m\u001b[1;33m\u001b[0m\u001b[0m\n\u001b[1;32m--> 398\u001b[1;33m         \u001b[1;32mreturn\u001b[0m \u001b[0mvisitor\u001b[0m\u001b[1;33m(\u001b[0m\u001b[0mnode\u001b[0m\u001b[1;33m,\u001b[0m \u001b[1;33m**\u001b[0m\u001b[0mkwargs\u001b[0m\u001b[1;33m)\u001b[0m\u001b[1;33m\u001b[0m\u001b[1;33m\u001b[0m\u001b[0m\n\u001b[0m\u001b[0;32m    399\u001b[0m \u001b[1;33m\u001b[0m\u001b[0m\n\u001b[0;32m    400\u001b[0m     \u001b[1;32mdef\u001b[0m \u001b[0mvisit_Module\u001b[0m\u001b[1;33m(\u001b[0m\u001b[0mself\u001b[0m\u001b[1;33m,\u001b[0m \u001b[0mnode\u001b[0m\u001b[1;33m,\u001b[0m \u001b[1;33m**\u001b[0m\u001b[0mkwargs\u001b[0m\u001b[1;33m)\u001b[0m\u001b[1;33m:\u001b[0m\u001b[1;33m\u001b[0m\u001b[1;33m\u001b[0m\u001b[0m\n",
      "\u001b[1;32mc:\\Users\\Jonathan\\Documents\\VSCODE\\.venv\\lib\\site-packages\\pandas\\core\\computation\\expr.py\u001b[0m in \u001b[0;36mvisit_Module\u001b[1;34m(self, node, **kwargs)\u001b[0m\n\u001b[0;32m    402\u001b[0m             \u001b[1;32mraise\u001b[0m \u001b[0mSyntaxError\u001b[0m\u001b[1;33m(\u001b[0m\u001b[1;34m\"only a single expression is allowed\"\u001b[0m\u001b[1;33m)\u001b[0m\u001b[1;33m\u001b[0m\u001b[1;33m\u001b[0m\u001b[0m\n\u001b[0;32m    403\u001b[0m         \u001b[0mexpr\u001b[0m \u001b[1;33m=\u001b[0m \u001b[0mnode\u001b[0m\u001b[1;33m.\u001b[0m\u001b[0mbody\u001b[0m\u001b[1;33m[\u001b[0m\u001b[1;36m0\u001b[0m\u001b[1;33m]\u001b[0m\u001b[1;33m\u001b[0m\u001b[1;33m\u001b[0m\u001b[0m\n\u001b[1;32m--> 404\u001b[1;33m         \u001b[1;32mreturn\u001b[0m \u001b[0mself\u001b[0m\u001b[1;33m.\u001b[0m\u001b[0mvisit\u001b[0m\u001b[1;33m(\u001b[0m\u001b[0mexpr\u001b[0m\u001b[1;33m,\u001b[0m \u001b[1;33m**\u001b[0m\u001b[0mkwargs\u001b[0m\u001b[1;33m)\u001b[0m\u001b[1;33m\u001b[0m\u001b[1;33m\u001b[0m\u001b[0m\n\u001b[0m\u001b[0;32m    405\u001b[0m \u001b[1;33m\u001b[0m\u001b[0m\n\u001b[0;32m    406\u001b[0m     \u001b[1;32mdef\u001b[0m \u001b[0mvisit_Expr\u001b[0m\u001b[1;33m(\u001b[0m\u001b[0mself\u001b[0m\u001b[1;33m,\u001b[0m \u001b[0mnode\u001b[0m\u001b[1;33m,\u001b[0m \u001b[1;33m**\u001b[0m\u001b[0mkwargs\u001b[0m\u001b[1;33m)\u001b[0m\u001b[1;33m:\u001b[0m\u001b[1;33m\u001b[0m\u001b[1;33m\u001b[0m\u001b[0m\n",
      "\u001b[1;32mc:\\Users\\Jonathan\\Documents\\VSCODE\\.venv\\lib\\site-packages\\pandas\\core\\computation\\expr.py\u001b[0m in \u001b[0;36mvisit\u001b[1;34m(self, node, **kwargs)\u001b[0m\n\u001b[0;32m    396\u001b[0m         \u001b[0mmethod\u001b[0m \u001b[1;33m=\u001b[0m \u001b[1;34m\"visit_\"\u001b[0m \u001b[1;33m+\u001b[0m \u001b[0mtype\u001b[0m\u001b[1;33m(\u001b[0m\u001b[0mnode\u001b[0m\u001b[1;33m)\u001b[0m\u001b[1;33m.\u001b[0m\u001b[0m__name__\u001b[0m\u001b[1;33m\u001b[0m\u001b[1;33m\u001b[0m\u001b[0m\n\u001b[0;32m    397\u001b[0m         \u001b[0mvisitor\u001b[0m \u001b[1;33m=\u001b[0m \u001b[0mgetattr\u001b[0m\u001b[1;33m(\u001b[0m\u001b[0mself\u001b[0m\u001b[1;33m,\u001b[0m \u001b[0mmethod\u001b[0m\u001b[1;33m)\u001b[0m\u001b[1;33m\u001b[0m\u001b[1;33m\u001b[0m\u001b[0m\n\u001b[1;32m--> 398\u001b[1;33m         \u001b[1;32mreturn\u001b[0m \u001b[0mvisitor\u001b[0m\u001b[1;33m(\u001b[0m\u001b[0mnode\u001b[0m\u001b[1;33m,\u001b[0m \u001b[1;33m**\u001b[0m\u001b[0mkwargs\u001b[0m\u001b[1;33m)\u001b[0m\u001b[1;33m\u001b[0m\u001b[1;33m\u001b[0m\u001b[0m\n\u001b[0m\u001b[0;32m    399\u001b[0m \u001b[1;33m\u001b[0m\u001b[0m\n\u001b[0;32m    400\u001b[0m     \u001b[1;32mdef\u001b[0m \u001b[0mvisit_Module\u001b[0m\u001b[1;33m(\u001b[0m\u001b[0mself\u001b[0m\u001b[1;33m,\u001b[0m \u001b[0mnode\u001b[0m\u001b[1;33m,\u001b[0m \u001b[1;33m**\u001b[0m\u001b[0mkwargs\u001b[0m\u001b[1;33m)\u001b[0m\u001b[1;33m:\u001b[0m\u001b[1;33m\u001b[0m\u001b[1;33m\u001b[0m\u001b[0m\n",
      "\u001b[1;32mc:\\Users\\Jonathan\\Documents\\VSCODE\\.venv\\lib\\site-packages\\pandas\\core\\computation\\expr.py\u001b[0m in \u001b[0;36mvisit_Expr\u001b[1;34m(self, node, **kwargs)\u001b[0m\n\u001b[0;32m    405\u001b[0m \u001b[1;33m\u001b[0m\u001b[0m\n\u001b[0;32m    406\u001b[0m     \u001b[1;32mdef\u001b[0m \u001b[0mvisit_Expr\u001b[0m\u001b[1;33m(\u001b[0m\u001b[0mself\u001b[0m\u001b[1;33m,\u001b[0m \u001b[0mnode\u001b[0m\u001b[1;33m,\u001b[0m \u001b[1;33m**\u001b[0m\u001b[0mkwargs\u001b[0m\u001b[1;33m)\u001b[0m\u001b[1;33m:\u001b[0m\u001b[1;33m\u001b[0m\u001b[1;33m\u001b[0m\u001b[0m\n\u001b[1;32m--> 407\u001b[1;33m         \u001b[1;32mreturn\u001b[0m \u001b[0mself\u001b[0m\u001b[1;33m.\u001b[0m\u001b[0mvisit\u001b[0m\u001b[1;33m(\u001b[0m\u001b[0mnode\u001b[0m\u001b[1;33m.\u001b[0m\u001b[0mvalue\u001b[0m\u001b[1;33m,\u001b[0m \u001b[1;33m**\u001b[0m\u001b[0mkwargs\u001b[0m\u001b[1;33m)\u001b[0m\u001b[1;33m\u001b[0m\u001b[1;33m\u001b[0m\u001b[0m\n\u001b[0m\u001b[0;32m    408\u001b[0m \u001b[1;33m\u001b[0m\u001b[0m\n\u001b[0;32m    409\u001b[0m     \u001b[1;32mdef\u001b[0m \u001b[0m_rewrite_membership_op\u001b[0m\u001b[1;33m(\u001b[0m\u001b[0mself\u001b[0m\u001b[1;33m,\u001b[0m \u001b[0mnode\u001b[0m\u001b[1;33m,\u001b[0m \u001b[0mleft\u001b[0m\u001b[1;33m,\u001b[0m \u001b[0mright\u001b[0m\u001b[1;33m)\u001b[0m\u001b[1;33m:\u001b[0m\u001b[1;33m\u001b[0m\u001b[1;33m\u001b[0m\u001b[0m\n",
      "\u001b[1;32mc:\\Users\\Jonathan\\Documents\\VSCODE\\.venv\\lib\\site-packages\\pandas\\core\\computation\\expr.py\u001b[0m in \u001b[0;36mvisit\u001b[1;34m(self, node, **kwargs)\u001b[0m\n\u001b[0;32m    396\u001b[0m         \u001b[0mmethod\u001b[0m \u001b[1;33m=\u001b[0m \u001b[1;34m\"visit_\"\u001b[0m \u001b[1;33m+\u001b[0m \u001b[0mtype\u001b[0m\u001b[1;33m(\u001b[0m\u001b[0mnode\u001b[0m\u001b[1;33m)\u001b[0m\u001b[1;33m.\u001b[0m\u001b[0m__name__\u001b[0m\u001b[1;33m\u001b[0m\u001b[1;33m\u001b[0m\u001b[0m\n\u001b[0;32m    397\u001b[0m         \u001b[0mvisitor\u001b[0m \u001b[1;33m=\u001b[0m \u001b[0mgetattr\u001b[0m\u001b[1;33m(\u001b[0m\u001b[0mself\u001b[0m\u001b[1;33m,\u001b[0m \u001b[0mmethod\u001b[0m\u001b[1;33m)\u001b[0m\u001b[1;33m\u001b[0m\u001b[1;33m\u001b[0m\u001b[0m\n\u001b[1;32m--> 398\u001b[1;33m         \u001b[1;32mreturn\u001b[0m \u001b[0mvisitor\u001b[0m\u001b[1;33m(\u001b[0m\u001b[0mnode\u001b[0m\u001b[1;33m,\u001b[0m \u001b[1;33m**\u001b[0m\u001b[0mkwargs\u001b[0m\u001b[1;33m)\u001b[0m\u001b[1;33m\u001b[0m\u001b[1;33m\u001b[0m\u001b[0m\n\u001b[0m\u001b[0;32m    399\u001b[0m \u001b[1;33m\u001b[0m\u001b[0m\n\u001b[0;32m    400\u001b[0m     \u001b[1;32mdef\u001b[0m \u001b[0mvisit_Module\u001b[0m\u001b[1;33m(\u001b[0m\u001b[0mself\u001b[0m\u001b[1;33m,\u001b[0m \u001b[0mnode\u001b[0m\u001b[1;33m,\u001b[0m \u001b[1;33m**\u001b[0m\u001b[0mkwargs\u001b[0m\u001b[1;33m)\u001b[0m\u001b[1;33m:\u001b[0m\u001b[1;33m\u001b[0m\u001b[1;33m\u001b[0m\u001b[0m\n",
      "\u001b[1;32mc:\\Users\\Jonathan\\Documents\\VSCODE\\.venv\\lib\\site-packages\\pandas\\core\\computation\\expr.py\u001b[0m in \u001b[0;36mvisit_BoolOp\u001b[1;34m(self, node, **kwargs)\u001b[0m\n\u001b[0;32m    724\u001b[0m \u001b[1;33m\u001b[0m\u001b[0m\n\u001b[0;32m    725\u001b[0m         \u001b[0moperands\u001b[0m \u001b[1;33m=\u001b[0m \u001b[0mnode\u001b[0m\u001b[1;33m.\u001b[0m\u001b[0mvalues\u001b[0m\u001b[1;33m\u001b[0m\u001b[1;33m\u001b[0m\u001b[0m\n\u001b[1;32m--> 726\u001b[1;33m         \u001b[1;32mreturn\u001b[0m \u001b[0mreduce\u001b[0m\u001b[1;33m(\u001b[0m\u001b[0mvisitor\u001b[0m\u001b[1;33m,\u001b[0m \u001b[0moperands\u001b[0m\u001b[1;33m)\u001b[0m\u001b[1;33m\u001b[0m\u001b[1;33m\u001b[0m\u001b[0m\n\u001b[0m\u001b[0;32m    727\u001b[0m \u001b[1;33m\u001b[0m\u001b[0m\n\u001b[0;32m    728\u001b[0m \u001b[1;33m\u001b[0m\u001b[0m\n",
      "\u001b[1;32mc:\\Users\\Jonathan\\Documents\\VSCODE\\.venv\\lib\\site-packages\\pandas\\core\\computation\\expr.py\u001b[0m in \u001b[0;36mvisitor\u001b[1;34m(x, y)\u001b[0m\n\u001b[0;32m    718\u001b[0m         \u001b[1;32mdef\u001b[0m \u001b[0mvisitor\u001b[0m\u001b[1;33m(\u001b[0m\u001b[0mx\u001b[0m\u001b[1;33m,\u001b[0m \u001b[0my\u001b[0m\u001b[1;33m)\u001b[0m\u001b[1;33m:\u001b[0m\u001b[1;33m\u001b[0m\u001b[1;33m\u001b[0m\u001b[0m\n\u001b[0;32m    719\u001b[0m             \u001b[0mlhs\u001b[0m \u001b[1;33m=\u001b[0m \u001b[0mself\u001b[0m\u001b[1;33m.\u001b[0m\u001b[0m_try_visit_binop\u001b[0m\u001b[1;33m(\u001b[0m\u001b[0mx\u001b[0m\u001b[1;33m)\u001b[0m\u001b[1;33m\u001b[0m\u001b[1;33m\u001b[0m\u001b[0m\n\u001b[1;32m--> 720\u001b[1;33m             \u001b[0mrhs\u001b[0m \u001b[1;33m=\u001b[0m \u001b[0mself\u001b[0m\u001b[1;33m.\u001b[0m\u001b[0m_try_visit_binop\u001b[0m\u001b[1;33m(\u001b[0m\u001b[0my\u001b[0m\u001b[1;33m)\u001b[0m\u001b[1;33m\u001b[0m\u001b[1;33m\u001b[0m\u001b[0m\n\u001b[0m\u001b[0;32m    721\u001b[0m \u001b[1;33m\u001b[0m\u001b[0m\n\u001b[0;32m    722\u001b[0m             \u001b[0mop\u001b[0m\u001b[1;33m,\u001b[0m \u001b[0mop_class\u001b[0m\u001b[1;33m,\u001b[0m \u001b[0mlhs\u001b[0m\u001b[1;33m,\u001b[0m \u001b[0mrhs\u001b[0m \u001b[1;33m=\u001b[0m \u001b[0mself\u001b[0m\u001b[1;33m.\u001b[0m\u001b[0m_maybe_transform_eq_ne\u001b[0m\u001b[1;33m(\u001b[0m\u001b[0mnode\u001b[0m\u001b[1;33m,\u001b[0m \u001b[0mlhs\u001b[0m\u001b[1;33m,\u001b[0m \u001b[0mrhs\u001b[0m\u001b[1;33m)\u001b[0m\u001b[1;33m\u001b[0m\u001b[1;33m\u001b[0m\u001b[0m\n",
      "\u001b[1;32mc:\\Users\\Jonathan\\Documents\\VSCODE\\.venv\\lib\\site-packages\\pandas\\core\\computation\\expr.py\u001b[0m in \u001b[0;36m_try_visit_binop\u001b[1;34m(self, bop)\u001b[0m\n\u001b[0;32m    713\u001b[0m         \u001b[1;32mif\u001b[0m \u001b[0misinstance\u001b[0m\u001b[1;33m(\u001b[0m\u001b[0mbop\u001b[0m\u001b[1;33m,\u001b[0m \u001b[1;33m(\u001b[0m\u001b[0mOp\u001b[0m\u001b[1;33m,\u001b[0m \u001b[0mTerm\u001b[0m\u001b[1;33m)\u001b[0m\u001b[1;33m)\u001b[0m\u001b[1;33m:\u001b[0m\u001b[1;33m\u001b[0m\u001b[1;33m\u001b[0m\u001b[0m\n\u001b[0;32m    714\u001b[0m             \u001b[1;32mreturn\u001b[0m \u001b[0mbop\u001b[0m\u001b[1;33m\u001b[0m\u001b[1;33m\u001b[0m\u001b[0m\n\u001b[1;32m--> 715\u001b[1;33m         \u001b[1;32mreturn\u001b[0m \u001b[0mself\u001b[0m\u001b[1;33m.\u001b[0m\u001b[0mvisit\u001b[0m\u001b[1;33m(\u001b[0m\u001b[0mbop\u001b[0m\u001b[1;33m)\u001b[0m\u001b[1;33m\u001b[0m\u001b[1;33m\u001b[0m\u001b[0m\n\u001b[0m\u001b[0;32m    716\u001b[0m \u001b[1;33m\u001b[0m\u001b[0m\n\u001b[0;32m    717\u001b[0m     \u001b[1;32mdef\u001b[0m \u001b[0mvisit_BoolOp\u001b[0m\u001b[1;33m(\u001b[0m\u001b[0mself\u001b[0m\u001b[1;33m,\u001b[0m \u001b[0mnode\u001b[0m\u001b[1;33m,\u001b[0m \u001b[1;33m**\u001b[0m\u001b[0mkwargs\u001b[0m\u001b[1;33m)\u001b[0m\u001b[1;33m:\u001b[0m\u001b[1;33m\u001b[0m\u001b[1;33m\u001b[0m\u001b[0m\n",
      "\u001b[1;32mc:\\Users\\Jonathan\\Documents\\VSCODE\\.venv\\lib\\site-packages\\pandas\\core\\computation\\expr.py\u001b[0m in \u001b[0;36mvisit\u001b[1;34m(self, node, **kwargs)\u001b[0m\n\u001b[0;32m    396\u001b[0m         \u001b[0mmethod\u001b[0m \u001b[1;33m=\u001b[0m \u001b[1;34m\"visit_\"\u001b[0m \u001b[1;33m+\u001b[0m \u001b[0mtype\u001b[0m\u001b[1;33m(\u001b[0m\u001b[0mnode\u001b[0m\u001b[1;33m)\u001b[0m\u001b[1;33m.\u001b[0m\u001b[0m__name__\u001b[0m\u001b[1;33m\u001b[0m\u001b[1;33m\u001b[0m\u001b[0m\n\u001b[0;32m    397\u001b[0m         \u001b[0mvisitor\u001b[0m \u001b[1;33m=\u001b[0m \u001b[0mgetattr\u001b[0m\u001b[1;33m(\u001b[0m\u001b[0mself\u001b[0m\u001b[1;33m,\u001b[0m \u001b[0mmethod\u001b[0m\u001b[1;33m)\u001b[0m\u001b[1;33m\u001b[0m\u001b[1;33m\u001b[0m\u001b[0m\n\u001b[1;32m--> 398\u001b[1;33m         \u001b[1;32mreturn\u001b[0m \u001b[0mvisitor\u001b[0m\u001b[1;33m(\u001b[0m\u001b[0mnode\u001b[0m\u001b[1;33m,\u001b[0m \u001b[1;33m**\u001b[0m\u001b[0mkwargs\u001b[0m\u001b[1;33m)\u001b[0m\u001b[1;33m\u001b[0m\u001b[1;33m\u001b[0m\u001b[0m\n\u001b[0m\u001b[0;32m    399\u001b[0m \u001b[1;33m\u001b[0m\u001b[0m\n\u001b[0;32m    400\u001b[0m     \u001b[1;32mdef\u001b[0m \u001b[0mvisit_Module\u001b[0m\u001b[1;33m(\u001b[0m\u001b[0mself\u001b[0m\u001b[1;33m,\u001b[0m \u001b[0mnode\u001b[0m\u001b[1;33m,\u001b[0m \u001b[1;33m**\u001b[0m\u001b[0mkwargs\u001b[0m\u001b[1;33m)\u001b[0m\u001b[1;33m:\u001b[0m\u001b[1;33m\u001b[0m\u001b[1;33m\u001b[0m\u001b[0m\n",
      "\u001b[1;32mc:\\Users\\Jonathan\\Documents\\VSCODE\\.venv\\lib\\site-packages\\pandas\\core\\computation\\expr.py\u001b[0m in \u001b[0;36mvisit_Compare\u001b[1;34m(self, node, **kwargs)\u001b[0m\n\u001b[0;32m    697\u001b[0m             \u001b[0mop\u001b[0m \u001b[1;33m=\u001b[0m \u001b[0mself\u001b[0m\u001b[1;33m.\u001b[0m\u001b[0mtranslate_In\u001b[0m\u001b[1;33m(\u001b[0m\u001b[0mops\u001b[0m\u001b[1;33m[\u001b[0m\u001b[1;36m0\u001b[0m\u001b[1;33m]\u001b[0m\u001b[1;33m)\u001b[0m\u001b[1;33m\u001b[0m\u001b[1;33m\u001b[0m\u001b[0m\n\u001b[0;32m    698\u001b[0m             \u001b[0mbinop\u001b[0m \u001b[1;33m=\u001b[0m \u001b[0mast\u001b[0m\u001b[1;33m.\u001b[0m\u001b[0mBinOp\u001b[0m\u001b[1;33m(\u001b[0m\u001b[0mop\u001b[0m\u001b[1;33m=\u001b[0m\u001b[0mop\u001b[0m\u001b[1;33m,\u001b[0m \u001b[0mleft\u001b[0m\u001b[1;33m=\u001b[0m\u001b[0mnode\u001b[0m\u001b[1;33m.\u001b[0m\u001b[0mleft\u001b[0m\u001b[1;33m,\u001b[0m \u001b[0mright\u001b[0m\u001b[1;33m=\u001b[0m\u001b[0mcomps\u001b[0m\u001b[1;33m[\u001b[0m\u001b[1;36m0\u001b[0m\u001b[1;33m]\u001b[0m\u001b[1;33m)\u001b[0m\u001b[1;33m\u001b[0m\u001b[1;33m\u001b[0m\u001b[0m\n\u001b[1;32m--> 699\u001b[1;33m             \u001b[1;32mreturn\u001b[0m \u001b[0mself\u001b[0m\u001b[1;33m.\u001b[0m\u001b[0mvisit\u001b[0m\u001b[1;33m(\u001b[0m\u001b[0mbinop\u001b[0m\u001b[1;33m)\u001b[0m\u001b[1;33m\u001b[0m\u001b[1;33m\u001b[0m\u001b[0m\n\u001b[0m\u001b[0;32m    700\u001b[0m \u001b[1;33m\u001b[0m\u001b[0m\n\u001b[0;32m    701\u001b[0m         \u001b[1;31m# recursive case: we have a chained comparison, a CMP b CMP c, etc.\u001b[0m\u001b[1;33m\u001b[0m\u001b[1;33m\u001b[0m\u001b[1;33m\u001b[0m\u001b[0m\n",
      "\u001b[1;32mc:\\Users\\Jonathan\\Documents\\VSCODE\\.venv\\lib\\site-packages\\pandas\\core\\computation\\expr.py\u001b[0m in \u001b[0;36mvisit\u001b[1;34m(self, node, **kwargs)\u001b[0m\n\u001b[0;32m    396\u001b[0m         \u001b[0mmethod\u001b[0m \u001b[1;33m=\u001b[0m \u001b[1;34m\"visit_\"\u001b[0m \u001b[1;33m+\u001b[0m \u001b[0mtype\u001b[0m\u001b[1;33m(\u001b[0m\u001b[0mnode\u001b[0m\u001b[1;33m)\u001b[0m\u001b[1;33m.\u001b[0m\u001b[0m__name__\u001b[0m\u001b[1;33m\u001b[0m\u001b[1;33m\u001b[0m\u001b[0m\n\u001b[0;32m    397\u001b[0m         \u001b[0mvisitor\u001b[0m \u001b[1;33m=\u001b[0m \u001b[0mgetattr\u001b[0m\u001b[1;33m(\u001b[0m\u001b[0mself\u001b[0m\u001b[1;33m,\u001b[0m \u001b[0mmethod\u001b[0m\u001b[1;33m)\u001b[0m\u001b[1;33m\u001b[0m\u001b[1;33m\u001b[0m\u001b[0m\n\u001b[1;32m--> 398\u001b[1;33m         \u001b[1;32mreturn\u001b[0m \u001b[0mvisitor\u001b[0m\u001b[1;33m(\u001b[0m\u001b[0mnode\u001b[0m\u001b[1;33m,\u001b[0m \u001b[1;33m**\u001b[0m\u001b[0mkwargs\u001b[0m\u001b[1;33m)\u001b[0m\u001b[1;33m\u001b[0m\u001b[1;33m\u001b[0m\u001b[0m\n\u001b[0m\u001b[0;32m    399\u001b[0m \u001b[1;33m\u001b[0m\u001b[0m\n\u001b[0;32m    400\u001b[0m     \u001b[1;32mdef\u001b[0m \u001b[0mvisit_Module\u001b[0m\u001b[1;33m(\u001b[0m\u001b[0mself\u001b[0m\u001b[1;33m,\u001b[0m \u001b[0mnode\u001b[0m\u001b[1;33m,\u001b[0m \u001b[1;33m**\u001b[0m\u001b[0mkwargs\u001b[0m\u001b[1;33m)\u001b[0m\u001b[1;33m:\u001b[0m\u001b[1;33m\u001b[0m\u001b[1;33m\u001b[0m\u001b[0m\n",
      "\u001b[1;32mc:\\Users\\Jonathan\\Documents\\VSCODE\\.venv\\lib\\site-packages\\pandas\\core\\computation\\expr.py\u001b[0m in \u001b[0;36mvisit_BinOp\u001b[1;34m(self, node, **kwargs)\u001b[0m\n\u001b[0;32m    518\u001b[0m \u001b[1;33m\u001b[0m\u001b[0m\n\u001b[0;32m    519\u001b[0m     \u001b[1;32mdef\u001b[0m \u001b[0mvisit_BinOp\u001b[0m\u001b[1;33m(\u001b[0m\u001b[0mself\u001b[0m\u001b[1;33m,\u001b[0m \u001b[0mnode\u001b[0m\u001b[1;33m,\u001b[0m \u001b[1;33m**\u001b[0m\u001b[0mkwargs\u001b[0m\u001b[1;33m)\u001b[0m\u001b[1;33m:\u001b[0m\u001b[1;33m\u001b[0m\u001b[1;33m\u001b[0m\u001b[0m\n\u001b[1;32m--> 520\u001b[1;33m         \u001b[0mop\u001b[0m\u001b[1;33m,\u001b[0m \u001b[0mop_class\u001b[0m\u001b[1;33m,\u001b[0m \u001b[0mleft\u001b[0m\u001b[1;33m,\u001b[0m \u001b[0mright\u001b[0m \u001b[1;33m=\u001b[0m \u001b[0mself\u001b[0m\u001b[1;33m.\u001b[0m\u001b[0m_maybe_transform_eq_ne\u001b[0m\u001b[1;33m(\u001b[0m\u001b[0mnode\u001b[0m\u001b[1;33m)\u001b[0m\u001b[1;33m\u001b[0m\u001b[1;33m\u001b[0m\u001b[0m\n\u001b[0m\u001b[0;32m    521\u001b[0m         \u001b[0mleft\u001b[0m\u001b[1;33m,\u001b[0m \u001b[0mright\u001b[0m \u001b[1;33m=\u001b[0m \u001b[0mself\u001b[0m\u001b[1;33m.\u001b[0m\u001b[0m_maybe_downcast_constants\u001b[0m\u001b[1;33m(\u001b[0m\u001b[0mleft\u001b[0m\u001b[1;33m,\u001b[0m \u001b[0mright\u001b[0m\u001b[1;33m)\u001b[0m\u001b[1;33m\u001b[0m\u001b[1;33m\u001b[0m\u001b[0m\n\u001b[0;32m    522\u001b[0m         \u001b[1;32mreturn\u001b[0m \u001b[0mself\u001b[0m\u001b[1;33m.\u001b[0m\u001b[0m_maybe_evaluate_binop\u001b[0m\u001b[1;33m(\u001b[0m\u001b[0mop\u001b[0m\u001b[1;33m,\u001b[0m \u001b[0mop_class\u001b[0m\u001b[1;33m,\u001b[0m \u001b[0mleft\u001b[0m\u001b[1;33m,\u001b[0m \u001b[0mright\u001b[0m\u001b[1;33m)\u001b[0m\u001b[1;33m\u001b[0m\u001b[1;33m\u001b[0m\u001b[0m\n",
      "\u001b[1;32mc:\\Users\\Jonathan\\Documents\\VSCODE\\.venv\\lib\\site-packages\\pandas\\core\\computation\\expr.py\u001b[0m in \u001b[0;36m_maybe_transform_eq_ne\u001b[1;34m(self, node, left, right)\u001b[0m\n\u001b[0;32m    439\u001b[0m             \u001b[0mleft\u001b[0m \u001b[1;33m=\u001b[0m \u001b[0mself\u001b[0m\u001b[1;33m.\u001b[0m\u001b[0mvisit\u001b[0m\u001b[1;33m(\u001b[0m\u001b[0mnode\u001b[0m\u001b[1;33m.\u001b[0m\u001b[0mleft\u001b[0m\u001b[1;33m,\u001b[0m \u001b[0mside\u001b[0m\u001b[1;33m=\u001b[0m\u001b[1;34m\"left\"\u001b[0m\u001b[1;33m)\u001b[0m\u001b[1;33m\u001b[0m\u001b[1;33m\u001b[0m\u001b[0m\n\u001b[0;32m    440\u001b[0m         \u001b[1;32mif\u001b[0m \u001b[0mright\u001b[0m \u001b[1;32mis\u001b[0m \u001b[1;32mNone\u001b[0m\u001b[1;33m:\u001b[0m\u001b[1;33m\u001b[0m\u001b[1;33m\u001b[0m\u001b[0m\n\u001b[1;32m--> 441\u001b[1;33m             \u001b[0mright\u001b[0m \u001b[1;33m=\u001b[0m \u001b[0mself\u001b[0m\u001b[1;33m.\u001b[0m\u001b[0mvisit\u001b[0m\u001b[1;33m(\u001b[0m\u001b[0mnode\u001b[0m\u001b[1;33m.\u001b[0m\u001b[0mright\u001b[0m\u001b[1;33m,\u001b[0m \u001b[0mside\u001b[0m\u001b[1;33m=\u001b[0m\u001b[1;34m\"right\"\u001b[0m\u001b[1;33m)\u001b[0m\u001b[1;33m\u001b[0m\u001b[1;33m\u001b[0m\u001b[0m\n\u001b[0m\u001b[0;32m    442\u001b[0m         \u001b[0mop\u001b[0m\u001b[1;33m,\u001b[0m \u001b[0mop_class\u001b[0m\u001b[1;33m,\u001b[0m \u001b[0mleft\u001b[0m\u001b[1;33m,\u001b[0m \u001b[0mright\u001b[0m \u001b[1;33m=\u001b[0m \u001b[0mself\u001b[0m\u001b[1;33m.\u001b[0m\u001b[0m_rewrite_membership_op\u001b[0m\u001b[1;33m(\u001b[0m\u001b[0mnode\u001b[0m\u001b[1;33m,\u001b[0m \u001b[0mleft\u001b[0m\u001b[1;33m,\u001b[0m \u001b[0mright\u001b[0m\u001b[1;33m)\u001b[0m\u001b[1;33m\u001b[0m\u001b[1;33m\u001b[0m\u001b[0m\n\u001b[0;32m    443\u001b[0m         \u001b[1;32mreturn\u001b[0m \u001b[0mop\u001b[0m\u001b[1;33m,\u001b[0m \u001b[0mop_class\u001b[0m\u001b[1;33m,\u001b[0m \u001b[0mleft\u001b[0m\u001b[1;33m,\u001b[0m \u001b[0mright\u001b[0m\u001b[1;33m\u001b[0m\u001b[1;33m\u001b[0m\u001b[0m\n",
      "\u001b[1;32mc:\\Users\\Jonathan\\Documents\\VSCODE\\.venv\\lib\\site-packages\\pandas\\core\\computation\\expr.py\u001b[0m in \u001b[0;36mvisit\u001b[1;34m(self, node, **kwargs)\u001b[0m\n\u001b[0;32m    396\u001b[0m         \u001b[0mmethod\u001b[0m \u001b[1;33m=\u001b[0m \u001b[1;34m\"visit_\"\u001b[0m \u001b[1;33m+\u001b[0m \u001b[0mtype\u001b[0m\u001b[1;33m(\u001b[0m\u001b[0mnode\u001b[0m\u001b[1;33m)\u001b[0m\u001b[1;33m.\u001b[0m\u001b[0m__name__\u001b[0m\u001b[1;33m\u001b[0m\u001b[1;33m\u001b[0m\u001b[0m\n\u001b[0;32m    397\u001b[0m         \u001b[0mvisitor\u001b[0m \u001b[1;33m=\u001b[0m \u001b[0mgetattr\u001b[0m\u001b[1;33m(\u001b[0m\u001b[0mself\u001b[0m\u001b[1;33m,\u001b[0m \u001b[0mmethod\u001b[0m\u001b[1;33m)\u001b[0m\u001b[1;33m\u001b[0m\u001b[1;33m\u001b[0m\u001b[0m\n\u001b[1;32m--> 398\u001b[1;33m         \u001b[1;32mreturn\u001b[0m \u001b[0mvisitor\u001b[0m\u001b[1;33m(\u001b[0m\u001b[0mnode\u001b[0m\u001b[1;33m,\u001b[0m \u001b[1;33m**\u001b[0m\u001b[0mkwargs\u001b[0m\u001b[1;33m)\u001b[0m\u001b[1;33m\u001b[0m\u001b[1;33m\u001b[0m\u001b[0m\n\u001b[0m\u001b[0;32m    399\u001b[0m \u001b[1;33m\u001b[0m\u001b[0m\n\u001b[0;32m    400\u001b[0m     \u001b[1;32mdef\u001b[0m \u001b[0mvisit_Module\u001b[0m\u001b[1;33m(\u001b[0m\u001b[0mself\u001b[0m\u001b[1;33m,\u001b[0m \u001b[0mnode\u001b[0m\u001b[1;33m,\u001b[0m \u001b[1;33m**\u001b[0m\u001b[0mkwargs\u001b[0m\u001b[1;33m)\u001b[0m\u001b[1;33m:\u001b[0m\u001b[1;33m\u001b[0m\u001b[1;33m\u001b[0m\u001b[0m\n",
      "\u001b[1;32mc:\\Users\\Jonathan\\Documents\\VSCODE\\.venv\\lib\\site-packages\\pandas\\core\\computation\\expr.py\u001b[0m in \u001b[0;36mf\u001b[1;34m(self, *args, **kwargs)\u001b[0m\n\u001b[0;32m    248\u001b[0m \u001b[1;33m\u001b[0m\u001b[0m\n\u001b[0;32m    249\u001b[0m     \u001b[1;32mdef\u001b[0m \u001b[0mf\u001b[0m\u001b[1;33m(\u001b[0m\u001b[0mself\u001b[0m\u001b[1;33m,\u001b[0m \u001b[1;33m*\u001b[0m\u001b[0margs\u001b[0m\u001b[1;33m,\u001b[0m \u001b[1;33m**\u001b[0m\u001b[0mkwargs\u001b[0m\u001b[1;33m)\u001b[0m\u001b[1;33m:\u001b[0m\u001b[1;33m\u001b[0m\u001b[1;33m\u001b[0m\u001b[0m\n\u001b[1;32m--> 250\u001b[1;33m         \u001b[1;32mraise\u001b[0m \u001b[0mNotImplementedError\u001b[0m\u001b[1;33m(\u001b[0m\u001b[1;34mf\"'{node_name}' nodes are not implemented\"\u001b[0m\u001b[1;33m)\u001b[0m\u001b[1;33m\u001b[0m\u001b[1;33m\u001b[0m\u001b[0m\n\u001b[0m\u001b[0;32m    251\u001b[0m \u001b[1;33m\u001b[0m\u001b[0m\n\u001b[0;32m    252\u001b[0m     \u001b[1;32mreturn\u001b[0m \u001b[0mf\u001b[0m\u001b[1;33m\u001b[0m\u001b[1;33m\u001b[0m\u001b[0m\n",
      "\u001b[1;31mNotImplementedError\u001b[0m: 'Dict' nodes are not implemented"
     ]
    }
   ],
   "source": [
    "l = layout.get_collections(level='session')"
   ]
  },
  {
   "cell_type": "code",
   "execution_count": 143,
   "metadata": {},
   "outputs": [
    {
     "data": {
      "text/plain": [
       "['EL003',\n",
       " 'EL010',\n",
       " 'EL011',\n",
       " 'EL009',\n",
       " 'EL013',\n",
       " 'EL008',\n",
       " 'EL007',\n",
       " 'EL014',\n",
       " 'EL004',\n",
       " 'EL005',\n",
       " 'EL006',\n",
       " 'EL012',\n",
       " 'EL016',\n",
       " 'EL002',\n",
       " 'EL015',\n",
       " 'EL001']"
      ]
     },
     "execution_count": 143,
     "metadata": {},
     "output_type": "execute_result"
    }
   ],
   "source": [
    " layout.get(return_type='id', target='subject', scope='all',\n",
    "            regex_search=False, absolute_paths=None, invalid_filters='error',\n",
    "            )"
   ]
  },
  {
   "cell_type": "code",
   "execution_count": null,
   "metadata": {},
   "outputs": [],
   "source": [
    "layout.get_collections(level='subject', types='session')"
   ]
  },
  {
   "cell_type": "code",
   "execution_count": null,
   "metadata": {},
   "outputs": [],
   "source": [
    "print(get_test_data_path())"
   ]
  },
  {
   "cell_type": "code",
   "execution_count": null,
   "metadata": {},
   "outputs": [],
   "source": [
    "bids.variables.load_variables(layout=layout)"
   ]
  },
  {
   "cell_type": "code",
   "execution_count": null,
   "metadata": {},
   "outputs": [],
   "source": [
    "B = BIDSobject.entities\n",
    "BIDSobject.entities"
   ]
  },
  {
   "cell_type": "code",
   "execution_count": 18,
   "metadata": {},
   "outputs": [
    {
     "name": "stdout",
     "output_type": "stream",
     "text": [
      "sub-EL001\\ses-EcogLfpMedOff01\\ieeg\\sub-EL001_ses-EcogLfpMedOff01_task-BlockRotationR_acq-StimOffOn_run-1_ieeg.vhdr\n",
      "sub-EL001\\ses-EcogLfpMedOff01\\ieeg\\sub-EL001_ses-EcogLfpMedOff01_task-Rest_acq-StimOff_run-1_ieeg.vhdr\n",
      "sub-EL001\\ses-EcogLfpMedOff01\\ieeg\\sub-EL001_ses-EcogLfpMedOff01_task-Rest_acq-StimOff_run-2_ieeg.vhdr\n",
      "sub-EL001\\ses-EcogLfpMedOff01\\ieeg\\sub-EL001_ses-EcogLfpMedOff01_task-Rest_acq-StimOn_run-1_ieeg.vhdr\n",
      "sub-EL001\\ses-EcogLfpMedOff01\\ieeg\\sub-EL001_ses-EcogLfpMedOff01_task-Rest_acq-StimOn_run-2_ieeg.vhdr\n",
      "sub-EL001\\ses-EcogLfpMedOff01\\ieeg\\sub-EL001_ses-EcogLfpMedOff01_task-Visuomotor_acq-StimOff_run-1_ieeg.vhdr\n",
      "sub-EL001\\ses-EcogLfpMedOff01\\ieeg\\sub-EL001_ses-EcogLfpMedOff01_task-Visuomotor_acq-StimOn_run-1_ieeg.vhdr\n",
      "sub-EL001\\ses-EcogLfpMedOn01\\ieeg\\sub-EL001_ses-EcogLfpMedOn01_task-BlockRotationWheel_acq-StimOff_run-1_ieeg.vhdr\n",
      "sub-EL001\\ses-EcogLfpMedOn01\\ieeg\\sub-EL001_ses-EcogLfpMedOn01_task-FreeDrawing_acq-StimOff_run-1_ieeg.vhdr\n",
      "sub-EL001\\ses-EcogLfpMedOn01\\ieeg\\sub-EL001_ses-EcogLfpMedOn01_task-Rest_acq-StimOff_run-1_ieeg.vhdr\n",
      "sub-EL001\\ses-EcogLfpMedOn01\\ieeg\\sub-EL001_ses-EcogLfpMedOn01_task-Rest_acq-StimOn_run-1_ieeg.vhdr\n",
      "sub-EL001\\ses-EcogLfpMedOn01\\ieeg\\sub-EL001_ses-EcogLfpMedOn01_task-SelfpacedForceWheel_acq-StimOff_run-1_ieeg.vhdr\n",
      "sub-EL001\\ses-EcogLfpMedOn02\\ieeg\\sub-EL001_ses-EcogLfpMedOn02_task-BlockRotationL_acq-StimOffOn_run-1_ieeg.vhdr\n",
      "sub-EL001\\ses-EcogLfpMedOn02\\ieeg\\sub-EL001_ses-EcogLfpMedOn02_task-BlockRotationR_acq-StimOff_run-1_ieeg.vhdr\n",
      "sub-EL001\\ses-EcogLfpMedOn02\\ieeg\\sub-EL001_ses-EcogLfpMedOn02_task-ContinuousStopping_acq-StimOffOn_run-1_ieeg.vhdr\n",
      "sub-EL001\\ses-EcogLfpMedOn02\\ieeg\\sub-EL001_ses-EcogLfpMedOn02_task-Rest_acq-StimOff_run-1_ieeg.vhdr\n",
      "sub-EL001\\ses-EcogLfpMedOn02\\ieeg\\sub-EL001_ses-EcogLfpMedOn02_task-Rest_acq-StimOn_run-1_ieeg.vhdr\n",
      "sub-EL001\\ses-EcogLfpMedOn02\\ieeg\\sub-EL001_ses-EcogLfpMedOn02_task-Rest_acq-StimOn_run-2_ieeg.vhdr\n",
      "sub-EL002\\ses-EcogLfpMedOff01\\ieeg\\sub-EL002_ses-EcogLfpMedOff01_task-BlockRotationR_acq-StimOff_run-1_ieeg.vhdr\n",
      "sub-EL002\\ses-EcogLfpMedOff01\\ieeg\\sub-EL002_ses-EcogLfpMedOff01_task-Rest_acq-StimOff_run-1_ieeg.vhdr\n",
      "sub-EL002\\ses-EcogLfpMedOff01\\ieeg\\sub-EL002_ses-EcogLfpMedOff01_task-Rest_acq-StimOff_run-2_ieeg.vhdr\n",
      "sub-EL002\\ses-EcogLfpMedOff01\\ieeg\\sub-EL002_ses-EcogLfpMedOff01_task-SelfpacedRotationR_acq-StimOff_run-1_ieeg.vhdr\n",
      "sub-EL002\\ses-EcogLfpMedOff02\\ieeg\\sub-EL002_ses-EcogLfpMedOff02_task-Evoked_acq-StimOn_run-1_ieeg.vhdr\n",
      "sub-EL002\\ses-EcogLfpMedOff02\\ieeg\\sub-EL002_ses-EcogLfpMedOff02_task-Evoked_acq-StimOn_run-2_ieeg.vhdr\n",
      "sub-EL002\\ses-EcogLfpMedOff02\\ieeg\\sub-EL002_ses-EcogLfpMedOff02_task-Evoked_acq-StimOn_run-3_ieeg.vhdr\n",
      "sub-EL002\\ses-EcogLfpMedOff02\\ieeg\\sub-EL002_ses-EcogLfpMedOff02_task-Rest_acq-StimOff_run-1_ieeg.vhdr\n",
      "sub-EL002\\ses-EcogLfpMedOff02\\ieeg\\sub-EL002_ses-EcogLfpMedOff02_task-Rest_acq-StimOff_run-2_ieeg.vhdr\n",
      "sub-EL002\\ses-EcogLfpMedOff02\\ieeg\\sub-EL002_ses-EcogLfpMedOff02_task-Rest_acq-StimOff_run-3_ieeg.vhdr\n",
      "sub-EL002\\ses-EcogLfpMedOff02\\ieeg\\sub-EL002_ses-EcogLfpMedOff02_task-SelfpacedRotationR_acq-StimOff_run-1_ieeg.vhdr\n",
      "sub-EL002\\ses-EcogLfpMedOff02\\ieeg\\sub-EL002_ses-EcogLfpMedOff02_task-Speech_acq-StimOff_run-1_ieeg.vhdr\n",
      "sub-EL002\\ses-EcogLfpMedOff03\\ieeg\\sub-EL002_ses-EcogLfpMedOff03_task-Rest_acq-StimOff_run-1_ieeg.vhdr\n",
      "sub-EL002\\ses-EcogLfpMedOff03\\ieeg\\sub-EL002_ses-EcogLfpMedOff03_task-Rest_acq-StimOff_run-2_ieeg.vhdr\n",
      "sub-EL002\\ses-EcogLfpMedOff03\\ieeg\\sub-EL002_ses-EcogLfpMedOff03_task-Rest_acq-StimOff_run-3_ieeg.vhdr\n",
      "sub-EL002\\ses-EcogLfpMedOff03\\ieeg\\sub-EL002_ses-EcogLfpMedOff03_task-Rest_acq-StimOff_run-4_ieeg.vhdr\n",
      "sub-EL002\\ses-EcogLfpMedOff03\\ieeg\\sub-EL002_ses-EcogLfpMedOff03_task-Rest_acq-StimOn_run-1_ieeg.vhdr\n",
      "sub-EL002\\ses-EcogLfpMedOff03\\ieeg\\sub-EL002_ses-EcogLfpMedOff03_task-Rest_acq-StimOn_run-2_ieeg.vhdr\n",
      "sub-EL002\\ses-EcogLfpMedOff03\\ieeg\\sub-EL002_ses-EcogLfpMedOff03_task-SelfpacedRotationR_acq-StimOff_run-1_ieeg.vhdr\n",
      "sub-EL002\\ses-EcogLfpMedOff03\\ieeg\\sub-EL002_ses-EcogLfpMedOff03_task-SelfpacedRotationR_acq-StimOn_run-1_ieeg.vhdr\n",
      "sub-EL003\\ses-EcogLfpMedOff01\\ieeg\\sub-EL003_ses-EcogLfpMedOff01_task-BlockRotationR_acq-StimOff_run-1_ieeg.vhdr\n",
      "sub-EL003\\ses-EcogLfpMedOff01\\ieeg\\sub-EL003_ses-EcogLfpMedOff01_task-Rest_acq-StimOff_run-1_ieeg.vhdr\n",
      "sub-EL003\\ses-EcogLfpMedOff01\\ieeg\\sub-EL003_ses-EcogLfpMedOff01_task-Rest_acq-StimOff_run-2_ieeg.vhdr\n",
      "sub-EL003\\ses-EcogLfpMedOff01\\ieeg\\sub-EL003_ses-EcogLfpMedOff01_task-Rest_acq-StimOff_run-3_ieeg.vhdr\n",
      "sub-EL003\\ses-EcogLfpMedOff01\\ieeg\\sub-EL003_ses-EcogLfpMedOff01_task-SelfpacedRotationR_acq-StimOff_run-1_ieeg.vhdr\n",
      "sub-EL003\\ses-EcogLfpMedOff01\\ieeg\\sub-EL003_ses-EcogLfpMedOff01_task-UPDRSIII_acq-StimOff_run-1_ieeg.vhdr\n",
      "sub-EL003\\ses-EcogLfpMedOff01\\ieeg\\sub-EL003_ses-EcogLfpMedOff01_task-UPDRSIII_acq-StimOff_run-2_ieeg.vhdr\n",
      "sub-EL003\\ses-EcogLfpMedOn01\\ieeg\\sub-EL003_ses-EcogLfpMedOn01_task-Rest_acq-StimOff_run-1_ieeg.vhdr\n",
      "sub-EL003\\ses-EcogLfpMedOn02\\ieeg\\sub-EL003_ses-EcogLfpMedOn02_task-RestAndSpeech_acq-StimOff_run-1_ieeg.vhdr\n",
      "sub-EL003\\ses-EcogLfpMedOn02\\ieeg\\sub-EL003_ses-EcogLfpMedOn02_task-UPDRSIII_acq-StimOff_run-1_ieeg.vhdr\n",
      "sub-EL003\\ses-EcogLfpMedOn03\\ieeg\\sub-EL003_ses-EcogLfpMedOn03_task-Rest_acq-StimOff_run-1_ieeg.vhdr\n",
      "sub-EL003\\ses-EcogLfpMedOn03\\ieeg\\sub-EL003_ses-EcogLfpMedOn03_task-SelfpacedRotationR_acq-StimOff_run-1_ieeg.vhdr\n",
      "sub-EL004\\ses-EcogLfpMedOff01\\ieeg\\sub-EL004_ses-EcogLfpMedOff01_task-BlockRotationL_acq-StimOff_run-1_ieeg.vhdr\n",
      "sub-EL004\\ses-EcogLfpMedOff01\\ieeg\\sub-EL004_ses-EcogLfpMedOff01_task-BlockRotationR_acq-StimOff_run-1_ieeg.vhdr\n",
      "sub-EL004\\ses-EcogLfpMedOff01\\ieeg\\sub-EL004_ses-EcogLfpMedOff01_task-Rest_acq-StimOff_run-1_ieeg.vhdr\n",
      "sub-EL004\\ses-EcogLfpMedOff01\\ieeg\\sub-EL004_ses-EcogLfpMedOff01_task-Rest_acq-StimOff_run-2_ieeg.vhdr\n",
      "sub-EL004\\ses-EcogLfpMedOff01\\ieeg\\sub-EL004_ses-EcogLfpMedOff01_task-SelfpacedRotationL_acq-StimOff_run-1_ieeg.vhdr\n",
      "sub-EL004\\ses-EcogLfpMedOff01\\ieeg\\sub-EL004_ses-EcogLfpMedOff01_task-SelfpacedRotationR_acq-StimOff_run-1_ieeg.vhdr\n",
      "sub-EL004\\ses-EcogLfpMedOff01\\ieeg\\sub-EL004_ses-EcogLfpMedOff01_task-Speech_acq-StimOff_run-1_ieeg.vhdr\n",
      "sub-EL004\\ses-EcogLfpMedOff01\\ieeg\\sub-EL004_ses-EcogLfpMedOff01_task-Transition_acq-StimOff_run-1_ieeg.vhdr\n",
      "sub-EL004\\ses-EcogLfpMedOff01\\ieeg\\sub-EL004_ses-EcogLfpMedOff01_task-Transition_acq-StimOff_run-2_ieeg.vhdr\n",
      "sub-EL004\\ses-EcogLfpMedOff01\\ieeg\\sub-EL004_ses-EcogLfpMedOff01_task-UPDRSIII_acq-StimOff_run-1_ieeg.vhdr\n",
      "sub-EL004\\ses-EcogLfpMedOn01\\ieeg\\sub-EL004_ses-EcogLfpMedOn01_task-BlockRotationL_acq-StimOff_run-1_ieeg.vhdr\n",
      "sub-EL004\\ses-EcogLfpMedOn01\\ieeg\\sub-EL004_ses-EcogLfpMedOn01_task-BlockRotationR_acq-StimOff_run-1_ieeg.vhdr\n",
      "sub-EL004\\ses-EcogLfpMedOn01\\ieeg\\sub-EL004_ses-EcogLfpMedOn01_task-Rest_acq-StimOff_run-1_ieeg.vhdr\n",
      "sub-EL004\\ses-EcogLfpMedOn01\\ieeg\\sub-EL004_ses-EcogLfpMedOn01_task-Rest_acq-StimOff_run-2_ieeg.vhdr\n",
      "sub-EL004\\ses-EcogLfpMedOn01\\ieeg\\sub-EL004_ses-EcogLfpMedOn01_task-Rest_acq-StimOff_run-3_ieeg.vhdr\n",
      "sub-EL004\\ses-EcogLfpMedOn01\\ieeg\\sub-EL004_ses-EcogLfpMedOn01_task-Rest_acq-StimOff_run-4_ieeg.vhdr\n",
      "sub-EL004\\ses-EcogLfpMedOn01\\ieeg\\sub-EL004_ses-EcogLfpMedOn01_task-SelfpacedRotationL_acq-StimOff_run-1_ieeg.vhdr\n",
      "sub-EL004\\ses-EcogLfpMedOn01\\ieeg\\sub-EL004_ses-EcogLfpMedOn01_task-SelfpacedRotationR_acq-StimOff_run-1_ieeg.vhdr\n",
      "sub-EL004\\ses-EcogLfpMedOn01\\ieeg\\sub-EL004_ses-EcogLfpMedOn01_task-Speech_acq-StimOff_run-1_ieeg.vhdr\n",
      "sub-EL004\\ses-EcogLfpMedOn02\\ieeg\\sub-EL004_ses-EcogLfpMedOn02_task-BlockRotationL_acq-StimOff_run-1_ieeg.vhdr\n",
      "sub-EL004\\ses-EcogLfpMedOn02\\ieeg\\sub-EL004_ses-EcogLfpMedOn02_task-BlockRotationR_acq-StimOff_run-1_ieeg.vhdr\n",
      "sub-EL004\\ses-EcogLfpMedOn02\\ieeg\\sub-EL004_ses-EcogLfpMedOn02_task-BlockRotationR_acq-StimOn_run-1_ieeg.vhdr\n",
      "sub-EL004\\ses-EcogLfpMedOn02\\ieeg\\sub-EL004_ses-EcogLfpMedOn02_task-Rest_acq-StimOff_run-1_ieeg.vhdr\n",
      "sub-EL004\\ses-EcogLfpMedOn02\\ieeg\\sub-EL004_ses-EcogLfpMedOn02_task-Rest_acq-StimOn_run-1_ieeg.vhdr\n",
      "sub-EL004\\ses-EcogLfpMedOn02\\ieeg\\sub-EL004_ses-EcogLfpMedOn02_task-Rest_acq-StimOn_run-2_ieeg.vhdr\n",
      "sub-EL005\\ses-EcogLfpMedOff01\\ieeg\\sub-EL005_ses-EcogLfpMedOff01_task-BlockRotationL_acq-StimOff_run-1_ieeg.vhdr\n",
      "sub-EL005\\ses-EcogLfpMedOff01\\ieeg\\sub-EL005_ses-EcogLfpMedOff01_task-BlockRotationR_acq-StimOff_run-1_ieeg.vhdr\n",
      "sub-EL005\\ses-EcogLfpMedOff01\\ieeg\\sub-EL005_ses-EcogLfpMedOff01_task-Rest_acq-StimOff_run-1_ieeg.vhdr\n",
      "sub-EL005\\ses-EcogLfpMedOff01\\ieeg\\sub-EL005_ses-EcogLfpMedOff01_task-Rest_acq-StimOff_run-2_ieeg.vhdr\n",
      "sub-EL005\\ses-EcogLfpMedOff01\\ieeg\\sub-EL005_ses-EcogLfpMedOff01_task-SelfpacedRotationL_acq-StimOff_run-1_ieeg.vhdr\n",
      "sub-EL005\\ses-EcogLfpMedOff01\\ieeg\\sub-EL005_ses-EcogLfpMedOff01_task-SelfpacedRotationR_acq-StimOff_run-1_ieeg.vhdr\n",
      "sub-EL005\\ses-EcogLfpMedOff01\\ieeg\\sub-EL005_ses-EcogLfpMedOff01_task-SelfpacedSpeech_acq-StimOff_run-1_ieeg.vhdr\n",
      "sub-EL005\\ses-EcogLfpMedOff01\\ieeg\\sub-EL005_ses-EcogLfpMedOff01_task-UPDRSIII_acq-StimOff_run-1_ieeg.vhdr\n",
      "sub-EL005\\ses-EcogLfpMedOff02\\ieeg\\sub-EL005_ses-EcogLfpMedOff02_task-BlockRotationL_acq-StimOn_run-1_ieeg.vhdr\n",
      "sub-EL005\\ses-EcogLfpMedOff02\\ieeg\\sub-EL005_ses-EcogLfpMedOff02_task-BlockRotationR_acq-StimOn_run-1_ieeg.vhdr\n",
      "sub-EL005\\ses-EcogLfpMedOff02\\ieeg\\sub-EL005_ses-EcogLfpMedOff02_task-Evoked_acq-StimOn_run-1_ieeg.vhdr\n",
      "sub-EL005\\ses-EcogLfpMedOff02\\ieeg\\sub-EL005_ses-EcogLfpMedOff02_task-ReadRelaxMoveL_acq-StimOff_run-1_ieeg.vhdr\n",
      "sub-EL005\\ses-EcogLfpMedOff02\\ieeg\\sub-EL005_ses-EcogLfpMedOff02_task-ReadRelaxMoveL_acq-StimOn_run-1_ieeg.vhdr\n",
      "sub-EL005\\ses-EcogLfpMedOff02\\ieeg\\sub-EL005_ses-EcogLfpMedOff02_task-Rest_acq-StimOff_run-1_ieeg.vhdr\n",
      "sub-EL005\\ses-EcogLfpMedOff02\\ieeg\\sub-EL005_ses-EcogLfpMedOff02_task-Rest_acq-StimOn_run-1_ieeg.vhdr\n",
      "sub-EL005\\ses-EcogLfpMedOff02\\ieeg\\sub-EL005_ses-EcogLfpMedOff02_task-SelfpacedRotationL_acq-StimOn_run-1_ieeg.vhdr\n",
      "sub-EL005\\ses-EcogLfpMedOff02\\ieeg\\sub-EL005_ses-EcogLfpMedOff02_task-SelfpacedRotationR_acq-StimOn_run-1_ieeg.vhdr\n",
      "sub-EL005\\ses-EcogLfpMedOn01\\ieeg\\sub-EL005_ses-EcogLfpMedOn01_task-BlockRotationL_acq-StimOff_run-1_ieeg.vhdr\n",
      "sub-EL005\\ses-EcogLfpMedOn01\\ieeg\\sub-EL005_ses-EcogLfpMedOn01_task-BlockRotationR_acq-StimOff_run-1_ieeg.vhdr\n",
      "sub-EL005\\ses-EcogLfpMedOn01\\ieeg\\sub-EL005_ses-EcogLfpMedOn01_task-Rest_acq-StimOff_run-1_ieeg.vhdr\n",
      "sub-EL005\\ses-EcogLfpMedOn01\\ieeg\\sub-EL005_ses-EcogLfpMedOn01_task-SelfpacedRotationL_acq-StimOff_run-1_ieeg.vhdr\n",
      "sub-EL005\\ses-EcogLfpMedOn01\\ieeg\\sub-EL005_ses-EcogLfpMedOn01_task-SelfpacedRotationR_acq-StimOff_run-1_ieeg.vhdr\n",
      "sub-EL005\\ses-EcogLfpMedOn01\\ieeg\\sub-EL005_ses-EcogLfpMedOn01_task-SelfpacedSpeech_acq-StimOff_run-1_ieeg.vhdr\n",
      "sub-EL005\\ses-EcogLfpMedOn01\\ieeg\\sub-EL005_ses-EcogLfpMedOn01_task-Transition_acq-StimOff_run-1_ieeg.vhdr\n",
      "sub-EL005\\ses-EcogLfpMedOn01\\ieeg\\sub-EL005_ses-EcogLfpMedOn01_task-UPDRSIII_acq-StimOff_run-1_ieeg.vhdr\n",
      "sub-EL005\\ses-EcogLfpMedOn02\\ieeg\\sub-EL005_ses-EcogLfpMedOn02_task-BlockRotationL_acq-StimOn_run-1_ieeg.vhdr\n",
      "sub-EL005\\ses-EcogLfpMedOn02\\ieeg\\sub-EL005_ses-EcogLfpMedOn02_task-BlockRotationR_acq-StimOn_run-1_ieeg.vhdr\n",
      "sub-EL005\\ses-EcogLfpMedOn02\\ieeg\\sub-EL005_ses-EcogLfpMedOn02_task-Evoked_acq-StimOn_run-1_ieeg.vhdr\n",
      "sub-EL005\\ses-EcogLfpMedOn02\\ieeg\\sub-EL005_ses-EcogLfpMedOn02_task-ReadRelaxMoveL_acq-StimOff_run-1_ieeg.vhdr\n",
      "sub-EL005\\ses-EcogLfpMedOn02\\ieeg\\sub-EL005_ses-EcogLfpMedOn02_task-Rest_acq-StimOff_run-1_ieeg.vhdr\n",
      "sub-EL005\\ses-EcogLfpMedOn02\\ieeg\\sub-EL005_ses-EcogLfpMedOn02_task-Rest_acq-StimOn_run-1_ieeg.vhdr\n",
      "sub-EL005\\ses-EcogLfpMedOn02\\ieeg\\sub-EL005_ses-EcogLfpMedOn02_task-Rest_acq-StimOn_run-2_ieeg.vhdr\n",
      "sub-EL005\\ses-EcogLfpMedOn02\\ieeg\\sub-EL005_ses-EcogLfpMedOn02_task-SelfpacedRotationL_acq-StimOn_run-1_ieeg.vhdr\n",
      "sub-EL005\\ses-EcogLfpMedOn02\\ieeg\\sub-EL005_ses-EcogLfpMedOn02_task-SelfpacedRotationR_acq-StimOn_run-1_ieeg.vhdr\n",
      "sub-EL006\\ses-EcogLfpMedOff01\\ieeg\\sub-EL006_ses-EcogLfpMedOff01_task-Rest_acq-StimOff_run-1_ieeg.vhdr\n",
      "sub-EL006\\ses-EcogLfpMedOff01\\ieeg\\sub-EL006_ses-EcogLfpMedOff01_task-Rest_acq-StimOn_run-1_ieeg.vhdr\n",
      "sub-EL006\\ses-EcogLfpMedOff01\\ieeg\\sub-EL006_ses-EcogLfpMedOff01_task-SelfpacedRotationL_acq-StimOff_run-1_ieeg.vhdr\n",
      "sub-EL006\\ses-EcogLfpMedOff02\\ieeg\\sub-EL006_ses-EcogLfpMedOff02_task-ReadRelaxMoveL_acq-StimOff_run-1_ieeg.vhdr\n",
      "sub-EL006\\ses-EcogLfpMedOff02\\ieeg\\sub-EL006_ses-EcogLfpMedOff02_task-Rest_acq-StimOff_run-1_ieeg.vhdr\n",
      "sub-EL006\\ses-EcogLfpMedOff02\\ieeg\\sub-EL006_ses-EcogLfpMedOff02_task-Rest_acq-StimOn_run-1_ieeg.vhdr\n",
      "sub-EL006\\ses-EcogLfpMedOff02\\ieeg\\sub-EL006_ses-EcogLfpMedOff02_task-SelfpacedRotationL_acq-StimOn_run-1_ieeg.vhdr\n",
      "sub-EL006\\ses-EcogLfpMedOff02\\ieeg\\sub-EL006_ses-EcogLfpMedOff02_task-VigorStimR_acq-StimOn_run-1_ieeg.vhdr\n",
      "sub-EL006\\ses-EcogLfpMedOn01\\ieeg\\sub-EL006_ses-EcogLfpMedOn01_task-Rest_acq-StimOff_run-1_ieeg.vhdr\n",
      "sub-EL006\\ses-EcogLfpMedOn01\\ieeg\\sub-EL006_ses-EcogLfpMedOn01_task-SelfpacedRotationL_acq-StimOff_run-1_ieeg.vhdr\n",
      "sub-EL006\\ses-EcogLfpMedOn02\\ieeg\\sub-EL006_ses-EcogLfpMedOn02_task-Rest_acq-StimOff_run-1_ieeg.vhdr\n",
      "sub-EL006\\ses-EcogLfpMedOn02\\ieeg\\sub-EL006_ses-EcogLfpMedOn02_task-Rest_acq-StimOn_run-1_ieeg.vhdr\n",
      "sub-EL006\\ses-EcogLfpMedOn02\\ieeg\\sub-EL006_ses-EcogLfpMedOn02_task-SelfpacedRotationL_acq-StimOff_run-1_ieeg.vhdr\n",
      "sub-EL006\\ses-EcogLfpMedOn02\\ieeg\\sub-EL006_ses-EcogLfpMedOn02_task-SelfpacedRotationL_acq-StimOn_run-1_ieeg.vhdr\n",
      "sub-EL007\\ses-EcogLfpMedOff01\\ieeg\\sub-EL007_ses-EcogLfpMedOff01_task-BlockRotationL_acq-StimOff_run-1_ieeg.vhdr\n",
      "sub-EL007\\ses-EcogLfpMedOff01\\ieeg\\sub-EL007_ses-EcogLfpMedOff01_task-BlockRotationL_acq-StimOn_run-1_ieeg.vhdr\n",
      "sub-EL007\\ses-EcogLfpMedOff01\\ieeg\\sub-EL007_ses-EcogLfpMedOff01_task-ReadRelaxMoveL_acq-StimOff_run-1_ieeg.vhdr\n",
      "sub-EL007\\ses-EcogLfpMedOff01\\ieeg\\sub-EL007_ses-EcogLfpMedOff01_task-Rest_acq-StimOff_run-1_ieeg.vhdr\n",
      "sub-EL007\\ses-EcogLfpMedOff01\\ieeg\\sub-EL007_ses-EcogLfpMedOff01_task-Rest_acq-StimOn_run-1_ieeg.vhdr\n",
      "sub-EL007\\ses-EcogLfpMedOff01\\ieeg\\sub-EL007_ses-EcogLfpMedOff01_task-SelfpacedRotationL_acq-StimOff_run-1_ieeg.vhdr\n",
      "sub-EL007\\ses-EcogLfpMedOff01\\ieeg\\sub-EL007_ses-EcogLfpMedOff01_task-SelfpacedRotationL_acq-StimOn_run-1_ieeg.vhdr\n",
      "sub-EL007\\ses-EcogLfpMedOff02\\ieeg\\sub-EL007_ses-EcogLfpMedOff02_task-VigorStimR_acq-StimOn_run-1_ieeg.vhdr\n",
      "sub-EL007\\ses-EcogLfpMedOn01\\ieeg\\sub-EL007_ses-EcogLfpMedOn01_task-Rest_acq-StimOff_run-1_ieeg.vhdr\n",
      "sub-EL007\\ses-EcogLfpMedOn01\\ieeg\\sub-EL007_ses-EcogLfpMedOn01_task-Rest_acq-StimOff_run-2_ieeg.vhdr\n",
      "sub-EL007\\ses-EcogLfpMedOn01\\ieeg\\sub-EL007_ses-EcogLfpMedOn01_task-Rest_acq-StimOff_run-3_ieeg.vhdr\n",
      "sub-EL007\\ses-EcogLfpMedOn01\\ieeg\\sub-EL007_ses-EcogLfpMedOn01_task-Rest_acq-StimOn_run-1_ieeg.vhdr\n",
      "sub-EL007\\ses-EcogLfpMedOn01\\ieeg\\sub-EL007_ses-EcogLfpMedOn01_task-Rest_acq-StimOn_run-2_ieeg.vhdr\n",
      "sub-EL007\\ses-EcogLfpMedOn01\\ieeg\\sub-EL007_ses-EcogLfpMedOn01_task-Rest_acq-StimOn_run-3_ieeg.vhdr\n",
      "sub-EL007\\ses-EcogLfpMedOn02\\ieeg\\sub-EL007_ses-EcogLfpMedOn02_task-BlockRotationL_acq-StimOff_run-1_ieeg.vhdr\n",
      "sub-EL007\\ses-EcogLfpMedOn02\\ieeg\\sub-EL007_ses-EcogLfpMedOn02_task-Rest_acq-StimOff_run-1_ieeg.vhdr\n",
      "sub-EL007\\ses-EcogLfpMedOn02\\ieeg\\sub-EL007_ses-EcogLfpMedOn02_task-SelfpacedRotationL_acq-StimOff_run-1_ieeg.vhdr\n",
      "sub-EL007\\ses-EcogLfpMedOn02\\ieeg\\sub-EL007_ses-EcogLfpMedOn02_task-VigorStimL_acq-StimOn_run-1_ieeg.vhdr\n",
      "sub-EL007\\ses-EcogLfpMedOn02\\ieeg\\sub-EL007_ses-EcogLfpMedOn02_task-VigorStimR_acq-StimOn_run-1_ieeg.vhdr\n",
      "sub-EL008\\ses-EcogLfpMedOff01\\ieeg\\sub-EL008_ses-EcogLfpMedOff01_task-Rest_acq-StimOff_run-1_ieeg.vhdr\n",
      "sub-EL008\\ses-EcogLfpMedOff01\\ieeg\\sub-EL008_ses-EcogLfpMedOff01_task-Rest_acq-StimOn_run-1_ieeg.vhdr\n",
      "sub-EL008\\ses-EcogLfpMedOff01\\ieeg\\sub-EL008_ses-EcogLfpMedOff01_task-SelfpacedRotationR_acq-StimOff_run-1_ieeg.vhdr\n",
      "sub-EL008\\ses-EcogLfpMedOff01\\ieeg\\sub-EL008_ses-EcogLfpMedOff01_task-SelfpacedRotationR_acq-StimOn_run-1_ieeg.vhdr\n",
      "sub-EL008\\ses-EcogLfpMedOff01\\ieeg\\sub-EL008_ses-EcogLfpMedOff01_task-VigorStimR_acq-StimOn_run-1_ieeg.vhdr\n",
      "sub-EL008\\ses-EcogLfpMedOffDys01\\ieeg\\sub-EL008_ses-EcogLfpMedOffDys01_task-Rest_acq-StimOffDopa00_run-1_ieeg.vhdr\n",
      "sub-EL008\\ses-EcogLfpMedOffOnDys01\\ieeg\\sub-EL008_ses-EcogLfpMedOffOnDys01_task-Free_acq-StimOffDopa20_run-1_ieeg.vhdr\n",
      "sub-EL008\\ses-EcogLfpMedOffOnDys01\\ieeg\\sub-EL008_ses-EcogLfpMedOffOnDys01_task-Free_acq-StimOffDopa55_run-1_ieeg.vhdr\n",
      "sub-EL008\\ses-EcogLfpMedOffOnDys01\\ieeg\\sub-EL008_ses-EcogLfpMedOffOnDys01_task-Rest_acq-StimOffDopa00_run-1_ieeg.vhdr\n",
      "sub-EL008\\ses-EcogLfpMedOffOnDys01\\ieeg\\sub-EL008_ses-EcogLfpMedOffOnDys01_task-Rest_acq-StimOffDopa10_run-1_ieeg.vhdr\n",
      "sub-EL008\\ses-EcogLfpMedOffOnDys01\\ieeg\\sub-EL008_ses-EcogLfpMedOffOnDys01_task-Rest_acq-StimOffDopa30_run-1_ieeg.vhdr\n",
      "sub-EL008\\ses-EcogLfpMedOffOnDys01\\ieeg\\sub-EL008_ses-EcogLfpMedOffOnDys01_task-Rest_acq-StimOffDopa50_run-1_ieeg.vhdr\n",
      "sub-EL008\\ses-EcogLfpMedOffOnDys01\\ieeg\\sub-EL008_ses-EcogLfpMedOffOnDys01_task-SelfpacedHandTapL_acq-StimOffDopa15_run-1_ieeg.vhdr\n",
      "sub-EL008\\ses-EcogLfpMedOffOnDys01\\ieeg\\sub-EL008_ses-EcogLfpMedOffOnDys01_task-SelfpacedHandTapL_acq-StimOffDopa35_run-1_ieeg.vhdr\n",
      "sub-EL008\\ses-EcogLfpMedOffOnDys01\\ieeg\\sub-EL008_ses-EcogLfpMedOffOnDys01_task-SelfpacedHandTapL_acq-StimOffDopa60_run-1_ieeg.vhdr\n",
      "sub-EL008\\ses-EcogLfpMedOn01\\ieeg\\sub-EL008_ses-EcogLfpMedOn01_task-ReadRelaxMoveR_acq-StimOff_run-1_ieeg.vhdr\n",
      "sub-EL008\\ses-EcogLfpMedOn01\\ieeg\\sub-EL008_ses-EcogLfpMedOn01_task-Rest_acq-StimOff_run-1_ieeg.vhdr\n",
      "sub-EL008\\ses-EcogLfpMedOn01\\ieeg\\sub-EL008_ses-EcogLfpMedOn01_task-Rest_acq-StimOff_run-2_ieeg.vhdr\n",
      "sub-EL008\\ses-EcogLfpMedOn01\\ieeg\\sub-EL008_ses-EcogLfpMedOn01_task-Rest_acq-StimOn_run-1_ieeg.vhdr\n",
      "sub-EL008\\ses-EcogLfpMedOn01\\ieeg\\sub-EL008_ses-EcogLfpMedOn01_task-SelfpacedRotationR_acq-StimOff_run-1_ieeg.vhdr\n",
      "sub-EL008\\ses-EcogLfpMedOn01\\ieeg\\sub-EL008_ses-EcogLfpMedOn01_task-VigorStimR_acq-StimOn_run-1_ieeg.vhdr\n",
      "sub-EL008\\ses-EcogLfpMedOnDys01\\ieeg\\sub-EL008_ses-EcogLfpMedOnDys01_task-Rest_acq-StimOffDopa50_run-1_ieeg.vhdr\n",
      "sub-EL009\\ses-EcogLfpMedOff01\\ieeg\\sub-EL009_ses-EcogLfpMedOff01_task-Rest_acq-StimOff_run-1_ieeg.vhdr\n",
      "sub-EL009\\ses-EcogLfpMedOff01\\ieeg\\sub-EL009_ses-EcogLfpMedOff01_task-Rest_acq-StimOn_run-1_ieeg.vhdr\n",
      "sub-EL009\\ses-EcogLfpMedOff01\\ieeg\\sub-EL009_ses-EcogLfpMedOff01_task-SelfpacedRotationR_acq-StimOff_run-1_ieeg.vhdr\n",
      "sub-EL009\\ses-EcogLfpMedOff01\\ieeg\\sub-EL009_ses-EcogLfpMedOff01_task-SelfpacedRotationR_acq-StimOn_run-1_ieeg.vhdr\n",
      "sub-EL009\\ses-EcogLfpMedOff02\\ieeg\\sub-EL009_ses-EcogLfpMedOff02_task-Rest_acq-StimOff_run-1_ieeg.vhdr\n",
      "sub-EL009\\ses-EcogLfpMedOff03\\ieeg\\sub-EL009_ses-EcogLfpMedOff03_task-Rest_acq-StimOff_run-1_ieeg.vhdr\n",
      "sub-EL009\\ses-EcogLfpMedOff03\\ieeg\\sub-EL009_ses-EcogLfpMedOff03_task-Rest_acq-StimOff_run-2_ieeg.vhdr\n",
      "sub-EL009\\ses-EcogLfpMedOff03\\ieeg\\sub-EL009_ses-EcogLfpMedOff03_task-Rest_acq-StimOff_run-3_ieeg.vhdr\n",
      "sub-EL009\\ses-EcogLfpMedOff03\\ieeg\\sub-EL009_ses-EcogLfpMedOff03_task-SelfpacedRotationR_acq-StimOff_run-1_ieeg.vhdr\n",
      "sub-EL009\\ses-EcogLfpMedOffDys01\\ieeg\\sub-EL009_ses-EcogLfpMedOffDys01_task-Rest_acq-StimOffDopa00_run-1_ieeg.vhdr\n",
      "sub-EL009\\ses-EcogLfpMedOffOnDys01\\ieeg\\sub-EL009_ses-EcogLfpMedOffOnDys01_task-Free_acq-StimOffDopa25_run-1_ieeg.vhdr\n",
      "sub-EL009\\ses-EcogLfpMedOffOnDys01\\ieeg\\sub-EL009_ses-EcogLfpMedOffOnDys01_task-Free_acq-StimOffDopa55_run-1_ieeg.vhdr\n",
      "sub-EL009\\ses-EcogLfpMedOffOnDys01\\ieeg\\sub-EL009_ses-EcogLfpMedOffOnDys01_task-Rest_acq-StimOffDopa00_run-1_ieeg.vhdr\n",
      "sub-EL009\\ses-EcogLfpMedOffOnDys01\\ieeg\\sub-EL009_ses-EcogLfpMedOffOnDys01_task-Rest_acq-StimOffDopa30_run-1_ieeg.vhdr\n",
      "sub-EL009\\ses-EcogLfpMedOffOnDys01\\ieeg\\sub-EL009_ses-EcogLfpMedOffOnDys01_task-Rest_acq-StimOffDopa65_run-1_ieeg.vhdr\n",
      "sub-EL009\\ses-EcogLfpMedOffOnDys01\\ieeg\\sub-EL009_ses-EcogLfpMedOffOnDys01_task-SelfpacedHandFlipL_acq-StimOffDopa18_run-1_ieeg.vhdr\n",
      "sub-EL009\\ses-EcogLfpMedOffOnDys01\\ieeg\\sub-EL009_ses-EcogLfpMedOffOnDys01_task-SelfpacedHandFlipL_acq-StimOffDopa50_run-1_ieeg.vhdr\n",
      "sub-EL009\\ses-EcogLfpMedOffOnDys01\\ieeg\\sub-EL009_ses-EcogLfpMedOffOnDys01_task-SelfpacedHandFlipR_acq-StimOffDopa10_run-1_ieeg.vhdr\n",
      "sub-EL009\\ses-EcogLfpMedOffOnDys01\\ieeg\\sub-EL009_ses-EcogLfpMedOffOnDys01_task-SelfpacedHandFlipR_acq-StimOffDopa40_run-1_ieeg.vhdr\n",
      "sub-EL009\\ses-EcogLfpMedOffOnDys01\\ieeg\\sub-EL009_ses-EcogLfpMedOffOnDys01_task-SelfpacedHandFlipR_acq-StimOffDopa70_run-1_ieeg.vhdr\n",
      "sub-EL009\\ses-EcogLfpMedOn01\\ieeg\\sub-EL009_ses-EcogLfpMedOn01_task-ReadRelaxMoveR_acq-StimOff_run-1_ieeg.vhdr\n",
      "sub-EL009\\ses-EcogLfpMedOn01\\ieeg\\sub-EL009_ses-EcogLfpMedOn01_task-ReadRelaxMoveR_acq-StimOff_run-2_ieeg.vhdr\n",
      "sub-EL009\\ses-EcogLfpMedOn01\\ieeg\\sub-EL009_ses-EcogLfpMedOn01_task-Rest_acq-StimOff_run-1_ieeg.vhdr\n",
      "sub-EL009\\ses-EcogLfpMedOn01\\ieeg\\sub-EL009_ses-EcogLfpMedOn01_task-SelfpacedRotationR_acq-StimOff_run-1_ieeg.vhdr\n",
      "sub-EL009\\ses-EcogLfpMedOn01\\ieeg\\sub-EL009_ses-EcogLfpMedOn01_task-SelfpacedRotationR_acq-StimOff_run-2_ieeg.vhdr\n",
      "sub-EL009\\ses-EcogLfpMedOn01\\ieeg\\sub-EL009_ses-EcogLfpMedOn01_task-SelfpacedRotationR_acq-StimOff_run-3_ieeg.vhdr\n",
      "sub-EL009\\ses-EcogLfpMedOnDys01\\ieeg\\sub-EL009_ses-EcogLfpMedOnDys01_task-Rest_acq-StimOffDopa65_run-1_ieeg.vhdr\n",
      "sub-EL009\\ses-LfpMedOff04\\ieeg\\sub-EL009_ses-LfpMedOff04_task-Rest_acq-StimOff_run-1_ieeg.vhdr\n",
      "sub-EL010\\ses-EcogLfpMedOff01\\ieeg\\sub-EL010_ses-EcogLfpMedOff01_task-Rest_acq-StimOff_run-1_ieeg.vhdr\n",
      "sub-EL010\\ses-EcogLfpMedOff01\\ieeg\\sub-EL010_ses-EcogLfpMedOff01_task-SelfpacedRotationL_acq-StimOff_run-1_ieeg.vhdr\n",
      "sub-EL010\\ses-EcogLfpMedOffDys01\\ieeg\\sub-EL010_ses-EcogLfpMedOffDys01_task-Rest_acq-StimOffDopa00_run-1_ieeg.vhdr\n",
      "sub-EL010\\ses-EcogLfpMedOffDys01\\ieeg\\sub-EL010_ses-EcogLfpMedOffDys01_task-Rest_acq-StimOffPreDopa_run-1_ieeg.vhdr\n",
      "sub-EL010\\ses-EcogLfpMedOffOnDys01\\ieeg\\sub-EL010_ses-EcogLfpMedOffOnDys01_task-DyskinesiaProtocol_acq-StimOff_run-1_ieeg.vhdr\n",
      "sub-EL010\\ses-EcogLfpMedOffOnDys01\\ieeg\\sub-EL010_ses-EcogLfpMedOffOnDys01_task-Free_acq-StimOffDopa25_run-1_ieeg.vhdr\n",
      "sub-EL010\\ses-EcogLfpMedOffOnDys01\\ieeg\\sub-EL010_ses-EcogLfpMedOffOnDys01_task-Free_acq-StimOffDopa50_run-1_ieeg.vhdr\n",
      "sub-EL010\\ses-EcogLfpMedOffOnDys01\\ieeg\\sub-EL010_ses-EcogLfpMedOffOnDys01_task-Free_acq-StimOffDopa80_run-1_ieeg.vhdr\n",
      "sub-EL010\\ses-EcogLfpMedOffOnDys01\\ieeg\\sub-EL010_ses-EcogLfpMedOffOnDys01_task-Rest_acq-StimOffDopa00_run-1_ieeg.vhdr\n",
      "sub-EL010\\ses-EcogLfpMedOffOnDys01\\ieeg\\sub-EL010_ses-EcogLfpMedOffOnDys01_task-Rest_acq-StimOffDopa15_run-1_ieeg.vhdr\n",
      "sub-EL010\\ses-EcogLfpMedOffOnDys01\\ieeg\\sub-EL010_ses-EcogLfpMedOffOnDys01_task-Rest_acq-StimOffDopa35_run-1_ieeg.vhdr\n",
      "sub-EL010\\ses-EcogLfpMedOffOnDys01\\ieeg\\sub-EL010_ses-EcogLfpMedOffOnDys01_task-Rest_acq-StimOffDopa65_run-1_ieeg.vhdr\n",
      "sub-EL010\\ses-EcogLfpMedOffOnDys01\\ieeg\\sub-EL010_ses-EcogLfpMedOffOnDys01_task-Rest_acq-StimOffDopa85_run-1_ieeg.vhdr\n",
      "sub-EL010\\ses-EcogLfpMedOffOnDys01\\ieeg\\sub-EL010_ses-EcogLfpMedOffOnDys01_task-Rest_acq-StimOffPreDopa_run-1_ieeg.vhdr\n",
      "sub-EL010\\ses-EcogLfpMedOffOnDys01\\ieeg\\sub-EL010_ses-EcogLfpMedOffOnDys01_task-SelfpacedHandTapB_acq-StimOffDopa05_run-1_ieeg.vhdr\n",
      "sub-EL010\\ses-EcogLfpMedOffOnDys01\\ieeg\\sub-EL010_ses-EcogLfpMedOffOnDys01_task-SelfpacedHandTapB_acq-StimOffDopa70_run-1_ieeg.vhdr\n",
      "sub-EL010\\ses-EcogLfpMedOffOnDys01\\ieeg\\sub-EL010_ses-EcogLfpMedOffOnDys01_task-SelfpacedHandTapL_acq-StimOffDopa20_run-1_ieeg.vhdr\n",
      "sub-EL010\\ses-EcogLfpMedOffOnDys01\\ieeg\\sub-EL010_ses-EcogLfpMedOffOnDys01_task-SelfpacedHandTapL_acq-StimOffDopa45_run-1_ieeg.vhdr\n",
      "sub-EL010\\ses-EcogLfpMedOffOnDys01\\ieeg\\sub-EL010_ses-EcogLfpMedOffOnDys01_task-SelfpacedHandTapL_acq-StimOffPreDopa_run-1_ieeg.vhdr\n",
      "sub-EL010\\ses-EcogLfpMedOn01\\ieeg\\sub-EL010_ses-EcogLfpMedOn01_task-Rest_acq-StimOff_run-1_ieeg.vhdr\n",
      "sub-EL010\\ses-EcogLfpMedOn01\\ieeg\\sub-EL010_ses-EcogLfpMedOn01_task-Rest_acq-StimOn_run-1_ieeg.vhdr\n",
      "sub-EL010\\ses-EcogLfpMedOn01\\ieeg\\sub-EL010_ses-EcogLfpMedOn01_task-SelfpacedRotationL_acq-StimOff_run-1_ieeg.vhdr\n",
      "sub-EL010\\ses-EcogLfpMedOn01\\ieeg\\sub-EL010_ses-EcogLfpMedOn01_task-SelfpacedRotationL_acq-StimOn_run-1_ieeg.vhdr\n",
      "sub-EL010\\ses-EcogLfpMedOnDys01\\ieeg\\sub-EL010_ses-EcogLfpMedOnDys01_task-Rest_acq-StimOffDopa65_run-1_ieeg.vhdr\n",
      "sub-EL011\\ses-EcogLfpMedOff01\\ieeg\\sub-EL011_ses-EcogLfpMedOff01_task-Rest_acq-StimOff_run-1_ieeg.vhdr\n",
      "sub-EL011\\ses-EcogLfpMedOff01\\ieeg\\sub-EL011_ses-EcogLfpMedOff01_task-SelfpacedRotationL_acq-StimOff_run-1_ieeg.vhdr\n",
      "sub-EL011\\ses-EcogLfpMedOff01\\ieeg\\sub-EL011_ses-EcogLfpMedOff01_task-VigorStimR_acq-StimOnB_run-1_ieeg.vhdr\n",
      "sub-EL011\\ses-EcogLfpMedOffDys01\\ieeg\\sub-EL011_ses-EcogLfpMedOffDys01_task-Rest_acq-StimOnRDopa100_run-2_ieeg.vhdr\n",
      "sub-EL011\\ses-EcogLfpMedOffDys01\\ieeg\\sub-EL011_ses-EcogLfpMedOffDys01_task-Rest_acq-StimOnRDopa105_run-3_ieeg.vhdr\n",
      "sub-EL011\\ses-EcogLfpMedOffOnDys01\\ieeg\\sub-EL011_ses-EcogLfpMedOffOnDys01_task-Rest_acq-StimOffDopa40_run-1_ieeg.vhdr\n",
      "sub-EL011\\ses-EcogLfpMedOffOnDys01\\ieeg\\sub-EL011_ses-EcogLfpMedOffOnDys01_task-Rest_acq-StimOffDopa65_run-1_ieeg.vhdr\n",
      "sub-EL011\\ses-EcogLfpMedOffOnDys01\\ieeg\\sub-EL011_ses-EcogLfpMedOffOnDys01_task-Rest_acq-StimOnRDopa100_run-2_ieeg.vhdr\n",
      "sub-EL011\\ses-EcogLfpMedOffOnDys01\\ieeg\\sub-EL011_ses-EcogLfpMedOffOnDys01_task-Rest_acq-StimOnRDopa105_run-3_ieeg.vhdr\n",
      "sub-EL011\\ses-EcogLfpMedOffOnDys01\\ieeg\\sub-EL011_ses-EcogLfpMedOffOnDys01_task-Rest_acq-StimOnRDopa95_run-1_ieeg.vhdr\n",
      "sub-EL011\\ses-EcogLfpMedOffOnDys01\\ieeg\\sub-EL011_ses-EcogLfpMedOffOnDys01_task-SelfpacedHandTapL_acq-StimOffDopa50_run-1_ieeg.vhdr\n",
      "sub-EL011\\ses-EcogLfpMedOffOnDys01\\ieeg\\sub-EL011_ses-EcogLfpMedOffOnDys01_task-SelfpacedHandTapL_acq-StimOffDopa70_run-1_ieeg.vhdr\n",
      "sub-EL011\\ses-EcogLfpMedOn01\\ieeg\\sub-EL011_ses-EcogLfpMedOn01_task-Rest_acq-StimOff_run-1_ieeg.vhdr\n",
      "sub-EL011\\ses-EcogLfpMedOn01\\ieeg\\sub-EL011_ses-EcogLfpMedOn01_task-Rest_acq-StimOnB_run-1_ieeg.vhdr\n",
      "sub-EL011\\ses-EcogLfpMedOn01\\ieeg\\sub-EL011_ses-EcogLfpMedOn01_task-SelfpacedRotationL_acq-StimOff_run-1_ieeg.vhdr\n",
      "sub-EL011\\ses-EcogLfpMedOnDys01\\ieeg\\sub-EL011_ses-EcogLfpMedOnDys01_task-Rest_acq-StimOffDopa65_run-1_ieeg.vhdr\n",
      "sub-EL012\\ses-EcogLfpMedOff01\\ieeg\\sub-EL012_ses-EcogLfpMedOff01_task-Rest_acq-StimOff_run-1_ieeg.vhdr\n",
      "sub-EL012\\ses-EcogLfpMedOff01\\ieeg\\sub-EL012_ses-EcogLfpMedOff01_task-SelfpacedRotationL_acq-StimOff_run-1_ieeg.vhdr\n",
      "sub-EL012\\ses-EcogLfpMedOff02\\ieeg\\sub-EL012_ses-EcogLfpMedOff02_task-Rest_acq-StimOff_run-1_ieeg.vhdr\n",
      "sub-EL012\\ses-EcogLfpMedOff02\\ieeg\\sub-EL012_ses-EcogLfpMedOff02_task-Rest_acq-StimOnB_run-1_ieeg.vhdr\n",
      "sub-EL012\\ses-EcogLfpMedOff02\\ieeg\\sub-EL012_ses-EcogLfpMedOff02_task-SelfpacedRotationL_acq-StimOnB_run-1_ieeg.vhdr\n",
      "sub-EL012\\ses-EcogLfpMedOff02\\ieeg\\sub-EL012_ses-EcogLfpMedOff02_task-SelfpacedRotationL_acq-StimOnB_run-2_ieeg.vhdr\n",
      "sub-EL012\\ses-EcogLfpMedOff02\\ieeg\\sub-EL012_ses-EcogLfpMedOff02_task-VigorStimL_acq-StimOnB_run-1_ieeg.vhdr\n",
      "sub-EL012\\ses-EcogLfpMedOffDys01\\ieeg\\sub-EL012_ses-EcogLfpMedOffDys01_task-Rest_acq-StimOffDopa00_run-1_ieeg.vhdr\n",
      "sub-EL012\\ses-EcogLfpMedOffDys01\\ieeg\\sub-EL012_ses-EcogLfpMedOffDys01_task-Rest_acq-StimOffDopaPre_run-1_ieeg.vhdr\n",
      "sub-EL012\\ses-EcogLfpMedOffOnDys01\\ieeg\\sub-EL012_ses-EcogLfpMedOffOnDys01_task-Free_acq-StimOffDopa20_run-1_ieeg.vhdr\n",
      "sub-EL012\\ses-EcogLfpMedOffOnDys01\\ieeg\\sub-EL012_ses-EcogLfpMedOffOnDys01_task-Free_acq-StimOffDopa50_run-1_ieeg.vhdr\n",
      "sub-EL012\\ses-EcogLfpMedOffOnDys01\\ieeg\\sub-EL012_ses-EcogLfpMedOffOnDys01_task-Rest_acq-StimOffDopa00_run-1_ieeg.vhdr\n",
      "sub-EL012\\ses-EcogLfpMedOffOnDys01\\ieeg\\sub-EL012_ses-EcogLfpMedOffOnDys01_task-Rest_acq-StimOffDopa30_run-1_ieeg.vhdr\n",
      "sub-EL012\\ses-EcogLfpMedOffOnDys01\\ieeg\\sub-EL012_ses-EcogLfpMedOffOnDys01_task-Rest_acq-StimOffDopa60_run-1_ieeg.vhdr\n",
      "sub-EL012\\ses-EcogLfpMedOffOnDys01\\ieeg\\sub-EL012_ses-EcogLfpMedOffOnDys01_task-Rest_acq-StimOffDopaPre_run-1_ieeg.vhdr\n",
      "sub-EL012\\ses-EcogLfpMedOffOnDys01\\ieeg\\sub-EL012_ses-EcogLfpMedOffOnDys01_task-SelfpacedHandTapL_acq-StimOffDopa05_run-1_ieeg.vhdr\n",
      "sub-EL012\\ses-EcogLfpMedOffOnDys01\\ieeg\\sub-EL012_ses-EcogLfpMedOffOnDys01_task-SelfpacedHandTapL_acq-StimOffDopa35_run-1_ieeg.vhdr\n",
      "sub-EL012\\ses-EcogLfpMedOffOnDys01\\ieeg\\sub-EL012_ses-EcogLfpMedOffOnDys01_task-SelfpacedHandTapL_acq-StimOffDopa65_run-1_ieeg.vhdr\n",
      "sub-EL012\\ses-EcogLfpMedOffOnDys01\\ieeg\\sub-EL012_ses-EcogLfpMedOffOnDys01_task-SelfpacedRotationL_acq-StimOff_run-1_ieeg.vhdr\n",
      "sub-EL012\\ses-EcogLfpMedOn01\\ieeg\\sub-EL012_ses-EcogLfpMedOn01_task-Rest_acq-StimOff_run-1_ieeg.vhdr\n",
      "sub-EL012\\ses-EcogLfpMedOnDys01\\ieeg\\sub-EL012_ses-EcogLfpMedOnDys01_task-Rest_acq-StimOffDopa60_run-1_ieeg.vhdr\n",
      "sub-EL013\\ses-EcogLfpMedOff01\\ieeg\\sub-EL013_ses-EcogLfpMedOff01_task-BlockRotationL_acq-StimOff_run-1_ieeg.vhdr\n",
      "sub-EL013\\ses-EcogLfpMedOff01\\ieeg\\sub-EL013_ses-EcogLfpMedOff01_task-ReadRelaxMoveL_acq-StimOff_run-1_ieeg.vhdr\n",
      "sub-EL013\\ses-EcogLfpMedOff01\\ieeg\\sub-EL013_ses-EcogLfpMedOff01_task-Rest_acq-StimOff_run-1_ieeg.vhdr\n",
      "sub-EL013\\ses-EcogLfpMedOff01\\ieeg\\sub-EL013_ses-EcogLfpMedOff01_task-SelfpacedRotationL_acq-StimOff_run-1_ieeg.vhdr\n",
      "sub-EL013\\ses-EcogLfpMedOff01\\ieeg\\sub-EL013_ses-EcogLfpMedOff01_task-VigorStimR_acq-StimOnB_run-1_ieeg.vhdr\n",
      "sub-EL013\\ses-EcogLfpMedOffDys01\\ieeg\\sub-EL013_ses-EcogLfpMedOffDys01_task-Rest_acq-StimOffDopa00_run-1_ieeg.vhdr\n",
      "sub-EL013\\ses-EcogLfpMedOffOnDys01\\ieeg\\sub-EL013_ses-EcogLfpMedOffOnDys01_task-Free_acq-StimOffDopa40_run-1_ieeg.vhdr\n",
      "sub-EL013\\ses-EcogLfpMedOffOnDys01\\ieeg\\sub-EL013_ses-EcogLfpMedOffOnDys01_task-Rest_acq-StimOffDopa00_run-1_ieeg.vhdr\n",
      "sub-EL013\\ses-EcogLfpMedOffOnDys01\\ieeg\\sub-EL013_ses-EcogLfpMedOffOnDys01_task-Rest_acq-StimOffDopa25_run-1_ieeg.vhdr\n",
      "sub-EL013\\ses-EcogLfpMedOffOnDys01\\ieeg\\sub-EL013_ses-EcogLfpMedOffOnDys01_task-Rest_acq-StimOffDopa55_run-1_ieeg.vhdr\n",
      "sub-EL013\\ses-EcogLfpMedOffOnDys01\\ieeg\\sub-EL013_ses-EcogLfpMedOffOnDys01_task-SelfpacedHandTapB_acq-StimOffDopa05_run-1_ieeg.vhdr\n",
      "sub-EL013\\ses-EcogLfpMedOffOnDys01\\ieeg\\sub-EL013_ses-EcogLfpMedOffOnDys01_task-SelfpacedHandTapB_acq-StimOffDopa30_run-1_ieeg.vhdr\n",
      "sub-EL013\\ses-EcogLfpMedOffOnDys01\\ieeg\\sub-EL013_ses-EcogLfpMedOffOnDys01_task-SelfpacedHandTapB_acq-StimOffDopa60_run-1_ieeg.vhdr\n",
      "sub-EL013\\ses-EcogLfpMedOn01\\ieeg\\sub-EL013_ses-EcogLfpMedOn01_task-BlockRotationL_acq-StimOff_run-1_ieeg.vhdr\n",
      "sub-EL013\\ses-EcogLfpMedOn01\\ieeg\\sub-EL013_ses-EcogLfpMedOn01_task-Rest_acq-StimOff_run-1_ieeg.vhdr\n",
      "sub-EL013\\ses-EcogLfpMedOn02\\ieeg\\sub-EL013_ses-EcogLfpMedOn02_task-Rest_acq-StimOff_run-1_ieeg.vhdr\n",
      "sub-EL013\\ses-EcogLfpMedOn02\\ieeg\\sub-EL013_ses-EcogLfpMedOn02_task-SelfpacedRotationL_acq-StimOff_run-1_ieeg.vhdr\n",
      "sub-EL013\\ses-EcogLfpMedOnDys01\\ieeg\\sub-EL013_ses-EcogLfpMedOnDys01_task-Rest_acq-StimOffDopa55_run-1_ieeg.vhdr\n",
      "sub-EL014\\ses-EcogLfpMedOff01\\ieeg\\sub-EL014_ses-EcogLfpMedOff01_task-Rest_acq-StimOff_run-1_ieeg.vhdr\n",
      "sub-EL014\\ses-EcogLfpMedOff01\\ieeg\\sub-EL014_ses-EcogLfpMedOff01_task-Rest_acq-StimOnB_run-1_ieeg.vhdr\n",
      "sub-EL014\\ses-EcogLfpMedOff01\\ieeg\\sub-EL014_ses-EcogLfpMedOff01_task-SelfpacedRotationL_acq-StimOff_run-1_ieeg.vhdr\n",
      "sub-EL014\\ses-EcogLfpMedOff01\\ieeg\\sub-EL014_ses-EcogLfpMedOff01_task-VigorStimR_acq-StimOnB_run-1_ieeg.vhdr\n",
      "sub-EL014\\ses-EcogLfpMedOffDys01\\ieeg\\sub-EL014_ses-EcogLfpMedOffDys01_task-Rest_acq-StimOffDopa00_run-1_ieeg.vhdr\n",
      "sub-EL014\\ses-EcogLfpMedOffOnDys01\\ieeg\\sub-EL014_ses-EcogLfpMedOffOnDys01_task-Free_acq-StimOffDopa20_run-1_ieeg.vhdr\n",
      "sub-EL014\\ses-EcogLfpMedOffOnDys01\\ieeg\\sub-EL014_ses-EcogLfpMedOffOnDys01_task-Free_acq-StimOffDopa45_run-1_ieeg.vhdr\n",
      "sub-EL014\\ses-EcogLfpMedOffOnDys01\\ieeg\\sub-EL014_ses-EcogLfpMedOffOnDys01_task-ReadRelaxMoveL_acq-StimOff_run-2_ieeg.vhdr\n",
      "sub-EL014\\ses-EcogLfpMedOffOnDys01\\ieeg\\sub-EL014_ses-EcogLfpMedOffOnDys01_task-Rest_acq-StimOffDopa00_run-1_ieeg.vhdr\n",
      "sub-EL014\\ses-EcogLfpMedOffOnDys01\\ieeg\\sub-EL014_ses-EcogLfpMedOffOnDys01_task-Rest_acq-StimOffDopa30_run-1_ieeg.vhdr\n",
      "sub-EL014\\ses-EcogLfpMedOffOnDys01\\ieeg\\sub-EL014_ses-EcogLfpMedOffOnDys01_task-Rest_acq-StimOffDopa70_run-1_ieeg.vhdr\n",
      "sub-EL014\\ses-EcogLfpMedOffOnDys01\\ieeg\\sub-EL014_ses-EcogLfpMedOffOnDys01_task-SelfpacedHandTapB_acq-StimOffDopa10_run-1_ieeg.vhdr\n",
      "sub-EL014\\ses-EcogLfpMedOffOnDys01\\ieeg\\sub-EL014_ses-EcogLfpMedOffOnDys01_task-SelfpacedHandTapB_acq-StimOffDopa35_run-1_ieeg.vhdr\n",
      "sub-EL014\\ses-EcogLfpMedOffOnDys01\\ieeg\\sub-EL014_ses-EcogLfpMedOffOnDys01_task-SelfpacedHandTapL_acq-StimOffDopa75_run-1_ieeg.vhdr\n",
      "sub-EL014\\ses-EcogLfpMedOn01\\ieeg\\sub-EL014_ses-EcogLfpMedOn01_task-Rest_acq-StimOff_run-1_ieeg.vhdr\n",
      "sub-EL014\\ses-EcogLfpMedOn01\\ieeg\\sub-EL014_ses-EcogLfpMedOn01_task-SelfpacedRotationL_acq-StimOff_run-1_ieeg.vhdr\n",
      "sub-EL014\\ses-EcogLfpMedOn01\\ieeg\\sub-EL014_ses-EcogLfpMedOn01_task-SelfpacedRotationL_acq-StimOnB_run-1_ieeg.vhdr\n",
      "sub-EL014\\ses-EcogLfpMedOnDys01\\ieeg\\sub-EL014_ses-EcogLfpMedOnDys01_task-Rest_acq-StimOffDopa70_run-1_ieeg.vhdr\n",
      "sub-EL015\\ses-EcogLfpMedOff01\\ieeg\\sub-EL015_ses-EcogLfpMedOff01_task-Rest_acq-StimOff_run-1_ieeg.vhdr\n",
      "sub-EL015\\ses-EcogLfpMedOff01\\ieeg\\sub-EL015_ses-EcogLfpMedOff01_task-Rest_acq-StimOff_run-2_ieeg.vhdr\n",
      "sub-EL015\\ses-EcogLfpMedOff01\\ieeg\\sub-EL015_ses-EcogLfpMedOff01_task-SelfpacedRotationL_acq-StimOff_run-1_ieeg.vhdr\n",
      "sub-EL015\\ses-EcogLfpMedOn01\\ieeg\\sub-EL015_ses-EcogLfpMedOn01_task-Rest_acq-StimOff_run-1_ieeg.vhdr\n",
      "sub-EL015\\ses-EcogLfpMedOn01\\ieeg\\sub-EL015_ses-EcogLfpMedOn01_task-SelfpacedRotationL_acq-StimOff_run-1_ieeg.vhdr\n",
      "sub-EL015\\ses-EcogLfpMedOn01\\ieeg\\sub-EL015_ses-EcogLfpMedOn01_task-VigorStimR_acq-StimOnB_run-1_ieeg.vhdr\n",
      "sub-EL016\\ses-EcogLfpMedOff01\\ieeg\\sub-EL016_ses-EcogLfpMedOff01_task-BlockRotationL_acq-StimOff_run-1_ieeg.vhdr\n",
      "sub-EL016\\ses-EcogLfpMedOff01\\ieeg\\sub-EL016_ses-EcogLfpMedOff01_task-Rest_acq-StimOff_run-1_ieeg.vhdr\n",
      "sub-EL016\\ses-EcogLfpMedOff01\\ieeg\\sub-EL016_ses-EcogLfpMedOff01_task-SelfpacedRotationL_acq-StimOff_run-1_ieeg.vhdr\n",
      "sub-EL016\\ses-EcogLfpMedOff01\\ieeg\\sub-EL016_ses-EcogLfpMedOff01_task-VigorStimR_acq-StimOnR_run-1_ieeg.vhdr\n",
      "sub-EL016\\ses-EcogLfpMedOffDys01\\ieeg\\sub-EL016_ses-EcogLfpMedOffDys01_task-Rest_acq-StimOffDopaPre_run-1_ieeg.vhdr\n",
      "sub-EL016\\ses-EcogLfpMedOffDys01\\ieeg\\sub-EL016_ses-EcogLfpMedOffDys01_task-SelfpacedHandTapB_acq-StimOffDopa00_run-1_ieeg.vhdr\n",
      "sub-EL016\\ses-EcogLfpMedOffDys01\\ieeg\\sub-EL016_ses-EcogLfpMedOffDys01_task-SelfpacedRotationL_acq-StimOffDopaPre_run-1_ieeg.vhdr\n",
      "sub-EL016\\ses-EcogLfpMedOffOnDys01\\ieeg\\sub-EL016_ses-EcogLfpMedOffOnDys01_task-Free_acq-StimOffDopa15_run-1_ieeg.vhdr\n",
      "sub-EL016\\ses-EcogLfpMedOffOnDys01\\ieeg\\sub-EL016_ses-EcogLfpMedOffOnDys01_task-Free_acq-StimOffDopa40_run-1_ieeg.vhdr\n",
      "sub-EL016\\ses-EcogLfpMedOffOnDys01\\ieeg\\sub-EL016_ses-EcogLfpMedOffOnDys01_task-Rest_acq-StimOffDopa25_run-1_ieeg.vhdr\n",
      "sub-EL016\\ses-EcogLfpMedOffOnDys01\\ieeg\\sub-EL016_ses-EcogLfpMedOffOnDys01_task-Rest_acq-StimOffDopa50_run-1_ieeg.vhdr\n",
      "sub-EL016\\ses-EcogLfpMedOffOnDys01\\ieeg\\sub-EL016_ses-EcogLfpMedOffOnDys01_task-Rest_acq-StimOffDopaPre_run-1_ieeg.vhdr\n",
      "sub-EL016\\ses-EcogLfpMedOffOnDys01\\ieeg\\sub-EL016_ses-EcogLfpMedOffOnDys01_task-SelfpacedHandTapB_acq-StimOffDopa00_run-1_ieeg.vhdr\n",
      "sub-EL016\\ses-EcogLfpMedOffOnDys01\\ieeg\\sub-EL016_ses-EcogLfpMedOffOnDys01_task-SelfpacedHandTapB_acq-StimOffDopa05_run-1_ieeg.vhdr\n",
      "sub-EL016\\ses-EcogLfpMedOffOnDys01\\ieeg\\sub-EL016_ses-EcogLfpMedOffOnDys01_task-SelfpacedHandTapB_acq-StimOffDopa30_run-1_ieeg.vhdr\n",
      "sub-EL016\\ses-EcogLfpMedOffOnDys01\\ieeg\\sub-EL016_ses-EcogLfpMedOffOnDys01_task-SelfpacedHandTapB_acq-StimOffDopa50_run-1_ieeg.vhdr\n",
      "sub-EL016\\ses-EcogLfpMedOffOnDys01\\ieeg\\sub-EL016_ses-EcogLfpMedOffOnDys01_task-SelfpacedRotationL_acq-StimOffDopaPre_run-1_ieeg.vhdr\n",
      "sub-EL016\\ses-EcogLfpMedOn01\\ieeg\\sub-EL016_ses-EcogLfpMedOn01_task-BlockRotationL_acq-StimOff_run-1_ieeg.vhdr\n",
      "sub-EL016\\ses-EcogLfpMedOn01\\ieeg\\sub-EL016_ses-EcogLfpMedOn01_task-Rest_acq-StimOff_run-1_ieeg.vhdr\n",
      "sub-EL016\\ses-EcogLfpMedOn01\\ieeg\\sub-EL016_ses-EcogLfpMedOn01_task-SelfpacedRotationL_acq-StimOff_run-1_ieeg.vhdr\n",
      "sub-EL016\\ses-EcogLfpMedOn01\\ieeg\\sub-EL016_ses-EcogLfpMedOn01_task-SelfpacedRotationL_acq-StimOnB_run-1_ieeg.vhdr\n",
      "sub-EL016\\ses-EcogLfpMedOn01\\ieeg\\sub-EL016_ses-EcogLfpMedOn01_task-VigorStimR_acq-StimOnB_run-1_ieeg.vhdr\n",
      "sub-EL016\\ses-EcogLfpMedOn02\\ieeg\\sub-EL016_ses-EcogLfpMedOn02_task-Rest_acq-StimOff_run-1_ieeg.vhdr\n",
      "sub-EL016\\ses-EcogLfpMedOn02\\ieeg\\sub-EL016_ses-EcogLfpMedOn02_task-SelfpacedRotationL_acq-StimOff_run-1_ieeg.vhdr\n",
      "sub-EL016\\ses-EcogLfpMedOn02\\ieeg\\sub-EL016_ses-EcogLfpMedOn02_task-SelfpacedRotationL_acq-StimOnB_run-1_ieeg.vhdr\n",
      "sub-EL016\\ses-EcogLfpMedOn02\\ieeg\\sub-EL016_ses-EcogLfpMedOn02_task-VigorStimL_acq-StimOnB_run-1_ieeg.vhdr\n",
      "sub-EL016\\ses-EcogLfpMedOnDys01\\ieeg\\sub-EL016_ses-EcogLfpMedOnDys01_task-Rest_acq-StimOffDopa50_run-1_ieeg.vhdr\n"
     ]
    }
   ],
   "source": [
    "for key in Berlin_files:\n",
    "    BIDSobject = Berlin_files[key]\n",
    "    if BIDSobject.entities.get('extension') == '.vhdr':\n",
    "        print(BIDSobject.relpath)\n",
    "\n",
    "\n"
   ]
  },
  {
   "cell_type": "code",
   "execution_count": 19,
   "metadata": {},
   "outputs": [
    {
     "data": {
      "text/plain": [
       "{'DeviceSerialNumber': '1005190056', 'ECGChannelCount': 1, 'ECOGChannelCount': 6, 'EEGChannelCount': 2, 'EMGChannelCount': 34, 'EOGChannelCount': 0, 'ElectricalStimulation': True, 'HardwareFilters': {'Anti_AliasFilter': {'Low_Pass': {'UnipolarChannels': 1600, 'BipolarChannels': 2100, 'AuxiliaryChannels': 2100}}, 'AnalogueBandwidth': 800}, 'InstitutionAddress': 'Chariteplatz 1, 10117 Berlin, Germany', 'InstitutionName': 'Charite - Universitaetsmedizin Berlin, corporate member of Freie Universitaet Berlin and Humboldt-Universitaet zu Berlin, Department of Neurology with Experimental Neurology/BNIC, Movement Disorders and Neuromodulation Unit', 'Instructions': 'Do not move or speak and keep your eyes open.', 'Manufacturer': 'Twente Medical Systems International B.V. (TMSi)', 'ManufacturersModelName': 'Saga 64+', 'MiscChannelCount': 6, 'PowerLineFrequency': 50, 'RecordingDuration': 317.04825, 'RecordingType': 'continuous', 'SEEGChannelCount': 16, 'SamplingFrequency': 4000, 'SoftwareFilters': 'no additional filters', 'SoftwareVersions': 'TMSi Polybench - QRA for SAGA - REV1.1.0', 'TaskName': 'Rest', 'TriggerChannelCount': 0, 'acquisition': 'StimOffDopa50', 'datatype': 'ieeg', 'extension': '.vmrk', 'iEEGElectrodeGroups': 'ECOG_right: 6-contact, 1x6 dual-sided long-term monitoring Ad-Tech strip on sensorimotor cortex. DBS_left: 1x8 Medtronic SenSight Short DBS lead in left STN, DBS_right: 1x8 Medtronic SenSight Short DBS lead in right STN.', 'iEEGGround': 'Right shoulder patch', 'iEEGPlacementScheme': 'right subdural cortical strip and bilateral STN deep brain stimulation (DBS) leads.', 'iEEGReference': 'LFP_L_01_STN_MT', 'run': 1, 'session': 'EcogLfpMedOnDys01', 'subject': 'EL016', 'suffix': 'ieeg', 'task': 'Rest'}"
      ]
     },
     "execution_count": 19,
     "metadata": {},
     "output_type": "execute_result"
    }
   ],
   "source": [
    "BIDSobject.entities"
   ]
  },
  {
   "cell_type": "code",
   "execution_count": null,
   "metadata": {},
   "outputs": [],
   "source": [
    "BIDSobject.entities"
   ]
  },
  {
   "cell_type": "code",
   "execution_count": null,
   "metadata": {},
   "outputs": [],
   "source": [
    "for key in Berlin_files:\n",
    "    BIDSobject = Berlin_files[key]\n",
    "    #if BIDSobject.entities.get('extension') == '.vhdr':\n",
    "        #if BIDSobject.entities.get('task') == 'SelfpacedRotationL':\n",
    "            #print(BIDSobject)\n",
    "            #print(BIDSobject.get_associations())\n",
    "            #print(BIDSobject.get_metadata())\n",
    "            #reference = BIDSobject.get_dict()['iEEGReference']\n",
    "            #print(BIDSobject.relpath)\n",
    "            #print(reference)\n",
    "    try:\n",
    "        BIDSobject.get_dict()\n",
    "        print(BIDSobject.filename)\n",
    "    except:\n",
    "        print('x')\n",
    "\n"
   ]
  },
  {
   "cell_type": "code",
   "execution_count": null,
   "metadata": {},
   "outputs": [],
   "source": [
    "out = widgets.Output(layout={'border': '1px solid black'})\n",
    "out"
   ]
  },
  {
   "cell_type": "code",
   "execution_count": null,
   "metadata": {},
   "outputs": [],
   "source": [
    "style = {\"description_width\": \"200px\"}\n",
    "layoutwid = {\"width\": \"750px\"}\n",
    "\n",
    "for key in Berlin_files:\n",
    "    BIDSobject = Berlin_files[key]\n",
    "    if BIDSobject.entities.get('extension') == '.vhdr':\n",
    "        if BIDSobject.entities.get('task') == 'SelfpacedRotationL':\n",
    "            reference = BIDSobject.entities.get('iEEGReference')\n",
    "            with out:\n",
    "                \n",
    "                left_button=widgets.Checkbox(\n",
    "                    value=False,\n",
    "                    description=BIDSobject.relpath,\n",
    "                    disabled=False,\n",
    "                    indent=False,\n",
    "                    layout=layoutwid,\n",
    "                    style=style)\n",
    "\n",
    "                right_button=widgets.Checkbox(\n",
    "                    value=False,\n",
    "                    description=reference,\n",
    "                    disabled=False,\n",
    "                    indent=False,\n",
    "                    layout={\"width\": \"150px\"},\n",
    "                    style=style)\n",
    "                center_button=widgets.Checkbox(\n",
    "                    value=False,\n",
    "                    description=BIDSobject.entities.get('iEEGElectrodeGroups'),\n",
    "                    disabled=False,\n",
    "                    indent=False,\n",
    "                    layout={\"width\": \"1200px\"},\n",
    "                    style=style)\n",
    "                display(AppLayout(header=None,\n",
    "                    left_sidebar=left_button,\n",
    "                    center=center_button,\n",
    "                    right_sidebar=right_button,\n",
    "                    footer=None))\n",
    "        \n",
    "\n",
    "\n"
   ]
  },
  {
   "cell_type": "code",
   "execution_count": null,
   "metadata": {},
   "outputs": [],
   "source": [
    "left_button=(widgets.Checkbox(\n",
    "                    value=False,\n",
    "                    description=BIDSobject.relpath,\n",
    "                    disabled=False,\n",
    "                    indent=False,\n",
    "                    layout=layoutwid,\n",
    "                    style=style))\n",
    "center_button=(widgets.Checkbox(\n",
    "                    value=False,\n",
    "                    description=reference,\n",
    "                    disabled=False,\n",
    "                    indent=False,\n",
    "                    layout=layoutwid,\n",
    "                    style=style))\n",
    "right_button=(widgets.Checkbox(\n",
    "                    value=False,\n",
    "                    description=BIDSobject.entities.get('iEEGElectrodeGroups'),\n",
    "                    disabled=False,\n",
    "                    indent=False,\n",
    "                    layout=layoutwid,\n",
    "                    style=style))\n",
    "\n",
    "AppLayout(header=None,\n",
    "          left_sidebar=left_button,\n",
    "          center=center_button,\n",
    "          right_sidebar=right_button,\n",
    "          footer=None)"
   ]
  },
  {
   "cell_type": "code",
   "execution_count": null,
   "metadata": {},
   "outputs": [],
   "source": [
    "from ipywidgets import AppLayout, Button, Layout\n"
   ]
  },
  {
   "cell_type": "code",
   "execution_count": null,
   "metadata": {},
   "outputs": [],
   "source": [
    "BIDSobject"
   ]
  },
  {
   "cell_type": "code",
   "execution_count": 21,
   "metadata": {},
   "outputs": [
    {
     "data": {
      "text/plain": [
       "[<BIDSJSONFile filename='C:\\Users\\Jonathan\\Charité - Universitätsmedizin Berlin\\Interventional Cognitive Neuromodulation - Data\\BIDS_01_Berlin_Neurophys\\rawdata\\sub-EL016\\ses-EcogLfpMedOnDys01\\ieeg\\sub-EL016_ses-EcogLfpMedOnDys01_task-Rest_acq-StimOffDopa50_run-1_ieeg.json'>]"
      ]
     },
     "execution_count": 21,
     "metadata": {},
     "output_type": "execute_result"
    }
   ],
   "source": [
    "BIDSobject.get_associations()"
   ]
  },
  {
   "cell_type": "code",
   "execution_count": null,
   "metadata": {},
   "outputs": [],
   "source": [
    "BIDSobject.get_associations()[0].get_dict()"
   ]
  },
  {
   "cell_type": "code",
   "execution_count": 20,
   "metadata": {},
   "outputs": [
    {
     "ename": "AttributeError",
     "evalue": "BIDSFile object has no attribute named 'get_dict'",
     "output_type": "error",
     "traceback": [
      "\u001b[1;31m---------------------------------------------------------------------------\u001b[0m",
      "\u001b[1;31mAttributeError\u001b[0m                            Traceback (most recent call last)",
      "\u001b[1;32m<ipython-input-20-67ea3bf6a79d>\u001b[0m in \u001b[0;36m<module>\u001b[1;34m\u001b[0m\n\u001b[1;32m----> 1\u001b[1;33m \u001b[0mBIDSobject\u001b[0m\u001b[1;33m.\u001b[0m\u001b[0mget_dict\u001b[0m\u001b[1;33m(\u001b[0m\u001b[1;33m)\u001b[0m\u001b[1;33m[\u001b[0m\u001b[1;34m'iEEGReference'\u001b[0m\u001b[1;33m]\u001b[0m\u001b[1;33m\u001b[0m\u001b[1;33m\u001b[0m\u001b[0m\n\u001b[0m",
      "\u001b[1;32m~\\AppData\\Local\\Programs\\Python\\Python39\\lib\\site-packages\\bids\\layout\\models.py\u001b[0m in \u001b[0;36m__getattr__\u001b[1;34m(self, attr)\u001b[0m\n\u001b[0;32m    222\u001b[0m                           % (attr, attr))\n\u001b[0;32m    223\u001b[0m             \u001b[1;32mreturn\u001b[0m \u001b[0mself\u001b[0m\u001b[1;33m.\u001b[0m\u001b[0mentities\u001b[0m\u001b[1;33m[\u001b[0m\u001b[0mattr\u001b[0m\u001b[1;33m]\u001b[0m\u001b[1;33m\u001b[0m\u001b[1;33m\u001b[0m\u001b[0m\n\u001b[1;32m--> 224\u001b[1;33m         raise AttributeError(\"%s object has no attribute named %r\" %\n\u001b[0m\u001b[0;32m    225\u001b[0m                              (self.__class__.__name__, attr))\n\u001b[0;32m    226\u001b[0m \u001b[1;33m\u001b[0m\u001b[0m\n",
      "\u001b[1;31mAttributeError\u001b[0m: BIDSFile object has no attribute named 'get_dict'"
     ]
    }
   ],
   "source": [
    "BIDSobject.get_dict()['iEEGReference']"
   ]
  },
  {
   "cell_type": "code",
   "execution_count": null,
   "metadata": {},
   "outputs": [],
   "source": [
    "print(widgets.Checkbox(\n",
    "            value=False,\n",
    "            description='test',\n",
    "            disabled=False,\n",
    "            indent=False\n",
    "        ))"
   ]
  },
  {
   "cell_type": "code",
   "execution_count": null,
   "metadata": {},
   "outputs": [],
   "source": [
    "with out:\n",
    "    for i in range(10):\n",
    "        print(i, 'Hello world!')\n",
    "        "
   ]
  },
  {
   "cell_type": "code",
   "execution_count": null,
   "metadata": {},
   "outputs": [],
   "source": [
    "with out:\n",
    "    display(widgets.IntSlider())"
   ]
  },
  {
   "cell_type": "code",
   "execution_count": 146,
   "metadata": {},
   "outputs": [],
   "source": [
    "from bids.tests import get_test_data_path\n",
    "from os.path import join\n",
    "layout = BIDSLayout(join(get_test_data_path(), 'synthetic'))"
   ]
  },
  {
   "cell_type": "code",
   "execution_count": 191,
   "metadata": {},
   "outputs": [
    {
     "data": {
      "text/html": [
       "<div>\n",
       "<style scoped>\n",
       "    .dataframe tbody tr th:only-of-type {\n",
       "        vertical-align: middle;\n",
       "    }\n",
       "\n",
       "    .dataframe tbody tr th {\n",
       "        vertical-align: top;\n",
       "    }\n",
       "\n",
       "    .dataframe thead th {\n",
       "        text-align: right;\n",
       "    }\n",
       "</style>\n",
       "<table border=\"1\" class=\"dataframe\">\n",
       "  <thead>\n",
       "    <tr style=\"text-align: right;\">\n",
       "      <th></th>\n",
       "      <th>EchoTime</th>\n",
       "      <th>RepetitionTime</th>\n",
       "      <th>TaskName</th>\n",
       "      <th>datatype</th>\n",
       "      <th>extension</th>\n",
       "      <th>run</th>\n",
       "      <th>session</th>\n",
       "      <th>subject</th>\n",
       "      <th>suffix</th>\n",
       "      <th>task</th>\n",
       "      <th>node_index</th>\n",
       "      <th>level</th>\n",
       "    </tr>\n",
       "  </thead>\n",
       "  <tbody>\n",
       "    <tr>\n",
       "      <th>0</th>\n",
       "      <td>0.03</td>\n",
       "      <td>2.5</td>\n",
       "      <td>N-Back</td>\n",
       "      <td>func</td>\n",
       "      <td>.nii</td>\n",
       "      <td>1</td>\n",
       "      <td>01</td>\n",
       "      <td>01</td>\n",
       "      <td>bold</td>\n",
       "      <td>nback</td>\n",
       "      <td>0</td>\n",
       "      <td>run</td>\n",
       "    </tr>\n",
       "    <tr>\n",
       "      <th>1</th>\n",
       "      <td>0.03</td>\n",
       "      <td>2.5</td>\n",
       "      <td>N-Back</td>\n",
       "      <td>func</td>\n",
       "      <td>.nii</td>\n",
       "      <td>2</td>\n",
       "      <td>01</td>\n",
       "      <td>01</td>\n",
       "      <td>bold</td>\n",
       "      <td>nback</td>\n",
       "      <td>1</td>\n",
       "      <td>run</td>\n",
       "    </tr>\n",
       "    <tr>\n",
       "      <th>2</th>\n",
       "      <td>0.03</td>\n",
       "      <td>2.5</td>\n",
       "      <td>Rest</td>\n",
       "      <td>func</td>\n",
       "      <td>.nii</td>\n",
       "      <td>NaN</td>\n",
       "      <td>01</td>\n",
       "      <td>01</td>\n",
       "      <td>bold</td>\n",
       "      <td>rest</td>\n",
       "      <td>2</td>\n",
       "      <td>run</td>\n",
       "    </tr>\n",
       "    <tr>\n",
       "      <th>3</th>\n",
       "      <td>0.03</td>\n",
       "      <td>2.5</td>\n",
       "      <td>N-Back</td>\n",
       "      <td>func</td>\n",
       "      <td>.nii</td>\n",
       "      <td>1</td>\n",
       "      <td>02</td>\n",
       "      <td>01</td>\n",
       "      <td>bold</td>\n",
       "      <td>nback</td>\n",
       "      <td>3</td>\n",
       "      <td>run</td>\n",
       "    </tr>\n",
       "    <tr>\n",
       "      <th>4</th>\n",
       "      <td>0.03</td>\n",
       "      <td>2.5</td>\n",
       "      <td>N-Back</td>\n",
       "      <td>func</td>\n",
       "      <td>.nii</td>\n",
       "      <td>2</td>\n",
       "      <td>02</td>\n",
       "      <td>01</td>\n",
       "      <td>bold</td>\n",
       "      <td>nback</td>\n",
       "      <td>4</td>\n",
       "      <td>run</td>\n",
       "    </tr>\n",
       "    <tr>\n",
       "      <th>5</th>\n",
       "      <td>0.03</td>\n",
       "      <td>2.5</td>\n",
       "      <td>Rest</td>\n",
       "      <td>func</td>\n",
       "      <td>.nii</td>\n",
       "      <td>NaN</td>\n",
       "      <td>02</td>\n",
       "      <td>01</td>\n",
       "      <td>bold</td>\n",
       "      <td>rest</td>\n",
       "      <td>5</td>\n",
       "      <td>run</td>\n",
       "    </tr>\n",
       "  </tbody>\n",
       "</table>\n",
       "</div>"
      ],
      "text/plain": [
       "  EchoTime RepetitionTime TaskName datatype extension  run session subject  \\\n",
       "0     0.03            2.5   N-Back     func      .nii    1      01      01   \n",
       "1     0.03            2.5   N-Back     func      .nii    2      01      01   \n",
       "2     0.03            2.5     Rest     func      .nii  NaN      01      01   \n",
       "3     0.03            2.5   N-Back     func      .nii    1      02      01   \n",
       "4     0.03            2.5   N-Back     func      .nii    2      02      01   \n",
       "5     0.03            2.5     Rest     func      .nii  NaN      02      01   \n",
       "\n",
       "  suffix   task node_index level  \n",
       "0   bold  nback          0   run  \n",
       "1   bold  nback          1   run  \n",
       "2   bold   rest          2   run  \n",
       "3   bold  nback          3   run  \n",
       "4   bold  nback          4   run  \n",
       "5   bold   rest          5   run  "
      ]
     },
     "execution_count": 191,
     "metadata": {},
     "output_type": "execute_result"
    }
   ],
   "source": [
    "a = variables.load_variables(layout, ['events', 'physio'], subject='01')\n",
    "\n",
    "a.index\n"
   ]
  }
 ],
 "metadata": {
  "interpreter": {
   "hash": "03eaa2ea944cf99881aa5fab8d165e2f17a4015119a862d5d367392066f26a1e"
  },
  "kernelspec": {
   "display_name": "Python 3.9.1 64-bit",
   "language": "python",
   "name": "python3"
  },
  "language_info": {
   "codemirror_mode": {
    "name": "ipython",
    "version": 3
   },
   "file_extension": ".py",
   "mimetype": "text/x-python",
   "name": "python",
   "nbconvert_exporter": "python",
   "pygments_lexer": "ipython3",
   "version": "3.9.1"
  },
  "orig_nbformat": 4
 },
 "nbformat": 4,
 "nbformat_minor": 2
}
