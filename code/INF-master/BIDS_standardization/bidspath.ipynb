{
  "cells": [
    {
      "cell_type": "code",
      "execution_count": 1,
      "metadata": {
        "collapsed": false
      },
      "outputs": [],
      "source": [
        "%matplotlib inline"
      ]
    },
    {
      "cell_type": "markdown",
      "metadata": {},
      "source": [
        "\n",
        "\n",
        "# 10. An introduction to BIDSPath\n",
        "\n",
        "BIDSPath is MNE-BIDS's working horse when it comes to file and folder\n",
        "operations. Learn here how to use it.\n"
      ]
    },
    {
      "cell_type": "code",
      "execution_count": null,
      "metadata": {
        "collapsed": false
      },
      "outputs": [],
      "source": [
        "# Author: Richard Höchenberger <richard.hoechenberger@gmail.com>\n",
        "#\n",
        "# License: BSD-3-Clause"
      ]
    },
    {
      "cell_type": "markdown",
      "metadata": {},
      "source": [
        "Obviously, to start exploring BIDSPath, we first need to import it.\n",
        "\n"
      ]
    },
    {
      "cell_type": "code",
      "execution_count": 2,
      "metadata": {
        "collapsed": false
      },
      "outputs": [],
      "source": [
        "from pathlib import Path\n",
        "\n",
        "import mne_bids\n",
        "from mne_bids import BIDSPath"
      ]
    },
    {
      "cell_type": "markdown",
      "metadata": {},
      "source": [
        "Now let's discuss a little bit of background on the BIDS file and folder\n",
        "naming scheme. The first term we are going to introduce is the **BIDS root**.\n",
        "The BIDS root is simply the root folder of your BIDS dataset. For\n",
        "example, if the BIDS data of one of your studies is stored in\n",
        "`/Users/me/Studies/Study_01`, then this will be the BIDS root.\n",
        "\n",
        "Similarly, if you have **no** BIDS dataset to begin with, you need to\n",
        "consider where to store your data upon BIDS conversion. Again, the intended\n",
        "target folder will be the BIDS root of your data.\n",
        "\n",
        "For the purpose of this demonstration, let's pick the ``tiny_bids`` example\n",
        "dataset that ships with the MNE-BIDS test suite.\n",
        "\n"
      ]
    },
    {
      "cell_type": "code",
      "execution_count": 6,
      "metadata": {
        "collapsed": false
      },
      "outputs": [
        {
          "data": {
            "text/plain": [
              "WindowsPath('c:/Users/jebe12/anaconda3/envs/pyPerceive_dev/lib/site-packages/mne_bids/tests/data/tiny_bids')"
            ]
          },
          "execution_count": 6,
          "metadata": {},
          "output_type": "execute_result"
        }
      ],
      "source": [
        "# We are using a pathlib.Path object for convenience, but you could just use\n",
        "# a string to specify ``bids_root`` here.\n",
        "bids_root = Path(mne_bids.__file__).parent / 'tests' / 'data' / 'tiny_bids'\n",
        "bids_root"
      ]
    },
    {
      "cell_type": "markdown",
      "metadata": {},
      "source": [
        "This refers to a folder named ``my_bids_root`` in the current working\n",
        "directory. Finally, let is create a ``BIDSPath``, and tell it about our\n",
        "BIDS root. We can then also query the ``BIDSPath`` for its root.\n",
        "\n"
      ]
    },
    {
      "cell_type": "code",
      "execution_count": 4,
      "metadata": {
        "collapsed": false
      },
      "outputs": [
        {
          "name": "stdout",
          "output_type": "stream",
          "text": [
            "c:\\Users\\jebe12\\anaconda3\\envs\\pyPerceive_dev\\lib\\site-packages\\mne_bids\\tests\\data\\tiny_bids\n"
          ]
        }
      ],
      "source": [
        "bids_path = BIDSPath(root=bids_root)\n",
        "print(bids_path.root)"
      ]
    },
    {
      "cell_type": "markdown",
      "metadata": {},
      "source": [
        "Great! But not really useful so far. BIDS also asks us to specify **subject\n",
        "identifiers**. We can either create a new ``BIDSPath``, or update our\n",
        "existing one. The value can be retrieved via the ``.subject`` attribute.\n",
        "\n"
      ]
    },
    {
      "cell_type": "code",
      "execution_count": 5,
      "metadata": {
        "collapsed": false
      },
      "outputs": [
        {
          "name": "stdout",
          "output_type": "stream",
          "text": [
            "01\n",
            "01\n"
          ]
        }
      ],
      "source": [
        "subject = '01'\n",
        "\n",
        "# Option 1: Create an entirely new BIDSPath.\n",
        "bids_path_new = BIDSPath(subject=subject, root=bids_root)\n",
        "print(bids_path_new.subject)\n",
        "\n",
        "# Option 2: Update the existing BIDSPath in-place.\n",
        "bids_path.update(subject=subject)\n",
        "print(bids_path.subject)"
      ]
    },
    {
      "cell_type": "markdown",
      "metadata": {},
      "source": [
        "In this example, we are going to update the existing ``BIDSPath`` using its\n",
        "``update()`` method. But note that all parameters we pass to this method can\n",
        "also be used when creating a ``BIDSPath``.\n",
        "\n",
        "Many studies consist of multiple **sessions**. As you may have guessed,\n",
        "BIDS specifies how to store data for each session, and consequently,\n",
        "``BIDSPath`` handles this for you too! Let's update our ``BIDSPath`` with\n",
        "information on our experimental session, and try to retrieve it again via\n",
        "``.session``.\n",
        "\n"
      ]
    },
    {
      "cell_type": "code",
      "execution_count": 7,
      "metadata": {
        "collapsed": false
      },
      "outputs": [
        {
          "name": "stdout",
          "output_type": "stream",
          "text": [
            "eeg\n"
          ]
        }
      ],
      "source": [
        "session = 'eeg'\n",
        "bids_path.update(session=session)\n",
        "print(bids_path.session)"
      ]
    },
    {
      "cell_type": "markdown",
      "metadata": {},
      "source": [
        "Now that was easy! We're almost there! We also need to specify a\n",
        "**data type**, i.e., ``meg`` for MEG data, ``eeg`` and ``ieeg`` for EEG and\n",
        "iEEG data, or ``anat`` for anatomical MRI scans. Typically, MNE-BIDS will\n",
        "infer the data type of your data automatically, for example when writing data\n",
        "using `mne_bids.write_raw_bids`. For the sake of this example, however, we\n",
        "are going to specify the data type explicitly.\n",
        "\n"
      ]
    },
    {
      "cell_type": "code",
      "execution_count": 8,
      "metadata": {
        "collapsed": false
      },
      "outputs": [
        {
          "name": "stdout",
          "output_type": "stream",
          "text": [
            "eeg\n"
          ]
        }
      ],
      "source": [
        "datatype = 'eeg'\n",
        "bids_path.update(datatype=datatype)\n",
        "print(bids_path.datatype)"
      ]
    },
    {
      "cell_type": "markdown",
      "metadata": {},
      "source": [
        "Excellent! Let's have a look at the path we have constructed!\n",
        "\n"
      ]
    },
    {
      "cell_type": "code",
      "execution_count": 9,
      "metadata": {
        "collapsed": false
      },
      "outputs": [
        {
          "name": "stdout",
          "output_type": "stream",
          "text": [
            "c:/Users/jebe12/anaconda3/envs/pyPerceive_dev/lib/site-packages/mne_bids/tests/data/tiny_bids/sub-01/ses-eeg/eeg/sub-01_ses-eeg_task-rest_eeg.vhdr\n"
          ]
        }
      ],
      "source": [
        "print(bids_path)"
      ]
    },
    {
      "cell_type": "markdown",
      "metadata": {},
      "source": [
        "As you can see, ``BIDSPath`` automatically arranged all the information we\n",
        "provided such that it creates a valid BIDS folder structure. You can also\n",
        "retrieve a `pathlib.Path` object of this path:\n",
        "\n"
      ]
    },
    {
      "cell_type": "code",
      "execution_count": 10,
      "metadata": {
        "collapsed": false
      },
      "outputs": [
        {
          "data": {
            "text/plain": [
              "WindowsPath('c:/Users/jebe12/anaconda3/envs/pyPerceive_dev/lib/site-packages/mne_bids/tests/data/tiny_bids/sub-01/ses-eeg/eeg/sub-01_ses-eeg_task-rest_eeg.vhdr')"
            ]
          },
          "execution_count": 10,
          "metadata": {},
          "output_type": "execute_result"
        }
      ],
      "source": [
        "pathlib_path = bids_path.fpath\n",
        "pathlib_path"
      ]
    },
    {
      "cell_type": "markdown",
      "metadata": {},
      "source": [
        "Let's have a closer look at the components of our ``BIDSPath`` again.\n",
        "\n"
      ]
    },
    {
      "cell_type": "code",
      "execution_count": 11,
      "metadata": {
        "collapsed": false
      },
      "outputs": [
        {
          "data": {
            "text/plain": [
              "BIDSPath(\n",
              "root: c:/Users/jebe12/anaconda3/envs/pyPerceive_dev/lib/site-packages/mne_bids/tests/data/tiny_bids\n",
              "datatype: eeg\n",
              "basename: sub-01_ses-eeg)"
            ]
          },
          "execution_count": 11,
          "metadata": {},
          "output_type": "execute_result"
        }
      ],
      "source": [
        "bids_path"
      ]
    },
    {
      "cell_type": "markdown",
      "metadata": {},
      "source": [
        "The most interesting thing here is probably the **basename**. It's what\n",
        "MNE-BIDS uses to name individual files. The basename consists of a set of\n",
        "so-called **entities**, which are concatenated using underscores. You can\n",
        "access it directly:\n",
        "\n"
      ]
    },
    {
      "cell_type": "code",
      "execution_count": 12,
      "metadata": {
        "collapsed": false
      },
      "outputs": [
        {
          "data": {
            "text/plain": [
              "'sub-01_ses-eeg'"
            ]
          },
          "execution_count": 12,
          "metadata": {},
          "output_type": "execute_result"
        }
      ],
      "source": [
        "bids_path.basename"
      ]
    },
    {
      "cell_type": "markdown",
      "metadata": {},
      "source": [
        "The two entities you can see here are the ``subject`` entity (``sub``) and\n",
        "the ``session`` entity (``ses``). Each entity name also has a value; for\n",
        "``sub``, this is ``01``, and for ``ses``, it is ``eeg`` in our example.\n",
        "Entity names (or \"keys\") and values are separated via hyphens.\n",
        "BIDS knows a much larger number of entities, and MNE-BIDS allows you to make\n",
        "use of them. To get a list of all supported entities, use:\n",
        "\n"
      ]
    },
    {
      "cell_type": "code",
      "execution_count": 13,
      "metadata": {
        "collapsed": false
      },
      "outputs": [
        {
          "data": {
            "text/plain": [
              "{'subject': '01',\n",
              " 'session': 'eeg',\n",
              " 'task': None,\n",
              " 'acquisition': None,\n",
              " 'run': None,\n",
              " 'processing': None,\n",
              " 'space': None,\n",
              " 'recording': None,\n",
              " 'split': None,\n",
              " 'description': None}"
            ]
          },
          "execution_count": 13,
          "metadata": {},
          "output_type": "execute_result"
        }
      ],
      "source": [
        "bids_path.entities"
      ]
    },
    {
      "cell_type": "markdown",
      "metadata": {},
      "source": [
        "As you can see, most entity keys are set to ``None``, which is the default\n",
        "and implies that no value has been set. Let us add a ``run`` entity, and\n",
        "remove the ``session``:\n",
        "\n"
      ]
    },
    {
      "cell_type": "code",
      "execution_count": 14,
      "metadata": {
        "collapsed": false
      },
      "outputs": [
        {
          "data": {
            "text/plain": [
              "BIDSPath(\n",
              "root: c:/Users/jebe12/anaconda3/envs/pyPerceive_dev/lib/site-packages/mne_bids/tests/data/tiny_bids\n",
              "datatype: eeg\n",
              "basename: sub-01_run-01)"
            ]
          },
          "execution_count": 14,
          "metadata": {},
          "output_type": "execute_result"
        }
      ],
      "source": [
        "run = '01'\n",
        "session = None\n",
        "bids_path.update(run=run, session=session)\n",
        "bids_path"
      ]
    },
    {
      "cell_type": "markdown",
      "metadata": {},
      "source": [
        "As you can see, the ``basename`` has been updated. In fact, the entire\n",
        "**path** has been updated, and the ``ses-eeg`` folder has been dropped from\n",
        "the path:\n",
        "\n"
      ]
    },
    {
      "cell_type": "code",
      "execution_count": 15,
      "metadata": {
        "collapsed": false
      },
      "outputs": [
        {
          "name": "stdout",
          "output_type": "stream",
          "text": [
            "c:\\Users\\jebe12\\anaconda3\\envs\\pyPerceive_dev\\lib\\site-packages\\mne_bids\\tests\\data\\tiny_bids\\sub-01\\eeg\\sub-01_run-01\n"
          ]
        }
      ],
      "source": [
        "print(bids_path.fpath)"
      ]
    },
    {
      "cell_type": "markdown",
      "metadata": {},
      "source": [
        "Oups! The cell above produced a ``RuntimeWarning`` that our data file could\n",
        "not be found. That's because we changed the ``run`` and ``session`` entities\n",
        "above, and the ``tiny_bids`` dataset does not contain corresponding data.\n",
        "\n",
        "That shows us that ``BIDSPath`` is doing a lot of guess-work and checking\n",
        "in the background, but note that this may change in the future.\n",
        "\n",
        "For now, let's revert to the last working iteration of our ``bids_path``\n",
        "instance.\n",
        "\n"
      ]
    },
    {
      "cell_type": "code",
      "execution_count": null,
      "metadata": {
        "collapsed": false
      },
      "outputs": [],
      "source": [
        "bids_path.update(run=None, session='eeg')\n",
        "print(bids_path.fpath)"
      ]
    },
    {
      "cell_type": "markdown",
      "metadata": {},
      "source": [
        "Awesome! We're almost done! Two important things are still missing, though:\n",
        "the so-called **suffix** and the filename **extension**. Sometimes these\n",
        "terms are used interchangeably, but in BIDS, they have a very specific\n",
        "and different meaning!\n",
        "\n",
        "The **suffix** is the last part of a BIDS filename before the extension. It\n",
        "is the same as the datatype for MEG, EEG, and iEEG recordings (i.e.\n",
        "``meg``, ``eeg``, and ``ieeg``, respectively) and ``T1w`` for T1-weighted\n",
        "MRI scans. But the suffix is also used to create the names of sidecar files\n",
        "like ``*_events.tsv``.\n",
        "\n",
        "Which brings us directly to the **extension**: the very last part of a\n",
        "filename. In MNE-BIDS, the extension contains a leading period, e.g.\n",
        "``.tsv``.\n",
        "Let's put our new knowledge to use!\n",
        "\n"
      ]
    },
    {
      "cell_type": "code",
      "execution_count": 16,
      "metadata": {
        "collapsed": false
      },
      "outputs": [
        {
          "name": "stdout",
          "output_type": "stream",
          "text": [
            "c:\\Users\\jebe12\\anaconda3\\envs\\pyPerceive_dev\\lib\\site-packages\\mne_bids\\tests\\data\\tiny_bids\\sub-01\\eeg\\sub-01_run-01_eeg.vhdr\n"
          ]
        },
        {
          "data": {
            "text/plain": [
              "BIDSPath(\n",
              "root: c:/Users/jebe12/anaconda3/envs/pyPerceive_dev/lib/site-packages/mne_bids/tests/data/tiny_bids\n",
              "datatype: eeg\n",
              "basename: sub-01_run-01_eeg.vhdr)"
            ]
          },
          "execution_count": 16,
          "metadata": {},
          "output_type": "execute_result"
        }
      ],
      "source": [
        "bids_path.update(suffix='eeg', extension='.vhdr')\n",
        "print(bids_path.fpath)\n",
        "bids_path"
      ]
    },
    {
      "cell_type": "markdown",
      "metadata": {},
      "source": [
        "By default, most MNE-BIDS functions will try to infer to correct\n",
        "suffix and extension for your data, and you don't need to specify them\n",
        "manually.\n",
        "\n"
      ]
    }
  ],
  "metadata": {
    "kernelspec": {
      "display_name": "pyPerceive_dev",
      "language": "python",
      "name": "python3"
    },
    "language_info": {
      "codemirror_mode": {
        "name": "ipython",
        "version": 3
      },
      "file_extension": ".py",
      "mimetype": "text/x-python",
      "name": "python",
      "nbconvert_exporter": "python",
      "pygments_lexer": "ipython3",
      "version": "3.10.6"
    },
    "vscode": {
      "interpreter": {
        "hash": "3f70f96619c4c5eb645d0e9073112ce77298f8a2779fc08300cec5240d192365"
      }
    }
  },
  "nbformat": 4,
  "nbformat_minor": 0
}
