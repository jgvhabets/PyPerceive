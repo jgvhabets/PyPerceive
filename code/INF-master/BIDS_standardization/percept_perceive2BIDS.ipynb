{
 "cells": [
  {
   "attachments": {},
   "cell_type": "markdown",
   "metadata": {},
   "source": [
    "# Percept perceived data to BIDS conformation"
   ]
  },
  {
   "attachments": {},
   "cell_type": "markdown",
   "metadata": {},
   "source": [
    "## Import packages"
   ]
  },
  {
   "cell_type": "code",
   "execution_count": 8,
   "metadata": {},
   "outputs": [],
   "source": [
    "# importing Python and packages\n",
    "\n",
    "import os\n",
    "import sys\n",
    "import importlib\n",
    "import json\n",
    "from dataclasses import dataclass, field, fields\n",
    "from itertools import compress\n",
    "import csv\n",
    "import pandas as pd\n",
    "import numpy as np\n",
    "\n",
    "import scipy\n",
    "import matplotlib.pyplot as plt\n",
    "from scipy import signal\n",
    "\n",
    "import openpyxl\n",
    "from openpyxl import Workbook, load_workbook\n",
    "import xlrd\n",
    "\n",
    "#mne\n",
    "import mne_bids\n",
    "from mne_bids import (write_raw_bids, read_raw_bids, write_meg_calibration,\n",
    "                      write_meg_crosstalk, BIDSPath, print_dir_tree,\n",
    "                      make_dataset_description)\n",
    "\n",
    "from mne_bids.stats import count_events\n",
    "               \n",
    "import mne\n",
    "from mne.datasets import sample, eegbci\n",
    "from mne.time_frequency import tfr_morlet \n",
    "\n",
    "from pprint import pprint\n",
    "import shutil\n",
    "\n",
    "\n",
    "from importlib import reload          "
   ]
  },
  {
   "cell_type": "code",
   "execution_count": 1,
   "metadata": {},
   "outputs": [
    {
     "name": "stdout",
     "output_type": "stream",
     "text": [
      "Using qt as 2D backend.\n"
     ]
    }
   ],
   "source": [
    "# imports from Jonathan\n",
    "# Dependencies to install before use\n",
    "# For ipyfilechooser and ipywidgets\n",
    "# conda install -c conda-forge ipywidgets\n",
    "# conda install -c conda-forge ipyfilechooser\n",
    "# For TMSiSDK\n",
    "# download from https://gitlab.com/tmsi/tmsi-python-interface/-/tree/main/TMSiSDK\n",
    "# and do pip install https://gitlab.com/tmsi/tmsi-python-interface/-/blob/main/requirements_Windows.txt\n",
    "\n",
    "# Import packages and functions\n",
    "import ipywidgets as widgets\n",
    "from IPython.display import display\n",
    "from ipyfilechooser import FileChooser\n",
    "from BIDS_input_backend import *\n",
    "# from TMSiSDK.file_readers import Poly5Reader\n",
    "import ipympl"
   ]
  },
  {
   "attachments": {},
   "cell_type": "markdown",
   "metadata": {},
   "source": [
    "Get path to the current PyPerceive code folder"
   ]
  },
  {
   "cell_type": "code",
   "execution_count": 3,
   "metadata": {},
   "outputs": [
    {
     "data": {
      "text/plain": [
       "'c:\\\\Users\\\\jebe12\\\\Research\\\\PyPerceive_Project\\\\Code\\\\PyPerceive\\\\code'"
      ]
     },
     "execution_count": 3,
     "metadata": {},
     "output_type": "execute_result"
    }
   ],
   "source": [
    "# create a path to the PyPerceive_Project folder -> project_path\n",
    "# and a path to the \"Data\" folder and \"Code\" folder within the project\n",
    "project_path = os.getcwd()\n",
    "while project_path[-10:] != 'PyPerceive':\n",
    "    project_path = os.path.dirname(project_path)\n",
    "\n",
    "code_path = os.path.join(project_path, 'code')\n",
    "sys.path.append(code_path)\n",
    "\n",
    "# change directory to code path\n",
    "os.chdir(code_path)\n",
    "os.getcwd()"
   ]
  },
  {
   "attachments": {},
   "cell_type": "markdown",
   "metadata": {},
   "source": [
    "Import internal packages from the folder PerceiveImport"
   ]
  },
  {
   "cell_type": "code",
   "execution_count": 5,
   "metadata": {},
   "outputs": [
    {
     "data": {
      "text/plain": [
       "<module 'PerceiveImport.methods.find_folders' from 'c:\\\\Users\\\\jebe12\\\\Research\\\\PyPerceive_Project\\\\Code\\\\PyPerceive\\\\code\\\\PerceiveImport\\\\methods\\\\find_folders.py'>"
      ]
     },
     "execution_count": 5,
     "metadata": {},
     "output_type": "execute_result"
    }
   ],
   "source": [
    "# Import internal packages\n",
    "\n",
    "from PerceiveImport.classes import main_class, modality_class, metadata_class, session_class, condition_class, task_class\n",
    "import PerceiveImport.methods.load_matfile as load_matfile\n",
    "import PerceiveImport.methods.find_folders as find_folders\n",
    "\n",
    "importlib.reload(main_class)\n",
    "importlib.reload(session_class)\n",
    "importlib.reload(task_class)\n",
    "importlib.reload(condition_class)\n",
    "importlib.reload(metadata_class)\n",
    "importlib.reload(modality_class)\n",
    "importlib.reload(load_matfile)\n",
    "importlib.reload(find_folders)"
   ]
  },
  {
   "attachments": {},
   "cell_type": "markdown",
   "metadata": {},
   "source": [
    "## Define Subject and File details of the desired Perceive Files\n",
    "- first load perceived .mat files with mne.io.read_raw_ft()\n",
    "- then convert mne data to bids\n",
    "- save bids converted files in rawdata"
   ]
  },
  {
   "cell_type": "code",
   "execution_count": 15,
   "metadata": {},
   "outputs": [
    {
     "name": "stdout",
     "output_type": "stream",
     "text": [
      "Creating RawArray with float64 data, n_channels=6, n_times=5288\n",
      "    Range : 0 ... 5287 =      0.000 ...    21.148 secs\n",
      "Ready.\n",
      "LOADED sub024_ses-2021061806255999_run-LMTD20210618062900_1.mat\n",
      "Creating RawArray with float64 data, n_channels=6, n_times=5288\n",
      "    Range : 0 ... 5287 =      0.000 ...    21.148 secs\n",
      "Ready.\n",
      "LOADED sub024_ses-2021061806255999_run-LMTD20210618063200_4.mat\n",
      "Creating RawArray with float64 data, n_channels=3, n_times=5187\n",
      "    Range : 0 ... 5186 =      0.000 ...    20.744 secs\n",
      "Ready.\n",
      "LOADED sub024_ses-2021061806255999_run-LMTD20210618063300_5.mat\n",
      "Creating RawArray with float64 data, n_channels=6, n_times=5288\n",
      "    Range : 0 ... 5287 =      0.000 ...    21.148 secs\n",
      "Ready.\n",
      "LOADED sub024_ses-2021061806255999_run-LMTD20210618063400_6.mat\n",
      "Creating RawArray with float64 data, n_channels=6, n_times=5288\n",
      "    Range : 0 ... 5287 =      0.000 ...    21.148 secs\n",
      "Ready.\n",
      "LOADED sub024_ses-2021061806255999_run-LMTD20210618063500_7.mat\n",
      "Creating RawArray with float64 data, n_channels=3, n_times=5313\n",
      "    Range : 0 ... 5312 =      0.000 ...    21.248 secs\n",
      "Ready.\n",
      "LOADED sub024_ses-2021061806255999_run-LMTD20210618063500_8.mat\n"
     ]
    }
   ],
   "source": [
    "# define subject and recording details to select and load perceived .mat files\n",
    "\n",
    "sub024 = main_class.PerceiveData(\n",
    "    sub = \"024\", \n",
    "    incl_modalities=[\"survey\"],\n",
    "    incl_session = [\"postop\"],\n",
    "    incl_condition =['m0s0'],\n",
    "    incl_task = [\"rest\"]\n",
    ")"
   ]
  },
  {
   "cell_type": "code",
   "execution_count": 17,
   "metadata": {},
   "outputs": [],
   "source": [
    "raw = sub024.survey.postop.m0s0.rest.data['RestBSSuRingL']\n"
   ]
  },
  {
   "attachments": {},
   "cell_type": "markdown",
   "metadata": {},
   "source": [
    "Create configuration file with mne_bids_pipeline\n",
    "- make sure you install mne_bids_pipeline beforehand: conda install -c conda-forge mne-bids-pipeline"
   ]
  },
  {
   "cell_type": "code",
   "execution_count": 15,
   "metadata": {},
   "outputs": [
    {
     "data": {
      "text/plain": [
       "'c:\\\\Users\\\\jebe12\\\\Research\\\\PyPerceive_Project\\\\Code\\\\PyPerceive\\\\code'"
      ]
     },
     "execution_count": 15,
     "metadata": {},
     "output_type": "execute_result"
    }
   ],
   "source": [
    "code_path"
   ]
  },
  {
   "cell_type": "code",
   "execution_count": null,
   "metadata": {},
   "outputs": [],
   "source": [
    "# use anaconda prompt terminal: \n",
    "# mne_bids_pipeline --create-config=c:\\\\Users\\\\jebe12\\\\Research\\\\PyPerceive_Project\\\\Code\\\\PyPerceive\\\\code\\\\perceive2BIDS_config.py"
   ]
  },
  {
   "attachments": {},
   "cell_type": "markdown",
   "metadata": {},
   "source": [
    "### Define bids_root and bids_path\n",
    "- BIDS root is the root folder of your BIDS dataset\n",
    "- BIDS path \n",
    "- sourcedata is stored in Onedrive: DATA_TEST > perceivedata  "
   ]
  },
  {
   "cell_type": "code",
   "execution_count": 26,
   "metadata": {},
   "outputs": [
    {
     "data": {
      "text/plain": [
       "'c:\\\\Users\\\\jebe12\\\\OneDrive - Charité - Universitätsmedizin Berlin\\\\DATA_TEST\\\\perceivedata2BIDS\\\\rawdata'"
      ]
     },
     "execution_count": 26,
     "metadata": {},
     "output_type": "execute_result"
    }
   ],
   "source": [
    "# define bids_root = path to rawdata folder\n",
    "\n",
    "datapath = os.path.join(find_folders.get_onedrive_path(\"onedrive\")) # path to DATA_TEST\n",
    "\n",
    "bids_root = os.path.join(datapath, \"perceivedata2BIDS\", \"rawdata\")\n",
    "bids_root"
   ]
  },
  {
   "cell_type": "code",
   "execution_count": 27,
   "metadata": {},
   "outputs": [
    {
     "data": {
      "text/plain": [
       "BIDSPath(\n",
       "root: c:/Users/jebe12/OneDrive - Charité - Universitätsmedizin Berlin/DATA_TEST/perceivedata2BIDS/rawdata\n",
       "datatype: ieeg\n",
       "basename: sub-024_ses-EEGLfpMedOff01_task-Rest_acq-StimOff_run-01)"
      ]
     },
     "execution_count": 27,
     "metadata": {},
     "output_type": "execute_result"
    }
   ],
   "source": [
    "# define path starting at bids_root, defining BIDS folder structure hierarchy\n",
    "\n",
    "bids_path = BIDSPath(subject='024', session='EEGLfpMedOff01', task='Rest',\n",
    "                                 acquisition='StimOff', run='01', datatype='ieeg',\n",
    "                                 root=bids_root)\n",
    "\n",
    "bids_path"
   ]
  },
  {
   "cell_type": "code",
   "execution_count": 28,
   "metadata": {},
   "outputs": [
    {
     "name": "stdout",
     "output_type": "stream",
     "text": [
      "c:\\Users\\jebe12\\OneDrive - Charité - Universitätsmedizin Berlin\\DATA_TEST\\perceivedata2BIDS\\rawdata\\sub-024\\ses-EEGLfpMedOff01\\ieeg\n"
     ]
    }
   ],
   "source": [
    "# create mne-bids folder hierarchies\n",
    "\n",
    "bids_path = bids_path.mkdir()\n",
    "print(bids_path.directory)"
   ]
  },
  {
   "attachments": {},
   "cell_type": "markdown",
   "metadata": {},
   "source": [
    "### Start a new BIDS directory using write_raw_bids()\n",
    "- this function extracts meta data from raw data \n",
    "- and formats it in a BIDS compatible way"
   ]
  },
  {
   "cell_type": "code",
   "execution_count": 24,
   "metadata": {},
   "outputs": [
    {
     "name": "stdout",
     "output_type": "stream",
     "text": [
      "Save raw data to a BIDS-compliant folder structure.\n",
      "\n",
      "    .. warning:: * The original file is simply copied over if the original\n",
      "                   file format is BIDS-supported for that datatype. Otherwise,\n",
      "                   this function will convert to a BIDS-supported file format\n",
      "                   while warning the user. For EEG and iEEG data, conversion\n",
      "                   will be to BrainVision format; for MEG, conversion will be\n",
      "                   to FIFF.\n",
      "\n",
      "                 * ``mne-bids`` will infer the manufacturer information\n",
      "                   from the file extension. If your file format is non-standard\n",
      "                   for the manufacturer, please update the manufacturer field\n",
      "                   in the sidecars manually.\n",
      "\n",
      "    Parameters\n",
      "    ----------\n",
      "    raw : mne.io.Raw\n",
      "        The raw data. It must be an instance of `mne.io.Raw` that is not\n",
      "        already loaded from disk unless ``allow_preload`` is explicitly set\n",
      "        to ``True``. See warning for the ``allow_preload`` parameter.\n",
      "    bids_path : BIDSPath\n",
      "        The file to write. The `mne_bids.BIDSPath` instance passed here\n",
      "        **must** have the ``subject``, ``task``, and ``root`` attributes set.\n",
      "        If the ``datatype`` attribute is not set, it will be inferred from the\n",
      "        recording data type found in ``raw``. In case of multiple data types,\n",
      "        the ``.datatype`` attribute must be set.\n",
      "        Example::\n",
      "\n",
      "            bids_path = BIDSPath(subject='01', session='01', task='testing',\n",
      "                                 acquisition='01', run='01', datatype='meg',\n",
      "                                 root='/data/BIDS')\n",
      "\n",
      "        This will write the following files in the correct subfolder ``root``::\n",
      "\n",
      "            sub-01_ses-01_task-testing_acq-01_run-01_meg.fif\n",
      "            sub-01_ses-01_task-testing_acq-01_run-01_meg.json\n",
      "            sub-01_ses-01_task-testing_acq-01_run-01_channels.tsv\n",
      "            sub-01_ses-01_acq-01_coordsystem.json\n",
      "\n",
      "        and the following one if ``events`` is not ``None``::\n",
      "\n",
      "            sub-01_ses-01_task-testing_acq-01_run-01_events.tsv\n",
      "\n",
      "        and add a line to the following files::\n",
      "\n",
      "            participants.tsv\n",
      "            scans.tsv\n",
      "\n",
      "        Note that the extension is automatically inferred from the raw\n",
      "        object.\n",
      "    events : path-like | np.ndarray | None\n",
      "        Use this parameter to specify events to write to the ``*_events.tsv``\n",
      "        sidecar file, additionally to the object's :class:`~mne.Annotations`\n",
      "        (which are always written).\n",
      "        If ``path-like``, specifies the location of an MNE events file.\n",
      "        If an array, the MNE events array (shape: ``(n_events, 3)``).\n",
      "        If a path or an array and ``raw.annotations`` exist, the union of\n",
      "        ``events`` and ``raw.annotations`` will be written.\n",
      "        Mappings from event names to event codes (listed in the third\n",
      "        column of the MNE events array) must be specified via the ``event_id``\n",
      "        parameter; otherwise, an exception is raised. If\n",
      "        :class:`~mne.Annotations` are present, their descriptions must be\n",
      "        included in ``event_id`` as well.\n",
      "        If ``None``, events will only be inferred from the raw object's\n",
      "        :class:`~mne.Annotations`.\n",
      "\n",
      "        .. note::\n",
      "           If specified, writes the union of ``events`` and\n",
      "           ``raw.annotations``. If you wish to **only** write\n",
      "           ``raw.annotations``, pass ``events=None``. If you want to\n",
      "           **exclude** the events in ``raw.annotations`` from being written,\n",
      "           call ``raw.set_annotations(None)`` before invoking this function.\n",
      "\n",
      "        .. note::\n",
      "           Descriptions of all event codes must be specified via the\n",
      "           ``event_id`` parameter.\n",
      "\n",
      "    event_id : dict | None\n",
      "        Descriptions or names describing the event codes, if you passed\n",
      "        ``events``. The descriptions will be written to the ``trial_type``\n",
      "        column in ``*_events.tsv``. The dictionary keys correspond to the event\n",
      "        description,s and the values to the event codes. You must specify a\n",
      "        description for all event codes appearing in ``events``. If your data\n",
      "        contains :class:`~mne.Annotations`, you can use this parameter to\n",
      "        assign event codes to each unique annotation description (mapping from\n",
      "        description to event code).\n",
      "    anonymize : dict | None\n",
      "        If `None` (default), no anonymization is performed.\n",
      "        If a dictionary, data will be anonymized depending on the dictionary\n",
      "        keys: ``daysback`` is a required key, ``keep_his`` is optional.\n",
      "\n",
      "        ``daysback`` : int\n",
      "            Number of days by which to move back the recording date in time.\n",
      "            In studies with multiple subjects the relative recording date\n",
      "            differences between subjects can be kept by using the same number\n",
      "            of ``daysback`` for all subject anonymizations. ``daysback`` should\n",
      "            be great enough to shift the date prior to 1925 to conform with\n",
      "            BIDS anonymization rules.\n",
      "\n",
      "        ``keep_his`` : bool\n",
      "            If ``False`` (default), all subject information next to the\n",
      "            recording date will be overwritten as well. If ``True``, keep\n",
      "            subject information apart from the recording date.\n",
      "\n",
      "        ``keep_source`` : bool\n",
      "            Whether to store the name of the ``raw`` input file in the\n",
      "            ``source`` column of ``scans.tsv``. By default, this information\n",
      "            is not stored.\n",
      "\n",
      "    format : 'auto' | 'BrainVision' | 'EDF' | 'FIF'\n",
      "        Controls the file format of the data after BIDS conversion. If\n",
      "        ``'auto'``, MNE-BIDS will attempt to convert the input data to BIDS\n",
      "        without a change of the original file format. A conversion to a\n",
      "        different file format (BrainVision, EDF, or FIF) will only take place\n",
      "        when the original file format lacks some necessary features. Conversion\n",
      "        can be forced to BrainVision or EDF for (i)EEG, and to FIF for MEG\n",
      "        data.\n",
      "    symlink : bool\n",
      "        Instead of copying the source files, only create symbolic links to\n",
      "        preserve storage space. This is only allowed when not anonymizing the\n",
      "        data (i.e., ``anonymize`` must be ``None``).\n",
      "\n",
      "        .. note::\n",
      "           Symlinks currently only work with FIFF files. In case of split\n",
      "           files, only a link to the first file will be created, and\n",
      "           :func:`mne_bids.read_raw_bids` will correctly handle reading the\n",
      "           data again.\n",
      "\n",
      "        .. note::\n",
      "           Symlinks are currently only supported on macOS and Linux. We will\n",
      "           add support for Windows 10 at a later time.\n",
      "\n",
      "    empty_room : mne.io.Raw | BIDSPath | None\n",
      "        The empty-room recording to be associated with this file. This is\n",
      "        only supported for MEG data.\n",
      "        If :class:`~mne.io.Raw`, you may pass raw data that was not preloaded\n",
      "        (otherwise, pass ``allow_preload=True``); i.e., it behaves similar to\n",
      "        the ``raw`` parameter. The session name will be automatically generated\n",
      "        from the raw object's ``info['meas_date']``.\n",
      "        If a :class:`~mne_bids.BIDSPath`, the ``root`` attribute must be the\n",
      "        same as in ``bids_path``. Pass ``None`` (default) if you do not wish to\n",
      "        specify an associated empty-room recording.\n",
      "\n",
      "        .. versionchanged:: 0.11\n",
      "           Accepts :class:`~mne.io.Raw` data.\n",
      "    allow_preload : bool\n",
      "        If ``True``, allow writing of preloaded raw objects (i.e.,\n",
      "        ``raw.preload`` is ``True``). Because the original file is ignored, you\n",
      "        must specify what ``format`` to write (not ``auto``).\n",
      "\n",
      "        .. warning::\n",
      "            BIDS was originally designed for unprocessed or minimally processed\n",
      "            data. For this reason, by default, we prevent writing of preloaded\n",
      "            data that may have been modified. Only use this option when\n",
      "            absolutely necessary: for example, manually converting from file\n",
      "            formats not supported by MNE or writing preprocessed derivatives.\n",
      "            Be aware that these use cases are not fully supported.\n",
      "    montage : mne.channels.DigMontage | None\n",
      "        The montage with channel positions if channel position data are\n",
      "        to be stored in a format other than \"head\" (the internal MNE\n",
      "        coordinate frame that the data in ``raw`` is stored in).\n",
      "    acpc_aligned : bool\n",
      "        It is difficult to check whether the T1 scan is ACPC aligned which\n",
      "        means that \"mri\" coordinate space is \"ACPC\" BIDS coordinate space.\n",
      "        So, this flag is required to be True when the digitization data\n",
      "        is in \"mri\" for intracranial data to confirm that the T1 is\n",
      "        ACPC-aligned.\n",
      "    overwrite : bool\n",
      "        Whether to overwrite existing files or data in files.\n",
      "        Defaults to ``False``.\n",
      "\n",
      "        If ``True``, any existing files with the same BIDS parameters\n",
      "        will be overwritten with the exception of the ``*_participants.tsv``\n",
      "        and ``*_scans.tsv`` files. For these files, parts of pre-existing data\n",
      "        that match the current data will be replaced. For\n",
      "        ``*_participants.tsv``, specifically, age, sex and hand fields will be\n",
      "        overwritten, while any manually added fields in ``participants.json``\n",
      "        and ``participants.tsv`` by a user will be retained.\n",
      "        If ``False``, no existing data will be overwritten or\n",
      "        replaced.\n",
      "    events_data\n",
      "        .. deprecated:: 0.11\n",
      "           Use ``events`` instead.\n",
      "\n",
      "    \n",
      "    verbose : bool | str | int | None\n",
      "        Control verbosity of the logging output. If ``None``, use the default\n",
      "        verbosity level. See the :ref:`logging documentation <tut-logging>` and\n",
      "        :func:`mne.verbose` for details. Should only be passed as a keyword\n",
      "        argument.\n",
      "\n",
      "    Returns\n",
      "    -------\n",
      "    bids_path : BIDSPath\n",
      "        The path of the created data file.\n",
      "\n",
      "        .. note::\n",
      "           If you passed empty-room raw data via ``empty_room``, the\n",
      "           :class:`~mne_bids.BIDSPath` of the empty-room recording can be\n",
      "           retrieved via ``bids_path.find_empty_room(use_sidecar_only=True)``.\n",
      "\n",
      "    Notes\n",
      "    -----\n",
      "    You should ensure that ``raw.info['subject_info']`` and\n",
      "    ``raw.info['meas_date']`` are set to proper (not-``None``) values to allow\n",
      "    for the correct computation of each participant's age when creating\n",
      "    ``*_participants.tsv``.\n",
      "\n",
      "    This function will convert existing `mne.Annotations` from\n",
      "    ``raw.annotations`` to events. Additionally, any events supplied via\n",
      "    ``events`` will be written too. To avoid writing of annotations,\n",
      "    remove them from the raw file via ``raw.set_annotations(None)`` before\n",
      "    invoking ``write_raw_bids``.\n",
      "\n",
      "    To write events encoded in a ``STIM`` channel, you first need to create the\n",
      "    events array manually and pass it to this function:\n",
      "\n",
      "    ..\n",
      "        events = mne.find_events(raw, min_duration=0.002)\n",
      "        write_raw_bids(..., events=events)\n",
      "\n",
      "    See the documentation of :func:`mne.find_events` for more information on\n",
      "    event extraction from ``STIM`` channels.\n",
      "\n",
      "    When anonymizing ``.edf`` files, then the file format for EDF limits\n",
      "    how far back we can set the recording date. Therefore, all anonymized\n",
      "    EDF datasets will have an internal recording date of ``01-01-1985``,\n",
      "    and the actual recording date will be stored in the ``scans.tsv``\n",
      "    file's ``acq_time`` column.\n",
      "\n",
      "    ``write_raw_bids`` will generate a ``dataset_description.json`` file\n",
      "    if it does not already exist. Minimal metadata will be written there.\n",
      "    If one sets ``overwrite`` to ``True`` here, it will not overwrite an\n",
      "    existing ``dataset_description.json`` file.\n",
      "    If you need to add more data there, or overwrite it, then you should\n",
      "    call :func:`mne_bids.make_dataset_description` directly.\n",
      "\n",
      "    When writing EDF or BDF files, all file extensions are forced to be\n",
      "    lower-case, in compliance with the BIDS specification.\n",
      "\n",
      "    See Also\n",
      "    --------\n",
      "    mne.io.Raw.anonymize\n",
      "    mne.find_events\n",
      "    mne.Annotations\n",
      "    mne.events_from_annotations\n",
      "\n",
      "    \n"
     ]
    }
   ],
   "source": [
    "print(mne_bids.write_raw_bids.__doc__)"
   ]
  },
  {
   "cell_type": "code",
   "execution_count": 33,
   "metadata": {},
   "outputs": [
    {
     "data": {
      "text/plain": [
       "['LFP_Stn_L_03',\n",
       " 'LFP_Stn_L_13',\n",
       " 'LFP_Stn_L_02',\n",
       " 'LFP_Stn_L_12',\n",
       " 'LFP_Stn_L_01',\n",
       " 'LFP_Stn_L_23']"
      ]
     },
     "execution_count": 33,
     "metadata": {},
     "output_type": "execute_result"
    }
   ],
   "source": [
    "raw.ch_names"
   ]
  },
  {
   "cell_type": "code",
   "execution_count": 40,
   "metadata": {},
   "outputs": [],
   "source": [
    "\n",
    "for ch in raw.ch_names:\n",
    "    raw.set_channel_types({ch:\"eeg\"})\n"
   ]
  },
  {
   "cell_type": "code",
   "execution_count": 41,
   "metadata": {},
   "outputs": [
    {
     "ename": "ValueError",
     "evalue": "The specified datatype ieeg was not found in the raw object. Please specify the correct datatype using `bids_path.update(datatype=\"<datatype>\")` or use raw.set_channel_types to set the correct channel types in the raw object.",
     "output_type": "error",
     "traceback": [
      "\u001b[1;31m---------------------------------------------------------------------------\u001b[0m",
      "\u001b[1;31mValueError\u001b[0m                                Traceback (most recent call last)",
      "\u001b[1;32mc:\\Users\\jebe12\\Research\\PyPerceive_Project\\Code\\PyPerceive\\code\\INF-master\\BIDS_standardization\\percept_perceive2BIDS.ipynb Cell 23\u001b[0m in \u001b[0;36m<cell line: 3>\u001b[1;34m()\u001b[0m\n\u001b[0;32m      <a href='vscode-notebook-cell:/c%3A/Users/jebe12/Research/PyPerceive_Project/Code/PyPerceive/code/INF-master/BIDS_standardization/percept_perceive2BIDS.ipynb#X23sZmlsZQ%3D%3D?line=0'>1</a>\u001b[0m \u001b[39m# write the rawdata to bids\u001b[39;00m\n\u001b[1;32m----> <a href='vscode-notebook-cell:/c%3A/Users/jebe12/Research/PyPerceive_Project/Code/PyPerceive/code/INF-master/BIDS_standardization/percept_perceive2BIDS.ipynb#X23sZmlsZQ%3D%3D?line=2'>3</a>\u001b[0m write_raw_bids(\n\u001b[0;32m      <a href='vscode-notebook-cell:/c%3A/Users/jebe12/Research/PyPerceive_Project/Code/PyPerceive/code/INF-master/BIDS_standardization/percept_perceive2BIDS.ipynb#X23sZmlsZQ%3D%3D?line=3'>4</a>\u001b[0m     raw\u001b[39m=\u001b[39;49mraw,\n\u001b[0;32m      <a href='vscode-notebook-cell:/c%3A/Users/jebe12/Research/PyPerceive_Project/Code/PyPerceive/code/INF-master/BIDS_standardization/percept_perceive2BIDS.ipynb#X23sZmlsZQ%3D%3D?line=4'>5</a>\u001b[0m     bids_path\u001b[39m=\u001b[39;49mbids_path,\n\u001b[0;32m      <a href='vscode-notebook-cell:/c%3A/Users/jebe12/Research/PyPerceive_Project/Code/PyPerceive/code/INF-master/BIDS_standardization/percept_perceive2BIDS.ipynb#X23sZmlsZQ%3D%3D?line=5'>6</a>\u001b[0m     overwrite\u001b[39m=\u001b[39;49m\u001b[39mFalse\u001b[39;49;00m,\n\u001b[0;32m      <a href='vscode-notebook-cell:/c%3A/Users/jebe12/Research/PyPerceive_Project/Code/PyPerceive/code/INF-master/BIDS_standardization/percept_perceive2BIDS.ipynb#X23sZmlsZQ%3D%3D?line=6'>7</a>\u001b[0m     \u001b[39mformat\u001b[39;49m\u001b[39m=\u001b[39;49m\u001b[39m\"\u001b[39;49m\u001b[39mBrainVision\u001b[39;49m\u001b[39m\"\u001b[39;49m,\n\u001b[0;32m      <a href='vscode-notebook-cell:/c%3A/Users/jebe12/Research/PyPerceive_Project/Code/PyPerceive/code/INF-master/BIDS_standardization/percept_perceive2BIDS.ipynb#X23sZmlsZQ%3D%3D?line=7'>8</a>\u001b[0m     allow_preload\u001b[39m=\u001b[39;49m\u001b[39mTrue\u001b[39;49;00m\n\u001b[0;32m      <a href='vscode-notebook-cell:/c%3A/Users/jebe12/Research/PyPerceive_Project/Code/PyPerceive/code/INF-master/BIDS_standardization/percept_perceive2BIDS.ipynb#X23sZmlsZQ%3D%3D?line=8'>9</a>\u001b[0m )\n",
      "File \u001b[1;32m<decorator-gen-623>:12\u001b[0m, in \u001b[0;36mwrite_raw_bids\u001b[1;34m(raw, bids_path, events, event_id, anonymize, format, symlink, empty_room, allow_preload, montage, acpc_aligned, overwrite, events_data, verbose)\u001b[0m\n",
      "File \u001b[1;32mc:\\Users\\jebe12\\anaconda3\\envs\\pyPerceive_dev\\lib\\site-packages\\mne_bids\\write.py:1658\u001b[0m, in \u001b[0;36mwrite_raw_bids\u001b[1;34m(raw, bids_path, events, event_id, anonymize, format, symlink, empty_room, allow_preload, montage, acpc_aligned, overwrite, events_data, verbose)\u001b[0m\n\u001b[0;32m   1655\u001b[0m     \u001b[39mraise\u001b[39;00m \u001b[39mValueError\u001b[39;00m(msg)\n\u001b[0;32m   1657\u001b[0m \u001b[39m# Initialize BIDSPath\u001b[39;00m\n\u001b[1;32m-> 1658\u001b[0m datatype \u001b[39m=\u001b[39m _handle_datatype(raw, bids_path\u001b[39m.\u001b[39;49mdatatype)\n\u001b[0;32m   1659\u001b[0m bids_path \u001b[39m=\u001b[39m (bids_path\u001b[39m.\u001b[39mcopy()\n\u001b[0;32m   1660\u001b[0m              \u001b[39m.\u001b[39mupdate(datatype\u001b[39m=\u001b[39mdatatype, suffix\u001b[39m=\u001b[39mdatatype, extension\u001b[39m=\u001b[39mext))\n\u001b[0;32m   1662\u001b[0m \u001b[39m# Check whether provided info and raw indicates valid MEG emptyroom data\u001b[39;00m\n",
      "File \u001b[1;32mc:\\Users\\jebe12\\anaconda3\\envs\\pyPerceive_dev\\lib\\site-packages\\mne_bids\\utils.py:116\u001b[0m, in \u001b[0;36m_handle_datatype\u001b[1;34m(raw, datatype)\u001b[0m\n\u001b[0;32m     98\u001b[0m \u001b[39m\"\"\"Check if datatype exists in raw object or infer datatype if possible.\u001b[39;00m\n\u001b[0;32m     99\u001b[0m \n\u001b[0;32m    100\u001b[0m \u001b[39mParameters\u001b[39;00m\n\u001b[1;32m   (...)\u001b[0m\n\u001b[0;32m    113\u001b[0m \u001b[39m    One of either ``'meg'``, ``'eeg'``, or ``'ieeg'``.\u001b[39;00m\n\u001b[0;32m    114\u001b[0m \u001b[39m\"\"\"\u001b[39;00m\n\u001b[0;32m    115\u001b[0m \u001b[39mif\u001b[39;00m datatype \u001b[39mis\u001b[39;00m \u001b[39mnot\u001b[39;00m \u001b[39mNone\u001b[39;00m:\n\u001b[1;32m--> 116\u001b[0m     _check_datatype(raw, datatype)\n\u001b[0;32m    117\u001b[0m     \u001b[39m# MEG data is not supported by BrainVision or EDF files\u001b[39;00m\n\u001b[0;32m    118\u001b[0m     \u001b[39mif\u001b[39;00m datatype \u001b[39min\u001b[39;00m [\u001b[39m'\u001b[39m\u001b[39meeg\u001b[39m\u001b[39m'\u001b[39m, \u001b[39m'\u001b[39m\u001b[39mieeg\u001b[39m\u001b[39m'\u001b[39m] \u001b[39mand\u001b[39;00m \u001b[39m'\u001b[39m\u001b[39mmeg\u001b[39m\u001b[39m'\u001b[39m \u001b[39min\u001b[39;00m raw:\n",
      "File \u001b[1;32mc:\\Users\\jebe12\\anaconda3\\envs\\pyPerceive_dev\\lib\\site-packages\\mne_bids\\utils.py:453\u001b[0m, in \u001b[0;36m_check_datatype\u001b[1;34m(raw, datatype)\u001b[0m\n\u001b[0;32m    451\u001b[0m         datatype_matches \u001b[39m=\u001b[39m \u001b[39mTrue\u001b[39;00m\n\u001b[0;32m    452\u001b[0m \u001b[39mif\u001b[39;00m \u001b[39mnot\u001b[39;00m datatype_matches:\n\u001b[1;32m--> 453\u001b[0m     \u001b[39mraise\u001b[39;00m \u001b[39mValueError\u001b[39;00m(\n\u001b[0;32m    454\u001b[0m         \u001b[39mf\u001b[39m\u001b[39m'\u001b[39m\u001b[39mThe specified datatype \u001b[39m\u001b[39m{\u001b[39;00mdatatype\u001b[39m}\u001b[39;00m\u001b[39m was not found in the raw \u001b[39m\u001b[39m'\u001b[39m\n\u001b[0;32m    455\u001b[0m         \u001b[39m'\u001b[39m\u001b[39mobject. Please specify the correct datatype using \u001b[39m\u001b[39m'\u001b[39m\n\u001b[0;32m    456\u001b[0m         \u001b[39m'\u001b[39m\u001b[39m`bids_path.update(datatype=\u001b[39m\u001b[39m\"\u001b[39m\u001b[39m<datatype>\u001b[39m\u001b[39m\"\u001b[39m\u001b[39m)` or use \u001b[39m\u001b[39m'\u001b[39m\n\u001b[0;32m    457\u001b[0m         \u001b[39m'\u001b[39m\u001b[39mraw.set_channel_types to set the correct channel types in \u001b[39m\u001b[39m'\u001b[39m\n\u001b[0;32m    458\u001b[0m         \u001b[39m'\u001b[39m\u001b[39mthe raw object.\u001b[39m\u001b[39m'\u001b[39m)\n",
      "\u001b[1;31mValueError\u001b[0m: The specified datatype ieeg was not found in the raw object. Please specify the correct datatype using `bids_path.update(datatype=\"<datatype>\")` or use raw.set_channel_types to set the correct channel types in the raw object."
     ]
    }
   ],
   "source": [
    "# write the rawdata to bids\n",
    "\n",
    "write_raw_bids(\n",
    "    raw=raw,\n",
    "    bids_path=bids_path,\n",
    "    overwrite=False,\n",
    "    format=\"BrainVision\",\n",
    "    allow_preload=True\n",
    ")"
   ]
  },
  {
   "cell_type": "code",
   "execution_count": null,
   "metadata": {},
   "outputs": [],
   "source": []
  }
 ],
 "metadata": {
  "kernelspec": {
   "display_name": "pyPerceive_dev",
   "language": "python",
   "name": "python3"
  },
  "language_info": {
   "codemirror_mode": {
    "name": "ipython",
    "version": 3
   },
   "file_extension": ".py",
   "mimetype": "text/x-python",
   "name": "python",
   "nbconvert_exporter": "python",
   "pygments_lexer": "ipython3",
   "version": "3.10.6"
  },
  "orig_nbformat": 4,
  "vscode": {
   "interpreter": {
    "hash": "3f70f96619c4c5eb645d0e9073112ce77298f8a2779fc08300cec5240d192365"
   }
  }
 },
 "nbformat": 4,
 "nbformat_minor": 2
}
