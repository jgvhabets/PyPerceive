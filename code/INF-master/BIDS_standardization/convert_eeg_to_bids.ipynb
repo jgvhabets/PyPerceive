{
  "cells": [
    {
      "cell_type": "code",
      "execution_count": null,
      "metadata": {
        "collapsed": false
      },
      "outputs": [],
      "source": [
        "%matplotlib inline"
      ]
    },
    {
      "cell_type": "markdown",
      "metadata": {},
      "source": [
        "\n",
        "# 04. Convert EEG data to BIDS format\n",
        "\n",
        "In this example, we use MNE-BIDS to create a BIDS-compatible directory of EEG\n",
        "data. Specifically, we will follow these steps:\n",
        "\n",
        "1. Download some EEG data from the\n",
        "   [PhysioBank database](https://physionet.org/physiobank/database).\n",
        "\n",
        "2. Load the data, extract information, and save it in a new BIDS directory.\n",
        "\n",
        "3. Check the result and compare it with the standard.\n",
        "\n",
        "4. Cite ``mne-bids``.\n",
        "\n",
        ".. currentmodule:: mne_bids\n",
        "\n"
      ]
    },
    {
      "cell_type": "code",
      "execution_count": null,
      "metadata": {
        "collapsed": false
      },
      "outputs": [],
      "source": [
        "# Authors: Stefan Appelhoff <stefan.appelhoff@mailbox.org>\n",
        "#\n",
        "# License: BSD-3-Clause"
      ]
    },
    {
      "cell_type": "markdown",
      "metadata": {},
      "source": [
        "We are importing everything we need for this example:\n",
        "\n"
      ]
    },
    {
      "cell_type": "code",
      "execution_count": null,
      "metadata": {
        "collapsed": false
      },
      "outputs": [],
      "source": [
        "import os.path as op\n",
        "import shutil\n",
        "\n",
        "import mne\n",
        "from mne.datasets import eegbci\n",
        "\n",
        "from mne_bids import write_raw_bids, BIDSPath, print_dir_tree\n",
        "from mne_bids.stats import count_events"
      ]
    },
    {
      "cell_type": "markdown",
      "metadata": {},
      "source": [
        "## Download the data\n",
        "\n",
        "First, we need some data to work with. We will use the\n",
        "[EEG Motor Movement/Imagery Dataset](https://doi.org/10.13026/C28G6P)\n",
        "available on the PhysioBank database.\n",
        "\n",
        "The data consists of 109 volunteers performing 14 experimental runs each.\n",
        "For each subject, there were two baseline tasks (i) eyes open, (ii) eyes\n",
        "closed, as well as four different motor imagery tasks.\n",
        "\n",
        "In this example, we will download the data for a single subject doing the\n",
        "baseline task \"eyes closed\" and format it to the Brain Imaging Data Structure\n",
        "([BIDS](https://bids.neuroimaging.io/)).\n",
        "\n",
        "Conveniently, there is already a data loading function available with\n",
        "MNE-Python:\n",
        "\n"
      ]
    },
    {
      "cell_type": "code",
      "execution_count": null,
      "metadata": {
        "collapsed": false
      },
      "outputs": [],
      "source": [
        "# Download the data for subject 1, for the 2 minutes of eyes closed rest task.\n",
        "# From the online documentation of the data we know that run \"2\" corresponds\n",
        "# to the \"eyes closed\" task.\n",
        "subject = 1\n",
        "run = 2\n",
        "eegbci.load_data(subject=subject, runs=run, update_path=True)"
      ]
    },
    {
      "cell_type": "markdown",
      "metadata": {},
      "source": [
        "Let's see whether the data has been downloaded using a quick visualization\n",
        "of the directory tree.\n",
        "\n"
      ]
    },
    {
      "cell_type": "code",
      "execution_count": null,
      "metadata": {
        "collapsed": false
      },
      "outputs": [],
      "source": [
        "# get MNE directory with example data\n",
        "mne_data_dir = mne.get_config('MNE_DATASETS_EEGBCI_PATH')\n",
        "data_dir = op.join(mne_data_dir, 'MNE-eegbci-data')\n",
        "\n",
        "print_dir_tree(data_dir)"
      ]
    },
    {
      "cell_type": "markdown",
      "metadata": {},
      "source": [
        "The data are in the [European Data Format](https://www.edfplus.info/) with\n",
        "the ``.edf`` extension, which is good for us because next to the\n",
        "`BrainVision format`_, EDF is one of the recommended file formats for EEG\n",
        "data in BIDS format.\n",
        "\n",
        "However, apart from the data format, we need to build a directory structure\n",
        "and supply meta data files to properly *bidsify* this data.\n",
        "\n",
        "We will do exactly that in the next step.\n",
        "\n"
      ]
    },
    {
      "cell_type": "markdown",
      "metadata": {},
      "source": [
        "## Convert to BIDS\n",
        "\n",
        "Let's start with loading the data and extracting the events.\n",
        "We are reading the data using MNE-Python's ``io`` module and the\n",
        ":func:`mne.io.read_raw_edf` function.\n",
        "Note that we must use the ``preload=False`` parameter, which is the default\n",
        "in MNE-Python.\n",
        "It prevents the data from being loaded and modified when converting to BIDS.\n",
        "\n"
      ]
    },
    {
      "cell_type": "code",
      "execution_count": null,
      "metadata": {
        "collapsed": false
      },
      "outputs": [],
      "source": [
        "# Load the data from \"2 minutes eyes closed rest\"\n",
        "edf_path = eegbci.load_data(subject=subject, runs=run)[0]\n",
        "raw = mne.io.read_raw_edf(edf_path, preload=False)\n",
        "raw.info['line_freq'] = 50  # specify power line frequency as required by BIDS"
      ]
    },
    {
      "cell_type": "markdown",
      "metadata": {},
      "source": [
        "For the sake of the example we will also pretend that we have the electrode\n",
        "coordinates for the data recordings.\n",
        "We will use a coordinates file from the MNE testing data in `CapTrak`_\n",
        "format.\n",
        "\n",
        "<div class=\"alert alert-info\"><h4>Note</h4><p>The ``*electrodes.tsv`` and ``*coordsystem.json`` files in BIDS are\n",
        "          intended to carry information about digitized (i.e., *measured*)\n",
        "          electrode positions on the scalp of the research subject. Do *not*\n",
        "          (!) use these files to store \"template\" or \"idealized\" electrode\n",
        "          positions, like those that can be obtained from\n",
        "          :func:`mne.channels.make_standard_montage`!</p></div>\n",
        "\n",
        "\n"
      ]
    },
    {
      "cell_type": "code",
      "execution_count": null,
      "metadata": {
        "collapsed": false
      },
      "outputs": [],
      "source": [
        "# Get the electrode coordinates\n",
        "testing_data = mne.datasets.testing.data_path()\n",
        "captrak_path = op.join(testing_data, 'montage', 'captrak_coords.bvct')\n",
        "montage = mne.channels.read_dig_captrak(captrak_path)\n",
        "\n",
        "# Rename the montage channel names only for this example, because as said\n",
        "# before, coordinate and EEG data were not actually collected together\n",
        "# Do *not* do this for your own data.\n",
        "montage.rename_channels(dict(zip(montage.ch_names, raw.ch_names)))\n",
        "\n",
        "# \"attach\" the electrode coordinates to the `raw` object\n",
        "# Note that this only works for some channel types (EEG/sEEG/ECoG/DBS/fNIRS)\n",
        "raw.set_montage(montage)\n",
        "\n",
        "# show the electrode positions\n",
        "raw.plot_sensors()"
      ]
    },
    {
      "cell_type": "markdown",
      "metadata": {},
      "source": [
        "With these steps, we have everything to start a new BIDS directory using\n",
        "our data.\n",
        "\n",
        "To do that, we can use :func:`write_raw_bids`\n",
        "\n",
        "Generally, :func:`write_raw_bids` tries to extract as much\n",
        "meta data as possible from the raw data and then formats it in a BIDS\n",
        "compatible way. :func:`write_raw_bids` takes a bunch of inputs, most of\n",
        "which are however optional. The required inputs are:\n",
        "\n",
        "* :code:`raw`\n",
        "* :code:`bids_basename`\n",
        "* :code:`bids_root`\n",
        "\n",
        "... as you can see in the docstring:\n",
        "\n"
      ]
    },
    {
      "cell_type": "code",
      "execution_count": null,
      "metadata": {
        "collapsed": false
      },
      "outputs": [],
      "source": [
        "print(write_raw_bids.__doc__)"
      ]
    },
    {
      "cell_type": "markdown",
      "metadata": {},
      "source": [
        "We loaded ``S001R02.edf``, which corresponds to subject 1 in the second run.\n",
        "In the second run of the experiment, the task was to rest with closed eyes.\n",
        "\n"
      ]
    },
    {
      "cell_type": "code",
      "execution_count": null,
      "metadata": {
        "collapsed": false
      },
      "outputs": [],
      "source": [
        "# zero padding to account for >100 subjects in this dataset\n",
        "subject_id = '001'\n",
        "\n",
        "# define a task name and a directory where to save the data to\n",
        "task = 'RestEyesClosed'\n",
        "bids_root = op.join(mne_data_dir, 'eegmmidb_bids_eeg_example')"
      ]
    },
    {
      "cell_type": "markdown",
      "metadata": {},
      "source": [
        "To ensure the output path doesn't contain any leftover files from previous\n",
        "tests and example runs, we simply delete it.\n",
        "\n",
        "<div class=\"alert alert-danger\"><h4>Warning</h4><p>Do not delete directories that may contain important data!</p></div>\n",
        "\n",
        "\n"
      ]
    },
    {
      "cell_type": "code",
      "execution_count": null,
      "metadata": {
        "collapsed": false
      },
      "outputs": [],
      "source": [
        "if op.exists(bids_root):\n",
        "    shutil.rmtree(bids_root)"
      ]
    },
    {
      "cell_type": "markdown",
      "metadata": {},
      "source": [
        "The data contains annotations; which will be converted to events\n",
        "automatically by MNE-BIDS when writing the BIDS data:\n",
        "\n"
      ]
    },
    {
      "cell_type": "code",
      "execution_count": null,
      "metadata": {
        "collapsed": false
      },
      "outputs": [],
      "source": [
        "print(raw.annotations)"
      ]
    },
    {
      "cell_type": "markdown",
      "metadata": {},
      "source": [
        "Finally, let's write the BIDS data!\n",
        "\n"
      ]
    },
    {
      "cell_type": "code",
      "execution_count": null,
      "metadata": {
        "collapsed": false
      },
      "outputs": [],
      "source": [
        "bids_path = BIDSPath(subject=subject_id, task=task, root=bids_root)\n",
        "write_raw_bids(raw, bids_path, overwrite=True)"
      ]
    },
    {
      "cell_type": "markdown",
      "metadata": {},
      "source": [
        "What does our fresh BIDS directory look like?\n",
        "\n"
      ]
    },
    {
      "cell_type": "code",
      "execution_count": null,
      "metadata": {
        "collapsed": false
      },
      "outputs": [],
      "source": [
        "print_dir_tree(bids_root)"
      ]
    },
    {
      "cell_type": "markdown",
      "metadata": {},
      "source": [
        "Finally let's get an overview of the events on the whole dataset\n",
        "\n"
      ]
    },
    {
      "cell_type": "code",
      "execution_count": null,
      "metadata": {
        "collapsed": false
      },
      "outputs": [],
      "source": [
        "counts = count_events(bids_root)\n",
        "counts"
      ]
    },
    {
      "cell_type": "markdown",
      "metadata": {},
      "source": [
        "We can see that MNE-BIDS wrote several important files related to subject 1\n",
        "for us:\n",
        "\n",
        "* ``electrodes.tsv`` containing the electrode coordinates and\n",
        "  ``coordsystem.json``, which contains the metadata about the electrode\n",
        "  coordinates.\n",
        "* The actual EDF data file (now with a proper BIDS name) and an accompanying\n",
        "  ``*_eeg.json`` file that contains metadata about the EEG recording.\n",
        "* The ``*scans.json`` file lists all data recordings with their acquisition\n",
        "  date. This file becomes more handy once there are multiple sessions and\n",
        "  recordings to keep track of.\n",
        "* And finally, ``channels.tsv`` and ``events.tsv`` which contain even further\n",
        "  metadata.\n",
        "\n",
        "Next to the subject specific files, MNE-BIDS also created several experiment\n",
        "specific files. However, we will not go into detail for them in this example.\n",
        "\n",
        "## Cite mne-bids\n",
        "After a lot of work was done by MNE-BIDS, it's fair to cite the software\n",
        "when preparing a manuscript and/or a dataset publication.\n",
        "\n",
        "We can see that the appropriate citations are already written in the\n",
        "``README`` file.\n",
        "\n",
        "If you are preparing a manuscript, please make sure to also cite MNE-BIDS\n",
        "there.\n",
        "\n"
      ]
    },
    {
      "cell_type": "code",
      "execution_count": null,
      "metadata": {
        "collapsed": false
      },
      "outputs": [],
      "source": [
        "readme = op.join(bids_root, 'README')\n",
        "with open(readme, 'r', encoding='utf-8-sig') as fid:\n",
        "    text = fid.read()\n",
        "print(text)"
      ]
    },
    {
      "cell_type": "markdown",
      "metadata": {},
      "source": [
        "Now it's time to manually check the BIDS directory and the meta files to add\n",
        "all the information that MNE-BIDS could not infer. For instance, you must\n",
        "describe EEGReference and EEGGround yourself. It's easy to find these by\n",
        "searching for \"n/a\" in the sidecar files.\n",
        "\n",
        "Remember that there is a convenient javascript tool to validate all your BIDS\n",
        "directories called the \"BIDS-validator\", available as a web version and a\n",
        "command line tool:\n",
        "\n",
        "Web version: https://bids-standard.github.io/bids-validator/\n",
        "\n",
        "Command line tool: https://www.npmjs.com/package/bids-validator\n",
        "\n"
      ]
    }
  ],
  "metadata": {
    "kernelspec": {
      "display_name": "Python 3",
      "language": "python",
      "name": "python3"
    },
    "language_info": {
      "codemirror_mode": {
        "name": "ipython",
        "version": 3
      },
      "file_extension": ".py",
      "mimetype": "text/x-python",
      "name": "python",
      "nbconvert_exporter": "python",
      "pygments_lexer": "ipython3",
      "version": "3.10.9 (tags/v3.10.9:1dd9be6, Dec  6 2022, 20:01:21) [MSC v.1934 64 bit (AMD64)]"
    },
    "vscode": {
      "interpreter": {
        "hash": "d5c495cf3ee8f425b3d6e34ebc1d5c1732de4cc60d31c3233d1df4c42d8c789d"
      }
    }
  },
  "nbformat": 4,
  "nbformat_minor": 0
}
